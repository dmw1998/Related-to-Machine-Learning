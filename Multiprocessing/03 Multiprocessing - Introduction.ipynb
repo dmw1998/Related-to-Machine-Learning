{
 "cells": [
  {
   "cell_type": "markdown",
   "metadata": {},
   "source": [
    "# Multiprocessing - Introduction"
   ]
  },
  {
   "cell_type": "markdown",
   "metadata": {},
   "source": [
    "[Python Tutorial - 27. Multiprocessing - Introduction by codebasics](https://www.youtube.com/watch?time_continue=3&v=Lu5LrKh1Zno)"
   ]
  },
  {
   "cell_type": "markdown",
   "metadata": {},
   "source": [
    "# Without Multiprocessing"
   ]
  },
  {
   "cell_type": "markdown",
   "metadata": {},
   "source": [
    "리스트 [1, 2, 3, 4, 5]에 들어있는 각각의 숫자를 제곱하는 작업과 세제곱하는 작업을 수행하자."
   ]
  },
  {
   "cell_type": "code",
   "execution_count": 1,
   "metadata": {},
   "outputs": [
    {
     "name": "stdout",
     "output_type": "stream",
     "text": [
      "calculate square numbers\n",
      "square: 1\n",
      "square: 4\n",
      "square: 9\n",
      "square: 16\n",
      "square: 25\n",
      "calculate cube of numbers\n",
      "cube: 1\n",
      "cube: 8\n",
      "cube: 27\n",
      "cube: 64\n",
      "cube: 125\n",
      "Done in 2.0459868907928467 seconds.\n",
      "Hah... I am done with all my work now!\n"
     ]
    }
   ],
   "source": [
    "import time\n",
    "\n",
    "def calc_square(numbers):\n",
    "    print(\"calculate square numbers\")\n",
    "    for n in numbers:\n",
    "        time.sleep(0.2)\n",
    "        print('square:',n*n)\n",
    "\n",
    "def calc_cube(numbers):\n",
    "    print(\"calculate cube of numbers\")\n",
    "    for n in numbers:\n",
    "        time.sleep(0.2)\n",
    "        print('cube:',n*n*n)\n",
    "\n",
    "arr = [1, 2, 3, 4, 5]\n",
    "\n",
    "t = time.time()\n",
    "\n",
    "calc_square(arr)\n",
    "calc_cube(arr)\n",
    "\n",
    "print(\"Done in {} seconds.\".format(time.time()-t))\n",
    "print(\"Hah... I am done with all my work now!\")"
   ]
  },
  {
   "cell_type": "markdown",
   "metadata": {},
   "source": [
    "# With Multiprocessing"
   ]
  },
  {
   "cell_type": "markdown",
   "metadata": {},
   "source": [
    "Multiprocessing을 하려면, multiprocessing 모듈을 이용한다."
   ]
  },
  {
   "cell_type": "code",
   "execution_count": 2,
   "metadata": {},
   "outputs": [
    {
     "name": "stdout",
     "output_type": "stream",
     "text": [
      "calculate square numbers\n",
      "calculate cube of numbers\n",
      "square: 1\n",
      "cube: 1\n",
      "cube: 8\n",
      "square: 4\n",
      "cube: 27\n",
      "square: 9\n",
      "square: 16\n",
      "cube: 64\n",
      "cube: 125\n",
      "square: 25\n",
      "Done in 1.035060167312622 seconds.\n",
      "Hah... I am done with all my work now!\n"
     ]
    }
   ],
   "source": [
    "import time\n",
    "import multiprocessing # Multiprocessing을 하려면, multiprocessing 모듈을 이용한다.\n",
    "\n",
    "def calc_square(numbers):\n",
    "    print(\"calculate square numbers\")\n",
    "    for n in numbers:\n",
    "        time.sleep(0.2)\n",
    "        print('square:',n*n)\n",
    "\n",
    "def calc_cube(numbers):\n",
    "    print(\"calculate cube of numbers\")\n",
    "    for n in numbers:\n",
    "        time.sleep(0.2)\n",
    "        print('cube:',n*n*n)\n",
    "\n",
    "if __name__ == \"__main__\":\n",
    "    arr = [1, 2, 3, 4, 5]\n",
    "    \n",
    "    t = time.time()\n",
    "    \n",
    "    p1 = multiprocessing.Process(target=calc_square, args=(arr,)) # 첫번째 작업 지시\n",
    "    p2 = multiprocessing.Process(target=calc_cube, args=(arr,))   # 두번째 작업 지시\n",
    "\n",
    "    p1.start() # 첫번째 작업 시작\n",
    "    p2.start() # 두번째 작업 시작\n",
    "\n",
    "    p1.join() # 첫번째 작업 종료후 복귀\n",
    "    p2.join() # 두번째 작업 종료후 복귀\n",
    "\n",
    "    print(\"Done in {} seconds.\".format(time.time()-t))\n",
    "    print(\"Hah... I am done with all my work now!\")"
   ]
  },
  {
   "cell_type": "markdown",
   "metadata": {},
   "source": [
    "# Multithreading vs Multiprocessing"
   ]
  },
  {
   "cell_type": "markdown",
   "metadata": {},
   "source": [
    "리스트 멤버들을 제곱해서 새로운 리스트를 만들고 프린트하도록 해보죠."
   ]
  },
  {
   "cell_type": "code",
   "execution_count": 3,
   "metadata": {},
   "outputs": [
    {
     "name": "stdout",
     "output_type": "stream",
     "text": [
      "square: 1\n",
      "square: 4\n",
      "square: 9\n",
      "square: 16\n",
      "square: 25\n",
      "Result:  []\n",
      "Done\n"
     ]
    }
   ],
   "source": [
    "import time\n",
    "import multiprocessing # Multiprocessing을 하려면, multiprocessing 모듈을 이용한다.\n",
    "\n",
    "square_result = []\n",
    "\n",
    "def calc_square(numbers):\n",
    "    global square_result \n",
    "    for n in numbers:\n",
    "        print('square:',n*n)\n",
    "        square_result.append(n*n)\n",
    "\n",
    "if __name__ == \"__main__\":\n",
    "    arr = [1, 2, 3, 4, 5]\n",
    "    \n",
    "    p1 = multiprocessing.Process(target=calc_square, args=(arr,)) # 첫번째 작업 지시\n",
    "    p1.start() # 첫번째 작업 시작\n",
    "    p1.join()  # 첫번째 작업 종료후 복귀\n",
    "\n",
    "    print(\"Result: \", square_result)\n",
    "    print(\"Done\")"
   ]
  },
  {
   "cell_type": "markdown",
   "metadata": {},
   "source": [
    "Result:  []. 아웃풋으로 빈 리스트가 나왔네요. 무슨 일이 벌어지고 있는 것 일까요.\n",
    "코드 square_result = [] 에 의하여 메인 프로세스의 메모리에 square_result가 저장됩니다.\n",
    "Multiprocessing이 calc_square을 타겟으로 잡으면,\n",
    "코드 global square_result에 의하여 새로운 프로세스의 메모리에 빈 리스트인 square_result가 복사됩니다.\n",
    "이 후 복사된 square_result에 계산 결과들이 어펜드되는 것이죠.\n",
    "하지만 계산 결과들이 어펜드된 square_result가 메인 프로세스의 메모리로 전달되지 않았습니다.\n",
    "메인 프로세스의 메모리에는 빈 리스트 square_result가 저장되어 있구요.\n",
    "p1.join()으로 첫번째 작업 종료후 메인 프로세스로 복귀되어, \n",
    "코드 print(\"Result: \", square_result)에 의하여 메인 프로세스의 메모리에 있는 빈 리스트 square_result가 프린트 된 것이죠."
   ]
  },
  {
   "cell_type": "markdown",
   "metadata": {},
   "source": [
    "함수가 제곱 계산을 마치면,\n",
    "코드 print(\"Within a process result: \", square_result)에 의하여\n",
    "계산 결과들이 어펜드된 square_result를 추가적으로 프린트하도록 해 보죠. "
   ]
  },
  {
   "cell_type": "code",
   "execution_count": 4,
   "metadata": {},
   "outputs": [
    {
     "name": "stdout",
     "output_type": "stream",
     "text": [
      "square: 1\n",
      "square: 4\n",
      "square: 9\n",
      "square: 16\n",
      "square: 25\n",
      "Within a process result:  [1, 4, 9, 16, 25]\n",
      "Result:  []\n",
      "Done\n"
     ]
    }
   ],
   "source": [
    "import time\n",
    "import multiprocessing # Multiprocessing을 하려면, multiprocessing 모듈을 이용한다.\n",
    "\n",
    "square_result = []\n",
    "\n",
    "def calc_square(numbers):\n",
    "    global square_result \n",
    "    for n in numbers:\n",
    "        print('square:',n*n)\n",
    "        square_result.append(n*n)\n",
    "    print(\"Within a process result: \", square_result)\n",
    "\n",
    "if __name__ == \"__main__\":\n",
    "    arr = [1, 2, 3, 4, 5]\n",
    "    \n",
    "    p1 = multiprocessing.Process(target=calc_square, args=(arr,)) # 첫번째 작업 지시\n",
    "    p1.start() # 첫번째 작업 시작\n",
    "    p1.join()  # 첫번째 작업 종료후 복귀\n",
    "\n",
    "    print(\"Result: \", square_result)\n",
    "    print(\"Done\")"
   ]
  },
  {
   "cell_type": "markdown",
   "metadata": {},
   "source": [
    "Within a process result:  [1, 4, 9, 16, 25].\n",
    "예상대로\n",
    "계산 결과들이 어펜드된 square_result가 프린트되었습니다."
   ]
  }
 ],
 "metadata": {
  "kernelspec": {
   "display_name": "Python [default]",
   "language": "python",
   "name": "python3"
  },
  "language_info": {
   "codemirror_mode": {
    "name": "ipython",
    "version": 3
   },
   "file_extension": ".py",
   "mimetype": "text/x-python",
   "name": "python",
   "nbconvert_exporter": "python",
   "pygments_lexer": "ipython3",
   "version": "3.5.3"
  }
 },
 "nbformat": 4,
 "nbformat_minor": 2
}
