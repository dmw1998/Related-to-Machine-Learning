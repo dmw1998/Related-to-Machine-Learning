{
 "cells": [
  {
   "cell_type": "markdown",
   "metadata": {},
   "source": [
    "# Multithreading - Introduction"
   ]
  },
  {
   "cell_type": "markdown",
   "metadata": {},
   "source": [
    "[Python Tutorial - 26. Multithreading - Introduction by codebasics](https://www.youtube.com/watch?v=PJ4t2U15ACo)"
   ]
  },
  {
   "cell_type": "code",
   "execution_count": null,
   "metadata": {
    "collapsed": true
   },
   "outputs": [],
   "source": []
  },
  {
   "cell_type": "markdown",
   "metadata": {},
   "source": [
    "<div align=\"center\"><img src=\"img/Screen Shot 2018-08-01 at 11.54.56 PM.png\" width=\"100%\"></div>\n",
    "\n",
    "[Python Tutorial - 26. Multithreading - Introduction by codebasics](https://www.youtube.com/watch?v=PJ4t2U15ACo)"
   ]
  },
  {
   "cell_type": "markdown",
   "metadata": {},
   "source": [
    "# Without Multithreading"
   ]
  },
  {
   "cell_type": "markdown",
   "metadata": {},
   "source": [
    "리스트 [1, 2, 3, 4, 5]에 들어있는 각각의 숫자를 제곱하는 작업과 세제곱하는 작업을 수행하자."
   ]
  },
  {
   "cell_type": "code",
   "execution_count": 5,
   "metadata": {},
   "outputs": [
    {
     "name": "stdout",
     "output_type": "stream",
     "text": [
      "calculate square numbers\n",
      "square: 1\n",
      "square: 4\n",
      "square: 9\n",
      "square: 16\n",
      "square: 25\n",
      "calculate cube of numbers\n",
      "cube: 1\n",
      "cube: 8\n",
      "cube: 27\n",
      "cube: 64\n",
      "cube: 125\n",
      "Done in 2.0364840030670166 seconds.\n",
      "Hah... I am done with all my work now!\n"
     ]
    }
   ],
   "source": [
    "import time\n",
    "\n",
    "def calc_square(numbers):\n",
    "    print(\"calculate square numbers\")\n",
    "    for n in numbers:\n",
    "        time.sleep(0.2)\n",
    "        print('square:',n*n)\n",
    "\n",
    "def calc_cube(numbers):\n",
    "    print(\"calculate cube of numbers\")\n",
    "    for n in numbers:\n",
    "        time.sleep(0.2)\n",
    "        print('cube:',n*n*n)\n",
    "\n",
    "arr = [1, 2, 3, 4, 5]\n",
    "\n",
    "t = time.time()\n",
    "\n",
    "calc_square(arr)\n",
    "calc_cube(arr)\n",
    "\n",
    "print(\"Done in {} seconds.\".format(time.time()-t))\n",
    "print(\"Hah... I am done with all my work now!\")"
   ]
  },
  {
   "cell_type": "markdown",
   "metadata": {},
   "source": [
    "# With Multithreading"
   ]
  },
  {
   "cell_type": "markdown",
   "metadata": {},
   "source": [
    "<div align=\"center\"><img src=\"img/Screen Shot 2018-08-02 at 12.47.22 AM.png\" width=\"50%\"></div>\n",
    "\n",
    "[Python Tutorial - 26. Multithreading - Introduction by codebasics](https://www.youtube.com/watch?v=PJ4t2U15ACo)"
   ]
  },
  {
   "cell_type": "markdown",
   "metadata": {},
   "source": [
    "Threads in python are useful when the tasks that you are trying to perform have IOs(input output operations such as waiting for receiving response from another service or hardware). 어떤 작업중 CPU가 놀고있다면, 이 때 CPU를 사용하자는 것이 ㅡultithreading이다.\n",
    "Multithreading을 하려면, threading 모듈을 이용한다. "
   ]
  },
  {
   "cell_type": "code",
   "execution_count": 6,
   "metadata": {},
   "outputs": [
    {
     "name": "stdout",
     "output_type": "stream",
     "text": [
      "calculate square numberscalculate cube of numbers\n",
      "\n",
      "cube:square: 1 \n",
      "1\n",
      "square:cube:  84\n",
      "\n",
      "square:cube:  279\n",
      "\n",
      "square: 16\n",
      "cube: 64\n",
      "square:cube:  125Done in 1.0204598903656006 seconds.25\n",
      "\n",
      "\n",
      "Hah... I am done with all my work now!\n"
     ]
    }
   ],
   "source": [
    "import time\n",
    "import threading # Multithreading을 하려면, threading 모듈을 이용한다. \n",
    "\n",
    "def calc_square(numbers):\n",
    "    print(\"calculate square numbers\")\n",
    "    for n in numbers:\n",
    "        time.sleep(0.2)\n",
    "        print('square:',n*n)\n",
    "\n",
    "def calc_cube(numbers):\n",
    "    print(\"calculate cube of numbers\")\n",
    "    for n in numbers:\n",
    "        time.sleep(0.2)\n",
    "        print('cube:',n*n*n)\n",
    "\n",
    "arr = [1, 2, 3, 4, 5]\n",
    "\n",
    "t = time.time()\n",
    "\n",
    "t1= threading.Thread(target=calc_square, args=(arr,)) # 첫번째 작업 지시\n",
    "t2= threading.Thread(target=calc_cube, args=(arr,))   # 두번째 작업 지시\n",
    "\n",
    "t1.start() # 첫번째 작업 시작\n",
    "t2.start() # 두번째 작업 시작\n",
    "\n",
    "t1.join() # 첫번째 작업 종료후 복귀\n",
    "t2.join() # 두번째 작업 종료후 복귀\n",
    "\n",
    "print(\"Done in {} seconds.\".format(time.time()-t))\n",
    "print(\"Hah... I am done with all my work now!\")"
   ]
  },
  {
   "cell_type": "markdown",
   "metadata": {},
   "source": [
    "<div align=\"center\"><img src=\"img/Screen Shot 2018-08-02 at 12.44.44 AM.png\" width=\"100%\"></div>\n",
    "\n",
    "[Python Tutorial - 26. Multithreading - Introduction by codebasics](https://www.youtube.com/watch?v=PJ4t2U15ACo)"
   ]
  },
  {
   "cell_type": "code",
   "execution_count": null,
   "metadata": {
    "collapsed": true
   },
   "outputs": [],
   "source": []
  }
 ],
 "metadata": {
  "kernelspec": {
   "display_name": "Python [default]",
   "language": "python",
   "name": "python3"
  },
  "language_info": {
   "codemirror_mode": {
    "name": "ipython",
    "version": 3
   },
   "file_extension": ".py",
   "mimetype": "text/x-python",
   "name": "python",
   "nbconvert_exporter": "python",
   "pygments_lexer": "ipython3",
   "version": "3.5.3"
  }
 },
 "nbformat": 4,
 "nbformat_minor": 2
}
