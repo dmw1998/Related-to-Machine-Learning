{
 "cells": [
  {
   "cell_type": "markdown",
   "metadata": {
    "collapsed": true,
    "slideshow": {
     "slide_type": "slide"
    }
   },
   "source": [
    "# dtype, rank, shape\n",
    " \n",
    "Sungchul Lee  "
   ]
  },
  {
   "cell_type": "markdown",
   "metadata": {
    "slideshow": {
     "slide_type": "subslide"
    }
   },
   "source": [
    "# How to run these slides yourself\n",
    "\n",
    "**Setup python environment**\n",
    "\n",
    "- [Install RISE for an interactive presentation viewer](https://github.com/damianavila/RISE)"
   ]
  },
  {
   "cell_type": "markdown",
   "metadata": {
    "slideshow": {
     "slide_type": "slide"
    }
   },
   "source": [
    "# Data types"
   ]
  },
  {
   "cell_type": "markdown",
   "metadata": {
    "slideshow": {
     "slide_type": "fragment"
    }
   },
   "source": [
    "<div align=\"center\"><img src=\"img/USB-type-C.jpg\" width=\"40%\" height=\"10%\"></div>\n",
    "\n",
    "https://pinnacle.jobs/wp-content/uploads/2016/06/winner-1013979_1280.jpg"
   ]
  },
  {
   "cell_type": "markdown",
   "metadata": {
    "slideshow": {
     "slide_type": "subslide"
    }
   },
   "source": [
    "### .dtype \n",
    "\n",
    "> 데이타타입 확인\n",
    "\n",
    "### tf.cast\n",
    "\n",
    "> 데이타타입 변환"
   ]
  },
  {
   "cell_type": "markdown",
   "metadata": {
    "slideshow": {
     "slide_type": "subslide"
    }
   },
   "source": [
    "<div align=\"center\"><img src=\"img/Data types.png\" width=\"100%\" height=\"10%\"></div>\n",
    "\n",
    "https://www.tensorflow.org/versions/r0.12/resources/dims_types"
   ]
  },
  {
   "cell_type": "markdown",
   "metadata": {
    "slideshow": {
     "slide_type": "subslide"
    }
   },
   "source": [
    "# .dtype"
   ]
  },
  {
   "cell_type": "code",
   "execution_count": 1,
   "metadata": {},
   "outputs": [
    {
     "name": "stderr",
     "output_type": "stream",
     "text": [
      "/Users/sungchul/anaconda/lib/python3.5/importlib/_bootstrap.py:222: RuntimeWarning: compiletime version 3.6 of module 'tensorflow.python.framework.fast_tensor_util' does not match runtime version 3.5\n",
      "  return f(*args, **kwds)\n",
      "/Users/sungchul/anaconda/lib/python3.5/site-packages/h5py/__init__.py:34: FutureWarning: Conversion of the second argument of issubdtype from `float` to `np.floating` is deprecated. In future, it will be treated as `np.float64 == np.dtype(float).type`.\n",
      "  from ._conv import register_converters as _register_converters\n"
     ]
    }
   ],
   "source": [
    "import tensorflow as tf"
   ]
  },
  {
   "cell_type": "code",
   "execution_count": 2,
   "metadata": {
    "slideshow": {
     "slide_type": "subslide"
    }
   },
   "outputs": [
    {
     "name": "stdout",
     "output_type": "stream",
     "text": [
      "Data type of A: <dtype: 'int32'>\n",
      "Data type of B: <dtype: 'float32'>\n",
      "Data type of C: <dtype: 'bool'>\n"
     ]
    }
   ],
   "source": [
    "A = tf.constant([[2, 3, 1], [3, 1, 0]])\n",
    "B = tf.constant([[2., 3., 1.], [3., 1., 0.]])\n",
    "C = tf.constant([[True, True, False], [True, True, False]])\n",
    "\n",
    "print(\"Data type of A:\", A.dtype)\n",
    "print(\"Data type of B:\", B.dtype)\n",
    "print(\"Data type of C:\", C.dtype)"
   ]
  },
  {
   "cell_type": "markdown",
   "metadata": {
    "slideshow": {
     "slide_type": "subslide"
    }
   },
   "source": [
    "# tf.cast"
   ]
  },
  {
   "cell_type": "code",
   "execution_count": 3,
   "metadata": {
    "slideshow": {
     "slide_type": "subslide"
    }
   },
   "outputs": [
    {
     "name": "stdout",
     "output_type": "stream",
     "text": [
      "a         :  [ True False  True  True  True]\n",
      "a_int32   :  [1 0 1 1 1]\n",
      "a_int64   :  [1 0 1 1 1]\n",
      "a_float32 :  [1. 0. 1. 1. 1.]\n",
      "a_float64 :  [1. 0. 1. 1. 1.]\n"
     ]
    }
   ],
   "source": [
    "u = tf.constant([2, 2, 1, 0, 7])\n",
    "v = tf.constant([2, 0, 1, 0, 7])\n",
    "\n",
    "a         = tf.equal(u, v) \n",
    "a_int32   = tf.cast(a, dtype=tf.int32)\n",
    "a_int64   = tf.cast(a, dtype=tf.int64)\n",
    "a_float32 = tf.cast(a, dtype=tf.float32)\n",
    "a_float64 = tf.cast(a, dtype=tf.float64) \n",
    "\n",
    "with tf.Session() as sess:\n",
    "    print(\"a         : \", sess.run(a)) \n",
    "    print(\"a_int32   : \", sess.run(a_int32)) \n",
    "    print(\"a_int64   : \", sess.run(a_int64)) \n",
    "    print(\"a_float32 : \", sess.run(a_float32))\n",
    "    print(\"a_float64 : \", sess.run(a_float64))"
   ]
  },
  {
   "cell_type": "markdown",
   "metadata": {
    "slideshow": {
     "slide_type": "slide"
    }
   },
   "source": [
    "# Rank related functions"
   ]
  },
  {
   "cell_type": "markdown",
   "metadata": {
    "slideshow": {
     "slide_type": "fragment"
    }
   },
   "source": [
    "<div align=\"center\"><img src=\"img/winner-1013979_1280.jpg\" width=\"30%\" height=\"10%\"></div>\n",
    "\n",
    "https://pinnacle.jobs/wp-content/uploads/2016/06/winner-1013979_1280.jpg"
   ]
  },
  {
   "cell_type": "markdown",
   "metadata": {
    "slideshow": {
     "slide_type": "fragment"
    }
   },
   "source": [
    "### tf.rank, tf.reduce_sum, tf.reduce_mean"
   ]
  },
  {
   "cell_type": "markdown",
   "metadata": {
    "slideshow": {
     "slide_type": "subslide"
    }
   },
   "source": [
    "\n",
    "<div align=\"center\"><img src=\"img/Rank.png\" width=\"100%\" height=\"10%\"></div>\n",
    "\n",
    "https://www.tensorflow.org/versions/r0.12/resources/dims_types"
   ]
  },
  {
   "cell_type": "markdown",
   "metadata": {
    "slideshow": {
     "slide_type": "subslide"
    }
   },
   "source": [
    "# tf.rank"
   ]
  },
  {
   "cell_type": "code",
   "execution_count": 4,
   "metadata": {
    "slideshow": {
     "slide_type": "subslide"
    }
   },
   "outputs": [
    {
     "name": "stdout",
     "output_type": "stream",
     "text": [
      "0\n",
      "1\n",
      "2\n",
      "3\n"
     ]
    }
   ],
   "source": [
    "A = tf.constant(1)\n",
    "B = tf.constant([1])\n",
    "C = tf.constant([[1,5,1], [3,5,1]])\n",
    "D = tf.constant([[[1,5,1], [3,5,1]]])\n",
    "\n",
    "a = tf.rank(A)\n",
    "b = tf.rank(B)\n",
    "c = tf.rank(C)\n",
    "d = tf.rank(D)\n",
    "\n",
    "with tf.Session() as sess:\n",
    "    print(sess.run(a))\n",
    "    print(sess.run(b))\n",
    "    print(sess.run(c))\n",
    "    print(sess.run(d))"
   ]
  },
  {
   "cell_type": "markdown",
   "metadata": {},
   "source": [
    "# tf.reduce_sum "
   ]
  },
  {
   "cell_type": "code",
   "execution_count": 5,
   "metadata": {
    "collapsed": true
   },
   "outputs": [],
   "source": [
    "X = tf.constant([[ 2., 2., 2.], \n",
    "                 [-3., 3., 0.]])"
   ]
  },
  {
   "cell_type": "code",
   "execution_count": 6,
   "metadata": {
    "slideshow": {
     "slide_type": "subslide"
    }
   },
   "outputs": [
    {
     "name": "stdout",
     "output_type": "stream",
     "text": [
      "[-1.  5.  2.]\n",
      "[6. 0.]\n",
      "6.0\n"
     ]
    }
   ],
   "source": [
    "a = tf.reduce_sum(X, 0)\n",
    "b = tf.reduce_sum(X, 1)\n",
    "c = tf.reduce_sum(X)\n",
    "\n",
    "with tf.Session() as sess:\n",
    "    print(sess.run(a))\n",
    "    print(sess.run(b))\n",
    "    print(sess.run(c))"
   ]
  },
  {
   "cell_type": "markdown",
   "metadata": {},
   "source": [
    "# tf.reduce_mean"
   ]
  },
  {
   "cell_type": "code",
   "execution_count": 7,
   "metadata": {},
   "outputs": [
    {
     "name": "stdout",
     "output_type": "stream",
     "text": [
      "[-0.5  2.5]\n",
      "[2. 0.]\n",
      "1.0\n"
     ]
    }
   ],
   "source": [
    "a = tf.reduce_mean(X, 0)\n",
    "b = tf.reduce_mean(X, 1)\n",
    "c = tf.reduce_mean(X)\n",
    "\n",
    "with tf.Session() as sess:\n",
    "    print(sess.run(a))\n",
    "    print(sess.run(b))\n",
    "    print(sess.run(c))"
   ]
  },
  {
   "cell_type": "markdown",
   "metadata": {
    "slideshow": {
     "slide_type": "slide"
    }
   },
   "source": [
    "# Shape related functions"
   ]
  },
  {
   "cell_type": "markdown",
   "metadata": {
    "slideshow": {
     "slide_type": "fragment"
    }
   },
   "source": [
    "<div align=\"center\"><img src=\"img/24ccf3d629531aa147ded03bf3cd3e7c.png\" width=\"30%\" height=\"10%\"></div>\n",
    "\n",
    "https://i.pinimg.com/originals/24/cc/f3/24ccf3d629531aa147ded03bf3cd3e7c.png"
   ]
  },
  {
   "cell_type": "markdown",
   "metadata": {
    "slideshow": {
     "slide_type": "fragment"
    }
   },
   "source": [
    "### tf.shape, tf.size, tf.reshape"
   ]
  },
  {
   "cell_type": "markdown",
   "metadata": {
    "slideshow": {
     "slide_type": "subslide"
    }
   },
   "source": [
    "<div align=\"center\"><img src=\"img/Shape.png\" width=\"100%\" height=\"10%\"></div>\n",
    "\n",
    "https://www.tensorflow.org/versions/r0.12/resources/dims_types"
   ]
  },
  {
   "cell_type": "code",
   "execution_count": 8,
   "metadata": {
    "collapsed": true
   },
   "outputs": [],
   "source": [
    "A = tf.constant(2)\n",
    "B = tf.constant([2, 1])\n",
    "C = tf.constant([[1,5,1],[3,5,1]])\n",
    "D = tf.constant([[[1,5,1],[3,5,1]]])"
   ]
  },
  {
   "cell_type": "markdown",
   "metadata": {},
   "source": [
    "# tf.shape"
   ]
  },
  {
   "cell_type": "code",
   "execution_count": 9,
   "metadata": {
    "slideshow": {
     "slide_type": "subslide"
    }
   },
   "outputs": [
    {
     "name": "stdout",
     "output_type": "stream",
     "text": [
      "[]\n",
      "[2]\n",
      "[2 3]\n",
      "[1 2 3]\n"
     ]
    }
   ],
   "source": [
    "a = tf.shape(A)\n",
    "b = tf.shape(B)\n",
    "c = tf.shape(C)\n",
    "d = tf.shape(D)\n",
    "        \n",
    "with tf.Session() as sess:\n",
    "    print(sess.run(a))\n",
    "    print(sess.run(b))\n",
    "    print(sess.run(c))\n",
    "    print(sess.run(d))"
   ]
  },
  {
   "cell_type": "markdown",
   "metadata": {},
   "source": [
    "# tf.size"
   ]
  },
  {
   "cell_type": "code",
   "execution_count": 10,
   "metadata": {},
   "outputs": [
    {
     "name": "stdout",
     "output_type": "stream",
     "text": [
      "1\n",
      "2\n",
      "6\n",
      "6\n"
     ]
    }
   ],
   "source": [
    "a = tf.size(A)\n",
    "b = tf.size(B)\n",
    "c = tf.size(C)\n",
    "d = tf.size(D)\n",
    "        \n",
    "with tf.Session() as sess:\n",
    "    print(sess.run(a))\n",
    "    print(sess.run(b))\n",
    "    print(sess.run(c))\n",
    "    print(sess.run(d))"
   ]
  },
  {
   "cell_type": "markdown",
   "metadata": {},
   "source": [
    "# tf.reshape"
   ]
  },
  {
   "cell_type": "code",
   "execution_count": 9,
   "metadata": {},
   "outputs": [
    {
     "name": "stdout",
     "output_type": "stream",
     "text": [
      "[2]\n",
      "[[2 1]]\n",
      "[[[1 5 1]\n",
      "  [3 5 1]]]\n",
      "[[1 5 1]\n",
      " [3 5 1]]\n"
     ]
    }
   ],
   "source": [
    "a = tf.reshape(A, (1,))\n",
    "b = tf.reshape(B, (1,2))\n",
    "c = tf.reshape(C, (1,2,3))\n",
    "d = tf.reshape(D, (2,3))\n",
    "        \n",
    "with tf.Session() as sess:\n",
    "    print(sess.run(a))\n",
    "    print(sess.run(b))\n",
    "    print(sess.run(c))\n",
    "    print(sess.run(d))"
   ]
  },
  {
   "cell_type": "code",
   "execution_count": 12,
   "metadata": {
    "slideshow": {
     "slide_type": "subslide"
    }
   },
   "outputs": [
    {
     "name": "stdout",
     "output_type": "stream",
     "text": [
      "[[1]\n",
      " [5]\n",
      " [1]]\n"
     ]
    }
   ],
   "source": [
    "A = tf.constant([1,5,1])\n",
    "\n",
    "if 1:\n",
    "    a = tf.reshape(A, (-1,1))\n",
    "elif 1: \n",
    "    # TypeError: Expected binary or unicode string, got None\n",
    "    a = tf.reshape(A, (None,1))\n",
    "        \n",
    "with tf.Session() as sess:\n",
    "    print(sess.run(a))"
   ]
  },
  {
   "cell_type": "markdown",
   "metadata": {
    "slideshow": {
     "slide_type": "slide"
    }
   },
   "source": [
    "# .dtype, tf.rank, tf.shape in action"
   ]
  },
  {
   "cell_type": "markdown",
   "metadata": {
    "slideshow": {
     "slide_type": "fragment"
    }
   },
   "source": [
    "<img src=\"https://www.maxim.com/.image/t_share/MTQ3NDA5NDkyOTUzMjc4MDgw/soldiers-in-combat.png\" width=\"100%\" height=\"10%\">"
   ]
  },
  {
   "cell_type": "code",
   "execution_count": 13,
   "metadata": {
    "slideshow": {
     "slide_type": "subslide"
    }
   },
   "outputs": [
    {
     "name": "stdout",
     "output_type": "stream",
     "text": [
      "int32\n",
      "1\n",
      "[7]\n",
      "[ 2  5  1  0  9  7 10]\n"
     ]
    }
   ],
   "source": [
    "X_ = tf.placeholder(tf.int32, (None), name=\"X_\")    # dtype: int32, rank: 1, shape [7]\n",
    "\n",
    "a = X_\n",
    "a_rank = tf.rank(a)\n",
    "a_shape = tf.shape(a)\n",
    "\n",
    "with tf.Session() as sess:\n",
    "    tf.global_variables_initializer().run()\n",
    "\n",
    "    a_run, a_rank_run, a_shape_run = sess.run([a, a_rank, a_shape], feed_dict={X_: [2,5,1,0,9,7,10]})\n",
    "    print(a_run.dtype)\n",
    "    print(a_rank_run)\n",
    "    print(a_shape_run)\n",
    "    print(a_run)"
   ]
  },
  {
   "cell_type": "code",
   "execution_count": 14,
   "metadata": {
    "slideshow": {
     "slide_type": "subslide"
    }
   },
   "outputs": [
    {
     "name": "stdout",
     "output_type": "stream",
     "text": [
      "float32\n",
      "2\n",
      "[ 7 11]\n",
      "[[0. 0. 1. 0. 0. 0. 0. 0. 0. 0. 0.]\n",
      " [0. 0. 0. 0. 0. 1. 0. 0. 0. 0. 0.]\n",
      " [0. 1. 0. 0. 0. 0. 0. 0. 0. 0. 0.]\n",
      " [1. 0. 0. 0. 0. 0. 0. 0. 0. 0. 0.]\n",
      " [0. 0. 0. 0. 0. 0. 0. 0. 0. 1. 0.]\n",
      " [0. 0. 0. 0. 0. 0. 0. 1. 0. 0. 0.]\n",
      " [0. 0. 0. 0. 0. 0. 0. 0. 0. 0. 1.]]\n"
     ]
    }
   ],
   "source": [
    "X = tf.one_hot(X_, 11)    # dtype: float32, rank: 2, shape [7 11]\n",
    "\n",
    "a = X\n",
    "a_rank = tf.rank(a)\n",
    "a_shape = tf.shape(a)\n",
    "\n",
    "with tf.Session() as sess:\n",
    "    tf.global_variables_initializer().run()\n",
    "\n",
    "    a_run, a_rank_run, a_shape_run = sess.run([a, a_rank, a_shape], feed_dict={X_: [2,5,1,0,9,7,10]})\n",
    "    print(a_run.dtype)\n",
    "    print(a_rank_run)\n",
    "    print(a_shape_run)\n",
    "    print(a_run)"
   ]
  },
  {
   "cell_type": "code",
   "execution_count": 15,
   "metadata": {
    "slideshow": {
     "slide_type": "subslide"
    }
   },
   "outputs": [
    {
     "name": "stdout",
     "output_type": "stream",
     "text": [
      "float32\n",
      "2\n",
      "[11  4]\n",
      "[[ 0.57848054  0.1973319  -0.58582205  0.5232299 ]\n",
      " [-0.2630936  -0.08591169  0.48952824  0.30674285]\n",
      " [ 0.5977693  -0.16792393 -0.23447877 -0.37580454]\n",
      " [-0.0146656  -0.09055805  0.28681862  0.553682  ]\n",
      " [ 0.36585552 -0.33236417 -0.38106936 -0.26882342]\n",
      " [ 0.28463113  0.13292378  0.05563349 -0.583046  ]\n",
      " [ 0.15907049 -0.36832497 -0.11576492  0.59422594]\n",
      " [-0.60356283  0.3340705  -0.00199753  0.10533208]\n",
      " [ 0.5034618  -0.3074455  -0.44204065  0.11234045]\n",
      " [-0.4991908   0.15841877 -0.15557021  0.61724645]\n",
      " [-0.31964028 -0.37866637 -0.04993612 -0.2749889 ]]\n"
     ]
    }
   ],
   "source": [
    "W = tf.get_variable(\"W\", shape=[11, 4],\n",
    "                    initializer=tf.contrib.layers.xavier_initializer())    # dtype: float32, rank: 2, shape [11 4]\n",
    "\n",
    "a = W\n",
    "a_rank = tf.rank(a)\n",
    "a_shape = tf.shape(a)\n",
    "\n",
    "with tf.Session() as sess:\n",
    "    tf.global_variables_initializer().run()\n",
    "\n",
    "    a_run, a_rank_run, a_shape_run = sess.run([a, a_rank, a_shape], feed_dict={X_: [2,5,1,0,9,7,10]})\n",
    "    print(a_run.dtype)\n",
    "    print(a_rank_run)\n",
    "    print(a_shape_run)\n",
    "    print(a_run)"
   ]
  },
  {
   "cell_type": "code",
   "execution_count": 16,
   "metadata": {
    "slideshow": {
     "slide_type": "subslide"
    }
   },
   "outputs": [
    {
     "name": "stdout",
     "output_type": "stream",
     "text": [
      "float32\n",
      "2\n",
      "[1 4]\n",
      "[[0. 0. 0. 0.]]\n"
     ]
    }
   ],
   "source": [
    "b = tf.get_variable(\"b\", initializer=tf.constant(0., shape=[1, 4]))    # dtype: float32, rank: 2, shape [1 4]\n",
    "\n",
    "a = b\n",
    "a_rank = tf.rank(a)\n",
    "a_shape = tf.shape(a)\n",
    "\n",
    "with tf.Session() as sess:\n",
    "    tf.global_variables_initializer().run()\n",
    "\n",
    "    a_run, a_rank_run, a_shape_run = sess.run([a, a_rank, a_shape], feed_dict={X_: [2,5,1,0,9,7,10]})\n",
    "    print(a_run.dtype)\n",
    "    print(a_rank_run)\n",
    "    print(a_shape_run)\n",
    "    print(a_run)"
   ]
  },
  {
   "cell_type": "code",
   "execution_count": 17,
   "metadata": {
    "slideshow": {
     "slide_type": "subslide"
    }
   },
   "outputs": [
    {
     "name": "stdout",
     "output_type": "stream",
     "text": [
      "float32\n",
      "2\n",
      "[7 4]\n",
      "[[-0.03207874 -0.5188475  -0.55819154 -0.2965053 ]\n",
      " [-0.4296844   0.25036138 -0.0641697   0.2796169 ]\n",
      " [ 0.2816432   0.5013731  -0.3549314   0.2030139 ]\n",
      " [ 0.31256104  0.47784346 -0.0909242   0.2894196 ]\n",
      " [-0.03188014 -0.30414426  0.05374199 -0.28384444]\n",
      " [-0.4345799  -0.6157152   0.15666509  0.1941778 ]\n",
      " [ 0.22736424 -0.2007299   0.35025996  0.60422915]]\n"
     ]
    }
   ],
   "source": [
    "Q = tf.matmul(X, W) + b    # dtype: float32, rank: 2, shape [7 4]\n",
    "\n",
    "a = Q\n",
    "a_rank = tf.rank(a)\n",
    "a_shape = tf.shape(a)\n",
    "\n",
    "with tf.Session() as sess:\n",
    "    tf.global_variables_initializer().run()\n",
    "\n",
    "    a_run, a_rank_run, a_shape_run = sess.run([a, a_rank, a_shape], feed_dict={X_: [2,5,1,0,9,7,10]})\n",
    "    print(a_run.dtype)\n",
    "    print(a_rank_run)\n",
    "    print(a_shape_run)\n",
    "    print(a_run)"
   ]
  },
  {
   "cell_type": "code",
   "execution_count": 18,
   "metadata": {
    "slideshow": {
     "slide_type": "subslide"
    }
   },
   "outputs": [
    {
     "name": "stdout",
     "output_type": "stream",
     "text": [
      "int64\n",
      "1\n",
      "[7]\n",
      "[0 1 3 2 2 3 1]\n"
     ]
    }
   ],
   "source": [
    "greedy_action = tf.argmax(Q, axis=1)    # dtype: int64, rank: 1, shape [7]\n",
    "\n",
    "a = greedy_action\n",
    "a_rank = tf.rank(a)\n",
    "a_shape = tf.shape(a)\n",
    "\n",
    "with tf.Session() as sess:\n",
    "    tf.global_variables_initializer().run()\n",
    "\n",
    "    a_run, a_rank_run, a_shape_run = sess.run([a, a_rank, a_shape], feed_dict={X_: [2,5,1,0,9,7,10]})\n",
    "    print(a_run.dtype)\n",
    "    print(a_rank_run)\n",
    "    print(a_shape_run)\n",
    "    print(a_run)"
   ]
  },
  {
   "cell_type": "code",
   "execution_count": 19,
   "metadata": {},
   "outputs": [
    {
     "name": "stdout",
     "output_type": "stream",
     "text": [
      "int64\n",
      "0\n",
      "[]\n",
      "2\n"
     ]
    }
   ],
   "source": [
    "Greedy_action = greedy_action[0]    # type: int64, rank: 0, shape []\n",
    "\n",
    "a = Greedy_action\n",
    "a_rank = tf.rank(a)\n",
    "a_shape = tf.shape(a)\n",
    "\n",
    "with tf.Session() as sess:\n",
    "    tf.global_variables_initializer().run()\n",
    "\n",
    "    a_run, a_rank_run, a_shape_run = sess.run([a, a_rank, a_shape], feed_dict={X_: [2,5,1,0,9,7,10]})\n",
    "    print(a_run.dtype)\n",
    "    print(a_rank_run)\n",
    "    print(a_shape_run)\n",
    "    print(a_run)"
   ]
  },
  {
   "cell_type": "code",
   "execution_count": null,
   "metadata": {
    "collapsed": true,
    "slideshow": {
     "slide_type": "subslide"
    }
   },
   "outputs": [],
   "source": [
    "ACTIONS_ = tf.placeholder(tf.int32, [None], name=\"ACTIONS_\")    # dtype: int32, rank: 1, shape [7]\n",
    "\n",
    "a = ACTIONS_\n",
    "a_rank = tf.rank(a)\n",
    "a_shape = tf.shape(a)\n",
    "\n",
    "with tf.Session() as sess:\n",
    "    tf.global_variables_initializer().run()\n",
    "\n",
    "    a_run, a_rank_run, a_shape_run = sess.run([a, a_rank, a_shape], \n",
    "                                              feed_dict={X_: [2,5,1,0,9,7,10],\n",
    "                                                         ACTIONS_: [2,0,1,0,3,2,1]})\n",
    "    print(a_run.dtype)\n",
    "    print(a_rank_run)\n",
    "    print(a_shape_run)\n",
    "    print(a_run)"
   ]
  },
  {
   "cell_type": "code",
   "execution_count": null,
   "metadata": {
    "collapsed": true,
    "slideshow": {
     "slide_type": "subslide"
    }
   },
   "outputs": [],
   "source": [
    "ACTIONS = tf.one_hot(ACTIONS_, 4, \n",
    "                     on_value = True, off_value = False, \n",
    "                     dtype = tf.bool)    # dtype: bool,  rank: 2, shape [7 4]\n",
    "\n",
    "a = ACTIONS\n",
    "a_rank = tf.rank(a)\n",
    "a_shape = tf.shape(a)\n",
    "\n",
    "with tf.Session() as sess:\n",
    "    tf.global_variables_initializer().run()\n",
    "\n",
    "    a_run, a_rank_run, a_shape_run = sess.run([a, a_rank, a_shape], \n",
    "                                              feed_dict={X_: [2,5,1,0,9,7,10],\n",
    "                                                         ACTIONS_: [2,0,1,0,3,2,1]})\n",
    "    print(a_run.dtype)\n",
    "    print(a_rank_run)\n",
    "    print(a_shape_run)\n",
    "    print(a_run)"
   ]
  },
  {
   "cell_type": "code",
   "execution_count": null,
   "metadata": {
    "collapsed": true,
    "slideshow": {
     "slide_type": "subslide"
    }
   },
   "outputs": [],
   "source": [
    "q_now = tf.boolean_mask(Q, ACTIONS)    # dtype: float32, rank: 1, shape [7]\n",
    "\n",
    "a = q_now\n",
    "a_rank = tf.rank(a)\n",
    "a_shape = tf.shape(a)\n",
    "\n",
    "with tf.Session() as sess:\n",
    "    tf.global_variables_initializer().run()\n",
    "\n",
    "    a_run, a_rank_run, a_shape_run = sess.run([a, a_rank, a_shape], \n",
    "                                              feed_dict={X_: [2,5,1,0,9,7,10],\n",
    "                                                         ACTIONS_: [2,0,1,0,3,2,1]})\n",
    "    print(a_run.dtype)\n",
    "    print(a_rank_run)\n",
    "    print(a_shape_run)\n",
    "    print(a_run)"
   ]
  },
  {
   "cell_type": "code",
   "execution_count": null,
   "metadata": {
    "collapsed": true,
    "slideshow": {
     "slide_type": "subslide"
    }
   },
   "outputs": [],
   "source": [
    "Q_now = tf.reshape(q_now, shape=[-1, 1])    # dtype: float32, rank: 2, shape [7 1]\n",
    "\n",
    "a = Q_now\n",
    "a_rank = tf.rank(a)\n",
    "a_shape = tf.shape(a)\n",
    "\n",
    "with tf.Session() as sess:\n",
    "    tf.global_variables_initializer().run()\n",
    "\n",
    "    a_run, a_rank_run, a_shape_run = sess.run([a, a_rank, a_shape], \n",
    "                                              feed_dict={X_: [2,5,1,0,9,7,10],\n",
    "                                                         ACTIONS_: [2,0,1,0,3,2,1]})\n",
    "    print(a_run.dtype)\n",
    "    print(a_rank_run)\n",
    "    print(a_shape_run)\n",
    "    print(a_run)"
   ]
  },
  {
   "cell_type": "code",
   "execution_count": null,
   "metadata": {
    "collapsed": true,
    "slideshow": {
     "slide_type": "subslide"
    }
   },
   "outputs": [],
   "source": [
    "Q_max = tf.reduce_max(Q, axis=1, keep_dims=True)    # dtype: float32, rank: 2, shape [7 1]\n",
    "\n",
    "a = Q_max\n",
    "a_rank = tf.rank(a)\n",
    "a_shape = tf.shape(a)\n",
    "\n",
    "with tf.Session() as sess:\n",
    "    tf.global_variables_initializer().run()\n",
    "\n",
    "    a_run, a_rank_run, a_shape_run = sess.run([a, a_rank, a_shape], \n",
    "                                              feed_dict={X_: [2,5,1,0,9,7,10],\n",
    "                                                         ACTIONS_: [2,0,1,0,3,2,1]})\n",
    "    print(a_run.dtype)\n",
    "    print(a_rank_run)\n",
    "    print(a_shape_run)\n",
    "    print(a_run)"
   ]
  },
  {
   "cell_type": "code",
   "execution_count": null,
   "metadata": {
    "collapsed": true,
    "slideshow": {
     "slide_type": "subslide"
    }
   },
   "outputs": [],
   "source": [
    "DONES_ = tf.placeholder(tf.int32, [None], name=\"DONES_\")    # dtype: int32, rank: 1, shape [7]\n",
    "\n",
    "a = DONES_\n",
    "a_rank = tf.rank(a)\n",
    "a_shape = tf.shape(a)\n",
    "\n",
    "with tf.Session() as sess:\n",
    "    tf.global_variables_initializer().run()\n",
    "\n",
    "    a_run, a_rank_run, a_shape_run = sess.run([a, a_rank, a_shape], \n",
    "                                              feed_dict={X_: [2,5,1,0,9,7,10],\n",
    "                                                         ACTIONS_: [2,0,1,0,3,2,1],\n",
    "                                                         DONES_: [0,0,1,0,0,0,1]})\n",
    "    print(a_run.dtype)\n",
    "    print(a_rank_run)\n",
    "    print(a_shape_run)\n",
    "    print(a_run)"
   ]
  },
  {
   "cell_type": "code",
   "execution_count": null,
   "metadata": {
    "collapsed": true,
    "slideshow": {
     "slide_type": "subslide"
    }
   },
   "outputs": [],
   "source": [
    "dones = tf.reshape(DONES_, [-1, 1])    # dtype: int32, rank: 2, shape [7 1]\n",
    "\n",
    "a = dones\n",
    "a_rank = tf.rank(a)\n",
    "a_shape = tf.shape(a)\n",
    "\n",
    "with tf.Session() as sess:\n",
    "    tf.global_variables_initializer().run()\n",
    "\n",
    "    a_run, a_rank_run, a_shape_run = sess.run([a, a_rank, a_shape], \n",
    "                                              feed_dict={X_: [2,5,1,0,9,7,10],\n",
    "                                                         ACTIONS_: [2,0,1,0,3,2,1],\n",
    "                                                         DONES_: [0,0,1,0,0,0,1]})\n",
    "    print(a_run.dtype)\n",
    "    print(a_rank_run)\n",
    "    print(a_shape_run)\n",
    "    print(a_run)"
   ]
  },
  {
   "cell_type": "code",
   "execution_count": null,
   "metadata": {
    "collapsed": true
   },
   "outputs": [],
   "source": [
    "DONES = tf.cast(dones, tf.float32)    # dtype: float32, rank: 2, shape [7 1]\n",
    "\n",
    "a = DONES\n",
    "a_rank = tf.rank(a)\n",
    "a_shape = tf.shape(a)\n",
    "\n",
    "with tf.Session() as sess:\n",
    "    tf.global_variables_initializer().run()\n",
    "\n",
    "    a_run, a_rank_run, a_shape_run = sess.run([a, a_rank, a_shape], \n",
    "                                              feed_dict={X_: [2,5,1,0,9,7,10],\n",
    "                                                         ACTIONS_: [2,0,1,0,3,2,1],\n",
    "                                                         DONES_: [0,0,1,0,0,0,1]})\n",
    "    print(a_run.dtype)\n",
    "    print(a_rank_run)\n",
    "    print(a_shape_run)\n",
    "    print(a_run)"
   ]
  },
  {
   "cell_type": "code",
   "execution_count": null,
   "metadata": {
    "collapsed": true,
    "slideshow": {
     "slide_type": "subslide"
    }
   },
   "outputs": [],
   "source": [
    "REWARDS_ = tf.placeholder(tf.float32, [None], name=\"REWARDS_\")    # dtype: float32, rank: 1, shape [7]\n",
    "\n",
    "a = REWARDS_\n",
    "a_rank = tf.rank(a)\n",
    "a_shape = tf.shape(a)\n",
    "\n",
    "with tf.Session() as sess:\n",
    "    tf.global_variables_initializer().run()\n",
    "\n",
    "    a_run, a_rank_run, a_shape_run = sess.run([a, a_rank, a_shape], \n",
    "                                              feed_dict={X_: [2,5,1,0,9,7,10],\n",
    "                                                         ACTIONS_: [2,0,1,0,3,2,1],\n",
    "                                                         DONES_: [0,0,1,0,0,0,1],\n",
    "                                                         REWARDS_: [-0.02,-0.02,0.98,-0.02,-0.02,-0.02,-1.02]})\n",
    "    print(a_run.dtype)\n",
    "    print(a_rank_run)\n",
    "    print(a_shape_run)\n",
    "    print(a_run)"
   ]
  },
  {
   "cell_type": "code",
   "execution_count": null,
   "metadata": {
    "collapsed": true,
    "slideshow": {
     "slide_type": "subslide"
    }
   },
   "outputs": [],
   "source": [
    "REWARDS = tf.reshape(REWARDS_, [-1, 1])    # dtype: float32, rank: 2, shape [7 1]   \n",
    "\n",
    "a = REWARDS\n",
    "a_rank = tf.rank(a)\n",
    "a_shape = tf.shape(a)\n",
    "\n",
    "with tf.Session() as sess:\n",
    "    tf.global_variables_initializer().run()\n",
    "\n",
    "    a_run, a_rank_run, a_shape_run = sess.run([a, a_rank, a_shape], \n",
    "                                              feed_dict={X_: [2,5,1,0,9,7,10],\n",
    "                                                         ACTIONS_: [2,0,1,0,3,2,1],\n",
    "                                                         DONES_: [0,0,1,0,0,0,1],\n",
    "                                                         REWARDS_: [-0.02,-0.02,0.98,-0.02,-0.02,-0.02,-1.02]})\n",
    "    print(a_run.dtype)\n",
    "    print(a_rank_run)\n",
    "    print(a_shape_run)\n",
    "    print(a_run)"
   ]
  },
  {
   "cell_type": "code",
   "execution_count": null,
   "metadata": {
    "collapsed": true,
    "slideshow": {
     "slide_type": "subslide"
    }
   },
   "outputs": [],
   "source": [
    "# DONES -    dtype: float32, rank: 2, shape [7 1]\n",
    "# REWARDS -  dtype: float32, rank: 2, shape [7 1]\n",
    "# Q_max -    dtype: float32, rank: 2, shape [7 1]\n",
    "gamma = 0.99\n",
    "Q_target = (1 - DONES) * (REWARDS + gamma * Q_max) + DONES * REWARDS    # dtype: float32, rank: 2, shape [7 1]\n",
    "\n",
    "a = Q_target\n",
    "a_rank = tf.rank(a)\n",
    "a_shape = tf.shape(a)\n",
    "\n",
    "with tf.Session() as sess:\n",
    "    tf.global_variables_initializer().run()\n",
    "\n",
    "    a_run, a_rank_run, a_shape_run = sess.run([a, a_rank, a_shape], \n",
    "                                              feed_dict={X_: [2,5,1,0,9,7,10],\n",
    "                                                         ACTIONS_: [2,0,1,0,3,2,1],\n",
    "                                                         DONES_: [0,0,1,0,0,0,1],\n",
    "                                                         REWARDS_: [-0.02,-0.02,0.98,-0.02,-0.02,-0.02,-1.02]})\n",
    "    print(a_run.dtype)\n",
    "    print(a_rank_run)\n",
    "    print(a_shape_run)\n",
    "    print(a_run)"
   ]
  },
  {
   "cell_type": "code",
   "execution_count": null,
   "metadata": {
    "collapsed": true,
    "slideshow": {
     "slide_type": "subslide"
    }
   },
   "outputs": [],
   "source": [
    "loss = tf.reduce_mean(tf.square(Q_target-Q_now))    # dtype: float32, rank: 0, shape []\n",
    "\n",
    "a = loss\n",
    "a_rank = tf.rank(a)\n",
    "a_shape = tf.shape(a)\n",
    "\n",
    "with tf.Session() as sess:\n",
    "    tf.global_variables_initializer().run()\n",
    "\n",
    "    a_run, a_rank_run, a_shape_run = sess.run([a, a_rank, a_shape], \n",
    "                                              feed_dict={X_: [2,5,1,0,9,7,10],\n",
    "                                                         ACTIONS_: [2,0,1,0,3,2,1],\n",
    "                                                         DONES_: [0,0,1,0,0,0,1],\n",
    "                                                         REWARDS_: [-0.02,-0.02,0.98,-0.02,-0.02,-0.02,-1.02]})\n",
    "    print(a_run.dtype)\n",
    "    print(a_rank_run)\n",
    "    print(a_shape_run)\n",
    "    print(a_run)"
   ]
  }
 ],
 "metadata": {
  "celltoolbar": "Slideshow",
  "kernelspec": {
   "display_name": "Python [default]",
   "language": "python",
   "name": "python3"
  },
  "language_info": {
   "codemirror_mode": {
    "name": "ipython",
    "version": 3
   },
   "file_extension": ".py",
   "mimetype": "text/x-python",
   "name": "python",
   "nbconvert_exporter": "python",
   "pygments_lexer": "ipython3",
   "version": "3.5.3"
  }
 },
 "nbformat": 4,
 "nbformat_minor": 2
}
