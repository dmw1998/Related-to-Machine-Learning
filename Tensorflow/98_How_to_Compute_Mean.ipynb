{
 "cells": [
  {
   "cell_type": "markdown",
   "metadata": {},
   "source": [
    "# How to Compute Mean\n",
    " \n",
    "Sungchul Lee "
   ]
  },
  {
   "cell_type": "markdown",
   "metadata": {},
   "source": [
    "# References\n",
    "\n",
    "- sentdex - Pandas with Python 2.7\n",
    "[1 Downloading and dependencies](https://www.youtube.com/watch?v=qtQh2C5dzRo&list=PLQVvvaa0QuDfHt4XU7vTm22xDegR0v0fQ) [blog](https://pythonprogramming.net/python-2-7-pandas-data-analysis/)\n",
    "[2 Terminology](https://www.youtube.com/watch?v=LUDiWiZ3bbw&list=PLQVvvaa0QuDfHt4XU7vTm22xDegR0v0fQ&index=2) [blog](https://pythonprogramming.net/python-2-7-pandas-data-analysis/)\n",
    "[3 Reading from and saving to CSV](https://www.youtube.com/watch?v=pkNJdko-9zI&list=PLQVvvaa0QuDfHt4XU7vTm22xDegR0v0fQ&index=3) [blog](https://pythonprogramming.net/python-2-7-pandas-data-analysis/)\n",
    "[4 CSV column manipulation](https://www.youtube.com/watch?v=hcqpwrCDOco&index=4&list=PLQVvvaa0QuDfHt4XU7vTm22xDegR0v0fQ) [blog](https://pythonprogramming.net/pandas-column-manipulation-spreadsheet-data/?completed=/pandas-saving-reading-csv-file/)\n",
    "[5 Column Operations (Math, moving averages)](https://www.youtube.com/watch?v=NBrLb2w6ed8&index=5&list=PLQVvvaa0QuDfHt4XU7vTm22xDegR0v0fQ) [blog](https://pythonprogramming.net/pandas-column-operations-calculations/?completed=/pandas-column-manipulation-spreadsheet-data/)\n",
    "[6 Data visualization with Matplotlib](https://www.youtube.com/watch?v=pt85jGDGFtU&index=6&list=PLQVvvaa0QuDfHt4XU7vTm22xDegR0v0fQ) [blog](https://pythonprogramming.net/2D-Visualization-of-Pandas-data-with-Matplotlib-including-plotting-dates/?completed=/pandas-column-operations-calculations/)\n",
    "[7 3D Matplotlib Graphs](https://www.youtube.com/watch?v=wfTABU8VeoY&index=7&list=PLQVvvaa0QuDfHt4XU7vTm22xDegR0v0fQ) [blog](https://pythonprogramming.net/3d-graphing-pandas-matplotlib/?completed=/2D-Visualization-of-Pandas-data-with-Matplotlib-including-plotting-dates/)\n",
    "[8 Standard Deviation](https://www.youtube.com/watch?v=iFZscnDwcbw&index=8&list=PLQVvvaa0QuDfHt4XU7vTm22xDegR0v0fQ) [blog](https://pythonprogramming.net/pandas-standard-deviation/?completed=/3d-graphing-pandas-matplotlib/)\n",
    "[9 Statistical Information](https://www.youtube.com/watch?v=ktyW-4o1vAM&index=9&list=PLQVvvaa0QuDfHt4XU7vTm22xDegR0v0fQ) [blog](https://pythonprogramming.net/pandas-statistics-correlation-tables-how-to/?completed=/pandas-standard-deviation/)\n",
    "[10 Function Mapping](https://www.youtube.com/watch?v=-jpk4p750Q4&list=PLQVvvaa0QuDfHt4XU7vTm22xDegR0v0fQ&index=10) [blog](https://pythonprogramming.net/python-function-mapping-pandas/?completed=/pandas-statistics-correlation-tables-how-to/)"
   ]
  },
  {
   "cell_type": "markdown",
   "metadata": {},
   "source": [
    "# How to run these slides yourself\n",
    "\n",
    "**Setup python environment**\n",
    "\n",
    "- [Install RISE for an interactive presentation viewer](https://github.com/damianavila/RISE)"
   ]
  },
  {
   "cell_type": "code",
   "execution_count": 1,
   "metadata": {},
   "outputs": [
    {
     "ename": "SyntaxError",
     "evalue": "invalid syntax (<ipython-input-1-46100a95b5c7>, line 13)",
     "output_type": "error",
     "traceback": [
      "\u001b[0;36m  File \u001b[0;32m\"<ipython-input-1-46100a95b5c7>\"\u001b[0;36m, line \u001b[0;32m13\u001b[0m\n\u001b[0;31m    print sess.run(mean_1)\u001b[0m\n\u001b[0m             ^\u001b[0m\n\u001b[0;31mSyntaxError\u001b[0m\u001b[0;31m:\u001b[0m invalid syntax\n"
     ]
    }
   ],
   "source": [
    "import pandas as pd\n",
    "import numpy as np\n",
    "import tensorflow as tf\n",
    "\n",
    "df = pd.DataFrame([[40., 170., 70.], [20., 180., 60.]], columns=['Age','Height','Weight'], index=['Lee','Kim'])\n",
    "df = np.array(df)\n",
    "\n",
    "mean_1 = tf.reduce_mean(df, 0)\n",
    "mean_2 = tf.reduce_mean(tf.reduce_mean(df, 0))\n",
    "\n",
    "with tf.Session() as sess:\n",
    "\n",
    "    print sess.run(mean_1)\n",
    "    print sess.run(mean_2)"
   ]
  },
  {
   "cell_type": "code",
   "execution_count": null,
   "metadata": {
    "collapsed": true
   },
   "outputs": [],
   "source": []
  },
  {
   "cell_type": "code",
   "execution_count": null,
   "metadata": {
    "collapsed": true
   },
   "outputs": [],
   "source": []
  }
 ],
 "metadata": {
  "anaconda-cloud": {},
  "celltoolbar": "Slideshow",
  "kernelspec": {
   "display_name": "Python [default]",
   "language": "python",
   "name": "python3"
  },
  "language_info": {
   "codemirror_mode": {
    "name": "ipython",
    "version": 3
   },
   "file_extension": ".py",
   "mimetype": "text/x-python",
   "name": "python",
   "nbconvert_exporter": "python",
   "pygments_lexer": "ipython3",
   "version": "3.5.3"
  }
 },
 "nbformat": 4,
 "nbformat_minor": 2
}
