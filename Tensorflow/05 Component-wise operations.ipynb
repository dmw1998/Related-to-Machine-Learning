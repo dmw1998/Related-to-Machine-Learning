{
 "cells": [
  {
   "cell_type": "markdown",
   "metadata": {
    "collapsed": true,
    "slideshow": {
     "slide_type": "slide"
    }
   },
   "source": [
    "# Component-wise operations\n",
    " \n",
    "Sungchul Lee  "
   ]
  },
  {
   "cell_type": "markdown",
   "metadata": {
    "slideshow": {
     "slide_type": "subslide"
    }
   },
   "source": [
    "# How to run these slides yourself\n",
    "\n",
    "**Setup python environment**\n",
    "\n",
    "- [Install RISE for an interactive presentation viewer](https://github.com/damianavila/RISE)"
   ]
  },
  {
   "cell_type": "markdown",
   "metadata": {
    "slideshow": {
     "slide_type": "slide"
    }
   },
   "source": [
    "### tf.add (or +), tf.subtract (or -), tf.multiply (or *), tf.div (or /)\n",
    "\n",
    "### tf.mod (or %)\n",
    "\n",
    "### tf.square, tf.sqrt, and tf.pow\n",
    "\n",
    "### tf.sin, tf.cos, and tf.tan\n",
    "\n",
    "### tf.abs\n",
    "\n",
    "### tf.round, tf.ceil, and tf.floor"
   ]
  },
  {
   "cell_type": "markdown",
   "metadata": {
    "slideshow": {
     "slide_type": "subslide"
    }
   },
   "source": [
    "- Works for same shape matrices \n",
    "\n",
    "- Works even for different shape matrices if 브로드게스팅이 가능하면\n",
    "\n",
    "- Works even for different rank matrices if 브로드게스팅이 가능하면 \n",
    "\n",
    "- <font  style=\"color:red\">WARNING: Should be same date type</font> "
   ]
  },
  {
   "cell_type": "markdown",
   "metadata": {
    "slideshow": {
     "slide_type": "slide"
    }
   },
   "source": [
    "# tf.add (or +), tf.subtract (or -), tf.multiply (or *), tf.div (or /)"
   ]
  },
  {
   "cell_type": "code",
   "execution_count": 1,
   "metadata": {
    "slideshow": {
     "slide_type": "fragment"
    }
   },
   "outputs": [
    {
     "name": "stderr",
     "output_type": "stream",
     "text": [
      "/Users/sungchul/anaconda/lib/python3.5/importlib/_bootstrap.py:222: RuntimeWarning: compiletime version 3.6 of module 'tensorflow.python.framework.fast_tensor_util' does not match runtime version 3.5\n",
      "  return f(*args, **kwds)\n",
      "/Users/sungchul/anaconda/lib/python3.5/site-packages/h5py/__init__.py:34: FutureWarning: Conversion of the second argument of issubdtype from `float` to `np.floating` is deprecated. In future, it will be treated as `np.float64 == np.dtype(float).type`.\n",
      "  from ._conv import register_converters as _register_converters\n"
     ]
    }
   ],
   "source": [
    "import tensorflow as tf"
   ]
  },
  {
   "cell_type": "code",
   "execution_count": 2,
   "metadata": {
    "slideshow": {
     "slide_type": "subslide"
    }
   },
   "outputs": [
    {
     "name": "stdout",
     "output_type": "stream",
     "text": [
      "[[3 3]\n",
      " [3 2]]\n",
      "[[3 3]\n",
      " [3 2]]\n"
     ]
    }
   ],
   "source": [
    "X = tf.constant([[2, 3], \n",
    "                 [3, 1]])\n",
    "if 1: \n",
    "    # Works for same shape matrices\n",
    "    Y = tf.constant([[1, 0], \n",
    "                     [0, 1]])\n",
    "elif 1: \n",
    "    # TypeError: \n",
    "    # Input 'y' of 'Add' Op has type float32 that does not match \n",
    "    # type int32 of argument 'x'.\n",
    "    Y = tf.constant([[1., 0.], \n",
    "                     [0., 1.]])\n",
    "elif 0: \n",
    "    # Works for different shape matrices if 브로드게스팅이 가능하면  \n",
    "    Y = tf.constant([[1], \n",
    "                     [0]])\n",
    "elif 0: \n",
    "    # Works for different shape matrices if 브로드게스팅이 가능하면 \n",
    "    Y = tf.constant([[1, 0]])\n",
    "elif 0: \n",
    "    # Works for different rank matrices if 브로드게스팅이 가능하면 \n",
    "    Y = tf.constant([1])    \n",
    "elif 0: \n",
    "    # Works for different rank matrices if 브로드게스팅이 가능하면 \n",
    "    Y = tf.constant(1)\n",
    "\n",
    "if 1: \n",
    "    a, b = tf.add(X, Y), X + Y\n",
    "elif 0: \n",
    "    a, b = tf.subtract(X, Y), X - Y\n",
    "elif 0: \n",
    "    a, b = tf.multiply(X, Y), X * Y\n",
    "elif 0: \n",
    "    a, b = tf.div(X, Y), X / Y\n",
    "\n",
    "with tf.Session() as sess:\n",
    "    print(sess.run(a))\n",
    "    print(sess.run(b))"
   ]
  },
  {
   "cell_type": "markdown",
   "metadata": {
    "slideshow": {
     "slide_type": "slide"
    }
   },
   "source": [
    "# tf.mod (or %)"
   ]
  },
  {
   "cell_type": "code",
   "execution_count": 3,
   "metadata": {
    "collapsed": true,
    "slideshow": {
     "slide_type": "fragment"
    }
   },
   "outputs": [],
   "source": [
    "X = tf.constant([[1.,  2.], [3., 4.]])\n",
    "Y = tf.constant([[2., -4.], [2., 3.]])"
   ]
  },
  {
   "cell_type": "code",
   "execution_count": 4,
   "metadata": {
    "slideshow": {
     "slide_type": "subslide"
    }
   },
   "outputs": [
    {
     "name": "stdout",
     "output_type": "stream",
     "text": [
      "[[1. 0.]\n",
      " [1. 0.]]\n",
      "[[1. 0.]\n",
      " [1. 0.]]\n"
     ]
    }
   ],
   "source": [
    "a = tf.mod(X, 2)\n",
    "b = X % 2\n",
    "\n",
    "with tf.Session() as sess:\n",
    "    print(sess.run(a))\n",
    "    print(sess.run(b))"
   ]
  },
  {
   "cell_type": "markdown",
   "metadata": {
    "slideshow": {
     "slide_type": "slide"
    }
   },
   "source": [
    "# tf.square, tf.sqrt, and tf.pow"
   ]
  },
  {
   "cell_type": "code",
   "execution_count": 5,
   "metadata": {
    "slideshow": {
     "slide_type": "subslide"
    }
   },
   "outputs": [
    {
     "name": "stdout",
     "output_type": "stream",
     "text": [
      "[[ 1.  4.]\n",
      " [ 9. 16.]]\n",
      "[[ 1.  4.]\n",
      " [ 9. 16.]]\n",
      "[[ 1.  8.]\n",
      " [27. 64.]]\n",
      "[[1.00e+00 6.25e-02]\n",
      " [9.00e+00 6.40e+01]]\n"
     ]
    }
   ],
   "source": [
    "a = tf.square(X)\n",
    "b = tf.pow(X, 2)\n",
    "c = tf.pow(X, 3)\n",
    "d = tf.pow(X, Y)\n",
    "\n",
    "with tf.Session() as sess:\n",
    "    print(sess.run(a))\n",
    "    print(sess.run(b))\n",
    "    print(sess.run(c))\n",
    "    print(sess.run(d))"
   ]
  },
  {
   "cell_type": "markdown",
   "metadata": {
    "slideshow": {
     "slide_type": "slide"
    }
   },
   "source": [
    "# tf.sin, tf.cos, and tf.tan"
   ]
  },
  {
   "cell_type": "code",
   "execution_count": 6,
   "metadata": {
    "slideshow": {
     "slide_type": "subslide"
    }
   },
   "outputs": [
    {
     "name": "stdout",
     "output_type": "stream",
     "text": [
      "[[ 0.84147096  0.9092974 ]\n",
      " [ 0.14112    -0.7568025 ]]\n",
      "[[ 0.5403023  -0.41614684]\n",
      " [-0.9899925  -0.6536436 ]]\n",
      "[[ 1.5574077  -2.1850398 ]\n",
      " [-0.14254655  1.1578213 ]]\n"
     ]
    }
   ],
   "source": [
    "a = tf.sin(X)\n",
    "b = tf.cos(X)\n",
    "c = tf.tan(X)\n",
    "\n",
    "with tf.Session() as sess:\n",
    "    print(sess.run(a))\n",
    "    print(sess.run(b))\n",
    "    print(sess.run(c))"
   ]
  },
  {
   "cell_type": "markdown",
   "metadata": {
    "slideshow": {
     "slide_type": "slide"
    }
   },
   "source": [
    "# tf.abs"
   ]
  },
  {
   "cell_type": "code",
   "execution_count": 7,
   "metadata": {
    "slideshow": {
     "slide_type": "subslide"
    }
   },
   "outputs": [
    {
     "name": "stdout",
     "output_type": "stream",
     "text": [
      "[[1. 2.]\n",
      " [3. 4.]]\n"
     ]
    }
   ],
   "source": [
    "a = tf.abs(X)\n",
    "\n",
    "with tf.Session() as sess:\n",
    "    print(sess.run(a))"
   ]
  },
  {
   "cell_type": "markdown",
   "metadata": {
    "slideshow": {
     "slide_type": "slide"
    }
   },
   "source": [
    "# tf.round, tf.ceil, and tf.floor"
   ]
  },
  {
   "cell_type": "code",
   "execution_count": 8,
   "metadata": {
    "slideshow": {
     "slide_type": "subslide"
    }
   },
   "outputs": [
    {
     "name": "stdout",
     "output_type": "stream",
     "text": [
      "[[1. 2.]\n",
      " [3. 4.]]\n",
      "[[1. 2.]\n",
      " [3. 4.]]\n",
      "[[1. 2.]\n",
      " [3. 4.]]\n"
     ]
    }
   ],
   "source": [
    "a = tf.round(X)\n",
    "b = tf.ceil(X)\n",
    "c = tf.floor(X)\n",
    "\n",
    "with tf.Session() as sess:\n",
    "    print(sess.run(a))\n",
    "    print(sess.run(b))\n",
    "    print(sess.run(c))"
   ]
  }
 ],
 "metadata": {
  "celltoolbar": "Slideshow",
  "kernelspec": {
   "display_name": "Python [default]",
   "language": "python",
   "name": "python3"
  },
  "language_info": {
   "codemirror_mode": {
    "name": "ipython",
    "version": 3
   },
   "file_extension": ".py",
   "mimetype": "text/x-python",
   "name": "python",
   "nbconvert_exporter": "python",
   "pygments_lexer": "ipython3",
   "version": "3.5.3"
  }
 },
 "nbformat": 4,
 "nbformat_minor": 2
}
