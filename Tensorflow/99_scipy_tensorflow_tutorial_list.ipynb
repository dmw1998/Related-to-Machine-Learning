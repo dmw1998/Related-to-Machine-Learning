{
 "cells": [
  {
   "cell_type": "markdown",
   "metadata": {},
   "source": [
    "Getting Started with TensorFlow and Deep Learning | SciPy 2018 Tutorial | Josh Gordon\n",
    "[youtube](https://www.youtube.com/watch?v=tYYVSEHq-io) \n",
    "[github](https://github.com/tensorflow/workshops)\n",
    "\n",
    "Machine Learning with scikit-learn Part 2 | SciPy 2018 Tutorial | Lemaitre and Grisel\n",
    "[youtube](https://www.youtube.com/watch?v=gK43gtGh49o) \n",
    "[github](https://github.com/amueller/scipy-2018-sklearn)"
   ]
  }
 ],
 "metadata": {
  "kernelspec": {
   "display_name": "Python [conda env:anaconda]",
   "language": "python",
   "name": "conda-env-anaconda-py"
  },
  "language_info": {
   "codemirror_mode": {
    "name": "ipython",
    "version": 3
   },
   "file_extension": ".py",
   "mimetype": "text/x-python",
   "name": "python",
   "nbconvert_exporter": "python",
   "pygments_lexer": "ipython3",
   "version": "3.5.3"
  }
 },
 "nbformat": 4,
 "nbformat_minor": 2
}
