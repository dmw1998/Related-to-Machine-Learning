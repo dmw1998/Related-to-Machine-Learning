{
 "cells": [
  {
   "cell_type": "markdown",
   "metadata": {},
   "source": [
    "# tensorboard"
   ]
  },
  {
   "cell_type": "markdown",
   "metadata": {},
   "source": [
    "<a href=\"#Simple-operation-using-tf.constant\">Simple operation using tf.constant</a>\n",
    "\n",
    "<a href=\"#Generate-tensorboard\">Generate tensorboard</a>\n",
    "\n",
    "<a href=\"#Add-more-nodes-and-edges\">Add more nodes and edges</a>\n",
    "\n",
    "<a href=\"#Declare-scopes-where-some-scopes-are-not-working\">Declare scopes where some scopes are not working</a>\n",
    "\n",
    "<a href=\"#Declare-scopes-properly\">Declare scopes properly</a>\n",
    "\n",
    "<a href=\"#Declare-scopes-properly---Simplified-version\">Declare scopes properly - Simplified version</a>"
   ]
  },
  {
   "cell_type": "markdown",
   "metadata": {},
   "source": [
    "# Simple operation using tf.constant"
   ]
  },
  {
   "cell_type": "code",
   "execution_count": 1,
   "metadata": {},
   "outputs": [
    {
     "name": "stderr",
     "output_type": "stream",
     "text": [
      "/Users/sungchul/anaconda/lib/python3.5/importlib/_bootstrap.py:222: RuntimeWarning: compiletime version 3.6 of module 'tensorflow.python.framework.fast_tensor_util' does not match runtime version 3.5\n",
      "  return f(*args, **kwds)\n",
      "/Users/sungchul/anaconda/lib/python3.5/site-packages/h5py/__init__.py:34: FutureWarning: Conversion of the second argument of issubdtype from `float` to `np.floating` is deprecated. In future, it will be treated as `np.float64 == np.dtype(float).type`.\n",
      "  from ._conv import register_converters as _register_converters\n"
     ]
    },
    {
     "name": "stdout",
     "output_type": "stream",
     "text": [
      "Constant_a:0\n",
      "Constant_b:0\n",
      "Constant_c:0\n",
      "add:0\n",
      "[14.]\n"
     ]
    }
   ],
   "source": [
    "import tensorflow as tf\n",
    "\n",
    "a = tf.constant([2.], dtype=tf.float32, name='Constant_a')\n",
    "b = tf.constant([3.], dtype=tf.float32, name='Constant_b')\n",
    "c = tf.constant([4.], dtype=tf.float32, name='Constant_c')\n",
    "\n",
    "print(a.name)\n",
    "print(b.name)\n",
    "print(c.name)\n",
    "\n",
    "result = a + b * c\n",
    "\n",
    "print(result.name)\n",
    "\n",
    "with tf.Session() as Simple_Operation:\n",
    "    output = Simple_Operation.run(result)\n",
    "    print(output)"
   ]
  },
  {
   "cell_type": "markdown",
   "metadata": {},
   "source": [
    "[<a href=\"#tensorboard\">Back to top</a>]"
   ]
  },
  {
   "cell_type": "markdown",
   "metadata": {},
   "source": [
    "# Generate tensorboard"
   ]
  },
  {
   "cell_type": "code",
   "execution_count": 2,
   "metadata": {},
   "outputs": [
    {
     "name": "stdout",
     "output_type": "stream",
     "text": [
      "Constant_a_1:0\n",
      "Constant_b_1:0\n",
      "Constant_c_1:0\n",
      "add_1:0\n",
      "[14.]\n"
     ]
    }
   ],
   "source": [
    "import tensorflow as tf\n",
    "\n",
    "LOG_DIR = \"temp/logfiles\" # This line is changed\n",
    "\n",
    "a = tf.constant([2.], dtype=tf.float32, name='Constant_a')\n",
    "b = tf.constant([3.], dtype=tf.float32, name='Constant_b')\n",
    "c = tf.constant([4.], dtype=tf.float32, name='Constant_c')\n",
    "\n",
    "print(a.name)\n",
    "print(b.name)\n",
    "print(c.name)\n",
    "\n",
    "result = a + b * c\n",
    "\n",
    "print(result.name)\n",
    "\n",
    "with tf.Session() as Simple_Operation:\n",
    "    writer = tf.summary.FileWriter(LOG_DIR, Simple_Operation.graph) # This line is changed \n",
    "    output = Simple_Operation.run(result)\n",
    "    print(output)"
   ]
  },
  {
   "cell_type": "markdown",
   "metadata": {},
   "source": [
    "이제 다음 스텝을 통하여 텐서보드를 열 수 있다."
   ]
  },
  {
   "cell_type": "markdown",
   "metadata": {},
   "source": [
    "> 터미널을 이용 `LOG_DIR`로 이동\n",
    "\n",
    "> `$ tensorboard --logdir=./`\n",
    "\n",
    "> 크롬 주소창에 다음을 입력하고 엔터: `http://localhost:6006/`"
   ]
  },
  {
   "cell_type": "markdown",
   "metadata": {},
   "source": [
    "[<a href=\"#tensorboard\">Back to top</a>]"
   ]
  },
  {
   "cell_type": "markdown",
   "metadata": {},
   "source": [
    "# Add more nodes and edges"
   ]
  },
  {
   "cell_type": "code",
   "execution_count": 3,
   "metadata": {},
   "outputs": [
    {
     "name": "stdout",
     "output_type": "stream",
     "text": [
      "Constant_a_2:0\n",
      "Constant_b_2:0\n",
      "Constant_c_2:0\n",
      "add_2:0\n",
      "Constant_d:0\n",
      "Constant_e:0\n",
      "Constant_f:0\n",
      "add_3:0\n",
      "[14.]\n"
     ]
    }
   ],
   "source": [
    "import tensorflow as tf\n",
    "\n",
    "LOG_DIR = \"temp/logfiles\"\n",
    "\n",
    "a = tf.constant([2.], dtype=tf.float32, name='Constant_a')\n",
    "b = tf.constant([3.], dtype=tf.float32, name='Constant_b')\n",
    "c = tf.constant([4.], dtype=tf.float32, name='Constant_c')\n",
    "\n",
    "print(a.name)\n",
    "print(b.name)\n",
    "print(c.name)\n",
    "\n",
    "result = a + b * c\n",
    "\n",
    "print(result.name)\n",
    "\n",
    "d = tf.constant([2.1], dtype=tf.float32, name='Constant_d') # This line is changed \n",
    "e = tf.constant([3.1], dtype=tf.float32, name='Constant_e') # This line is changed \n",
    "f = tf.constant([4.1], dtype=tf.float32, name='Constant_f') # This line is changed \n",
    "\n",
    "print(d.name)\n",
    "print(e.name)\n",
    "print(f.name)\n",
    "\n",
    "result2 = d * e + f # This line is changed \n",
    "\n",
    "print(result2.name)\n",
    "\n",
    "with tf.Session() as Simple_Operation:\n",
    "    writer = tf.summary.FileWriter(LOG_DIR, Simple_Operation.graph)\n",
    "    output = Simple_Operation.run(result)\n",
    "    print(output)"
   ]
  },
  {
   "cell_type": "markdown",
   "metadata": {},
   "source": [
    "[<a href=\"#tensorboard\">Back to top</a>]"
   ]
  },
  {
   "cell_type": "markdown",
   "metadata": {},
   "source": [
    "# Declare scopes where some scopes are not working"
   ]
  },
  {
   "cell_type": "code",
   "execution_count": 4,
   "metadata": {},
   "outputs": [
    {
     "name": "stdout",
     "output_type": "stream",
     "text": [
      "Input_layer_1/Constant_a:0\n",
      "Input_layer_1/Constant_b:0\n",
      "Input_layer_1/Constant_c:0\n",
      "Input_layer_2/add:0\n",
      "Input_layer_3/Constant_d:0\n",
      "Input_layer_3/Constant_e:0\n",
      "Input_layer_3/Constant_f:0\n",
      "Input_layer_4/add:0\n",
      "[14.]\n"
     ]
    }
   ],
   "source": [
    "import tensorflow as tf\n",
    "\n",
    "LOG_DIR = \"temp/logfiles\"\n",
    "\n",
    "with tf.name_scope('Input_layer_1') as Input_layer_1: # This line is changed \n",
    "    a = tf.constant([2.], dtype=tf.float32, name='Constant_a') # This line is changed \n",
    "    b = tf.constant([3.], dtype=tf.float32, name='Constant_b') # This line is changed \n",
    "    c = tf.constant([4.], dtype=tf.float32, name='Constant_c') # This line is changed \n",
    "\n",
    "print(a.name)\n",
    "print(b.name)\n",
    "print(c.name)\n",
    "\n",
    "with tf.name_scope('Input_layer_2') as Input_layer_2: # This line is changed \n",
    "    result = a + b * c # This line is changed \n",
    "\n",
    "print(result.name)\n",
    "\n",
    "with tf.name_scope('Input_layer_3') as Input_layer_3: # This line is changed \n",
    "    d = tf.constant([2.1], dtype=tf.float32, name='Constant_d') # This line is changed\n",
    "    e = tf.constant([3.1], dtype=tf.float32, name='Constant_e') # This line is changed\n",
    "    f = tf.constant([4.1], dtype=tf.float32, name='Constant_f') # This line is changed\n",
    "\n",
    "print(d.name)\n",
    "print(e.name)\n",
    "print(f.name)\n",
    "\n",
    "with tf.name_scope('Input_layer_4') as Input_layer_4: # This line is changed \n",
    "    result2 = d * e + f # This line is changed \n",
    "\n",
    "print(result2.name)\n",
    "    \n",
    "with tf.Session() as Simple_Operation:\n",
    "    writer = tf.summary.FileWriter(LOG_DIR, Simple_Operation.graph)\n",
    "    output = Simple_Operation.run(result)\n",
    "    print(output)"
   ]
  },
  {
   "cell_type": "markdown",
   "metadata": {},
   "source": [
    "[<a href=\"#tensorboard\">Back to top</a>]"
   ]
  },
  {
   "cell_type": "markdown",
   "metadata": {},
   "source": [
    "# Declare scopes properly"
   ]
  },
  {
   "cell_type": "code",
   "execution_count": 5,
   "metadata": {},
   "outputs": [
    {
     "name": "stdout",
     "output_type": "stream",
     "text": [
      "Constant_a_3:0\n",
      "Constant_b_3:0\n",
      "Constant_c_3:0\n",
      "Input_layer_1_1/add:0\n",
      "Constant_d_1:0\n",
      "Constant_e_1:0\n",
      "Constant_f_1:0\n",
      "Input_layer_2_1/add:0\n",
      "[14.]\n"
     ]
    }
   ],
   "source": [
    "import tensorflow as tf\n",
    "\n",
    "LOG_DIR = \"temp/logfiles\"\n",
    "\n",
    "a = tf.constant([2.], dtype=tf.float32, name='Constant_a') # This line is changed \n",
    "b = tf.constant([3.], dtype=tf.float32, name='Constant_b') # This line is changed \n",
    "c = tf.constant([4.], dtype=tf.float32, name='Constant_c') # This line is changed \n",
    "\n",
    "print(a.name)\n",
    "print(b.name)\n",
    "print(c.name)\n",
    "\n",
    "with tf.name_scope('Input_layer_1') as Input_layer_1: # This line is changed \n",
    "    result = a + b * c\n",
    "    \n",
    "print(result.name)\n",
    "\n",
    "d = tf.constant([2.1], dtype=tf.float32, name='Constant_d') # This line is changed \n",
    "e = tf.constant([3.1], dtype=tf.float32, name='Constant_e') # This line is changed \n",
    "f = tf.constant([4.1], dtype=tf.float32, name='Constant_f') # This line is changed \n",
    "\n",
    "print(d.name)\n",
    "print(e.name)\n",
    "print(f.name)\n",
    "\n",
    "with tf.name_scope('Input_layer_2') as Input_layer_2: # This line is changed \n",
    "    result2 = d * e + f\n",
    "\n",
    "print(result2.name)\n",
    "    \n",
    "with tf.Session() as Simple_Operation:\n",
    "    writer = tf.summary.FileWriter(LOG_DIR, Simple_Operation.graph)\n",
    "    output = Simple_Operation.run(result)\n",
    "    print(output)"
   ]
  },
  {
   "cell_type": "markdown",
   "metadata": {},
   "source": [
    "[<a href=\"#tensorboard\">Back to top</a>]"
   ]
  },
  {
   "cell_type": "markdown",
   "metadata": {},
   "source": [
    "# Declare scopes properly - Simplified version"
   ]
  },
  {
   "cell_type": "code",
   "execution_count": 6,
   "metadata": {},
   "outputs": [
    {
     "name": "stdout",
     "output_type": "stream",
     "text": [
      "Constant_a_4:0\n",
      "Constant_b_4:0\n",
      "Constant_c_4:0\n",
      "Input_layer_1_2/add:0\n",
      "Constant_d_2:0\n",
      "Constant_e_2:0\n",
      "Constant_f_2:0\n",
      "Input_layer_2_2/add:0\n",
      "[14.]\n"
     ]
    }
   ],
   "source": [
    "import tensorflow as tf\n",
    "\n",
    "LOG_DIR = \"temp/logfiles\"\n",
    "\n",
    "a = tf.constant([2.], dtype=tf.float32, name='Constant_a')\n",
    "b = tf.constant([3.], dtype=tf.float32, name='Constant_b')\n",
    "c = tf.constant([4.], dtype=tf.float32, name='Constant_c')\n",
    "\n",
    "print(a.name)\n",
    "print(b.name)\n",
    "print(c.name)\n",
    "\n",
    "with tf.name_scope('Input_layer_1'): # This line is changed \n",
    "    result = a + b * c\n",
    "    \n",
    "print(result.name)\n",
    "\n",
    "d = tf.constant([2.1], dtype=tf.float32, name='Constant_d')\n",
    "e = tf.constant([3.1], dtype=tf.float32, name='Constant_e')\n",
    "f = tf.constant([4.1], dtype=tf.float32, name='Constant_f')\n",
    "\n",
    "print(d.name)\n",
    "print(e.name)\n",
    "print(f.name)\n",
    "\n",
    "with tf.name_scope('Input_layer_2'): # This line is changed \n",
    "    result2 = d * e + f\n",
    "\n",
    "print(result2.name)\n",
    "    \n",
    "with tf.Session() as Simple_Operation:\n",
    "    writer = tf.summary.FileWriter(LOG_DIR, Simple_Operation.graph)\n",
    "    output = Simple_Operation.run(result)\n",
    "    print(output)"
   ]
  },
  {
   "cell_type": "markdown",
   "metadata": {},
   "source": [
    "[<a href=\"#tensorboard\">Back to top</a>]"
   ]
  }
 ],
 "metadata": {
  "kernelspec": {
   "display_name": "Python [default]",
   "language": "python",
   "name": "python3"
  },
  "language_info": {
   "codemirror_mode": {
    "name": "ipython",
    "version": 3
   },
   "file_extension": ".py",
   "mimetype": "text/x-python",
   "name": "python",
   "nbconvert_exporter": "python",
   "pygments_lexer": "ipython3",
   "version": "3.5.3"
  }
 },
 "nbformat": 4,
 "nbformat_minor": 2
}
