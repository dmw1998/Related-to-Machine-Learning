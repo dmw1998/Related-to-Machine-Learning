{
 "cells": [
  {
   "cell_type": "markdown",
   "metadata": {},
   "source": [
    "# Tensors - Session"
   ]
  },
  {
   "cell_type": "markdown",
   "metadata": {},
   "source": [
    "TensorFlow - Tensors #2 by Roshan [youtube](https://www.youtube.com/watch?v=UHrRiHl0Kqg&t=1844s) [github](https://github.com/TwistedHardware/mltutorial/blob/master/notebooks/tf/2.%20Tensors.ipynb)"
   ]
  },
  {
   "cell_type": "markdown",
   "metadata": {},
   "source": [
    "# `tf.__version__`"
   ]
  },
  {
   "cell_type": "markdown",
   "metadata": {},
   "source": [
    "텐서플로어와 넘파이를 임포트하자."
   ]
  },
  {
   "cell_type": "code",
   "execution_count": 1,
   "metadata": {},
   "outputs": [
    {
     "name": "stderr",
     "output_type": "stream",
     "text": [
      "/Users/sungchul/anaconda/lib/python3.5/importlib/_bootstrap.py:222: RuntimeWarning: compiletime version 3.6 of module 'tensorflow.python.framework.fast_tensor_util' does not match runtime version 3.5\n",
      "  return f(*args, **kwds)\n",
      "/Users/sungchul/anaconda/lib/python3.5/site-packages/h5py/__init__.py:34: FutureWarning: Conversion of the second argument of issubdtype from `float` to `np.floating` is deprecated. In future, it will be treated as `np.float64 == np.dtype(float).type`.\n",
      "  from ._conv import register_converters as _register_converters\n"
     ]
    }
   ],
   "source": [
    "import tensorflow as tf\n",
    "import numpy as np\n",
    "import matplotlib.pyplot as plt\n",
    "\n",
    "%matplotlib inline"
   ]
  },
  {
   "cell_type": "markdown",
   "metadata": {},
   "source": [
    "랜덤넘버들을 이용할텐데 시드를 고정하자."
   ]
  },
  {
   "cell_type": "code",
   "execution_count": 2,
   "metadata": {
    "collapsed": true
   },
   "outputs": [],
   "source": [
    "np.random.seed(0)"
   ]
  },
  {
   "cell_type": "markdown",
   "metadata": {},
   "source": [
    "텐서플로어는 업데이트가 빨리되서 버젼을 확인하는 것이 좋다."
   ]
  },
  {
   "cell_type": "code",
   "execution_count": 3,
   "metadata": {},
   "outputs": [
    {
     "name": "stdout",
     "output_type": "stream",
     "text": [
      "1.8.0\n"
     ]
    }
   ],
   "source": [
    "if 1:\n",
    "    print(tf.__version__)\n",
    "elif 1:\n",
    "    print(tf.VERSION)    "
   ]
  },
  {
   "cell_type": "markdown",
   "metadata": {},
   "source": [
    "# Generating New Tensors"
   ]
  },
  {
   "cell_type": "markdown",
   "metadata": {},
   "source": [
    "```\n",
    "tf.zeros(\n",
    "    shape,\n",
    "    dtype=tf.float32,\n",
    "    name=None\n",
    ")\n",
    "```\n",
    "\n",
    "https://www.tensorflow.org/versions/r1.8/api_docs/python/tf/zeros"
   ]
  },
  {
   "cell_type": "markdown",
   "metadata": {},
   "source": [
    "```\n",
    "tf.ones(\n",
    "    shape,\n",
    "    dtype=tf.float32,\n",
    "    name=None\n",
    ")\n",
    "```\n",
    "\n",
    "https://www.tensorflow.org/versions/r1.8/api_docs/python/tf/ones"
   ]
  },
  {
   "cell_type": "code",
   "execution_count": 4,
   "metadata": {
    "collapsed": true
   },
   "outputs": [],
   "source": [
    "a = tf.zeros(())"
   ]
  },
  {
   "cell_type": "code",
   "execution_count": 5,
   "metadata": {},
   "outputs": [
    {
     "data": {
      "text/plain": [
       "<tf.Tensor 'zeros:0' shape=() dtype=float32>"
      ]
     },
     "execution_count": 5,
     "metadata": {},
     "output_type": "execute_result"
    }
   ],
   "source": [
    "a"
   ]
  },
  {
   "cell_type": "code",
   "execution_count": 6,
   "metadata": {},
   "outputs": [
    {
     "name": "stdout",
     "output_type": "stream",
     "text": [
      "()\n"
     ]
    }
   ],
   "source": [
    "if 1:\n",
    "    print(a.shape)\n",
    "elif 1:\n",
    "    print(a.dtype)\n",
    "elif 1:\n",
    "    print(a.name)    "
   ]
  },
  {
   "cell_type": "code",
   "execution_count": 7,
   "metadata": {},
   "outputs": [
    {
     "data": {
      "text/plain": [
       "0"
      ]
     },
     "execution_count": 7,
     "metadata": {},
     "output_type": "execute_result"
    }
   ],
   "source": [
    "a.shape.ndims"
   ]
  },
  {
   "cell_type": "code",
   "execution_count": 8,
   "metadata": {},
   "outputs": [
    {
     "name": "stdout",
     "output_type": "stream",
     "text": [
      "0.0\n"
     ]
    }
   ],
   "source": [
    "with tf.Session() as sess:\n",
    "    a_run = sess.run(a)\n",
    "    print(a_run)"
   ]
  },
  {
   "cell_type": "code",
   "execution_count": 9,
   "metadata": {
    "collapsed": true
   },
   "outputs": [],
   "source": [
    "if 1:\n",
    "    b = tf.zeros((3,), name=\"b\")\n",
    "elif 1:\n",
    "    b = tf.zeros((3), name=\"b\")"
   ]
  },
  {
   "cell_type": "code",
   "execution_count": 10,
   "metadata": {},
   "outputs": [
    {
     "data": {
      "text/plain": [
       "<tf.Tensor 'b:0' shape=(3,) dtype=float32>"
      ]
     },
     "execution_count": 10,
     "metadata": {},
     "output_type": "execute_result"
    }
   ],
   "source": [
    "b"
   ]
  },
  {
   "cell_type": "markdown",
   "metadata": {},
   "source": [
    "이름을 지정하지 않았으면 이름이 name=None을 이용 만든 함수이름을 따서 zeros가 되었을텐데,\n",
    "name=\"b\"을 이용 이름을 지정하였음으로 b가 되었네요."
   ]
  },
  {
   "cell_type": "code",
   "execution_count": 11,
   "metadata": {},
   "outputs": [
    {
     "data": {
      "text/plain": [
       "'b:0'"
      ]
     },
     "execution_count": 11,
     "metadata": {},
     "output_type": "execute_result"
    }
   ],
   "source": [
    "b.name"
   ]
  },
  {
   "cell_type": "code",
   "execution_count": 12,
   "metadata": {},
   "outputs": [
    {
     "name": "stdout",
     "output_type": "stream",
     "text": [
      "[0. 0. 0.]\n",
      "<class 'numpy.ndarray'>\n"
     ]
    }
   ],
   "source": [
    "with tf.Session() as sess:\n",
    "    b_run = sess.run(b)\n",
    "    print(b_run)\n",
    "    print(type(b_run))"
   ]
  },
  {
   "cell_type": "markdown",
   "metadata": {},
   "source": [
    "```\n",
    "tf.zeros_like(\n",
    "    tensor,\n",
    "    dtype=None,\n",
    "    name=None,\n",
    "    optimize=True\n",
    ")\n",
    "```\n",
    "\n",
    "https://www.tensorflow.org/versions/r1.8/api_docs/python/tf/zeros_like"
   ]
  },
  {
   "cell_type": "markdown",
   "metadata": {},
   "source": [
    "```\n",
    "tf.ones_like(\n",
    "    tensor,\n",
    "    dtype=None,\n",
    "    name=None,\n",
    "    optimize=True\n",
    ")\n",
    "```\n",
    "\n",
    "https://www.tensorflow.org/versions/r1.8/api_docs/python/tf/ones_like"
   ]
  },
  {
   "cell_type": "code",
   "execution_count": 13,
   "metadata": {
    "collapsed": true
   },
   "outputs": [],
   "source": [
    "A = tf.constant([[1, 2, 3], \n",
    "                 [4, 5, 6]])\n",
    "a = tf.zeros_like(A)"
   ]
  },
  {
   "cell_type": "code",
   "execution_count": 14,
   "metadata": {},
   "outputs": [
    {
     "name": "stdout",
     "output_type": "stream",
     "text": [
      "[[0 0 0]\n",
      " [0 0 0]]\n"
     ]
    }
   ],
   "source": [
    "with tf.Session() as sess:\n",
    "    print(sess.run(a))"
   ]
  },
  {
   "cell_type": "markdown",
   "metadata": {},
   "source": [
    "```\n",
    "tf.fill(\n",
    "    shape,\n",
    "    value,\n",
    "    name=None\n",
    ")\n",
    "```\n",
    "\n",
    "https://www.tensorflow.org/versions/r1.8/api_docs/python/tf/fill"
   ]
  },
  {
   "cell_type": "code",
   "execution_count": 15,
   "metadata": {
    "collapsed": true
   },
   "outputs": [],
   "source": [
    "c = tf.fill((2,2), 5)"
   ]
  },
  {
   "cell_type": "code",
   "execution_count": 16,
   "metadata": {},
   "outputs": [
    {
     "data": {
      "text/plain": [
       "<tf.Tensor 'Fill:0' shape=(2, 2) dtype=int32>"
      ]
     },
     "execution_count": 16,
     "metadata": {},
     "output_type": "execute_result"
    }
   ],
   "source": [
    "c"
   ]
  },
  {
   "cell_type": "code",
   "execution_count": 17,
   "metadata": {},
   "outputs": [
    {
     "data": {
      "text/plain": [
       "'Fill:0'"
      ]
     },
     "execution_count": 17,
     "metadata": {},
     "output_type": "execute_result"
    }
   ],
   "source": [
    "c.name"
   ]
  },
  {
   "cell_type": "code",
   "execution_count": 18,
   "metadata": {},
   "outputs": [
    {
     "data": {
      "text/plain": [
       "TensorShape([Dimension(2), Dimension(2)])"
      ]
     },
     "execution_count": 18,
     "metadata": {},
     "output_type": "execute_result"
    }
   ],
   "source": [
    "c.shape"
   ]
  },
  {
   "cell_type": "code",
   "execution_count": 19,
   "metadata": {},
   "outputs": [
    {
     "data": {
      "text/plain": [
       "2"
      ]
     },
     "execution_count": 19,
     "metadata": {},
     "output_type": "execute_result"
    }
   ],
   "source": [
    "c.shape.ndims"
   ]
  },
  {
   "cell_type": "code",
   "execution_count": 20,
   "metadata": {},
   "outputs": [
    {
     "data": {
      "text/plain": [
       "tf.int32"
      ]
     },
     "execution_count": 20,
     "metadata": {},
     "output_type": "execute_result"
    }
   ],
   "source": [
    "c.dtype"
   ]
  },
  {
   "cell_type": "code",
   "execution_count": 21,
   "metadata": {},
   "outputs": [
    {
     "name": "stdout",
     "output_type": "stream",
     "text": [
      "[[5 5]\n",
      " [5 5]]\n",
      "<class 'numpy.ndarray'>\n"
     ]
    }
   ],
   "source": [
    "with tf.Session() as sess:\n",
    "    c_run = sess.run(c)\n",
    "    print(c_run)\n",
    "    print(type(c_run))"
   ]
  },
  {
   "cell_type": "markdown",
   "metadata": {},
   "source": [
    "# Generating Tensors with Random Values"
   ]
  },
  {
   "cell_type": "markdown",
   "metadata": {},
   "source": [
    "```\n",
    "tf.random_normal(\n",
    "    shape,\n",
    "    mean=0.0,\n",
    "    stddev=1.0,\n",
    "    dtype=tf.float32,\n",
    "    seed=None,\n",
    "    name=None\n",
    ")\n",
    "```\n",
    "\n",
    "https://www.tensorflow.org/versions/r1.8/api_docs/python/tf/random_normal"
   ]
  },
  {
   "cell_type": "markdown",
   "metadata": {},
   "source": [
    "```\n",
    "tf.truncated_normal(\n",
    "    shape,\n",
    "    mean=0.0,\n",
    "    stddev=1.0,\n",
    "    dtype=tf.float32,\n",
    "    seed=None,\n",
    "    name=None\n",
    ")\n",
    "```\n",
    "\n",
    "https://www.tensorflow.org/versions/r1.8/api_docs/python/tf/truncated_normal"
   ]
  },
  {
   "cell_type": "markdown",
   "metadata": {},
   "source": [
    "```\n",
    "tf.random_uniform(\n",
    "    shape,\n",
    "    minval=0,\n",
    "    maxval=None,\n",
    "    dtype=tf.float32,\n",
    "    seed=None,\n",
    "    name=None\n",
    ")\n",
    "```\n",
    "\n",
    "https://www.tensorflow.org/versions/r1.8/api_docs/python/tf/random_uniform"
   ]
  },
  {
   "cell_type": "code",
   "execution_count": 22,
   "metadata": {
    "collapsed": true
   },
   "outputs": [],
   "source": [
    "x = tf.random_normal((1000,))"
   ]
  },
  {
   "cell_type": "code",
   "execution_count": 23,
   "metadata": {},
   "outputs": [
    {
     "data": {
      "image/png": "[encoded data removed]",
      "text/plain": [
       "<matplotlib.figure.Figure at 0x119747978>"
      ]
     },
     "metadata": {},
     "output_type": "display_data"
    }
   ],
   "source": [
    "with tf.Session() as sess:\n",
    "    x_run = sess.run(x)\n",
    "    plt.hist(x_run, bins=20)"
   ]
  },
  {
   "cell_type": "code",
   "execution_count": 24,
   "metadata": {
    "collapsed": true
   },
   "outputs": [],
   "source": [
    "x = tf.random_normal((1000,))\n",
    "x2 = tf.random_normal((1000,), mean=2.0)"
   ]
  },
  {
   "cell_type": "code",
   "execution_count": 25,
   "metadata": {},
   "outputs": [
    {
     "data": {
      "image/png": "[encoded data removed]",
      "text/plain": [
       "<matplotlib.figure.Figure at 0x1197d1898>"
      ]
     },
     "metadata": {},
     "output_type": "display_data"
    }
   ],
   "source": [
    "with tf.Session() as sess:\n",
    "    x_run, x2_run = sess.run([x,x2])\n",
    "    plt.hist(x_run, bins=20, label=\"mean 0\")\n",
    "    plt.hist(x2_run, bins=20, label=\"mean 2\")\n",
    "    plt.legend()"
   ]
  },
  {
   "cell_type": "code",
   "execution_count": 26,
   "metadata": {
    "collapsed": true
   },
   "outputs": [],
   "source": [
    "x = tf.random_normal((1000,))\n",
    "x2 = tf.random_normal((1000,), stddev=2.0)"
   ]
  },
  {
   "cell_type": "code",
   "execution_count": 27,
   "metadata": {},
   "outputs": [
    {
     "data": {
      "image/png": "[encoded data removed]",
      "text/plain": [
       "<matplotlib.figure.Figure at 0x119829278>"
      ]
     },
     "metadata": {},
     "output_type": "display_data"
    }
   ],
   "source": [
    "with tf.Session() as sess:\n",
    "    x_run, x2_run = sess.run([x,x2])\n",
    "    plt.hist(x_run, bins=20, label=\"std 0\", normed=True)\n",
    "    plt.hist(x2_run, bins=20, label=\"std 2\", normed=True)\n",
    "    plt.legend()"
   ]
  },
  {
   "cell_type": "code",
   "execution_count": 28,
   "metadata": {
    "collapsed": true
   },
   "outputs": [],
   "source": [
    "x = tf.truncated_normal((1000,))"
   ]
  },
  {
   "cell_type": "code",
   "execution_count": 29,
   "metadata": {},
   "outputs": [
    {
     "data": {
      "image/png": "[encoded data removed]",
      "text/plain": [
       "<matplotlib.figure.Figure at 0x119858358>"
      ]
     },
     "metadata": {},
     "output_type": "display_data"
    }
   ],
   "source": [
    "with tf.Session() as sess:\n",
    "    x_run = sess.run(x)\n",
    "    plt.hist(x_run, bins=20)"
   ]
  },
  {
   "cell_type": "code",
   "execution_count": 30,
   "metadata": {
    "collapsed": true
   },
   "outputs": [],
   "source": [
    "x = tf.random_uniform((1000,))"
   ]
  },
  {
   "cell_type": "code",
   "execution_count": 31,
   "metadata": {},
   "outputs": [
    {
     "data": {
      "image/png": "[encoded data removed]",
      "text/plain": [
       "<matplotlib.figure.Figure at 0x119bceb00>"
      ]
     },
     "metadata": {},
     "output_type": "display_data"
    }
   ],
   "source": [
    "with tf.Session() as sess:\n",
    "    x_run = sess.run(x)\n",
    "    plt.hist(x_run, bins=20)"
   ]
  },
  {
   "cell_type": "markdown",
   "metadata": {},
   "source": [
    "```\n",
    "tf.random_shuffle(\n",
    "    value,\n",
    "    seed=None,\n",
    "    name=None\n",
    ")\n",
    "```\n",
    "\n",
    "https://www.tensorflow.org/api_docs/python/tf/random_shuffle"
   ]
  },
  {
   "cell_type": "code",
   "execution_count": 32,
   "metadata": {
    "collapsed": true
   },
   "outputs": [],
   "source": [
    "a = tf.random_shuffle([1, 2, 3, 4, 5, 6])"
   ]
  },
  {
   "cell_type": "code",
   "execution_count": 33,
   "metadata": {},
   "outputs": [
    {
     "name": "stdout",
     "output_type": "stream",
     "text": [
      "[1 2 5 3 6 4]\n"
     ]
    }
   ],
   "source": [
    "with tf.Session() as sess:\n",
    "    print(sess.run(a))"
   ]
  },
  {
   "cell_type": "code",
   "execution_count": 34,
   "metadata": {
    "collapsed": true
   },
   "outputs": [],
   "source": [
    "a = tf.random_shuffle([1, 2, 3, 4, 5, 6])[0]"
   ]
  },
  {
   "cell_type": "code",
   "execution_count": 35,
   "metadata": {},
   "outputs": [
    {
     "name": "stdout",
     "output_type": "stream",
     "text": [
      "1\n"
     ]
    }
   ],
   "source": [
    "with tf.Session() as sess:\n",
    "    print(sess.run(a))"
   ]
  },
  {
   "cell_type": "markdown",
   "metadata": {},
   "source": [
    "```\n",
    "tf.multinomial(\n",
    "    logits,\n",
    "    num_samples,\n",
    "    seed=None,\n",
    "    name=None,\n",
    "    output_dtype=None\n",
    ")\n",
    "```\n",
    "\n",
    "https://www.tensorflow.org/versions/r1.8/api_docs/python/tf/multinomial"
   ]
  },
  {
   "cell_type": "code",
   "execution_count": 36,
   "metadata": {
    "collapsed": true
   },
   "outputs": [],
   "source": [
    "a = tf.multinomial(\n",
    "    logits=[[1.,2.,2.,0.5]],\n",
    "    num_samples=10,\n",
    "    seed=1,\n",
    "    name='Mutinomial_Samples',\n",
    "    output_dtype=tf.int32\n",
    ")"
   ]
  },
  {
   "cell_type": "code",
   "execution_count": 37,
   "metadata": {},
   "outputs": [
    {
     "name": "stdout",
     "output_type": "stream",
     "text": [
      "[[2 1 2 2 1 1 1 1 2 1]]\n"
     ]
    }
   ],
   "source": [
    "with tf.Session() as sess:\n",
    "    print(sess.run(a))"
   ]
  },
  {
   "cell_type": "markdown",
   "metadata": {},
   "source": [
    "# Generating Tensors with Sequence Values"
   ]
  },
  {
   "cell_type": "markdown",
   "metadata": {},
   "source": [
    "```\n",
    "tf.range(limit, delta=1, dtype=None, name='range')\n",
    "tf.range(start, limit, delta=1, dtype=None, name='range')\n",
    "```\n",
    "\n",
    "https://www.tensorflow.org/versions/r1.8/api_docs/python/tf/range"
   ]
  },
  {
   "cell_type": "code",
   "execution_count": 38,
   "metadata": {
    "collapsed": true
   },
   "outputs": [],
   "source": [
    "if 1:\n",
    "    x = tf.range(5)\n",
    "elif 1:\n",
    "    x = tf.range(0, 5)"
   ]
  },
  {
   "cell_type": "code",
   "execution_count": 39,
   "metadata": {},
   "outputs": [
    {
     "name": "stdout",
     "output_type": "stream",
     "text": [
      "Tensor(\"range:0\", shape=(5,), dtype=int32)\n",
      "[0 1 2 3 4]\n"
     ]
    }
   ],
   "source": [
    "with tf.Session() as sess:\n",
    "    x_run = sess.run(x)\n",
    "    print(x)\n",
    "    print(x_run)"
   ]
  },
  {
   "cell_type": "code",
   "execution_count": 40,
   "metadata": {
    "collapsed": true
   },
   "outputs": [],
   "source": [
    "x = tf.range(0, 5, 2)"
   ]
  },
  {
   "cell_type": "code",
   "execution_count": 41,
   "metadata": {},
   "outputs": [
    {
     "name": "stdout",
     "output_type": "stream",
     "text": [
      "Tensor(\"range_1:0\", shape=(3,), dtype=int32)\n",
      "[0 2 4]\n"
     ]
    }
   ],
   "source": [
    "with tf.Session() as sess:\n",
    "    x_run = sess.run(x)\n",
    "    print(x)\n",
    "    print(x_run)"
   ]
  },
  {
   "cell_type": "markdown",
   "metadata": {},
   "source": [
    "```\n",
    "tf.linspace(\n",
    "    start [float],\n",
    "    stop_included [float],\n",
    "    number_points_generated [int],\n",
    "    name=None\n",
    ")\n",
    "```\n",
    "\n",
    "https://www.tensorflow.org/api_docs/python/tf/lin_space"
   ]
  },
  {
   "cell_type": "code",
   "execution_count": 42,
   "metadata": {
    "collapsed": true
   },
   "outputs": [],
   "source": [
    "if 0:\n",
    "    # TypeError: \n",
    "    # Value passed to parameter 'start' has DataType int32 \n",
    "    # not in list of allowed values: bfloat16, float32, float64\n",
    "    a = tf.linspace(1, 10, 10) \n",
    "elif 1:\n",
    "    a = tf.linspace(1., 10., 10)"
   ]
  },
  {
   "cell_type": "code",
   "execution_count": 43,
   "metadata": {},
   "outputs": [
    {
     "name": "stdout",
     "output_type": "stream",
     "text": [
      "[ 1.  2.  3.  4.  5.  6.  7.  8.  9. 10.]\n"
     ]
    }
   ],
   "source": [
    "with tf.Session() as sess:\n",
    "    print(sess.run(a))"
   ]
  },
  {
   "cell_type": "markdown",
   "metadata": {},
   "source": [
    "# Reshaping Tensors"
   ]
  },
  {
   "cell_type": "markdown",
   "metadata": {},
   "source": [
    "```\n",
    "tf.reshape(\n",
    "    tensor,\n",
    "    shape,\n",
    "    name=None\n",
    ")\n",
    "```\n",
    "\n",
    "https://www.tensorflow.org/versions/r1.8/api_docs/python/tf/reshape"
   ]
  },
  {
   "cell_type": "code",
   "execution_count": 44,
   "metadata": {
    "collapsed": true
   },
   "outputs": [],
   "source": [
    "a = tf.range(6)\n",
    "b = tf.reshape(a, (3,2))"
   ]
  },
  {
   "cell_type": "code",
   "execution_count": 45,
   "metadata": {},
   "outputs": [
    {
     "name": "stdout",
     "output_type": "stream",
     "text": [
      "Reshape:0\n",
      "(3, 2)\n"
     ]
    }
   ],
   "source": [
    "print(b.name)\n",
    "print(b.shape)"
   ]
  },
  {
   "cell_type": "markdown",
   "metadata": {},
   "source": [
    "# tf.constant"
   ]
  },
  {
   "cell_type": "markdown",
   "metadata": {},
   "source": [
    "```\n",
    "tf.constant(\n",
    "    value,\n",
    "    dtype=None,\n",
    "    shape=None,\n",
    "    name='Const',\n",
    "    verify_shape=False\n",
    ")\n",
    "```\n",
    "\n",
    "https://www.tensorflow.org/api_docs/python/tf/constant"
   ]
  },
  {
   "cell_type": "code",
   "execution_count": 46,
   "metadata": {},
   "outputs": [
    {
     "name": "stdout",
     "output_type": "stream",
     "text": [
      "Tensor(\"Const_1:0\", shape=(), dtype=int32)\n"
     ]
    }
   ],
   "source": [
    "a = tf.constant(1)\n",
    "print(a)"
   ]
  },
  {
   "cell_type": "markdown",
   "metadata": {},
   "source": [
    "a는 텐서인데 이름이 Const:0예요.\n",
    "tf.constant를 이용해서 만들었다고 Const라고 텐서플로어가 `name='Const'`을 이용 이름을 자동으로 만들어 준 거에요.\n",
    "0은 0번째 레이어를 의미합니다."
   ]
  },
  {
   "cell_type": "code",
   "execution_count": 47,
   "metadata": {},
   "outputs": [
    {
     "name": "stdout",
     "output_type": "stream",
     "text": [
      "Tensor(\"Const_2:0\", shape=(), dtype=int32)\n"
     ]
    }
   ],
   "source": [
    "b = tf.constant(2)\n",
    "print(b) "
   ]
  },
  {
   "cell_type": "markdown",
   "metadata": {},
   "source": [
    "b도 텐서인데 이름이 Const_1:0이네요.\n",
    "tf.constant를 이용해서 만들었다고 Const라고 한거고,\n",
    "0은 0번째 레이어를 의미합니다.\n",
    "_1은 두번째로 만들었다는 것이겠죠.\n",
    "같은 형식으로 하나 더 만들어 볼까요. "
   ]
  },
  {
   "cell_type": "code",
   "execution_count": 48,
   "metadata": {},
   "outputs": [
    {
     "name": "stdout",
     "output_type": "stream",
     "text": [
      "Tensor(\"Const_3:0\", shape=(), dtype=int32)\n"
     ]
    }
   ],
   "source": [
    "c = tf.constant(3)\n",
    "print(c) "
   ]
  },
  {
   "cell_type": "markdown",
   "metadata": {},
   "source": [
    "이름이 예상되로 Const_2:0가 나오네요. \n",
    "이름을 작의로 주어서 하나 더 만들어 봅시다."
   ]
  },
  {
   "cell_type": "code",
   "execution_count": 49,
   "metadata": {},
   "outputs": [
    {
     "name": "stdout",
     "output_type": "stream",
     "text": [
      "Tensor(\"constant:0\", shape=(), dtype=int32)\n"
     ]
    }
   ],
   "source": [
    "d = tf.constant(4, name='constant')\n",
    "print(d) "
   ]
  },
  {
   "cell_type": "markdown",
   "metadata": {},
   "source": [
    "이름이 저가 작명한 constant가 되었고, 아직도 이 텐서는 레이어 0에 배치되어 있네요. "
   ]
  },
  {
   "cell_type": "code",
   "execution_count": 50,
   "metadata": {
    "collapsed": true
   },
   "outputs": [],
   "source": [
    "a = tf.constant(0.1)\n",
    "b = tf.constant(0.1, shape=(   ))\n",
    "c = tf.constant(0.1, shape=(2, ))\n",
    "d = tf.constant(0.1, shape=(2,2))"
   ]
  },
  {
   "cell_type": "markdown",
   "metadata": {},
   "source": [
    "추가로 shape을 지정할 수 있어요. "
   ]
  },
  {
   "cell_type": "code",
   "execution_count": 51,
   "metadata": {},
   "outputs": [
    {
     "name": "stdout",
     "output_type": "stream",
     "text": [
      "0.1\n",
      "0.1\n",
      "[0.1 0.1]\n",
      "[[0.1 0.1]\n",
      " [0.1 0.1]]\n"
     ]
    }
   ],
   "source": [
    "with tf.Session() as sess:\n",
    "    print(sess.run(a))\n",
    "    print(sess.run(b))\n",
    "    print(sess.run(c))\n",
    "    print(sess.run(d))"
   ]
  },
  {
   "cell_type": "markdown",
   "metadata": {},
   "source": [
    "# tf.add"
   ]
  },
  {
   "cell_type": "markdown",
   "metadata": {},
   "source": [
    "```\n",
    "tf.add(\n",
    "    x,\n",
    "    y,\n",
    "    name=None\n",
    ")\n",
    "```\n",
    "\n",
    "https://www.tensorflow.org/versions/r1.8/api_docs/python/tf/add"
   ]
  },
  {
   "cell_type": "code",
   "execution_count": 52,
   "metadata": {},
   "outputs": [
    {
     "name": "stdout",
     "output_type": "stream",
     "text": [
      "Tensor(\"add:0\", shape=(), dtype=float32)\n"
     ]
    }
   ],
   "source": [
    "if 1:\n",
    "    e = a + b \n",
    "elif 1:\n",
    "    e = tf.add(a, b)\n",
    "print(e)"
   ]
  },
  {
   "cell_type": "markdown",
   "metadata": {},
   "source": [
    "e는 텐서인데 이름이 add:0네요.\n",
    "tf.add를 이용해서 만들었다고 add라고 텐서플로어가 `name=None`을 이용 이름을 자동으로 만들어 준 거에요.\n",
    "0은 0번째 레이어를 의미합니다."
   ]
  },
  {
   "cell_type": "code",
   "execution_count": 53,
   "metadata": {},
   "outputs": [
    {
     "name": "stdout",
     "output_type": "stream",
     "text": [
      "Tensor(\"Const_4:0\", shape=(), dtype=float32)\n",
      "Tensor(\"Const_5:0\", shape=(), dtype=float32)\n",
      "Tensor(\"add:0\", shape=(), dtype=float32)\n"
     ]
    }
   ],
   "source": [
    "with tf.Session() as sess:\n",
    "    print(a) \n",
    "    print(b) \n",
    "    print(e)"
   ]
  },
  {
   "cell_type": "code",
   "execution_count": 54,
   "metadata": {},
   "outputs": [
    {
     "name": "stdout",
     "output_type": "stream",
     "text": [
      "0.1 0.1 0.2\n"
     ]
    }
   ],
   "source": [
    "with tf.Session() as sess:\n",
    "    a_run, b_run, e_run = sess.run([a, b, e]) \n",
    "    print(a_run, b_run, e_run)"
   ]
  },
  {
   "cell_type": "markdown",
   "metadata": {},
   "source": [
    "# 두 숫자 더하기"
   ]
  },
  {
   "cell_type": "markdown",
   "metadata": {},
   "source": [
    "위의 과정을 종합하면, 1+2를 계산하는 텐서플로어 코드는 다음과 같다."
   ]
  },
  {
   "cell_type": "code",
   "execution_count": 55,
   "metadata": {},
   "outputs": [
    {
     "name": "stdout",
     "output_type": "stream",
     "text": [
      "3\n"
     ]
    }
   ],
   "source": [
    "import tensorflow as tf\n",
    "\n",
    "a = tf.constant(1)\n",
    "b = tf.constant(2)\n",
    "c = a + b \n",
    "\n",
    "with tf.Session() as sess:\n",
    "    c_run = sess.run(c) \n",
    "    print(c_run)"
   ]
  },
  {
   "cell_type": "markdown",
   "metadata": {},
   "source": [
    "# tf.placeholder"
   ]
  },
  {
   "cell_type": "markdown",
   "metadata": {},
   "source": [
    "```\n",
    "tf.placeholder(\n",
    "    dtype,\n",
    "    shape=None,\n",
    "    name=None\n",
    ")\n",
    "```\n",
    "\n",
    "https://www.tensorflow.org/api_docs/python/tf/placeholder"
   ]
  },
  {
   "cell_type": "markdown",
   "metadata": {},
   "source": [
    "함수와 같이 1과 2이라는 데이타를 나중에 제공하여 계산할 수 도 있다.\n",
    "이 때 사용하는 것이 tf.placeholder이다. \n",
    "```\n",
    "a = tf.placeholder(tf.int32)\n",
    "b = tf.placeholder(tf.int32)\n",
    "```\n",
    "이렀게 나중에 데이타를 집어넣을 자리를 만든다.\n",
    "\n",
    "세션을 돌릴때, a에는 1, b에는 2를 딕션너리 형식으로 feed_dick에 다음과 같이 어싸인한다. \n",
    "```\n",
    "feed_dict={a:1, b:2}\n",
    "```"
   ]
  },
  {
   "cell_type": "code",
   "execution_count": 56,
   "metadata": {},
   "outputs": [
    {
     "name": "stdout",
     "output_type": "stream",
     "text": [
      "5\n"
     ]
    }
   ],
   "source": [
    "import tensorflow as tf\n",
    "\n",
    "a = tf.placeholder(tf.int32)\n",
    "b = tf.placeholder(tf.int32)\n",
    "    \n",
    "c = a + b \n",
    "\n",
    "with tf.Session() as sess:\n",
    "    c_run = sess.run(c, feed_dict={a:2, b:3}) \n",
    "    print(c_run)"
   ]
  },
  {
   "cell_type": "markdown",
   "metadata": {},
   "source": [
    "# Hello, TensorFlow! 프린트 하기"
   ]
  },
  {
   "cell_type": "code",
   "execution_count": 57,
   "metadata": {},
   "outputs": [
    {
     "name": "stdout",
     "output_type": "stream",
     "text": [
      "b'Hello, TensorFlow!'\n"
     ]
    }
   ],
   "source": [
    "import tensorflow as tf\n",
    "\n",
    "a = tf.constant('Hello, TensorFlow!')\n",
    "\n",
    "with tf.Session() as sess:\n",
    "    print(sess.run(a))"
   ]
  },
  {
   "cell_type": "markdown",
   "metadata": {},
   "source": [
    "sess.run(a)는 bytestring을 리턴한다.\n",
    "```\n",
    "b'Hello, TensorFlow!'\n",
    "```\n",
    "여기서 b는 bytestring을 의미한다.\n",
    "bytestring이어야 다른 작업들을 효율적으로 처리할 수 있겠죠."
   ]
  },
  {
   "cell_type": "markdown",
   "metadata": {},
   "source": [
    "##### string vs bytestring\n",
    "\n",
    "Assuming Python 3 (in Python 2, this difference is a little less well-defined) - a string is a sequence of characters, ie unicode codepoints; these are an abstract concept, and can't be directly stored on disk. A byte string is a sequence of, unsurprisingly, bytes - things that can be stored on disk. The mapping between them is an encoding - there are quite a lot of these (and infinitely many are possible) - and you need to know which applies in the particular case in order to do the conversion, since a different encoding may map the same bytes to a different string\n",
    "\n",
    "https://stackoverflow.com/questions/6224052/what-is-the-difference-between-a-string-and-a-byte-string"
   ]
  },
  {
   "cell_type": "markdown",
   "metadata": {},
   "source": [
    "> encode(): string ---> bytestring\n",
    "\n",
    "> decode(): bytestring ---> string"
   ]
  },
  {
   "cell_type": "markdown",
   "metadata": {},
   "source": [
    "bytestring을 bytestring으로 바꾸려면 decode method를 쓰면 된다."
   ]
  },
  {
   "cell_type": "code",
   "execution_count": 58,
   "metadata": {},
   "outputs": [
    {
     "name": "stdout",
     "output_type": "stream",
     "text": [
      "Hello, TensorFlow!\n"
     ]
    }
   ],
   "source": [
    "import tensorflow as tf\n",
    "\n",
    "a = tf.constant('Hello, TensorFlow!')\n",
    "\n",
    "with tf.Session() as sess:\n",
    "    print(sess.run(a).decode())"
   ]
  },
  {
   "cell_type": "markdown",
   "metadata": {},
   "source": [
    "# tf.rank"
   ]
  },
  {
   "cell_type": "markdown",
   "metadata": {},
   "source": [
    "```\n",
    "tf.rank(\n",
    "    input,\n",
    "    name=None\n",
    ")\n",
    "```\n",
    "\n",
    "https://www.tensorflow.org/versions/r1.8/api_docs/python/tf/rank"
   ]
  },
  {
   "cell_type": "markdown",
   "metadata": {},
   "source": [
    "텐서플로어에서 이야기하는 rank는 선형대수에서 이야기하는 랭크와는 전혀 다른 개념이다.\n",
    "숫자는 rank 0, 벡터는 rank 1, 흙백사진은 rank 2, 칼라사진은 rank 3, 칼라사진을 여러장 모아놓은 데이타셋은 rank 4이다."
   ]
  },
  {
   "cell_type": "code",
   "execution_count": 59,
   "metadata": {
    "collapsed": true
   },
   "outputs": [],
   "source": [
    "if 0:\n",
    "    # rank 0\n",
    "    a = tf.constant(3.14)\n",
    "elif 0:\n",
    "    # rank 1\n",
    "    a = tf.constant(np.random.randn(6))\n",
    "elif 0:\n",
    "    # rank 2\n",
    "    a = tf.constant(np.random.randn(2,3))\n",
    "elif 0:\n",
    "    # rank 3\n",
    "    a = tf.constant(np.random.randn(1,2,3))\n",
    "elif 1:\n",
    "    # rank 4\n",
    "    a = tf.constant(np.random.randn(1,1,2,3))"
   ]
  },
  {
   "cell_type": "code",
   "execution_count": 60,
   "metadata": {},
   "outputs": [
    {
     "name": "stdout",
     "output_type": "stream",
     "text": [
      "[[[[ 1.76405235  0.40015721  0.97873798]\n",
      "   [ 2.2408932   1.86755799 -0.97727788]]]]\n",
      "4\n"
     ]
    }
   ],
   "source": [
    "a_rank = tf.rank(a)\n",
    "\n",
    "with tf.Session() as sess:\n",
    "    a_run, a_rank_run = sess.run([a, a_rank])\n",
    "    print(a_run)\n",
    "    print(a_rank_run)"
   ]
  },
  {
   "cell_type": "markdown",
   "metadata": {},
   "source": [
    "```\n",
    "[[[[ 1.76405235  0.40015721  0.97873798]\n",
    "   [ 2.2408932   1.86755799 -0.97727788]]]]\n",
    "```\n",
    "이 아웃풋의 왼쪽 꺽쇠의 개수가 4이고, 마찬가지로 오른 꺽쇠의 개수가 4이다.\n",
    "따라서 이것은 rank 4이다."
   ]
  },
  {
   "cell_type": "markdown",
   "metadata": {},
   "source": [
    "# tf.shape"
   ]
  },
  {
   "cell_type": "markdown",
   "metadata": {},
   "source": [
    "```\n",
    "tf.shape(\n",
    "    input,\n",
    "    name=None,\n",
    "    out_type=tf.int32\n",
    ")\n",
    "```\n",
    "\n",
    "https://www.tensorflow.org/api_docs/python/tf/shape"
   ]
  },
  {
   "cell_type": "code",
   "execution_count": 61,
   "metadata": {},
   "outputs": [
    {
     "name": "stdout",
     "output_type": "stream",
     "text": [
      "(1, 1, 2, 3)\n",
      "[[[[ 1.76405235  0.40015721  0.97873798]\n",
      "   [ 2.2408932   1.86755799 -0.97727788]]]]\n",
      "[1 1 2 3]\n"
     ]
    }
   ],
   "source": [
    "print(a.shape)\n",
    "\n",
    "a_shape = tf.shape(a)\n",
    "\n",
    "with tf.Session() as sess:\n",
    "    a_run, a_shape_run = sess.run([a, a_shape])\n",
    "    print(a_run)\n",
    "    print(a_shape_run)"
   ]
  },
  {
   "cell_type": "markdown",
   "metadata": {},
   "source": [
    "# tf.matmul vs tf.multiply"
   ]
  },
  {
   "cell_type": "markdown",
   "metadata": {},
   "source": [
    "```\n",
    "tf.matmul(\n",
    "    a,\n",
    "    b,\n",
    "    transpose_a=False,\n",
    "    transpose_b=False,\n",
    "    adjoint_a=False,\n",
    "    adjoint_b=False,\n",
    "    a_is_sparse=False,\n",
    "    b_is_sparse=False,\n",
    "    name=None\n",
    ")\n",
    "```\n",
    "\n",
    "https://www.tensorflow.org/versions/r1.8/api_docs/python/tf/matmul"
   ]
  },
  {
   "cell_type": "markdown",
   "metadata": {},
   "source": [
    "```\n",
    "tf.multiply(\n",
    "    x,\n",
    "    y,\n",
    "    name=None\n",
    ")\n",
    "```\n",
    "\n",
    "https://www.tensorflow.org/versions/r1.8/api_docs/python/tf/multiply"
   ]
  },
  {
   "cell_type": "markdown",
   "metadata": {},
   "source": [
    "<div align=\"center\"><img src=\"img/Matrix_multiplication_diagram.svg\" width=\"20%\" height=\"10%\"></div>\n",
    "\n",
    "https://upload.wikimedia.org/wikipedia/commons/1/11/Matrix_multiplication_diagram.svg"
   ]
  },
  {
   "cell_type": "markdown",
   "metadata": {},
   "source": [
    "<div align=\"center\"><img src=\"img/Screen Shot 2018-02-27 at 오후 10.38.55.png\" width=\"50%\"></div>\n",
    "\n",
    "https://stackoverflow.com/questions/47583501/tf-multiply-vs-tf-matmul-to-calculate-the-dot-product"
   ]
  },
  {
   "cell_type": "markdown",
   "metadata": {},
   "source": [
    "랭크가 일치하면 행렬곱을 수행할 수 있다.\n",
    "만약 랭크가 일치하지 않으면, 행렬곱을 수행할 때 에러가 발생한다."
   ]
  },
  {
   "cell_type": "code",
   "execution_count": 62,
   "metadata": {
    "collapsed": true
   },
   "outputs": [],
   "source": [
    "if 0:\n",
    "    # shape: (3,3)*(3,3)=(3,3)\n",
    "    a = tf.constant([[1., 1., 1.], [2., 2., 2.], [3., 3., 3.]], dtype=tf.float32) # rank 2\n",
    "    b = tf.constant([[1., 1., 1.], [1., 1., 1.], [1., 1., 1.]], dtype=tf.float32) # rank 2                                                           # rank 2\n",
    "elif 0:\n",
    "    # shape: (3,3)*(3,1)=(3,1)\n",
    "    a = tf.constant([[1., 1., 1.], [2., 2., 2.], [3., 3., 3.]], dtype=tf.float32) # rank 2\n",
    "    b = tf.constant([[1.], [1.], [1.]], dtype=tf.float32)                         # rank 2\n",
    "elif 0:\n",
    "    # shape: (1,3)*(3,3)=(1,3)\n",
    "    a = tf.constant([[2., 2., 2.]], dtype=tf.float32)                             # rank 2\n",
    "    b = tf.constant([[1., 1., 1.], [1., 1., 1.], [1., 1., 1.]], dtype=tf.float32) # rank 2\n",
    "elif 1:                             \n",
    "    # shape: (1,3)*(3,1)=(1,1)                                                  \n",
    "    a = tf.constant([[2., 2., 2.]], dtype=tf.float32)                             # rank 2\n",
    "    b = tf.constant([[1.], [1.], [1.]], dtype=tf.float32)                         # rank 2\n",
    "elif 1:\n",
    "    # 랭크가 일치하지 않아서, 행렬곱을 수행할 때 에러가 발생한다.\n",
    "    a = tf.constant([2., 2., 2.], dtype=tf.float32)                               # rank 1\n",
    "    b = tf.constant([[1., 1., 1.], [1., 1., 1.], [1., 1., 1.]], dtype=tf.float32) # rank 2\n",
    "elif 1:\n",
    "    # 랭크가 일치하지 않아서, 행렬곱을 수행할 때 에러가 발생한다.\n",
    "    a = tf.constant([[1.], [2.], [3.]], dtype=tf.float32)                         # rank 2\n",
    "    b = tf.constant([1.], dtype=tf.float32)                                       # rank 1"
   ]
  },
  {
   "cell_type": "code",
   "execution_count": 63,
   "metadata": {
    "collapsed": true
   },
   "outputs": [],
   "source": [
    "c = tf.matmul(a, b)                                                          "
   ]
  },
  {
   "cell_type": "code",
   "execution_count": 64,
   "metadata": {},
   "outputs": [
    {
     "name": "stdout",
     "output_type": "stream",
     "text": [
      "[[2. 2. 2.]]\n",
      "[[1.]\n",
      " [1.]\n",
      " [1.]]\n",
      "[[6.]]\n"
     ]
    }
   ],
   "source": [
    "with tf.Session() as sess:\n",
    "    a_run, b_run, c_run = sess.run([a, b, c])\n",
    "    print(a_run)\n",
    "    print(b_run)\n",
    "    print(c_run)"
   ]
  },
  {
   "cell_type": "code",
   "execution_count": 65,
   "metadata": {
    "collapsed": true
   },
   "outputs": [],
   "source": [
    "if 1: \n",
    "    a = tf.constant([[2]])\n",
    "elif 1: \n",
    "    a = tf.constant([2])\n",
    "elif 1: \n",
    "    a = tf.constant(2)    \n",
    "b = tf.constant([[1, 0],\n",
    "                 [0, 1],\n",
    "                 [1, 1]])"
   ]
  },
  {
   "cell_type": "code",
   "execution_count": 66,
   "metadata": {
    "collapsed": true
   },
   "outputs": [],
   "source": [
    "c = tf.multiply(a, b)"
   ]
  },
  {
   "cell_type": "code",
   "execution_count": 67,
   "metadata": {},
   "outputs": [
    {
     "name": "stdout",
     "output_type": "stream",
     "text": [
      "[[2]]\n",
      "[[1 0]\n",
      " [0 1]\n",
      " [1 1]]\n",
      "[[2 0]\n",
      " [0 2]\n",
      " [2 2]]\n"
     ]
    }
   ],
   "source": [
    "with tf.Session() as sess:\n",
    "    a_run, b_run, c_run = sess.run([a, b, c])\n",
    "    print(a_run)\n",
    "    print(b_run)\n",
    "    print(c_run)"
   ]
  },
  {
   "cell_type": "markdown",
   "metadata": {},
   "source": [
    "```\n",
    "tf.transpose(\n",
    "    a,\n",
    "    perm=None,\n",
    "    name='transpose',\n",
    "    conjugate=False\n",
    ")\n",
    "```\n",
    "\n",
    "https://www.tensorflow.org/versions/r1.8/api_docs/python/tf/transpose"
   ]
  },
  {
   "cell_type": "code",
   "execution_count": 68,
   "metadata": {
    "collapsed": true
   },
   "outputs": [],
   "source": [
    "A = tf.constant([[2., 1.]])\n",
    "X = tf.constant([[2., 2.], [-3., 3.]])"
   ]
  },
  {
   "cell_type": "code",
   "execution_count": 69,
   "metadata": {
    "collapsed": true
   },
   "outputs": [],
   "source": [
    "A_transpose = tf.transpose(A)\n",
    "X_transpose = tf.transpose(X)"
   ]
  },
  {
   "cell_type": "code",
   "execution_count": 70,
   "metadata": {},
   "outputs": [
    {
     "name": "stdout",
     "output_type": "stream",
     "text": [
      "[[2.]\n",
      " [1.]]\n",
      "[[ 2. -3.]\n",
      " [ 2.  3.]]\n"
     ]
    }
   ],
   "source": [
    "with tf.Session() as sess:\n",
    "    print(sess.run(A_transpose))\n",
    "    print(sess.run(X_transpose))"
   ]
  },
  {
   "cell_type": "markdown",
   "metadata": {},
   "source": [
    "# tf.add"
   ]
  },
  {
   "cell_type": "markdown",
   "metadata": {},
   "source": [
    "```\n",
    "tf.add(\n",
    "    x,\n",
    "    y,\n",
    "    name=None\n",
    ")\n",
    "```\n",
    "\n",
    "https://www.tensorflow.org/versions/r1.8/api_docs/python/tf/add"
   ]
  },
  {
   "cell_type": "markdown",
   "metadata": {},
   "source": [
    "더하기는 브로드케스팅이 예상대로 되네요."
   ]
  },
  {
   "cell_type": "code",
   "execution_count": 71,
   "metadata": {
    "collapsed": true
   },
   "outputs": [],
   "source": [
    "if 0:\n",
    "    a = tf.constant([[1., 1., 1.], [2., 2., 2.], [3., 3., 3.]], dtype=tf.float32) # rank 2\n",
    "    b = tf.constant([[1., 2., 3.], [1., 2., 3.], [1., 2., 3.]], dtype=tf.float32) # rank 2\n",
    "elif 1:\n",
    "    a = tf.constant([[1., 1., 1.], [2., 2., 2.], [3., 3., 3.]], dtype=tf.float32) # rank 2\n",
    "    b = tf.constant([1., 2., 3.], dtype=tf.float32)                               # rank 1\n",
    "elif 1:\n",
    "    a = tf.constant([[1., 1., 1.], [2., 2., 2.], [3., 3., 3.]], dtype=tf.float32) # rank 2\n",
    "    b = tf.constant(1., dtype=tf.float32)                                         # rank 0                                                           "
   ]
  },
  {
   "cell_type": "code",
   "execution_count": 72,
   "metadata": {
    "collapsed": true
   },
   "outputs": [],
   "source": [
    "c = a + b                                                          "
   ]
  },
  {
   "cell_type": "code",
   "execution_count": 73,
   "metadata": {},
   "outputs": [
    {
     "name": "stdout",
     "output_type": "stream",
     "text": [
      "[[1. 1. 1.]\n",
      " [2. 2. 2.]\n",
      " [3. 3. 3.]]\n",
      "[1. 2. 3.]\n",
      "[[2. 3. 4.]\n",
      " [3. 4. 5.]\n",
      " [4. 5. 6.]]\n"
     ]
    }
   ],
   "source": [
    "with tf.Session() as sess:\n",
    "    a_run, b_run, c_run = sess.run([a, b, c])\n",
    "    print(a_run)\n",
    "    print(b_run)\n",
    "    print(c_run)"
   ]
  },
  {
   "cell_type": "markdown",
   "metadata": {},
   "source": [
    "# Three data types - tf.constant, tf.get_variable, tf.placeholder"
   ]
  },
  {
   "cell_type": "markdown",
   "metadata": {},
   "source": [
    "```\n",
    "tf.get_variable(\n",
    "    name,\n",
    "    shape=None,\n",
    "    dtype=None,\n",
    "    initializer=None,\n",
    "    regularizer=None,\n",
    "    trainable=True,\n",
    "    collections=None,\n",
    "    caching_device=None,\n",
    "    partitioner=None,\n",
    "    validate_shape=True,\n",
    "    use_resource=None,\n",
    "    custom_getter=None,\n",
    "    constraint=None\n",
    ")\n",
    "```\n",
    "\n",
    "https://www.tensorflow.org/versions/r1.8/api_docs/python/tf/get_variable"
   ]
  },
  {
   "cell_type": "code",
   "execution_count": 74,
   "metadata": {
    "collapsed": true
   },
   "outputs": [],
   "source": [
    "a = tf.constant([1, 2, 3], dtype=tf.float32)\n",
    "b = tf.Variable([1, 2, 3], dtype=tf.float32, name='variable_b')\n",
    "c = tf.placeholder(tf.float32)\n",
    "d = tf.multiply(a,b) + c"
   ]
  },
  {
   "cell_type": "code",
   "execution_count": 75,
   "metadata": {},
   "outputs": [
    {
     "name": "stdout",
     "output_type": "stream",
     "text": [
      "Tensor(\"Const_21:0\", shape=(3,), dtype=float32)\n",
      "<tf.Variable 'variable_b:0' shape=(3,) dtype=float32_ref>\n",
      "Tensor(\"Placeholder_2:0\", dtype=float32)\n"
     ]
    }
   ],
   "source": [
    "print(a)\n",
    "print(b)\n",
    "print(c)"
   ]
  },
  {
   "cell_type": "code",
   "execution_count": 76,
   "metadata": {},
   "outputs": [
    {
     "name": "stdout",
     "output_type": "stream",
     "text": [
      "[1. 2. 3.]\n",
      "[1. 2. 3.]\n",
      "[1. 2. 3.]\n",
      "[ 2.  6. 12.]\n"
     ]
    }
   ],
   "source": [
    "with tf.Session() as sess:\n",
    "\n",
    "    a_run = sess.run(a)\n",
    "    print(a_run)\n",
    "\n",
    "    # to run an expression containing tf.Variable, we need to either initialize or restore\n",
    "    tf.global_variables_initializer().run()\n",
    "    b_run = sess.run(b)\n",
    "    print(b_run)\n",
    "\n",
    "    # to run an expression containing tf.placeholder, we need to feed a specific value\n",
    "    c_run, d_run = sess.run([c, d], feed_dict={c: [1, 2, 3]})\n",
    "    print(c_run)\n",
    "    print(d_run)"
   ]
  },
  {
   "cell_type": "markdown",
   "metadata": {},
   "source": [
    "# How to define and use functions using tensorflow"
   ]
  },
  {
   "cell_type": "code",
   "execution_count": 77,
   "metadata": {
    "collapsed": true
   },
   "outputs": [],
   "source": [
    "def table99(integer_given):\n",
    "    left  = tf.placeholder(tf.int32)\n",
    "    right = tf.placeholder(tf.int32)\n",
    "    m     = left * right\n",
    "\n",
    "    with tf.Session() as sess:\n",
    "        for i in range(1, 10):\n",
    "            m_run = sess.run(m, feed_dict={left: integer_given, right: i})\n",
    "            print('%d x %d = %2d' %(integer_given, i, m_run))"
   ]
  },
  {
   "cell_type": "code",
   "execution_count": 78,
   "metadata": {},
   "outputs": [
    {
     "name": "stdout",
     "output_type": "stream",
     "text": [
      "7 x 1 =  7\n",
      "7 x 2 = 14\n",
      "7 x 3 = 21\n",
      "7 x 4 = 28\n",
      "7 x 5 = 35\n",
      "7 x 6 = 42\n",
      "7 x 7 = 49\n",
      "7 x 8 = 56\n",
      "7 x 9 = 63\n"
     ]
    }
   ],
   "source": [
    "table99(7)"
   ]
  }
 ],
 "metadata": {
  "kernelspec": {
   "display_name": "Python [default]",
   "language": "python",
   "name": "python3"
  },
  "language_info": {
   "codemirror_mode": {
    "name": "ipython",
    "version": 3
   },
   "file_extension": ".py",
   "mimetype": "text/x-python",
   "name": "python",
   "nbconvert_exporter": "python",
   "pygments_lexer": "ipython3",
   "version": "3.5.3"
  }
 },
 "nbformat": 4,
 "nbformat_minor": 2
}
