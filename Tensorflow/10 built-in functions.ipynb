{
 "cells": [
  {
   "cell_type": "code",
   "execution_count": null,
   "metadata": {
    "collapsed": true
   },
   "outputs": [],
   "source": [
    "print(\"tf.concat\")\n",
    "\n",
    "import tensorflow as tf\n",
    "\n",
    "c1 = tf.constant([1, 3, 5, 7, 9, 0, 2, 4, 6, 8])\n",
    "c2 = tf.constant([1, 3, 5])\n",
    "\n",
    "v1 = tf.constant([[1, 2, 3, 4, 5, 6], [7, 8, 9, 0, 1, 2]])\n",
    "v2 = tf.constant([[1, 2, 3], [7, 8, 9]])\n",
    "\n",
    "a = tf.concat(0, [c1, c2])\n",
    "b = tf.concat(1, [v1, v2])\n",
    "\n",
    "with tf.Session() as sess:\n",
    "    print(sess.run(a))\n",
    "    print(sess.run(b))"
   ]
  },
  {
   "cell_type": "code",
   "execution_count": null,
   "metadata": {
    "collapsed": true
   },
   "outputs": [],
   "source": [
    "print(\"tf.gather\")\n",
    "\n",
    "import tensorflow as tf\n",
    "\n",
    "u = tf.constant([1, 3, 5, 7, 9, 0, 2, 4, 6, 8])\n",
    "v = tf.constant([[1, 2, 3, 4, 5, 6], [7, 8, 9, 0, 1, 2]])\n",
    "\n",
    "a = tf.gather(u, [2, 5, 2, 5]) # [2nd item, 5th item, 2nd item, 5th item]\n",
    "b = tf.gather(v, [1, 0]) # [1st item, 0th item]\n",
    "c = tf.gather(v, [[0, 0], [1, 1]]) # [[0th item, 0th item], [1st item, 1st item]]\n",
    "\n",
    "with tf.Session() as sess:\n",
    "    print(sess.run(a))\n",
    "    print(sess.run(b))\n",
    "    print(sess.run(c))"
   ]
  },
  {
   "cell_type": "code",
   "execution_count": null,
   "metadata": {
    "collapsed": true
   },
   "outputs": [],
   "source": [
    "print(\"tf.maximum and tf.minimum\")\n",
    "\n",
    "import tensorflow as tf\n",
    "\n",
    "X = tf.constant([[2., 2.], [-3., 3.]])\n",
    "Y = tf.constant([[2., -4.], [2., 3.]])\n",
    "\n",
    "a = tf.maximum(X, Y)\n",
    "b = tf.minimum(X, Y)\n",
    "\n",
    "with tf.Session() as sess:\n",
    "    print(sess.run(a))\n",
    "    print(sess.run(b))"
   ]
  },
  {
   "cell_type": "code",
   "execution_count": 6,
   "metadata": {},
   "outputs": [
    {
     "name": "stdout",
     "output_type": "stream",
     "text": [
      "tf.nn.in_top_k\n",
      "[False]\n",
      "[ True]\n",
      "[ True]\n"
     ]
    }
   ],
   "source": [
    "print(\"tf.nn.in_top_k\")\n",
    "\n",
    "import tensorflow as tf\n",
    "\n",
    "logit = tf.constant([[1.0, 0.7, 2.0, 0.5, 2.7, -6.3]])\n",
    "label = tf.constant([[  0,   0,   1,   0,   0,    0]])\n",
    "label_argmax = tf.argmax(label, 1)\n",
    "a = tf.nn.in_top_k(logit, label_argmax, 1)  # [False]\n",
    "b = tf.nn.in_top_k(logit, label_argmax, 2)  # [ True]\n",
    "c = tf.nn.in_top_k(logit, label_argmax, 3)  # [ True]\n",
    "\n",
    "with tf.Session() as sess:\n",
    "    print(sess.run(a))\n",
    "    print(sess.run(b))\n",
    "    print(sess.run(c))"
   ]
  },
  {
   "cell_type": "code",
   "execution_count": 7,
   "metadata": {},
   "outputs": [
    {
     "name": "stdout",
     "output_type": "stream",
     "text": [
      "tf.nn.max_pool\n",
      "[[[[ 2.  3.  4.  5.]]]]\n"
     ]
    }
   ],
   "source": [
    "print(\"tf.nn.max_pool\") \n",
    "\n",
    "import tensorflow as tf\n",
    "\n",
    "x = tf.constant([[[[1., 2., 3., 4.],\n",
    "                 [2., 3., 4., 5.]]]])\n",
    "a = tf.nn.max_pool(x, ksize=[1, 2, 2, 1], strides=[1, 2, 2, 1], padding='SAME')\n",
    "\n",
    "with tf.Session() as sess:\n",
    "    print(sess.run(a))"
   ]
  },
  {
   "cell_type": "code",
   "execution_count": 10,
   "metadata": {},
   "outputs": [
    {
     "name": "stdout",
     "output_type": "stream",
     "text": [
      "tf.nn.softmax\n",
      "[[ 0.7310586   0.26894143]]\n",
      "[[ 0.7310586  0.2689414]]\n"
     ]
    }
   ],
   "source": [
    "print(\"tf.nn.softmax\")\n",
    "\n",
    "import tensorflow as tf\n",
    "\n",
    "A = tf.constant([[2., 1.]])\n",
    "a = tf.nn.softmax(A)\n",
    "a1 = tf.exp(A) / tf.reduce_sum(tf.exp(A))\n",
    "\n",
    "with tf.Session() as sess:\n",
    "    print(sess.run(a))\n",
    "    print(sess.run(a1))"
   ]
  },
  {
   "cell_type": "code",
   "execution_count": 14,
   "metadata": {},
   "outputs": [
    {
     "name": "stdout",
     "output_type": "stream",
     "text": [
      "tf.pad\n",
      "[[0 0 0 0 0 0 0 0 0 0 0 0]\n",
      " [0 0 0 1 2 3 4 5 0 0 0 0]\n",
      " [0 0 0 1 2 3 4 5 0 0 0 0]\n",
      " [0 0 0 1 2 3 4 5 0 0 0 0]\n",
      " [0 0 0 1 2 3 4 5 0 0 0 0]\n",
      " [0 0 0 0 0 0 0 0 0 0 0 0]\n",
      " [0 0 0 0 0 0 0 0 0 0 0 0]]\n",
      "[[4 3 2 1 2 3 4 5 4 3 2 1]\n",
      " [4 3 2 1 2 3 4 5 4 3 2 1]\n",
      " [4 3 2 1 2 3 4 5 4 3 2 1]\n",
      " [4 3 2 1 2 3 4 5 4 3 2 1]\n",
      " [4 3 2 1 2 3 4 5 4 3 2 1]\n",
      " [4 3 2 1 2 3 4 5 4 3 2 1]\n",
      " [4 3 2 1 2 3 4 5 4 3 2 1]]\n",
      "[[3 2 1 1 2 3 4 5 5 4 3 2]\n",
      " [3 2 1 1 2 3 4 5 5 4 3 2]\n",
      " [3 2 1 1 2 3 4 5 5 4 3 2]\n",
      " [3 2 1 1 2 3 4 5 5 4 3 2]\n",
      " [3 2 1 1 2 3 4 5 5 4 3 2]\n",
      " [3 2 1 1 2 3 4 5 5 4 3 2]\n",
      " [3 2 1 1 2 3 4 5 5 4 3 2]]\n"
     ]
    }
   ],
   "source": [
    "print(\"tf.pad\")\n",
    "\n",
    "import tensorflow as tf\n",
    "\n",
    "v = tf.constant([[1, 2, 3, 4, 5], [1, 2, 3, 4, 5], [1, 2, 3, 4, 5], [1, 2, 3, 4, 5]])\n",
    "# tf.pad(input, [[top_pad_size, down_pad_size], [left_pad_size, right_pad_size]], pad_mathod)\n",
    "a = tf.pad(v, [[1, 2], [3, 4]], 'CONSTANT')\n",
    "b = tf.pad(v, [[1, 2], [3, 4]], 'REFLECT')\n",
    "c = tf.pad(v, [[1, 2], [3, 4]], 'SYMMETRIC')\n",
    "\n",
    "with tf.Session() as sess:\n",
    "    print(sess.run(a))\n",
    "    print(sess.run(b))\n",
    "    print(sess.run(c))"
   ]
  },
  {
   "cell_type": "code",
   "execution_count": null,
   "metadata": {
    "collapsed": true
   },
   "outputs": [],
   "source": [
    "print(\"tf.reverse\")  \n",
    "\n",
    "import tensorflow as tf\n",
    "\n",
    "u = tf.constant([1, 2, 3, 4, 5, 6])\n",
    "v = tf.constant([[1, 2, 3, 4, 5, 6], [7, 8, 9, 0, 1, 2]])\n",
    "\n",
    "a = tf.reverse(u, [True])\n",
    "b = tf.reverse(v, [True, False])\n",
    "c = tf.reverse(v, [True, True])\n",
    "\n",
    "with tf.Session() as sess:\n",
    "    print(sess.run(a))\n",
    "    print(sess.run(b))\n",
    "    print(sess.run(c))"
   ]
  },
  {
   "cell_type": "code",
   "execution_count": 3,
   "metadata": {},
   "outputs": [
    {
     "name": "stdout",
     "output_type": "stream",
     "text": [
      "tf.sign\n",
      "[[ 1.  1.]\n",
      " [-1.  0.]]\n"
     ]
    }
   ],
   "source": [
    "print(\"tf.sign\") \n",
    "\n",
    "import tensorflow as tf\n",
    "\n",
    "X = tf.constant([[2, 2.], [-3, 0]])\n",
    "\n",
    "a = tf.sign(X)\n",
    "\n",
    "with tf.Session() as sess:\n",
    "    print(sess.run(a))"
   ]
  },
  {
   "cell_type": "code",
   "execution_count": null,
   "metadata": {
    "collapsed": true
   },
   "outputs": [],
   "source": [
    "print(\"tf.slice\")  \n",
    "\n",
    "import tensorflow as tf\n",
    "\n",
    "u = tf.constant([1, 2, 3, 4, 5, 6, 7, 8, 9, 10])\n",
    "v = tf.constant([[1, 2, 3, 4, 5, 6], [7, 8, 9, 0, 1, 2]])\n",
    "\n",
    "# tf.slice(input, begin_spot, size_to_slice)\n",
    "a = tf.slice(u, [2], [3])\n",
    "b = tf.slice(v, [0, 2], [1, 2])\n",
    "c = tf.slice(v, [0, 2], [2, 2])\n",
    "d = tf.slice(v, [0, 2], [2,-1])\n",
    "\n",
    "with tf.Session() as sess:\n",
    "    print(sess.run(a))\n",
    "    print(sess.run(b))\n",
    "    print(sess.run(c))\n",
    "    print(sess.run(d))"
   ]
  },
  {
   "cell_type": "code",
   "execution_count": null,
   "metadata": {
    "collapsed": true
   },
   "outputs": [],
   "source": [
    "print(\"tf.split\")   \n",
    "\n",
    "import tensorflow as tf\n",
    "\n",
    "A = tf.random_normal([5, 30])\n",
    "\n",
    "# tf.slice(axis_to_split, numbers_of_pieces_after_splitting, input)\n",
    "split_0, split_1, split_2, split_3, split_4, split_5 = tf.split(1, 6, A)\n",
    "SPLIT_0, SPLIT_1, SPLIT_2 = tf.split(1, 3, A)\n",
    "\n",
    "with tf.Session() as sess:\n",
    "    print(sess.run( tf.shape(split_0) ))\n",
    "    print(sess.run( tf.shape(split_1) ))\n",
    "    print(sess.run( tf.shape(split_2) ))\n",
    "    print(sess.run( tf.shape(SPLIT_0) ))\n",
    "    print(sess.run( tf.shape(SPLIT_1) ))\n",
    "    print(sess.run( tf.shape(SPLIT_2) ))"
   ]
  },
  {
   "cell_type": "code",
   "execution_count": null,
   "metadata": {
    "collapsed": true
   },
   "outputs": [],
   "source": [
    "print(\"tf.squeeze\")  \n",
    "\n",
    "import tensorflow as tf\n",
    "\n",
    "A = tf.constant([1, 2, 3, 4, 5, 6, 7, 8, 9, 10, 11, 12])\n",
    "\n",
    "# Removes dimensions of size 1 from the shape of a tensor.\n",
    "# Given a tensor input, this operation returns a tensor of the same type with all dimensions of size 1 removed.\n",
    "# If you don't want to remove all size 1 dimensions, you can remove specific size 1 dimensions by specifying squeeze_dims.\n",
    "a = tf.reshape(A, [4, 1, 3])\n",
    "b = tf.squeeze(a)\n",
    "\n",
    "with tf.Session() as sess:\n",
    "    print(sess.run( tf.shape(a) ))\n",
    "    print(sess.run( tf.shape(b) ))"
   ]
  },
  {
   "cell_type": "code",
   "execution_count": null,
   "metadata": {
    "collapsed": true
   },
   "outputs": [],
   "source": [
    "print(\"tf.tile\")\n",
    "\n",
    "import tensorflow as tf\n",
    "\n",
    "u = tf.constant([1, 3, 5])\n",
    "v = tf.constant([[1, 2, 3], [7, 8, 9]])\n",
    "\n",
    "a = tf.tile(u, [3])\n",
    "b = tf.tile(v, [2, 2])\n",
    "\n",
    "with tf.Session() as sess:\n",
    "    print(sess.run( tf.shape(a) ))\n",
    "    print(sess.run( tf.shape(b) ))"
   ]
  },
  {
   "cell_type": "code",
   "execution_count": null,
   "metadata": {
    "collapsed": true
   },
   "outputs": [],
   "source": [
    "print(\"tf.to_int64\")\n",
    "\n",
    "import tensorflow as tf\n",
    "\n",
    "a = tf.to_int64(3.14)\n",
    "b = tf.to_int64([0.7, 0.3, -1.5, -10.5, 3.14])\n",
    "\n",
    "with tf.Session() as sess:\n",
    "    print(sess.run(a))\n",
    "    print(sess.run(b))"
   ]
  },
  {
   "cell_type": "code",
   "execution_count": null,
   "metadata": {
    "collapsed": true
   },
   "outputs": [],
   "source": [
    "print(\"tf.unstack\")\n",
    "\n",
    "import numpy as np, tensorflow as tf\n",
    "\n",
    "num_classes = 5\n",
    "size = 50\n",
    "x = np.array(np.random.choice(num_classes, size=(size,)))\n",
    "\n",
    "batch_size = 5\n",
    "num_steps = 10\n",
    "data_x = np.zeros([batch_size, num_steps], dtype=np.int32)\n",
    "for i in range(batch_size):\n",
    "    data_x[i] = x[num_steps * i:num_steps * (i + 1)]\n",
    "\n",
    "x_one_hot = tf.one_hot(data_x, num_classes)\n",
    "rnn_inputs = tf.unstack(x_one_hot, axis=1)\n",
    "\n",
    "with tf.Session() as sess:\n",
    "    print(data_x)\n",
    "    print(sess.run(x_one_hot))\n",
    "    print(sess.run(rnn_inputs))"
   ]
  },
  {
   "cell_type": "code",
   "execution_count": null,
   "metadata": {
    "collapsed": true
   },
   "outputs": [],
   "source": []
  }
 ],
 "metadata": {
  "kernelspec": {
   "display_name": "Python [default]",
   "language": "python",
   "name": "python3"
  },
  "language_info": {
   "codemirror_mode": {
    "name": "ipython",
    "version": 3
   },
   "file_extension": ".py",
   "mimetype": "text/x-python",
   "name": "python",
   "nbconvert_exporter": "python",
   "pygments_lexer": "ipython3",
   "version": "3.5.3"
  }
 },
 "nbformat": 4,
 "nbformat_minor": 2
}
