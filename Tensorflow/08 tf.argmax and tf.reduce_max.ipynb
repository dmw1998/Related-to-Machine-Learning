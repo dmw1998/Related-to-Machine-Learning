{
 "cells": [
  {
   "cell_type": "markdown",
   "metadata": {
    "collapsed": true,
    "slideshow": {
     "slide_type": "slide"
    }
   },
   "source": [
    "# tf.argmax and tf.reduce_max\n",
    " \n",
    "Sungchul Lee  "
   ]
  },
  {
   "cell_type": "markdown",
   "metadata": {
    "slideshow": {
     "slide_type": "fragment"
    }
   },
   "source": [
    "<div align=\"center\"><img src=\"img/75341fb373e410eb339784e65a09f140.jpg\" width=\"30%\"></div>\n",
    "\n",
    "http://static.metacritic.com/images/products/movies/1/75341fb373e410eb339784e65a09f140.jpg"
   ]
  },
  {
   "cell_type": "markdown",
   "metadata": {
    "slideshow": {
     "slide_type": "subslide"
    }
   },
   "source": [
    "# How to run these slides yourself\n",
    "\n",
    "**Setup python environment**\n",
    "\n",
    "- [Install RISE for an interactive presentation viewer](https://github.com/damianavila/RISE)"
   ]
  },
  {
   "cell_type": "code",
   "execution_count": 1,
   "metadata": {
    "collapsed": true,
    "slideshow": {
     "slide_type": "slide"
    }
   },
   "outputs": [],
   "source": [
    "# tf.argmax (tf.argmin)"
   ]
  },
  {
   "cell_type": "markdown",
   "metadata": {
    "slideshow": {
     "slide_type": "fragment"
    }
   },
   "source": [
    "> For each row, find argmax.\n",
    "\n",
    "> The rank is down by 1."
   ]
  },
  {
   "cell_type": "markdown",
   "metadata": {
    "slideshow": {
     "slide_type": "subslide"
    }
   },
   "source": [
    "```\n",
    "tf.argmax(\n",
    "    input,\n",
    "    axis=None,\n",
    "    name=None,\n",
    "    dimension=None,\n",
    "    output_type=tf.int64\n",
    ")\n",
    "```\n",
    "\n",
    "https://www.tensorflow.org/api_docs/python/tf/argmax"
   ]
  },
  {
   "cell_type": "code",
   "execution_count": 2,
   "metadata": {
    "slideshow": {
     "slide_type": "subslide"
    }
   },
   "outputs": [
    {
     "name": "stderr",
     "output_type": "stream",
     "text": [
      "/Users/sungchul/anaconda/lib/python3.5/importlib/_bootstrap.py:222: RuntimeWarning: compiletime version 3.6 of module 'tensorflow.python.framework.fast_tensor_util' does not match runtime version 3.5\n",
      "  return f(*args, **kwds)\n",
      "/Users/sungchul/anaconda/lib/python3.5/site-packages/h5py/__init__.py:34: FutureWarning: Conversion of the second argument of issubdtype from `float` to `np.floating` is deprecated. In future, it will be treated as `np.float64 == np.dtype(float).type`.\n",
      "  from ._conv import register_converters as _register_converters\n"
     ]
    }
   ],
   "source": [
    "import tensorflow as tf"
   ]
  },
  {
   "cell_type": "code",
   "execution_count": 3,
   "metadata": {
    "collapsed": true,
    "slideshow": {
     "slide_type": "subslide"
    }
   },
   "outputs": [],
   "source": [
    "t = tf.constant([[1, 8, 3], \n",
    "                 [4, 7, 6], \n",
    "                 [9, 2, 5]])"
   ]
  },
  {
   "cell_type": "code",
   "execution_count": 4,
   "metadata": {
    "slideshow": {
     "slide_type": "subslide"
    }
   },
   "outputs": [
    {
     "name": "stdout",
     "output_type": "stream",
     "text": [
      "[1 1 0]\n"
     ]
    }
   ],
   "source": [
    "if 0:\n",
    "    # 각각의 칼럼에서 최대값이 발생하는 인덱스를 찿음\n",
    "    argmax_where = tf.argmax(t) \n",
    "elif 0:\n",
    "    # 각각의 칼럼에서 최대값이 발생하는 인덱스를 찿음\n",
    "    argmax_where = tf.argmax(t, axis=0)\n",
    "elif 1:\n",
    "    # 각각의 로에서 최대값이 발생하는 인덱스를 찿음\n",
    "    argmax_where = tf.argmax(t, axis=1)\n",
    "\n",
    "with tf.Session() as sess:\n",
    "    print(sess.run(argmax_where))"
   ]
  },
  {
   "cell_type": "markdown",
   "metadata": {
    "slideshow": {
     "slide_type": "slide"
    }
   },
   "source": [
    "# tf.reduce_max (tf.reduce_min)"
   ]
  },
  {
   "cell_type": "markdown",
   "metadata": {
    "slideshow": {
     "slide_type": "fragment"
    }
   },
   "source": [
    "> For each row, find max\n",
    "\n",
    "> The rank is down by 1. \n",
    "\n",
    "> You can use 'keepdims=True' to keep the current rank."
   ]
  },
  {
   "cell_type": "markdown",
   "metadata": {
    "slideshow": {
     "slide_type": "subslide"
    }
   },
   "source": [
    "```\n",
    "tf.reduce_max(\n",
    "    input_tensor,\n",
    "    axis=None,\n",
    "    keepdims=None,\n",
    "    name=None,\n",
    "    reduction_indices=None\n",
    ")\n",
    "```\n",
    "\n",
    "https://www.tensorflow.org/versions/r1.8/api_docs/python/tf/reduce_max"
   ]
  },
  {
   "cell_type": "code",
   "execution_count": 5,
   "metadata": {
    "slideshow": {
     "slide_type": "subslide"
    }
   },
   "outputs": [
    {
     "name": "stdout",
     "output_type": "stream",
     "text": [
      "[9 8 6]\n"
     ]
    }
   ],
   "source": [
    "if 0:\n",
    "    # 최대값 찿음\n",
    "    M = tf.reduce_max(t) \n",
    "elif 1:\n",
    "    # 각각의 칼럼에서 최대값 찿음\n",
    "    M = tf.reduce_max(t, axis=0)\n",
    "elif 1:\n",
    "    # 각각의 로에서 최대값 찿음\n",
    "    M = tf.reduce_max(t, axis=1)\n",
    "\n",
    "with tf.Session() as sess:\n",
    "    print(sess.run(M))"
   ]
  },
  {
   "cell_type": "markdown",
   "metadata": {
    "slideshow": {
     "slide_type": "subslide"
    }
   },
   "source": [
    "# keepdims=True"
   ]
  },
  {
   "cell_type": "code",
   "execution_count": 6,
   "metadata": {
    "slideshow": {
     "slide_type": "subslide"
    }
   },
   "outputs": [
    {
     "name": "stdout",
     "output_type": "stream",
     "text": [
      "[[8]\n",
      " [7]\n",
      " [9]]\n"
     ]
    }
   ],
   "source": [
    "if 0:\n",
    "    # 최대값 찿음\n",
    "    M = tf.reduce_max(t, keepdims=True) \n",
    "elif 0:\n",
    "    # 각각의 칼럼에서 최대값 찿음\n",
    "    M = tf.reduce_max(t, axis=0, keepdims=True)\n",
    "elif 1:\n",
    "    # 각각의 로에서 최대값 찿음\n",
    "    M = tf.reduce_max(t, axis=1, keepdims=True)\n",
    "\n",
    "with tf.Session() as sess:\n",
    "    print(sess.run(M))"
   ]
  }
 ],
 "metadata": {
  "celltoolbar": "Slideshow",
  "kernelspec": {
   "display_name": "Python [default]",
   "language": "python",
   "name": "python3"
  },
  "language_info": {
   "codemirror_mode": {
    "name": "ipython",
    "version": 3
   },
   "file_extension": ".py",
   "mimetype": "text/x-python",
   "name": "python",
   "nbconvert_exporter": "python",
   "pygments_lexer": "ipython3",
   "version": "3.5.3"
  }
 },
 "nbformat": 4,
 "nbformat_minor": 2
}
