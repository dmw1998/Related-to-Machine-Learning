{
 "cells": [
  {
   "cell_type": "markdown",
   "metadata": {},
   "source": [
    "# Vector Addition and Scalar Multiplication"
   ]
  },
  {
   "cell_type": "code",
   "execution_count": 1,
   "metadata": {
    "collapsed": true
   },
   "outputs": [],
   "source": [
    "import numpy as np"
   ]
  },
  {
   "cell_type": "markdown",
   "metadata": {},
   "source": [
    "# Vector Addition "
   ]
  },
  {
   "cell_type": "markdown",
   "metadata": {},
   "source": [
    "<div align=\"center\"><img src=\"img/Vector_addition.png\" width=\"40%\"></div>\n",
    "\n",
    "https://upload.wikimedia.org/wikipedia/commons/e/ef/Vector_addition.png"
   ]
  },
  {
   "cell_type": "code",
   "execution_count": 2,
   "metadata": {
    "collapsed": true
   },
   "outputs": [],
   "source": [
    "def generate_u_and_v(choice_of_u_and_v):\n",
    "    \n",
    "    if choice_of_u_and_v == 0:   # scalar, scalar\n",
    "        u = np.pi\n",
    "        v = np.exp(1)\n",
    "    elif choice_of_u_and_v == 1: # scalar, vector\n",
    "        u = np.arange(1, 6)\n",
    "        v = 3\n",
    "    elif choice_of_u_and_v == 2: # vector, scalar\n",
    "        u = 3\n",
    "        v = np.arange(1, 6)\n",
    "    elif choice_of_u_and_v == 3: # scalar, matrix\n",
    "        u = 3\n",
    "        v = np.random.rand(2, 2)\n",
    "    elif choice_of_u_and_v == 4: # matrix, scalar\n",
    "        u = np.random.rand(2, 2)\n",
    "        v = 3\n",
    "    elif choice_of_u_and_v == 5: # vector, vector\n",
    "        u = np.arange(0, 5)\n",
    "        v = np.arange(1, 6)\n",
    "    elif choice_of_u_and_v == 6: # vector, matrix\n",
    "        u = np.random.rand(2)\n",
    "        v = np.random.rand(2, 2)\n",
    "    elif choice_of_u_and_v == 7: # matrix, vector\n",
    "        u = np.random.rand(2, 2)\n",
    "        v = np.random.rand(2)\n",
    "    else:                        # matrix, matrix\n",
    "        u = np.random.rand(2, 2)\n",
    "        v = np.random.rand(2, 2)\n",
    "\n",
    "    return u, v"
   ]
  },
  {
   "cell_type": "code",
   "execution_count": 3,
   "metadata": {
    "collapsed": true
   },
   "outputs": [],
   "source": [
    "def print_info(u):\n",
    "    print(u)\n",
    "    print(\"Type :        \", type(u))\n",
    "    try:\n",
    "        print(\"Length :      \", len(u))\n",
    "        print(\"Shape :       \", u.shape)\n",
    "        print(\"Data Type :   \", u.dtype)\n",
    "        print(\"Size :        \", u.size)\n",
    "        print(\"Rank :        \", u.ndim)\n",
    "        print(\"Matrix Rank : \", np.linalg.matrix_rank(u))\n",
    "    except:\n",
    "        pass"
   ]
  },
  {
   "cell_type": "code",
   "execution_count": 4,
   "metadata": {
    "collapsed": true
   },
   "outputs": [],
   "source": [
    "def print_info_on_u_v_w(u,v,w):\n",
    "    print('Info on u')\n",
    "    print_info(u)\n",
    "    print()\n",
    "    print('Info on v')\n",
    "    print_info(v)\n",
    "    print()\n",
    "    print('Info on w')\n",
    "    print_info(w)"
   ]
  },
  {
   "cell_type": "markdown",
   "metadata": {},
   "source": [
    "위에서 정의한 함수 generate_u_and_v를 이용,\n",
    "더하고자 하는 두 벡터 u, v를 생성하자.\n",
    "choice_of_u_and_v를 0, 1, 2,..., 8중 하나의 정수를 선택하여 지정한다.\n",
    "이를 generate_u_and_v에 집어넣고 실행시키면,\n",
    "더하고자 하는 두 벡터 u, v를 생성하여준다."
   ]
  },
  {
   "cell_type": "code",
   "execution_count": 5,
   "metadata": {
    "collapsed": true
   },
   "outputs": [],
   "source": [
    "choice_of_u_and_v = 3\n",
    "u, v = generate_u_and_v(choice_of_u_and_v)"
   ]
  },
  {
   "cell_type": "markdown",
   "metadata": {},
   "source": [
    "두 벡터 u, v를 더하여 w라고 하자."
   ]
  },
  {
   "cell_type": "code",
   "execution_count": 6,
   "metadata": {
    "collapsed": true
   },
   "outputs": [],
   "source": [
    "w = u + v"
   ]
  },
  {
   "cell_type": "markdown",
   "metadata": {},
   "source": [
    "u, v, w의 관련 정보를 프린트하자."
   ]
  },
  {
   "cell_type": "code",
   "execution_count": 7,
   "metadata": {},
   "outputs": [
    {
     "name": "stdout",
     "output_type": "stream",
     "text": [
      "Info on u\n",
      "3\n",
      "Type :         <class 'int'>\n",
      "\n",
      "Info on v\n",
      "[[0.08296011 0.55231508]\n",
      " [0.34852507 0.25102319]]\n",
      "Type :         <class 'numpy.ndarray'>\n",
      "Length :       2\n",
      "Shape :        (2, 2)\n",
      "Data Type :    float64\n",
      "Size :         4\n",
      "Rank :         2\n",
      "Matrix Rank :  2\n",
      "\n",
      "Info on w\n",
      "[[3.08296011 3.55231508]\n",
      " [3.34852507 3.25102319]]\n",
      "Type :         <class 'numpy.ndarray'>\n",
      "Length :       2\n",
      "Shape :        (2, 2)\n",
      "Data Type :    float64\n",
      "Size :         4\n",
      "Rank :         2\n",
      "Matrix Rank :  2\n"
     ]
    }
   ],
   "source": [
    "print_info_on_u_v_w()"
   ]
  },
  {
   "cell_type": "markdown",
   "metadata": {},
   "source": [
    "# Scalar Multiplication"
   ]
  },
  {
   "cell_type": "markdown",
   "metadata": {},
   "source": [
    "<div align=\"center\"><img src=\"img/1.3.5-scalar-multiplication.png\" width=\"40%\"></div>\n",
    "\n",
    "http://ibguides.com/physics/notes/vectors-and-scalars"
   ]
  },
  {
   "cell_type": "markdown",
   "metadata": {
    "collapsed": true
   },
   "source": [
    "위에서 정의한 함수 generate_u_and_v를 이용,\n",
    "스칼라 멀티플리케이션하고자하는 스칼라 혹은 벡터 u, v를 생성하자.\n",
    "choice_of_u_and_v를 0, 1, 2,..., 3중 하나의 정수를 선택하여 지정한다.\n",
    "이를 generate_u_and_v에 집어넣고 실행시키면,\n",
    "스칼라 멀티플리케이션하고자하는 스칼라 혹은 벡터 u, v를 생성하여준다."
   ]
  },
  {
   "cell_type": "code",
   "execution_count": 8,
   "metadata": {
    "collapsed": true
   },
   "outputs": [],
   "source": [
    "choice_of_u_and_v = 3\n",
    "u, v = generate_u_and_v(choice_of_u_and_v)"
   ]
  },
  {
   "cell_type": "markdown",
   "metadata": {},
   "source": [
    "u, v를 스칼라 멀티플리케이션하여 w라고 하자."
   ]
  },
  {
   "cell_type": "code",
   "execution_count": 9,
   "metadata": {
    "collapsed": true
   },
   "outputs": [],
   "source": [
    "w = u * v"
   ]
  },
  {
   "cell_type": "markdown",
   "metadata": {},
   "source": [
    "u, v, w의 관련 정보를 프린트하자."
   ]
  },
  {
   "cell_type": "code",
   "execution_count": 10,
   "metadata": {},
   "outputs": [
    {
     "name": "stdout",
     "output_type": "stream",
     "text": [
      "Info on u\n",
      "3\n",
      "Type :         <class 'int'>\n",
      "\n",
      "Info on v\n",
      "[[0.51101813 0.00118405]\n",
      " [0.73507789 0.50839535]]\n",
      "Type :         <class 'numpy.ndarray'>\n",
      "Length :       2\n",
      "Shape :        (2, 2)\n",
      "Data Type :    float64\n",
      "Size :         4\n",
      "Rank :         2\n",
      "Matrix Rank :  2\n",
      "\n",
      "Info on w\n",
      "[[1.5330544  0.00355216]\n",
      " [2.20523366 1.52518605]]\n",
      "Type :         <class 'numpy.ndarray'>\n",
      "Length :       2\n",
      "Shape :        (2, 2)\n",
      "Data Type :    float64\n",
      "Size :         4\n",
      "Rank :         2\n",
      "Matrix Rank :  2\n"
     ]
    }
   ],
   "source": [
    "print_info_on_u_v_w()"
   ]
  }
 ],
 "metadata": {
  "kernelspec": {
   "display_name": "Python [conda env:anaconda]",
   "language": "python",
   "name": "conda-env-anaconda-py"
  },
  "language_info": {
   "codemirror_mode": {
    "name": "ipython",
    "version": 3
   },
   "file_extension": ".py",
   "mimetype": "text/x-python",
   "name": "python",
   "nbconvert_exporter": "python",
   "pygments_lexer": "ipython3",
   "version": "3.5.3"
  }
 },
 "nbformat": 4,
 "nbformat_minor": 2
}
