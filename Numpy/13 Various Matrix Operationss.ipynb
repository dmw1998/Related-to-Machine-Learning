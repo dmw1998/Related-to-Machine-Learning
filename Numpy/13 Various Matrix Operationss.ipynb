{
 "cells": [
  {
   "cell_type": "code",
   "execution_count": null,
   "metadata": {
    "collapsed": true
   },
   "outputs": [],
   "source": []
  },
  {
   "cell_type": "code",
   "execution_count": 1,
   "metadata": {
    "collapsed": true
   },
   "outputs": [],
   "source": [
    "import numpy as np"
   ]
  },
  {
   "cell_type": "code",
   "execution_count": 2,
   "metadata": {
    "collapsed": true
   },
   "outputs": [],
   "source": [
    "np.random.seed(337)"
   ]
  },
  {
   "cell_type": "code",
   "execution_count": 3,
   "metadata": {
    "collapsed": true
   },
   "outputs": [],
   "source": [
    "def print_info(u):\n",
    "    print(u)\n",
    "    print(\"Type :        \", type(u))\n",
    "    try:\n",
    "        print(\"Length :      \", len(u))\n",
    "        print(\"Shape :       \", u.shape)\n",
    "        print(\"Data Type :   \", u.dtype)\n",
    "        print(\"Size :        \", u.size)\n",
    "        print(\"Rank :        \", u.ndim)\n",
    "        print(\"Matrix Rank : \", np.linalg.matrix_rank(u))\n",
    "    except:\n",
    "        pass"
   ]
  },
  {
   "cell_type": "code",
   "execution_count": 4,
   "metadata": {
    "collapsed": true
   },
   "outputs": [],
   "source": [
    "def print_info_on_u_v_w(u,v,w):\n",
    "    print('Info on u')\n",
    "    print_info(u)\n",
    "    print()\n",
    "    print('Info on v')\n",
    "    print_info(v)\n",
    "    print()\n",
    "    print('Info on w')\n",
    "    print_info(w)"
   ]
  },
  {
   "cell_type": "code",
   "execution_count": null,
   "metadata": {
    "collapsed": true
   },
   "outputs": [],
   "source": []
  },
  {
   "cell_type": "markdown",
   "metadata": {},
   "source": [
    "# Determinant"
   ]
  },
  {
   "cell_type": "markdown",
   "metadata": {},
   "source": [
    "```\n",
    "numpy.linalg.det(a)\n",
    "```\n",
    "\n",
    "https://docs.scipy.org/doc/numpy/reference/generated/numpy.linalg.det.html"
   ]
  },
  {
   "cell_type": "code",
   "execution_count": 5,
   "metadata": {},
   "outputs": [
    {
     "data": {
      "text/plain": [
       "array([[0.79990679, 0.15356741],\n",
       "       [0.5677806 , 0.04969421]])"
      ]
     },
     "execution_count": 5,
     "metadata": {},
     "output_type": "execute_result"
    }
   ],
   "source": [
    "u = np.random.rand(2, 2)\n",
    "u"
   ]
  },
  {
   "cell_type": "code",
   "execution_count": 6,
   "metadata": {},
   "outputs": [
    {
     "data": {
      "text/plain": [
       "-0.04744186416770812"
      ]
     },
     "execution_count": 6,
     "metadata": {},
     "output_type": "execute_result"
    }
   ],
   "source": [
    "np.linalg.det(u)"
   ]
  },
  {
   "cell_type": "markdown",
   "metadata": {},
   "source": [
    "# Condition Number"
   ]
  },
  {
   "cell_type": "markdown",
   "metadata": {},
   "source": [
    "```\n",
    "numpy.linalg.cond(x, p=None)\n",
    "```\n",
    "\n",
    "https://docs.scipy.org/doc/numpy/reference/generated/numpy.linalg.cond.html"
   ]
  },
  {
   "cell_type": "code",
   "execution_count": 7,
   "metadata": {},
   "outputs": [
    {
     "data": {
      "text/plain": [
       "array([[0.54533612, 0.23003453],\n",
       "       [0.33956951, 0.38841324]])"
      ]
     },
     "execution_count": 7,
     "metadata": {},
     "output_type": "execute_result"
    }
   ],
   "source": [
    "u = np.random.rand(2, 2)\n",
    "u"
   ]
  },
  {
   "cell_type": "code",
   "execution_count": 8,
   "metadata": {},
   "outputs": [
    {
     "data": {
      "text/plain": [
       "4.382639088260375"
      ]
     },
     "execution_count": 8,
     "metadata": {},
     "output_type": "execute_result"
    }
   ],
   "source": [
    "np.linalg.cond(u)"
   ]
  },
  {
   "cell_type": "markdown",
   "metadata": {},
   "source": [
    "# Matrix Inverse"
   ]
  },
  {
   "cell_type": "markdown",
   "metadata": {},
   "source": [
    "> np.linalg.inv\n",
    "\n",
    "> np.linalg.pinv"
   ]
  },
  {
   "cell_type": "markdown",
   "metadata": {},
   "source": [
    "```\n",
    "numpy.linalg.inv(a)\n",
    "```\n",
    "\n",
    "https://docs.scipy.org/doc/numpy/reference/generated/numpy.linalg.inv.html"
   ]
  },
  {
   "cell_type": "markdown",
   "metadata": {},
   "source": [
    "```\n",
    "numpy.linalg.pinv(a, rcond=1e-15)\n",
    "```\n",
    "\n",
    "https://docs.scipy.org/doc/numpy/reference/generated/numpy.linalg.pinv.html"
   ]
  },
  {
   "cell_type": "code",
   "execution_count": 9,
   "metadata": {},
   "outputs": [
    {
     "data": {
      "text/plain": [
       "array([[0.16388442, 0.74331859],\n",
       "       [0.87979309, 0.25292547]])"
      ]
     },
     "execution_count": 9,
     "metadata": {},
     "output_type": "execute_result"
    }
   ],
   "source": [
    "u = np.random.rand(2, 2)\n",
    "u"
   ]
  },
  {
   "cell_type": "code",
   "execution_count": 10,
   "metadata": {},
   "outputs": [
    {
     "data": {
      "text/plain": [
       "array([[-0.41292875,  1.21354965],\n",
       "       [ 1.43635932, -0.26755941]])"
      ]
     },
     "execution_count": 10,
     "metadata": {},
     "output_type": "execute_result"
    }
   ],
   "source": [
    "v1 = np.linalg.inv(u)\n",
    "v1"
   ]
  },
  {
   "cell_type": "code",
   "execution_count": 11,
   "metadata": {},
   "outputs": [
    {
     "name": "stdout",
     "output_type": "stream",
     "text": [
      "[[ 1.00000000e+00 -1.51322172e-17]\n",
      " [ 1.58819390e-17  1.00000000e+00]]\n",
      "[[ 1.00000000e+00 -2.89666724e-17]\n",
      " [ 4.08668994e-17  1.00000000e+00]]\n"
     ]
    }
   ],
   "source": [
    "print(u@v1)\n",
    "print(v1@u)"
   ]
  },
  {
   "cell_type": "code",
   "execution_count": 12,
   "metadata": {},
   "outputs": [
    {
     "data": {
      "text/plain": [
       "array([[-0.41292875,  1.21354965],\n",
       "       [ 1.43635932, -0.26755941]])"
      ]
     },
     "execution_count": 12,
     "metadata": {},
     "output_type": "execute_result"
    }
   ],
   "source": [
    "v2 = np.linalg.pinv(u)\n",
    "v2"
   ]
  },
  {
   "cell_type": "code",
   "execution_count": 13,
   "metadata": {},
   "outputs": [
    {
     "name": "stdout",
     "output_type": "stream",
     "text": [
      "[[ 1.00000000e+00  2.05428818e-16]\n",
      " [-2.63622575e-16  1.00000000e+00]]\n",
      "[[ 1.00000000e+00 -8.38282378e-17]\n",
      " [ 1.25197905e-16  1.00000000e+00]]\n"
     ]
    }
   ],
   "source": [
    "print(u@v2)\n",
    "print(v2@u)"
   ]
  },
  {
   "cell_type": "markdown",
   "metadata": {},
   "source": [
    "# Transpose"
   ]
  },
  {
   "cell_type": "markdown",
   "metadata": {},
   "source": [
    "> np.transpose\n",
    "\n",
    "> .T"
   ]
  },
  {
   "cell_type": "markdown",
   "metadata": {},
   "source": [
    "```\n",
    "numpy.transpose(a, axes=None)\n",
    "```\n",
    "\n",
    "https://docs.scipy.org/doc/numpy/reference/generated/numpy.transpose.html"
   ]
  },
  {
   "cell_type": "code",
   "execution_count": 14,
   "metadata": {},
   "outputs": [
    {
     "data": {
      "text/plain": [
       "array([[0.15831741, 0.37167054],\n",
       "       [0.70927357, 0.78333967]])"
      ]
     },
     "execution_count": 14,
     "metadata": {},
     "output_type": "execute_result"
    }
   ],
   "source": [
    "u = np.random.rand(2, 2)\n",
    "u"
   ]
  },
  {
   "cell_type": "code",
   "execution_count": 15,
   "metadata": {
    "collapsed": true
   },
   "outputs": [],
   "source": [
    "v1 = np.transpose(u)\n",
    "v2 = u.T"
   ]
  },
  {
   "cell_type": "code",
   "execution_count": 16,
   "metadata": {},
   "outputs": [
    {
     "name": "stdout",
     "output_type": "stream",
     "text": [
      "[[0.15831741 0.37167054]\n",
      " [0.70927357 0.78333967]]\n",
      "Type :         <class 'numpy.ndarray'>\n",
      "Length :       2\n",
      "Shape :        (2, 2)\n",
      "Data Type :    float64\n",
      "Size :         4\n",
      "Rank :         2\n",
      "Matrix Rank :  2\n"
     ]
    }
   ],
   "source": [
    "print_info(u)"
   ]
  },
  {
   "cell_type": "code",
   "execution_count": 17,
   "metadata": {},
   "outputs": [
    {
     "name": "stdout",
     "output_type": "stream",
     "text": [
      "[[0.15831741 0.70927357]\n",
      " [0.37167054 0.78333967]]\n",
      "Type :         <class 'numpy.ndarray'>\n",
      "Length :       2\n",
      "Shape :        (2, 2)\n",
      "Data Type :    float64\n",
      "Size :         4\n",
      "Rank :         2\n",
      "Matrix Rank :  2\n"
     ]
    }
   ],
   "source": [
    "print_info(v1)"
   ]
  },
  {
   "cell_type": "code",
   "execution_count": 18,
   "metadata": {},
   "outputs": [
    {
     "name": "stdout",
     "output_type": "stream",
     "text": [
      "[[0.15831741 0.70927357]\n",
      " [0.37167054 0.78333967]]\n",
      "Type :         <class 'numpy.ndarray'>\n",
      "Length :       2\n",
      "Shape :        (2, 2)\n",
      "Data Type :    float64\n",
      "Size :         4\n",
      "Rank :         2\n",
      "Matrix Rank :  2\n"
     ]
    }
   ],
   "source": [
    "print_info(v2)"
   ]
  },
  {
   "cell_type": "markdown",
   "metadata": {
    "collapsed": true
   },
   "source": [
    "# Trace"
   ]
  },
  {
   "cell_type": "markdown",
   "metadata": {},
   "source": [
    "> np.trace"
   ]
  },
  {
   "cell_type": "markdown",
   "metadata": {},
   "source": [
    "```\n",
    "numpy.trace(a, offset=0, axis1=0, axis2=1, dtype=None, out=None)[source]\n",
    "```\n",
    "\n",
    "https://docs.scipy.org/doc/numpy/reference/generated/numpy.trace.html"
   ]
  },
  {
   "cell_type": "code",
   "execution_count": 19,
   "metadata": {},
   "outputs": [
    {
     "data": {
      "text/plain": [
       "array([[0.39652564, 0.80421867],\n",
       "       [0.17752749, 0.454777  ]])"
      ]
     },
     "execution_count": 19,
     "metadata": {},
     "output_type": "execute_result"
    }
   ],
   "source": [
    "u = np.random.rand(2, 2)\n",
    "u"
   ]
  },
  {
   "cell_type": "code",
   "execution_count": 20,
   "metadata": {},
   "outputs": [
    {
     "data": {
      "text/plain": [
       "0.8513026313766898"
      ]
     },
     "execution_count": 20,
     "metadata": {},
     "output_type": "execute_result"
    }
   ],
   "source": [
    "np.trace(u)"
   ]
  },
  {
   "cell_type": "markdown",
   "metadata": {},
   "source": [
    "# Inner Product"
   ]
  },
  {
   "cell_type": "markdown",
   "metadata": {},
   "source": [
    "$$\n",
    "{\\bf u} \\cdot {\\bf v} = \\sum_{i=1}^d u_iv_i\n",
    "$$"
   ]
  },
  {
   "cell_type": "code",
   "execution_count": 21,
   "metadata": {
    "collapsed": true
   },
   "outputs": [],
   "source": [
    "u = np.array([1,2,3])\n",
    "v = np.array([3,4,0])"
   ]
  },
  {
   "cell_type": "code",
   "execution_count": 22,
   "metadata": {},
   "outputs": [
    {
     "name": "stdout",
     "output_type": "stream",
     "text": [
      "Info on u\n",
      "[1 2 3]\n",
      "Type :         <class 'numpy.ndarray'>\n",
      "Length :       3\n",
      "Shape :        (3,)\n",
      "Data Type :    int64\n",
      "Size :         3\n",
      "Rank :         1\n",
      "Matrix Rank :  1\n",
      "\n",
      "Info on v\n",
      "[3 4 0]\n",
      "Type :         <class 'numpy.ndarray'>\n",
      "Length :       3\n",
      "Shape :        (3,)\n",
      "Data Type :    int64\n",
      "Size :         3\n",
      "Rank :         1\n",
      "Matrix Rank :  1\n",
      "\n",
      "Info on w\n",
      "11\n",
      "Type :         <class 'numpy.int64'>\n"
     ]
    }
   ],
   "source": [
    "w = np.dot(u,v)\n",
    "print_info_on_u_v_w(u,v,w)"
   ]
  },
  {
   "cell_type": "markdown",
   "metadata": {},
   "source": [
    "# Cross Product (only in ${\\bf R}^3$)"
   ]
  },
  {
   "cell_type": "markdown",
   "metadata": {},
   "source": [
    "$$\n",
    "{\\bf u} \\times {\\bf v} = \\left|\n",
    "\\begin{array}{lll}\n",
    "{\\bf i}&{\\bf j}&{\\bf k}\\\\\n",
    "u_1&u_2&u_3\\\\\n",
    "v_1&v_2&v_3\\\\\n",
    "\\end{array}\\right|\n",
    "$$"
   ]
  },
  {
   "cell_type": "markdown",
   "metadata": {},
   "source": [
    "```\n",
    "numpy.cross(a, b, axisa=-1, axisb=-1, axisc=-1, axis=None)\n",
    "```\n",
    "\n",
    "https://docs.scipy.org/doc/numpy/reference/generated/numpy.cross.html"
   ]
  },
  {
   "cell_type": "code",
   "execution_count": 23,
   "metadata": {
    "collapsed": true
   },
   "outputs": [],
   "source": [
    "u = np.array([1,2,3])\n",
    "v = np.array([3,4,0])"
   ]
  },
  {
   "cell_type": "code",
   "execution_count": 24,
   "metadata": {},
   "outputs": [
    {
     "name": "stdout",
     "output_type": "stream",
     "text": [
      "Info on u\n",
      "[1 2 3]\n",
      "Type :         <class 'numpy.ndarray'>\n",
      "Length :       3\n",
      "Shape :        (3,)\n",
      "Data Type :    int64\n",
      "Size :         3\n",
      "Rank :         1\n",
      "Matrix Rank :  1\n",
      "\n",
      "Info on v\n",
      "[3 4 0]\n",
      "Type :         <class 'numpy.ndarray'>\n",
      "Length :       3\n",
      "Shape :        (3,)\n",
      "Data Type :    int64\n",
      "Size :         3\n",
      "Rank :         1\n",
      "Matrix Rank :  1\n",
      "\n",
      "Info on w\n",
      "[-12   9  -2]\n",
      "Type :         <class 'numpy.ndarray'>\n",
      "Length :       3\n",
      "Shape :        (3,)\n",
      "Data Type :    int64\n",
      "Size :         3\n",
      "Rank :         1\n",
      "Matrix Rank :  1\n"
     ]
    }
   ],
   "source": [
    "w = np.cross(u,v)\n",
    "print_info_on_u_v_w(u,v,w)"
   ]
  }
 ],
 "metadata": {
  "kernelspec": {
   "display_name": "Python [conda env:anaconda]",
   "language": "python",
   "name": "conda-env-anaconda-py"
  },
  "language_info": {
   "codemirror_mode": {
    "name": "ipython",
    "version": 3
   },
   "file_extension": ".py",
   "mimetype": "text/x-python",
   "name": "python",
   "nbconvert_exporter": "python",
   "pygments_lexer": "ipython3",
   "version": "3.5.3"
  }
 },
 "nbformat": 4,
 "nbformat_minor": 2
}
