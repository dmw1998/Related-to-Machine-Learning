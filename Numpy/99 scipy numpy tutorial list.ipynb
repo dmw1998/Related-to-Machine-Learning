{
 "cells": [
  {
   "cell_type": "markdown",
   "metadata": {
    "collapsed": true
   },
   "source": [
    "Intro to Numerical Computing with NumPy (Beginner) | SciPy 2018 Tutorial | Alex Chabot-Leclerc\n",
    "[youtube](https://www.youtube.com/watch?v=V0D2mhVt7NE) \n",
    "[github](https://github.com/enthought/Numpy-Tutorial-SciPyConf-2018)\n",
    "\n",
    "Introduction to Numerical Computing with NumPy | SciPy 2017 Tutorial | Dillon Niederhut\n",
    "[youtube](https://www.youtube.com/watch?v=lKcwuPnSHIQ) \n",
    "[github](https://github.com/enthought/Numpy-Tutorial-SciPyConf-2017)\n",
    "\n",
    "NumPy Beginner | SciPy 2016 Tutorial | Alexandre Chabot LeClerc\n",
    "[youtube](https://www.youtube.com/watch?v=gtejJ3RCddE) \n",
    "[github](https://github.com/enthought/Numpy-Tutorial-SciPyConf-2016)\n",
    "\n",
    "Introduction to NumPy | SciPy 2015 Tutorial | Eric Jones \n",
    "[youtube](https://www.youtube.com/watch?v=1zmV8lZsHF4) \n",
    "[github](https://github.com/enthought/Numpy-Tutorial-SciPyConf-2015)"
   ]
  }
 ],
 "metadata": {
  "kernelspec": {
   "display_name": "Python [default]",
   "language": "python",
   "name": "python3"
  },
  "language_info": {
   "codemirror_mode": {
    "name": "ipython",
    "version": 3
   },
   "file_extension": ".py",
   "mimetype": "text/x-python",
   "name": "python",
   "nbconvert_exporter": "python",
   "pygments_lexer": "ipython3",
   "version": "3.5.3"
  }
 },
 "nbformat": 4,
 "nbformat_minor": 2
}
