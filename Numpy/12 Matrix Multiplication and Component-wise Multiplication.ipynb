{
 "cells": [
  {
   "cell_type": "markdown",
   "metadata": {},
   "source": [
    "# Matrix Multiplication and Component-wise Multiplication"
   ]
  },
  {
   "cell_type": "code",
   "execution_count": 1,
   "metadata": {
    "collapsed": true
   },
   "outputs": [],
   "source": [
    "import numpy as np"
   ]
  },
  {
   "cell_type": "markdown",
   "metadata": {},
   "source": [
    "# Matrix Multiplication"
   ]
  },
  {
   "cell_type": "markdown",
   "metadata": {},
   "source": [
    "> np.dot\n",
    "\n",
    "> dot method\n",
    "\n",
    "> @"
   ]
  },
  {
   "cell_type": "code",
   "execution_count": 2,
   "metadata": {
    "collapsed": true
   },
   "outputs": [],
   "source": [
    "def print_info(u):\n",
    "    print(u)\n",
    "    print(\"Type :        \", type(u))\n",
    "    try:\n",
    "        print(\"Length :      \", len(u))\n",
    "        print(\"Shape :       \", u.shape)\n",
    "        print(\"Data Type :   \", u.dtype)\n",
    "        print(\"Size :        \", u.size)\n",
    "        print(\"Rank :        \", u.ndim)\n",
    "        print(\"Matrix Rank : \", np.linalg.matrix_rank(u))\n",
    "    except:\n",
    "        pass"
   ]
  },
  {
   "cell_type": "code",
   "execution_count": 3,
   "metadata": {
    "collapsed": true
   },
   "outputs": [],
   "source": [
    "def print_info_on_u_v_w(u,v,w):\n",
    "    print('Info on u')\n",
    "    print_info(u)\n",
    "    print()\n",
    "    print('Info on v')\n",
    "    print_info(v)\n",
    "    print()\n",
    "    print('Info on w')\n",
    "    print_info(w)"
   ]
  },
  {
   "cell_type": "code",
   "execution_count": 4,
   "metadata": {
    "collapsed": true
   },
   "outputs": [],
   "source": [
    "u = np.random.rand(2, 2)\n",
    "v = np.random.rand(2, 2)"
   ]
  },
  {
   "cell_type": "code",
   "execution_count": 5,
   "metadata": {
    "collapsed": true
   },
   "outputs": [],
   "source": [
    "w1 = np.dot(u, v)\n",
    "w2 = u.dot(v)\n",
    "w3 = u @ v"
   ]
  },
  {
   "cell_type": "code",
   "execution_count": 6,
   "metadata": {},
   "outputs": [
    {
     "name": "stdout",
     "output_type": "stream",
     "text": [
      "Info on u\n",
      "[[0.86600603 0.08024274]\n",
      " [0.40460752 0.05808239]]\n",
      "Type :         <class 'numpy.ndarray'>\n",
      "Length :       2\n",
      "Shape :        (2, 2)\n",
      "Data Type :    float64\n",
      "Size :         4\n",
      "Rank :         2\n",
      "Matrix Rank :  2\n",
      "\n",
      "Info on v\n",
      "[[0.84550584 0.93613457]\n",
      " [0.69244262 0.53359852]]\n",
      "Type :         <class 'numpy.ndarray'>\n",
      "Length :       2\n",
      "Shape :        (2, 2)\n",
      "Data Type :    float64\n",
      "Size :         4\n",
      "Rank :         2\n",
      "Matrix Rank :  2\n",
      "\n",
      "Info on w\n",
      "[[0.78777664 0.85351559]\n",
      " [0.38231674 0.40975977]]\n",
      "Type :         <class 'numpy.ndarray'>\n",
      "Length :       2\n",
      "Shape :        (2, 2)\n",
      "Data Type :    float64\n",
      "Size :         4\n",
      "Rank :         2\n",
      "Matrix Rank :  2\n"
     ]
    }
   ],
   "source": [
    "print_info_on_u_v_w(u,v,w1)"
   ]
  },
  {
   "cell_type": "code",
   "execution_count": 7,
   "metadata": {},
   "outputs": [
    {
     "name": "stdout",
     "output_type": "stream",
     "text": [
      "[[0.78777664 0.85351559]\n",
      " [0.38231674 0.40975977]]\n",
      "Type :         <class 'numpy.ndarray'>\n",
      "Length :       2\n",
      "Shape :        (2, 2)\n",
      "Data Type :    float64\n",
      "Size :         4\n",
      "Rank :         2\n",
      "Matrix Rank :  2\n"
     ]
    }
   ],
   "source": [
    "print_info(w2)"
   ]
  },
  {
   "cell_type": "code",
   "execution_count": 8,
   "metadata": {},
   "outputs": [
    {
     "name": "stdout",
     "output_type": "stream",
     "text": [
      "[[0.78777664 0.85351559]\n",
      " [0.38231674 0.40975977]]\n",
      "Type :         <class 'numpy.ndarray'>\n",
      "Length :       2\n",
      "Shape :        (2, 2)\n",
      "Data Type :    float64\n",
      "Size :         4\n",
      "Rank :         2\n",
      "Matrix Rank :  2\n"
     ]
    }
   ],
   "source": [
    "print_info(w3)"
   ]
  },
  {
   "cell_type": "markdown",
   "metadata": {},
   "source": [
    "# Component-wise Multiplication"
   ]
  },
  {
   "cell_type": "markdown",
   "metadata": {},
   "source": [
    "> *"
   ]
  },
  {
   "cell_type": "code",
   "execution_count": 9,
   "metadata": {
    "collapsed": true
   },
   "outputs": [],
   "source": [
    "w4 = u * v"
   ]
  },
  {
   "cell_type": "code",
   "execution_count": 10,
   "metadata": {},
   "outputs": [
    {
     "name": "stdout",
     "output_type": "stream",
     "text": [
      "Info on u\n",
      "[[0.86600603 0.08024274]\n",
      " [0.40460752 0.05808239]]\n",
      "Type :         <class 'numpy.ndarray'>\n",
      "Length :       2\n",
      "Shape :        (2, 2)\n",
      "Data Type :    float64\n",
      "Size :         4\n",
      "Rank :         2\n",
      "Matrix Rank :  2\n",
      "\n",
      "Info on v\n",
      "[[0.84550584 0.93613457]\n",
      " [0.69244262 0.53359852]]\n",
      "Type :         <class 'numpy.ndarray'>\n",
      "Length :       2\n",
      "Shape :        (2, 2)\n",
      "Data Type :    float64\n",
      "Size :         4\n",
      "Rank :         2\n",
      "Matrix Rank :  2\n",
      "\n",
      "Info on w\n",
      "[[0.73221315 0.07511801]\n",
      " [0.28016749 0.03099268]]\n",
      "Type :         <class 'numpy.ndarray'>\n",
      "Length :       2\n",
      "Shape :        (2, 2)\n",
      "Data Type :    float64\n",
      "Size :         4\n",
      "Rank :         2\n",
      "Matrix Rank :  2\n"
     ]
    }
   ],
   "source": [
    "print_info_on_u_v_w(u,v,w4)"
   ]
  }
 ],
 "metadata": {
  "kernelspec": {
   "display_name": "Python [conda env:anaconda]",
   "language": "python",
   "name": "conda-env-anaconda-py"
  },
  "language_info": {
   "codemirror_mode": {
    "name": "ipython",
    "version": 3
   },
   "file_extension": ".py",
   "mimetype": "text/x-python",
   "name": "python",
   "nbconvert_exporter": "python",
   "pygments_lexer": "ipython3",
   "version": "3.5.3"
  }
 },
 "nbformat": 4,
 "nbformat_minor": 2
}
