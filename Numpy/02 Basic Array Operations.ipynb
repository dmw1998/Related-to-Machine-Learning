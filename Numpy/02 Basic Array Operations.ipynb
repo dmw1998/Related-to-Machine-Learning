{
 "cells": [
  {
   "cell_type": "markdown",
   "metadata": {},
   "source": [
    "# Basic Array Operations"
   ]
  },
  {
   "cell_type": "markdown",
   "metadata": {},
   "source": [
    "[numpy tutorial - basic array operations by codebasics](https://www.youtube.com/watch?v=a8aDcLk4vRc)"
   ]
  },
  {
   "cell_type": "markdown",
   "metadata": {},
   "source": [
    "# Important Attributes of np.ndarray"
   ]
  },
  {
   "cell_type": "markdown",
   "metadata": {},
   "source": [
    "NumPy’s array class is called ndarray. It is also known by the alias array. Note that numpy.array is not the same as the Standard Python Library class array.array, which only handles one-dimensional arrays and offers less functionality. The more important attributes of an ndarray object are:\n",
    "\n",
    "- ndarray.dtype\n",
    "\n",
    "- ndarray.shape\n",
    "\n",
    "- ndarray.size\n",
    "\n",
    "- ndarray.ndim\n",
    "\n",
    "- ndarray.itemsize\n",
    "\n",
    "- ndarray.data\n",
    "\n",
    "https://docs.scipy.org/doc/numpy/user/quickstart.html"
   ]
  },
  {
   "cell_type": "markdown",
   "metadata": {},
   "source": [
    "<div align=\"center\"><img src=\"img/Variable.png\" width=\"50%\"></div>\n",
    "\n",
    "http://corochann.com/chainer-basic-module-introduction-1098.html"
   ]
  },
  {
   "cell_type": "markdown",
   "metadata": {},
   "source": [
    "# dtype"
   ]
  },
  {
   "cell_type": "markdown",
   "metadata": {},
   "source": [
    "| Data type\t    | Description |\n",
    "|---------------|-------------|\n",
    "| ``bool_``     | Boolean (True or False) stored as a byte |\n",
    "| ``int_``      | Default integer type (same as C ``long``; normally either ``int64`` or ``int32``)| \n",
    "| ``intc``      | Identical to C ``int`` (normally ``int32`` or ``int64``)| \n",
    "| ``intp``      | Integer used for indexing (same as C ``ssize_t``; normally either ``int32`` or ``int64``)| \n",
    "| ``int8``      | Byte (-128 to 127)| \n",
    "| ``int16``     | Integer (-32768 to 32767)|\n",
    "| ``int32``     | Integer (-2147483648 to 2147483647)|\n",
    "| ``int64``     | Integer (-9223372036854775808 to 9223372036854775807)| \n",
    "| ``uint8``     | Unsigned integer (0 to 255)| \n",
    "| ``uint16``    | Unsigned integer (0 to 65535)| \n",
    "| ``uint32``    | Unsigned integer (0 to 4294967295)| \n",
    "| ``uint64``    | Unsigned integer (0 to 18446744073709551615)| \n",
    "| ``float_``    | Shorthand for ``float64``.| \n",
    "| ``float16``   | Half precision float: sign bit, 5 bits exponent, 10 bits mantissa| \n",
    "| ``float32``   | Single precision float: sign bit, 8 bits exponent, 23 bits mantissa| \n",
    "| ``float64``   | Double precision float: sign bit, 11 bits exponent, 52 bits mantissa| \n",
    "| ``complex_``  | Shorthand for ``complex128``.| \n",
    "| ``complex64`` | Complex number, represented by two 32-bit floats| \n",
    "| ``complex128``| Complex number, represented by two 64-bit floats| "
   ]
  },
  {
   "cell_type": "markdown",
   "metadata": {},
   "source": [
    "### list\n",
    "\n",
    "- Each may have different data type\n",
    "\n",
    "### np.ndarray\n",
    "\n",
    "- All have same data type\n",
    "\n",
    "- Fast"
   ]
  },
  {
   "cell_type": "code",
   "execution_count": 1,
   "metadata": {
    "collapsed": true
   },
   "outputs": [],
   "source": [
    "import numpy as np"
   ]
  },
  {
   "cell_type": "code",
   "execution_count": 2,
   "metadata": {
    "collapsed": true
   },
   "outputs": [],
   "source": [
    "def print_info(u):\n",
    "    try:\n",
    "        print(u)\n",
    "        print(\"type:     \", type(u))\n",
    "        print(\"len:      \", len(u))\n",
    "        print(\"dtype:    \", u.dtype)\n",
    "        print(\"shape:    \", u.shape)    \n",
    "        print(\"size:     \", u.size)\n",
    "        print(\"ndim:     \", u.ndim)\n",
    "        print(\"itemsize: \", u.itemsize)\n",
    "        print(\"data:     \", u.data)\n",
    "        print(\"np.linalg.matrix_rank: \", np.linalg.matrix_rank(u))\n",
    "    except Exception as e:\n",
    "        print(e)"
   ]
  },
  {
   "cell_type": "code",
   "execution_count": 3,
   "metadata": {},
   "outputs": [
    {
     "name": "stdout",
     "output_type": "stream",
     "text": [
      "[1, 2, 3, 4]\n",
      "type:      <class 'list'>\n",
      "len:       4\n",
      "'list' object has no attribute 'dtype'\n"
     ]
    }
   ],
   "source": [
    "u = [1, 2, 3, 4]     \n",
    "print_info(u)"
   ]
  },
  {
   "cell_type": "code",
   "execution_count": 4,
   "metadata": {},
   "outputs": [
    {
     "name": "stdout",
     "output_type": "stream",
     "text": [
      "[1 2 3 4]\n",
      "type:      <class 'numpy.ndarray'>\n",
      "len:       4\n",
      "dtype:     int64\n",
      "shape:     (4,)\n",
      "size:      4\n",
      "ndim:      1\n",
      "itemsize:  8\n",
      "data:      <memory at 0x10624c288>\n",
      "np.linalg.matrix_rank:  1\n"
     ]
    }
   ],
   "source": [
    "if 1:\n",
    "    u = np.array([1, 2, 3, 4]) \n",
    "elif 1:\n",
    "    u = np.array((1, 2, 3, 4)) \n",
    "print_info(u)"
   ]
  },
  {
   "cell_type": "code",
   "execution_count": 5,
   "metadata": {},
   "outputs": [
    {
     "data": {
      "text/plain": [
       "1"
      ]
     },
     "execution_count": 5,
     "metadata": {},
     "output_type": "execute_result"
    }
   ],
   "source": [
    "u[0]"
   ]
  },
  {
   "cell_type": "code",
   "execution_count": 6,
   "metadata": {},
   "outputs": [
    {
     "data": {
      "text/plain": [
       "2"
      ]
     },
     "execution_count": 6,
     "metadata": {},
     "output_type": "execute_result"
    }
   ],
   "source": [
    "u[1]"
   ]
  },
  {
   "cell_type": "code",
   "execution_count": 7,
   "metadata": {},
   "outputs": [
    {
     "name": "stdout",
     "output_type": "stream",
     "text": [
      "[0 1 2 3 4 5 6 7 8 9]\n",
      "type:      <class 'numpy.ndarray'>\n",
      "len:       10\n",
      "dtype:     int64\n",
      "shape:     (10,)\n",
      "size:      10\n",
      "ndim:      1\n",
      "itemsize:  8\n",
      "data:      <memory at 0x1058e0948>\n",
      "np.linalg.matrix_rank:  1\n"
     ]
    }
   ],
   "source": [
    "a = np.arange(10) \n",
    "print_info(a)"
   ]
  },
  {
   "cell_type": "code",
   "execution_count": 8,
   "metadata": {},
   "outputs": [
    {
     "name": "stdout",
     "output_type": "stream",
     "text": [
      "[0 1 2 3 4 5 6 7 8 9]\n",
      "type:      <class 'numpy.ndarray'>\n",
      "len:       10\n",
      "dtype:     int64\n",
      "shape:     (10,)\n",
      "size:      10\n",
      "ndim:      1\n",
      "itemsize:  8\n",
      "data:      <memory at 0x10624c288>\n",
      "np.linalg.matrix_rank:  1\n"
     ]
    }
   ],
   "source": [
    "a = np.arange(0,10) \n",
    "print_info(a)"
   ]
  },
  {
   "cell_type": "code",
   "execution_count": 9,
   "metadata": {},
   "outputs": [
    {
     "name": "stdout",
     "output_type": "stream",
     "text": [
      "[0 2 4 6 8]\n",
      "type:      <class 'numpy.ndarray'>\n",
      "len:       5\n",
      "dtype:     int64\n",
      "shape:     (5,)\n",
      "size:      5\n",
      "ndim:      1\n",
      "itemsize:  8\n",
      "data:      <memory at 0x10624c288>\n",
      "np.linalg.matrix_rank:  1\n"
     ]
    }
   ],
   "source": [
    "a = np.arange(0,10,2) \n",
    "print_info(a)"
   ]
  },
  {
   "cell_type": "code",
   "execution_count": 10,
   "metadata": {},
   "outputs": [
    {
     "name": "stdout",
     "output_type": "stream",
     "text": [
      "[ 0.          0.20408163  0.40816327  0.6122449   0.81632653  1.02040816\n",
      "  1.2244898   1.42857143  1.63265306  1.83673469  2.04081633  2.24489796\n",
      "  2.44897959  2.65306122  2.85714286  3.06122449  3.26530612  3.46938776\n",
      "  3.67346939  3.87755102  4.08163265  4.28571429  4.48979592  4.69387755\n",
      "  4.89795918  5.10204082  5.30612245  5.51020408  5.71428571  5.91836735\n",
      "  6.12244898  6.32653061  6.53061224  6.73469388  6.93877551  7.14285714\n",
      "  7.34693878  7.55102041  7.75510204  7.95918367  8.16326531  8.36734694\n",
      "  8.57142857  8.7755102   8.97959184  9.18367347  9.3877551   9.59183673\n",
      "  9.79591837 10.        ]\n",
      "type:      <class 'numpy.ndarray'>\n",
      "len:       50\n",
      "dtype:     float64\n",
      "shape:     (50,)\n",
      "size:      50\n",
      "ndim:      1\n",
      "itemsize:  8\n",
      "data:      <memory at 0x10624c288>\n",
      "np.linalg.matrix_rank:  1\n"
     ]
    }
   ],
   "source": [
    "u = np.linspace(0, 10)     \n",
    "print_info(u)"
   ]
  },
  {
   "cell_type": "code",
   "execution_count": 11,
   "metadata": {},
   "outputs": [
    {
     "name": "stdout",
     "output_type": "stream",
     "text": [
      "[ 0.          1.11111111  2.22222222  3.33333333  4.44444444  5.55555556\n",
      "  6.66666667  7.77777778  8.88888889 10.        ]\n",
      "type:      <class 'numpy.ndarray'>\n",
      "len:       10\n",
      "dtype:     float64\n",
      "shape:     (10,)\n",
      "size:      10\n",
      "ndim:      1\n",
      "itemsize:  8\n",
      "data:      <memory at 0x10624c348>\n",
      "np.linalg.matrix_rank:  1\n"
     ]
    }
   ],
   "source": [
    "u = np.linspace(0, 10, 10)     \n",
    "print_info(u)"
   ]
  },
  {
   "cell_type": "code",
   "execution_count": 12,
   "metadata": {},
   "outputs": [
    {
     "name": "stdout",
     "output_type": "stream",
     "text": [
      "[[-1.  -0.6 -0.2]\n",
      " [ 0.2  0.6  1. ]]\n",
      "type:      <class 'numpy.ndarray'>\n",
      "len:       2\n",
      "dtype:     float64\n",
      "shape:     (2, 3)\n",
      "size:      6\n",
      "ndim:      2\n",
      "itemsize:  8\n",
      "data:      <memory at 0x1060a9c18>\n",
      "np.linalg.matrix_rank:  2\n"
     ]
    }
   ],
   "source": [
    "if 1:\n",
    "    a = np.array([[-1., -0.6, -0.2], \n",
    "                  [0.2, 0.6, 1.]])\n",
    "elif 1:\n",
    "    a = np.array([[-1., -0.6, -0.2], [0.2, 0.6, 1.]])\n",
    "elif 1:\n",
    "    a = np.array([(-1., -0.6, -0.2), \n",
    "                  (0.2, 0.6, 1.)])\n",
    "elif 1:\n",
    "    a = np.array([(-1., -0.6, -0.2), (0.2, 0.6, 1.)])\n",
    "print_info(a)"
   ]
  },
  {
   "cell_type": "markdown",
   "metadata": {},
   "source": [
    "np.array를 이용할 때, 다음과 같은 실수가 많다."
   ]
  },
  {
   "cell_type": "code",
   "execution_count": 13,
   "metadata": {},
   "outputs": [
    {
     "name": "stdout",
     "output_type": "stream",
     "text": [
      "only 2 non-keyword arguments accepted\n"
     ]
    }
   ],
   "source": [
    "try:\n",
    "    a = np.array(-1., -0.6, -0.2)\n",
    "except Exception as e:\n",
    "    print(e)"
   ]
  },
  {
   "cell_type": "markdown",
   "metadata": {},
   "source": [
    "# Change dtype using dtype keyword"
   ]
  },
  {
   "cell_type": "code",
   "execution_count": 14,
   "metadata": {},
   "outputs": [
    {
     "name": "stdout",
     "output_type": "stream",
     "text": [
      "[1 2 3 4]\n",
      "type:      <class 'numpy.ndarray'>\n",
      "len:       4\n",
      "dtype:     int64\n",
      "shape:     (4,)\n",
      "size:      4\n",
      "ndim:      1\n",
      "itemsize:  8\n",
      "data:      <memory at 0x1058e0948>\n",
      "np.linalg.matrix_rank:  1\n",
      "[1. 2. 3. 4.]\n",
      "type:      <class 'numpy.ndarray'>\n",
      "len:       4\n",
      "dtype:     float64\n",
      "shape:     (4,)\n",
      "size:      4\n",
      "ndim:      1\n",
      "itemsize:  8\n",
      "data:      <memory at 0x1058e0948>\n",
      "np.linalg.matrix_rank:  1\n"
     ]
    }
   ],
   "source": [
    "u = np.array([1, 2, 3, 4])\n",
    "\n",
    "if 1:\n",
    "    v = np.array([1, 2, 3, 4], dtype=np.float64)\n",
    "elif 1:\n",
    "    v = np.array([1, 2, 3, 4], dtype=float)\n",
    "elif 1:\n",
    "    v = np.array([1, 2, 3, 4], dtype='float')\n",
    "elif 1:\n",
    "    v = np.array([1, 2, 3, 4], dtype='f')\n",
    "    \n",
    "print_info(u)\n",
    "print_info(v)"
   ]
  },
  {
   "cell_type": "code",
   "execution_count": 15,
   "metadata": {},
   "outputs": [
    {
     "name": "stdout",
     "output_type": "stream",
     "text": [
      "[ 0.          0.20408163  0.40816327  0.6122449   0.81632653  1.02040816\n",
      "  1.2244898   1.42857143  1.63265306  1.83673469  2.04081633  2.24489796\n",
      "  2.44897959  2.65306122  2.85714286  3.06122449  3.26530612  3.46938776\n",
      "  3.67346939  3.87755102  4.08163265  4.28571429  4.48979592  4.69387755\n",
      "  4.89795918  5.10204082  5.30612245  5.51020408  5.71428571  5.91836735\n",
      "  6.12244898  6.32653061  6.53061224  6.73469388  6.93877551  7.14285714\n",
      "  7.34693878  7.55102041  7.75510204  7.95918367  8.16326531  8.36734694\n",
      "  8.57142857  8.7755102   8.97959184  9.18367347  9.3877551   9.59183673\n",
      "  9.79591837 10.        ]\n",
      "type:      <class 'numpy.ndarray'>\n",
      "len:       50\n",
      "dtype:     float64\n",
      "shape:     (50,)\n",
      "size:      50\n",
      "ndim:      1\n",
      "itemsize:  8\n",
      "data:      <memory at 0x10624c348>\n",
      "np.linalg.matrix_rank:  1\n",
      "[ 0  0  0  0  0  1  1  1  1  1  2  2  2  2  2  3  3  3  3  3  4  4  4  4\n",
      "  4  5  5  5  5  5  6  6  6  6  6  7  7  7  7  7  8  8  8  8  8  9  9  9\n",
      "  9 10]\n",
      "type:      <class 'numpy.ndarray'>\n",
      "len:       50\n",
      "dtype:     int64\n",
      "shape:     (50,)\n",
      "size:      50\n",
      "ndim:      1\n",
      "itemsize:  8\n",
      "data:      <memory at 0x10624c348>\n",
      "np.linalg.matrix_rank:  1\n"
     ]
    }
   ],
   "source": [
    "u = np.linspace(0, 10)\n",
    "\n",
    "if 1:\n",
    "    v = np.linspace(0, 10, dtype=np.int64)\n",
    "elif 1:\n",
    "    v = np.linspace(0, 10, dtype=int) \n",
    "elif 1:\n",
    "    v = np.linspace(0, 10, dtype='int') \n",
    "elif 1:\n",
    "    v = np.linspace(0, 10, dtype='i')\n",
    "    \n",
    "print_info(u)\n",
    "print_info(v)"
   ]
  },
  {
   "cell_type": "code",
   "execution_count": 16,
   "metadata": {},
   "outputs": [
    {
     "data": {
      "text/plain": [
       "array([5., 6., 7.])"
      ]
     },
     "execution_count": 16,
     "metadata": {},
     "output_type": "execute_result"
    }
   ],
   "source": [
    "a = np.array([5.,6.,7.])\n",
    "a"
   ]
  },
  {
   "cell_type": "code",
   "execution_count": 17,
   "metadata": {},
   "outputs": [
    {
     "data": {
      "text/plain": [
       "dtype('float64')"
      ]
     },
     "execution_count": 17,
     "metadata": {},
     "output_type": "execute_result"
    }
   ],
   "source": [
    "a.dtype"
   ]
  },
  {
   "cell_type": "code",
   "execution_count": 18,
   "metadata": {},
   "outputs": [
    {
     "data": {
      "text/plain": [
       "8"
      ]
     },
     "execution_count": 18,
     "metadata": {},
     "output_type": "execute_result"
    }
   ],
   "source": [
    "a.itemsize"
   ]
  },
  {
   "cell_type": "code",
   "execution_count": 19,
   "metadata": {},
   "outputs": [
    {
     "data": {
      "text/plain": [
       "array([5, 6, 7])"
      ]
     },
     "execution_count": 19,
     "metadata": {},
     "output_type": "execute_result"
    }
   ],
   "source": [
    "a = np.array([5.,6.,7.], dtype=int)\n",
    "a"
   ]
  },
  {
   "cell_type": "code",
   "execution_count": 20,
   "metadata": {},
   "outputs": [
    {
     "data": {
      "text/plain": [
       "dtype('int64')"
      ]
     },
     "execution_count": 20,
     "metadata": {},
     "output_type": "execute_result"
    }
   ],
   "source": [
    "a.dtype"
   ]
  },
  {
   "cell_type": "code",
   "execution_count": 21,
   "metadata": {},
   "outputs": [
    {
     "data": {
      "text/plain": [
       "8"
      ]
     },
     "execution_count": 21,
     "metadata": {},
     "output_type": "execute_result"
    }
   ],
   "source": [
    "a.itemsize"
   ]
  },
  {
   "cell_type": "code",
   "execution_count": 22,
   "metadata": {},
   "outputs": [
    {
     "data": {
      "text/plain": [
       "array([5., 6., 7.], dtype=float32)"
      ]
     },
     "execution_count": 22,
     "metadata": {},
     "output_type": "execute_result"
    }
   ],
   "source": [
    "a = np.array([5.,6.,7.], dtype=np.float32)\n",
    "a"
   ]
  },
  {
   "cell_type": "code",
   "execution_count": 23,
   "metadata": {},
   "outputs": [
    {
     "data": {
      "text/plain": [
       "dtype('float32')"
      ]
     },
     "execution_count": 23,
     "metadata": {},
     "output_type": "execute_result"
    }
   ],
   "source": [
    "a.dtype"
   ]
  },
  {
   "cell_type": "code",
   "execution_count": 24,
   "metadata": {},
   "outputs": [
    {
     "data": {
      "text/plain": [
       "4"
      ]
     },
     "execution_count": 24,
     "metadata": {},
     "output_type": "execute_result"
    }
   ],
   "source": [
    "a.itemsize"
   ]
  },
  {
   "cell_type": "code",
   "execution_count": 25,
   "metadata": {},
   "outputs": [
    {
     "data": {
      "text/plain": [
       "array([5., 6., 7.], dtype=float16)"
      ]
     },
     "execution_count": 25,
     "metadata": {},
     "output_type": "execute_result"
    }
   ],
   "source": [
    "a = np.array([5.,6.,7.], dtype=np.float16)\n",
    "a"
   ]
  },
  {
   "cell_type": "code",
   "execution_count": 26,
   "metadata": {},
   "outputs": [
    {
     "data": {
      "text/plain": [
       "dtype('float16')"
      ]
     },
     "execution_count": 26,
     "metadata": {},
     "output_type": "execute_result"
    }
   ],
   "source": [
    "a.dtype"
   ]
  },
  {
   "cell_type": "code",
   "execution_count": 27,
   "metadata": {},
   "outputs": [
    {
     "data": {
      "text/plain": [
       "2"
      ]
     },
     "execution_count": 27,
     "metadata": {},
     "output_type": "execute_result"
    }
   ],
   "source": [
    "a.itemsize"
   ]
  },
  {
   "cell_type": "code",
   "execution_count": 28,
   "metadata": {},
   "outputs": [
    {
     "data": {
      "text/plain": [
       "array([5.+0.j, 6.+0.j, 7.+0.j])"
      ]
     },
     "execution_count": 28,
     "metadata": {},
     "output_type": "execute_result"
    }
   ],
   "source": [
    "a = np.array([5.,6.,7.], dtype='complex')\n",
    "a"
   ]
  },
  {
   "cell_type": "code",
   "execution_count": 29,
   "metadata": {},
   "outputs": [
    {
     "data": {
      "text/plain": [
       "dtype('complex128')"
      ]
     },
     "execution_count": 29,
     "metadata": {},
     "output_type": "execute_result"
    }
   ],
   "source": [
    "a.dtype"
   ]
  },
  {
   "cell_type": "code",
   "execution_count": 30,
   "metadata": {},
   "outputs": [
    {
     "data": {
      "text/plain": [
       "16"
      ]
     },
     "execution_count": 30,
     "metadata": {},
     "output_type": "execute_result"
    }
   ],
   "source": [
    "a.itemsize"
   ]
  },
  {
   "cell_type": "code",
   "execution_count": 31,
   "metadata": {},
   "outputs": [
    {
     "data": {
      "text/plain": [
       "array([5., 6., 7.], dtype=float16)"
      ]
     },
     "execution_count": 31,
     "metadata": {},
     "output_type": "execute_result"
    }
   ],
   "source": [
    "a = np.array([5.,6.,7.])\n",
    "a = np.array(a, dtype=np.float16)\n",
    "a"
   ]
  },
  {
   "cell_type": "code",
   "execution_count": 32,
   "metadata": {},
   "outputs": [
    {
     "data": {
      "text/plain": [
       "dtype('float16')"
      ]
     },
     "execution_count": 32,
     "metadata": {},
     "output_type": "execute_result"
    }
   ],
   "source": [
    "a.dtype"
   ]
  },
  {
   "cell_type": "code",
   "execution_count": 33,
   "metadata": {},
   "outputs": [
    {
     "data": {
      "text/plain": [
       "2"
      ]
     },
     "execution_count": 33,
     "metadata": {},
     "output_type": "execute_result"
    }
   ],
   "source": [
    "a.itemsize"
   ]
  },
  {
   "cell_type": "markdown",
   "metadata": {},
   "source": [
    "# Change dtype using astype method"
   ]
  },
  {
   "cell_type": "code",
   "execution_count": 34,
   "metadata": {},
   "outputs": [
    {
     "name": "stdout",
     "output_type": "stream",
     "text": [
      "[1 2 3 4]\n",
      "type:      <class 'numpy.ndarray'>\n",
      "len:       4\n",
      "dtype:     int64\n",
      "shape:     (4,)\n",
      "size:      4\n",
      "ndim:      1\n",
      "itemsize:  8\n",
      "data:      <memory at 0x10624c408>\n",
      "np.linalg.matrix_rank:  1\n",
      "[1. 2. 3. 4.]\n",
      "type:      <class 'numpy.ndarray'>\n",
      "len:       4\n",
      "dtype:     float64\n",
      "shape:     (4,)\n",
      "size:      4\n",
      "ndim:      1\n",
      "itemsize:  8\n",
      "data:      <memory at 0x10624c408>\n",
      "np.linalg.matrix_rank:  1\n"
     ]
    }
   ],
   "source": [
    "u = np.array([1, 2, 3, 4])\n",
    "v = u.astype(float)\n",
    "print_info(u)\n",
    "print_info(v)"
   ]
  },
  {
   "cell_type": "code",
   "execution_count": 35,
   "metadata": {},
   "outputs": [
    {
     "name": "stdout",
     "output_type": "stream",
     "text": [
      "[ 0.          0.20408163  0.40816327  0.6122449   0.81632653  1.02040816\n",
      "  1.2244898   1.42857143  1.63265306  1.83673469  2.04081633  2.24489796\n",
      "  2.44897959  2.65306122  2.85714286  3.06122449  3.26530612  3.46938776\n",
      "  3.67346939  3.87755102  4.08163265  4.28571429  4.48979592  4.69387755\n",
      "  4.89795918  5.10204082  5.30612245  5.51020408  5.71428571  5.91836735\n",
      "  6.12244898  6.32653061  6.53061224  6.73469388  6.93877551  7.14285714\n",
      "  7.34693878  7.55102041  7.75510204  7.95918367  8.16326531  8.36734694\n",
      "  8.57142857  8.7755102   8.97959184  9.18367347  9.3877551   9.59183673\n",
      "  9.79591837 10.        ]\n",
      "type:      <class 'numpy.ndarray'>\n",
      "len:       50\n",
      "dtype:     float64\n",
      "shape:     (50,)\n",
      "size:      50\n",
      "ndim:      1\n",
      "itemsize:  8\n",
      "data:      <memory at 0x10624c408>\n",
      "np.linalg.matrix_rank:  1\n",
      "[ 0  0  0  0  0  1  1  1  1  1  2  2  2  2  2  3  3  3  3  3  4  4  4  4\n",
      "  4  5  5  5  5  5  6  6  6  6  6  7  7  7  7  7  8  8  8  8  8  9  9  9\n",
      "  9 10]\n",
      "type:      <class 'numpy.ndarray'>\n",
      "len:       50\n",
      "dtype:     int64\n",
      "shape:     (50,)\n",
      "size:      50\n",
      "ndim:      1\n",
      "itemsize:  8\n",
      "data:      <memory at 0x10624c408>\n",
      "np.linalg.matrix_rank:  1\n"
     ]
    }
   ],
   "source": [
    "u = np.linspace(0, 10, dtype=np.float64) \n",
    "v = u.astype(int)\n",
    "print_info(u)\n",
    "print_info(v)"
   ]
  },
  {
   "cell_type": "markdown",
   "metadata": {},
   "source": [
    "# shape"
   ]
  },
  {
   "cell_type": "markdown",
   "metadata": {},
   "source": [
    "<div align=\"center\"><img src=\"img/elsp_0105.png\" width=\"50%\"></div>\n",
    "\n",
    "https://www.safaribooksonline.com/library/view/elegant-scipy/9781491922927/assets/elsp_0105.png"
   ]
  },
  {
   "cell_type": "code",
   "execution_count": 36,
   "metadata": {},
   "outputs": [
    {
     "data": {
      "text/plain": [
       "array([[ 1. ,  3.2],\n",
       "       [ 5.4,  7.6],\n",
       "       [ 9.8, 12. ]])"
      ]
     },
     "execution_count": 36,
     "metadata": {},
     "output_type": "execute_result"
    }
   ],
   "source": [
    "a = np.linspace(1,12,6).reshape(3,2)\n",
    "a"
   ]
  },
  {
   "cell_type": "code",
   "execution_count": 37,
   "metadata": {},
   "outputs": [
    {
     "data": {
      "text/plain": [
       "(3, 2)"
      ]
     },
     "execution_count": 37,
     "metadata": {},
     "output_type": "execute_result"
    }
   ],
   "source": [
    "a.shape"
   ]
  },
  {
   "cell_type": "code",
   "execution_count": 38,
   "metadata": {},
   "outputs": [
    {
     "data": {
      "text/plain": [
       "6"
      ]
     },
     "execution_count": 38,
     "metadata": {},
     "output_type": "execute_result"
    }
   ],
   "source": [
    "a.size"
   ]
  },
  {
   "cell_type": "code",
   "execution_count": 39,
   "metadata": {},
   "outputs": [
    {
     "data": {
      "text/plain": [
       "dtype('float64')"
      ]
     },
     "execution_count": 39,
     "metadata": {},
     "output_type": "execute_result"
    }
   ],
   "source": [
    "a.dtype"
   ]
  },
  {
   "cell_type": "code",
   "execution_count": 40,
   "metadata": {},
   "outputs": [
    {
     "data": {
      "text/plain": [
       "8"
      ]
     },
     "execution_count": 40,
     "metadata": {},
     "output_type": "execute_result"
    }
   ],
   "source": [
    "a.itemsize"
   ]
  },
  {
   "cell_type": "markdown",
   "metadata": {},
   "source": [
    "# Change shape using reshape method"
   ]
  },
  {
   "cell_type": "code",
   "execution_count": 41,
   "metadata": {},
   "outputs": [
    {
     "name": "stdout",
     "output_type": "stream",
     "text": [
      "[[1 2]\n",
      " [3 4]\n",
      " [5 6]]\n",
      "type:      <class 'numpy.ndarray'>\n",
      "len:       3\n",
      "dtype:     int64\n",
      "shape:     (3, 2)\n",
      "size:      6\n",
      "ndim:      2\n",
      "itemsize:  8\n",
      "data:      <memory at 0x1060a9c18>\n",
      "np.linalg.matrix_rank:  2\n",
      "[[1 2 3]\n",
      " [4 5 6]]\n",
      "type:      <class 'numpy.ndarray'>\n",
      "len:       2\n",
      "dtype:     int64\n",
      "shape:     (2, 3)\n",
      "size:      6\n",
      "ndim:      2\n",
      "itemsize:  8\n",
      "data:      <memory at 0x1060a9c18>\n",
      "np.linalg.matrix_rank:  2\n"
     ]
    }
   ],
   "source": [
    "u = np.array([[1, 2], [3, 4], [5, 6]])\n",
    "v = u.reshape((2,3))\n",
    "print_info(u)\n",
    "print_info(v)"
   ]
  },
  {
   "cell_type": "code",
   "execution_count": 42,
   "metadata": {},
   "outputs": [
    {
     "name": "stdout",
     "output_type": "stream",
     "text": [
      "[[1 2]\n",
      " [3 4]]\n",
      "type:      <class 'numpy.ndarray'>\n",
      "len:       2\n",
      "dtype:     int64\n",
      "shape:     (2, 2)\n",
      "size:      4\n",
      "ndim:      2\n",
      "itemsize:  8\n",
      "data:      <memory at 0x1060a9c18>\n",
      "np.linalg.matrix_rank:  2\n",
      "[1 2 3 4]\n",
      "type:      <class 'numpy.ndarray'>\n",
      "len:       4\n",
      "dtype:     int64\n",
      "shape:     (4,)\n",
      "size:      4\n",
      "ndim:      1\n",
      "itemsize:  8\n",
      "data:      <memory at 0x10624c408>\n",
      "np.linalg.matrix_rank:  1\n"
     ]
    }
   ],
   "source": [
    "u = np.array([[1, 2], [3, 4]])\n",
    "v = u.reshape((4,))\n",
    "print_info(u)\n",
    "print_info(v)"
   ]
  },
  {
   "cell_type": "code",
   "execution_count": 43,
   "metadata": {},
   "outputs": [
    {
     "name": "stdout",
     "output_type": "stream",
     "text": [
      "[[1 2]\n",
      " [3 4]]\n",
      "type:      <class 'numpy.ndarray'>\n",
      "len:       2\n",
      "dtype:     int64\n",
      "shape:     (2, 2)\n",
      "size:      4\n",
      "ndim:      2\n",
      "itemsize:  8\n",
      "data:      <memory at 0x1060a9c18>\n",
      "np.linalg.matrix_rank:  2\n",
      "[[1]\n",
      " [2]\n",
      " [3]\n",
      " [4]]\n",
      "type:      <class 'numpy.ndarray'>\n",
      "len:       4\n",
      "dtype:     int64\n",
      "shape:     (4, 1)\n",
      "size:      4\n",
      "ndim:      2\n",
      "itemsize:  8\n",
      "data:      <memory at 0x1060a9c18>\n",
      "np.linalg.matrix_rank:  1\n"
     ]
    }
   ],
   "source": [
    "u = np.array([[1, 2], [3, 4]])\n",
    "v = u.reshape((4,1))\n",
    "print_info(u)\n",
    "print_info(v)"
   ]
  },
  {
   "cell_type": "code",
   "execution_count": 44,
   "metadata": {},
   "outputs": [
    {
     "name": "stdout",
     "output_type": "stream",
     "text": [
      "[[[1 2]\n",
      "  [3 4]]]\n",
      "type:      <class 'numpy.ndarray'>\n",
      "len:       1\n",
      "dtype:     int64\n",
      "shape:     (1, 2, 2)\n",
      "size:      4\n",
      "ndim:      3\n",
      "itemsize:  8\n",
      "data:      <memory at 0x1058fb9a8>\n",
      "np.linalg.matrix_rank:  [2]\n",
      "[[1 2]\n",
      " [3 4]]\n",
      "type:      <class 'numpy.ndarray'>\n",
      "len:       2\n",
      "dtype:     int64\n",
      "shape:     (2, 2)\n",
      "size:      4\n",
      "ndim:      2\n",
      "itemsize:  8\n",
      "data:      <memory at 0x1060a9c18>\n",
      "np.linalg.matrix_rank:  2\n"
     ]
    }
   ],
   "source": [
    "u = np.array([[[1, 2], [3, 4]]])\n",
    "v = u.reshape((2,2))\n",
    "print_info(u)\n",
    "print_info(v)"
   ]
  },
  {
   "cell_type": "code",
   "execution_count": 45,
   "metadata": {},
   "outputs": [
    {
     "name": "stdout",
     "output_type": "stream",
     "text": [
      "[ 0.          0.20408163  0.40816327  0.6122449   0.81632653  1.02040816\n",
      "  1.2244898   1.42857143  1.63265306  1.83673469  2.04081633  2.24489796\n",
      "  2.44897959  2.65306122  2.85714286  3.06122449  3.26530612  3.46938776\n",
      "  3.67346939  3.87755102  4.08163265  4.28571429  4.48979592  4.69387755\n",
      "  4.89795918  5.10204082  5.30612245  5.51020408  5.71428571  5.91836735\n",
      "  6.12244898  6.32653061  6.53061224  6.73469388  6.93877551  7.14285714\n",
      "  7.34693878  7.55102041  7.75510204  7.95918367  8.16326531  8.36734694\n",
      "  8.57142857  8.7755102   8.97959184  9.18367347  9.3877551   9.59183673\n",
      "  9.79591837 10.        ]\n",
      "type:      <class 'numpy.ndarray'>\n",
      "len:       50\n",
      "dtype:     float64\n",
      "shape:     (50,)\n",
      "size:      50\n",
      "ndim:      1\n",
      "itemsize:  8\n",
      "data:      <memory at 0x10624c408>\n",
      "np.linalg.matrix_rank:  1\n",
      "[[ 0.          0.20408163  0.40816327  0.6122449   0.81632653  1.02040816\n",
      "   1.2244898   1.42857143  1.63265306  1.83673469]\n",
      " [ 2.04081633  2.24489796  2.44897959  2.65306122  2.85714286  3.06122449\n",
      "   3.26530612  3.46938776  3.67346939  3.87755102]\n",
      " [ 4.08163265  4.28571429  4.48979592  4.69387755  4.89795918  5.10204082\n",
      "   5.30612245  5.51020408  5.71428571  5.91836735]\n",
      " [ 6.12244898  6.32653061  6.53061224  6.73469388  6.93877551  7.14285714\n",
      "   7.34693878  7.55102041  7.75510204  7.95918367]\n",
      " [ 8.16326531  8.36734694  8.57142857  8.7755102   8.97959184  9.18367347\n",
      "   9.3877551   9.59183673  9.79591837 10.        ]]\n",
      "type:      <class 'numpy.ndarray'>\n",
      "len:       5\n",
      "dtype:     float64\n",
      "shape:     (5, 10)\n",
      "size:      50\n",
      "ndim:      2\n",
      "itemsize:  8\n",
      "data:      <memory at 0x1060a9c18>\n",
      "np.linalg.matrix_rank:  2\n"
     ]
    }
   ],
   "source": [
    "u = np.linspace(0, 10) \n",
    "v = u.reshape((5,10))\n",
    "print_info(u)\n",
    "print_info(v)"
   ]
  },
  {
   "cell_type": "code",
   "execution_count": 46,
   "metadata": {},
   "outputs": [
    {
     "name": "stdout",
     "output_type": "stream",
     "text": [
      "[ 0.          0.41666667  0.83333333  1.25        1.66666667  2.08333333\n",
      "  2.5         2.91666667  3.33333333  3.75        4.16666667  4.58333333\n",
      "  5.          5.41666667  5.83333333  6.25        6.66666667  7.08333333\n",
      "  7.5         7.91666667  8.33333333  8.75        9.16666667  9.58333333\n",
      " 10.        ]\n",
      "type:      <class 'numpy.ndarray'>\n",
      "len:       25\n",
      "dtype:     float64\n",
      "shape:     (25,)\n",
      "size:      25\n",
      "ndim:      1\n",
      "itemsize:  8\n",
      "data:      <memory at 0x10624c408>\n",
      "np.linalg.matrix_rank:  1\n",
      "[[[ 0.          0.41666667  0.83333333  1.25        1.66666667]\n",
      "  [ 2.08333333  2.5         2.91666667  3.33333333  3.75      ]\n",
      "  [ 4.16666667  4.58333333  5.          5.41666667  5.83333333]\n",
      "  [ 6.25        6.66666667  7.08333333  7.5         7.91666667]\n",
      "  [ 8.33333333  8.75        9.16666667  9.58333333 10.        ]]]\n",
      "type:      <class 'numpy.ndarray'>\n",
      "len:       1\n",
      "dtype:     float64\n",
      "shape:     (1, 5, 5)\n",
      "size:      25\n",
      "ndim:      3\n",
      "itemsize:  8\n",
      "data:      <memory at 0x1058fb9a8>\n",
      "np.linalg.matrix_rank:  [2]\n"
     ]
    }
   ],
   "source": [
    "u = np.linspace(0, 10, 25) \n",
    "v = u.reshape((1,5,5))\n",
    "print_info(u)\n",
    "print_info(v)"
   ]
  },
  {
   "cell_type": "markdown",
   "metadata": {},
   "source": [
    "# Caution: Change shape using reshape method"
   ]
  },
  {
   "cell_type": "code",
   "execution_count": 47,
   "metadata": {},
   "outputs": [
    {
     "data": {
      "text/plain": [
       "array([ 1. ,  3.2,  5.4,  7.6,  9.8, 12. ])"
      ]
     },
     "execution_count": 47,
     "metadata": {},
     "output_type": "execute_result"
    }
   ],
   "source": [
    "a = np.linspace(1,12,6)\n",
    "a"
   ]
  },
  {
   "cell_type": "code",
   "execution_count": 48,
   "metadata": {},
   "outputs": [
    {
     "data": {
      "text/plain": [
       "array([[ 1. ,  3.2],\n",
       "       [ 5.4,  7.6],\n",
       "       [ 9.8, 12. ]])"
      ]
     },
     "execution_count": 48,
     "metadata": {},
     "output_type": "execute_result"
    }
   ],
   "source": [
    "a.reshape(3,2)"
   ]
  },
  {
   "cell_type": "code",
   "execution_count": 49,
   "metadata": {},
   "outputs": [
    {
     "data": {
      "text/plain": [
       "array([ 1. ,  3.2,  5.4,  7.6,  9.8, 12. ])"
      ]
     },
     "execution_count": 49,
     "metadata": {},
     "output_type": "execute_result"
    }
   ],
   "source": [
    "a"
   ]
  },
  {
   "cell_type": "code",
   "execution_count": 50,
   "metadata": {},
   "outputs": [
    {
     "name": "stdout",
     "output_type": "stream",
     "text": [
      "'inplace' is an invalid keyword argument for this function\n"
     ]
    }
   ],
   "source": [
    "try:\n",
    "    a.reshape((3,2), inplace=True)\n",
    "except Exception as e:\n",
    "    print(e)"
   ]
  },
  {
   "cell_type": "markdown",
   "metadata": {},
   "source": [
    "reshape method는 오리지날을 건들이지 않고 reshape한 것을 리턴합니다.\n",
    "inplace=True도 작동하지 않아요.\n",
    "리턴한 것을 받아야만 모양을 바꿀 수 있어요."
   ]
  },
  {
   "cell_type": "code",
   "execution_count": 51,
   "metadata": {},
   "outputs": [
    {
     "data": {
      "text/plain": [
       "array([[ 1. ,  3.2],\n",
       "       [ 5.4,  7.6],\n",
       "       [ 9.8, 12. ]])"
      ]
     },
     "execution_count": 51,
     "metadata": {},
     "output_type": "execute_result"
    }
   ],
   "source": [
    "a = a.reshape(3,2)\n",
    "a"
   ]
  },
  {
   "cell_type": "markdown",
   "metadata": {},
   "source": [
    "# Change shape using flatten or ravel method"
   ]
  },
  {
   "cell_type": "code",
   "execution_count": 52,
   "metadata": {},
   "outputs": [
    {
     "data": {
      "text/plain": [
       "array([[1, 2],\n",
       "       [3, 4],\n",
       "       [5, 6]])"
      ]
     },
     "execution_count": 52,
     "metadata": {},
     "output_type": "execute_result"
    }
   ],
   "source": [
    "u = np.array([[1, 2], [3, 4], [5, 6]])\n",
    "u"
   ]
  },
  {
   "cell_type": "code",
   "execution_count": 53,
   "metadata": {},
   "outputs": [],
   "source": [
    "if 1:\n",
    "    u.flatten()\n",
    "else:\n",
    "    u.ravel()"
   ]
  },
  {
   "cell_type": "code",
   "execution_count": 54,
   "metadata": {},
   "outputs": [
    {
     "data": {
      "text/plain": [
       "array([[1, 2],\n",
       "       [3, 4],\n",
       "       [5, 6]])"
      ]
     },
     "execution_count": 54,
     "metadata": {},
     "output_type": "execute_result"
    }
   ],
   "source": [
    "u"
   ]
  },
  {
   "cell_type": "code",
   "execution_count": 55,
   "metadata": {},
   "outputs": [
    {
     "name": "stdout",
     "output_type": "stream",
     "text": [
      "'inplace' is an invalid keyword argument for this function\n"
     ]
    }
   ],
   "source": [
    "try:\n",
    "    u.flatten(inplace=True)\n",
    "except Exception as e:\n",
    "    print(e)"
   ]
  },
  {
   "cell_type": "markdown",
   "metadata": {},
   "source": [
    "flatten method는 오리지날을 건들이지 않고 flatten한 것을 리턴합니다.\n",
    "inplace=True도 작동하지 않아요.\n",
    "리턴한 것을 받아야만 평평하게 펼 수 있어요.\n",
    "reshape and ravel method도 같아요."
   ]
  },
  {
   "cell_type": "code",
   "execution_count": 56,
   "metadata": {},
   "outputs": [
    {
     "data": {
      "text/plain": [
       "array([1, 2, 3, 4, 5, 6])"
      ]
     },
     "execution_count": 56,
     "metadata": {},
     "output_type": "execute_result"
    }
   ],
   "source": [
    "u = u.flatten()\n",
    "u"
   ]
  },
  {
   "cell_type": "code",
   "execution_count": 57,
   "metadata": {},
   "outputs": [
    {
     "data": {
      "text/plain": [
       "array([[1, 2],\n",
       "       [3, 4],\n",
       "       [5, 6]])"
      ]
     },
     "execution_count": 57,
     "metadata": {},
     "output_type": "execute_result"
    }
   ],
   "source": [
    "u = np.array([[1, 2], [3, 4], [5, 6]])\n",
    "u"
   ]
  },
  {
   "cell_type": "code",
   "execution_count": 58,
   "metadata": {},
   "outputs": [
    {
     "data": {
      "text/plain": [
       "array([1, 2, 3, 4, 5, 6])"
      ]
     },
     "execution_count": 58,
     "metadata": {},
     "output_type": "execute_result"
    }
   ],
   "source": [
    "u = u.reshape((6,))\n",
    "u"
   ]
  },
  {
   "cell_type": "code",
   "execution_count": 59,
   "metadata": {},
   "outputs": [
    {
     "data": {
      "text/plain": [
       "array([[1, 2],\n",
       "       [3, 4],\n",
       "       [5, 6]])"
      ]
     },
     "execution_count": 59,
     "metadata": {},
     "output_type": "execute_result"
    }
   ],
   "source": [
    "u = np.array([[1, 2], [3, 4], [5, 6]])\n",
    "u"
   ]
  },
  {
   "cell_type": "code",
   "execution_count": 60,
   "metadata": {},
   "outputs": [
    {
     "data": {
      "text/plain": [
       "array([1, 2, 3, 4, 5, 6])"
      ]
     },
     "execution_count": 60,
     "metadata": {},
     "output_type": "execute_result"
    }
   ],
   "source": [
    "u = u.ravel()\n",
    "u"
   ]
  },
  {
   "cell_type": "markdown",
   "metadata": {},
   "source": [
    "# Change shape using np.expand_dims, np.newaxis, or None"
   ]
  },
  {
   "cell_type": "code",
   "execution_count": 61,
   "metadata": {
    "collapsed": true
   },
   "outputs": [],
   "source": [
    "x0 = np.random.uniform(low=0.0, high=1.0, size=(3))\n",
    "if 1:\n",
    "    x1 = np.expand_dims(x0, axis=0)\n",
    "    x2 = np.expand_dims(x0, axis=1)\n",
    "elif 1:\n",
    "    x1 = x0[np.newaxis, :]\n",
    "    x2 = x0[:, np.newaxis]      \n",
    "else:\n",
    "    x1 = x0[None, :]\n",
    "    x2 = x0[:, None] "
   ]
  },
  {
   "cell_type": "code",
   "execution_count": 62,
   "metadata": {},
   "outputs": [
    {
     "data": {
      "text/plain": [
       "array([0.02134083, 0.62015022, 0.75720606])"
      ]
     },
     "execution_count": 62,
     "metadata": {},
     "output_type": "execute_result"
    }
   ],
   "source": [
    "x0"
   ]
  },
  {
   "cell_type": "code",
   "execution_count": 63,
   "metadata": {},
   "outputs": [
    {
     "data": {
      "text/plain": [
       "array([[0.02134083, 0.62015022, 0.75720606]])"
      ]
     },
     "execution_count": 63,
     "metadata": {},
     "output_type": "execute_result"
    }
   ],
   "source": [
    "x1"
   ]
  },
  {
   "cell_type": "code",
   "execution_count": 64,
   "metadata": {},
   "outputs": [
    {
     "data": {
      "text/plain": [
       "array([[0.02134083],\n",
       "       [0.62015022],\n",
       "       [0.75720606]])"
      ]
     },
     "execution_count": 64,
     "metadata": {},
     "output_type": "execute_result"
    }
   ],
   "source": [
    "x2"
   ]
  },
  {
   "cell_type": "code",
   "execution_count": 65,
   "metadata": {},
   "outputs": [
    {
     "data": {
      "text/plain": [
       "(3,)"
      ]
     },
     "execution_count": 65,
     "metadata": {},
     "output_type": "execute_result"
    }
   ],
   "source": [
    "x0.shape"
   ]
  },
  {
   "cell_type": "code",
   "execution_count": 66,
   "metadata": {},
   "outputs": [
    {
     "data": {
      "text/plain": [
       "(1, 3)"
      ]
     },
     "execution_count": 66,
     "metadata": {},
     "output_type": "execute_result"
    }
   ],
   "source": [
    "x1.shape"
   ]
  },
  {
   "cell_type": "code",
   "execution_count": 67,
   "metadata": {},
   "outputs": [
    {
     "data": {
      "text/plain": [
       "(3, 1)"
      ]
     },
     "execution_count": 67,
     "metadata": {},
     "output_type": "execute_result"
    }
   ],
   "source": [
    "x2.shape"
   ]
  },
  {
   "cell_type": "markdown",
   "metadata": {},
   "source": [
    "# Simple aggregations"
   ]
  },
  {
   "cell_type": "code",
   "execution_count": 68,
   "metadata": {},
   "outputs": [
    {
     "data": {
      "text/plain": [
       "array([[1, 2],\n",
       "       [3, 4],\n",
       "       [5, 6]])"
      ]
     },
     "execution_count": 68,
     "metadata": {},
     "output_type": "execute_result"
    }
   ],
   "source": [
    "a = np.array([[1, 2], [3, 4], [5, 6]])\n",
    "a"
   ]
  },
  {
   "cell_type": "code",
   "execution_count": 69,
   "metadata": {},
   "outputs": [
    {
     "data": {
      "text/plain": [
       "1"
      ]
     },
     "execution_count": 69,
     "metadata": {},
     "output_type": "execute_result"
    }
   ],
   "source": [
    "a.min()"
   ]
  },
  {
   "cell_type": "code",
   "execution_count": 70,
   "metadata": {},
   "outputs": [
    {
     "data": {
      "text/plain": [
       "6"
      ]
     },
     "execution_count": 70,
     "metadata": {},
     "output_type": "execute_result"
    }
   ],
   "source": [
    "a.max()"
   ]
  },
  {
   "cell_type": "code",
   "execution_count": 71,
   "metadata": {},
   "outputs": [
    {
     "data": {
      "text/plain": [
       "21"
      ]
     },
     "execution_count": 71,
     "metadata": {},
     "output_type": "execute_result"
    }
   ],
   "source": [
    "a.sum()"
   ]
  },
  {
   "cell_type": "code",
   "execution_count": 72,
   "metadata": {},
   "outputs": [
    {
     "data": {
      "text/plain": [
       "3.5"
      ]
     },
     "execution_count": 72,
     "metadata": {},
     "output_type": "execute_result"
    }
   ],
   "source": [
    "a.mean()"
   ]
  },
  {
   "cell_type": "code",
   "execution_count": 73,
   "metadata": {},
   "outputs": [
    {
     "data": {
      "text/plain": [
       "1.707825127659933"
      ]
     },
     "execution_count": 73,
     "metadata": {},
     "output_type": "execute_result"
    }
   ],
   "source": [
    "a.std()"
   ]
  },
  {
   "cell_type": "code",
   "execution_count": 74,
   "metadata": {},
   "outputs": [
    {
     "data": {
      "text/plain": [
       "2.9166666666666665"
      ]
     },
     "execution_count": 74,
     "metadata": {},
     "output_type": "execute_result"
    }
   ],
   "source": [
    "a.var()"
   ]
  },
  {
   "cell_type": "code",
   "execution_count": 75,
   "metadata": {},
   "outputs": [
    {
     "name": "stdout",
     "output_type": "stream",
     "text": [
      "'numpy.ndarray' object has no attribute 'sqrt'\n"
     ]
    }
   ],
   "source": [
    "try:\n",
    "    a.sqrt()\n",
    "except Exception as e:\n",
    "    print(e)"
   ]
  },
  {
   "cell_type": "code",
   "execution_count": 76,
   "metadata": {},
   "outputs": [
    {
     "data": {
      "text/plain": [
       "array([[1.        , 1.41421356],\n",
       "       [1.73205081, 2.        ],\n",
       "       [2.23606798, 2.44948974]])"
      ]
     },
     "execution_count": 76,
     "metadata": {},
     "output_type": "execute_result"
    }
   ],
   "source": [
    "np.sqrt(a)"
   ]
  },
  {
   "cell_type": "code",
   "execution_count": 77,
   "metadata": {},
   "outputs": [
    {
     "data": {
      "text/plain": [
       "1.707825127659933"
      ]
     },
     "execution_count": 77,
     "metadata": {},
     "output_type": "execute_result"
    }
   ],
   "source": [
    "np.std(a)"
   ]
  },
  {
   "cell_type": "code",
   "execution_count": 78,
   "metadata": {},
   "outputs": [
    {
     "data": {
      "text/plain": [
       "array([ 9, 12])"
      ]
     },
     "execution_count": 78,
     "metadata": {},
     "output_type": "execute_result"
    }
   ],
   "source": [
    "a.sum(axis=0)"
   ]
  },
  {
   "cell_type": "code",
   "execution_count": 79,
   "metadata": {},
   "outputs": [
    {
     "data": {
      "text/plain": [
       "array([ 3,  7, 11])"
      ]
     },
     "execution_count": 79,
     "metadata": {},
     "output_type": "execute_result"
    }
   ],
   "source": [
    "a.sum(axis=1)"
   ]
  },
  {
   "cell_type": "markdown",
   "metadata": {},
   "source": [
    "# Simple Math Operations"
   ]
  },
  {
   "cell_type": "code",
   "execution_count": 80,
   "metadata": {},
   "outputs": [
    {
     "data": {
      "text/plain": [
       "array([[0, 1],\n",
       "       [2, 3]])"
      ]
     },
     "execution_count": 80,
     "metadata": {},
     "output_type": "execute_result"
    }
   ],
   "source": [
    "a = np.arange(4).reshape((2,2))\n",
    "a"
   ]
  },
  {
   "cell_type": "code",
   "execution_count": 81,
   "metadata": {},
   "outputs": [
    {
     "data": {
      "text/plain": [
       "array([[1, 2],\n",
       "       [3, 4]])"
      ]
     },
     "execution_count": 81,
     "metadata": {},
     "output_type": "execute_result"
    }
   ],
   "source": [
    "b = np.arange(1,5).reshape((2,2))\n",
    "b"
   ]
  },
  {
   "cell_type": "code",
   "execution_count": 82,
   "metadata": {},
   "outputs": [
    {
     "data": {
      "text/plain": [
       "array([[1, 3],\n",
       "       [5, 7]])"
      ]
     },
     "execution_count": 82,
     "metadata": {},
     "output_type": "execute_result"
    }
   ],
   "source": [
    "a+b"
   ]
  },
  {
   "cell_type": "code",
   "execution_count": 83,
   "metadata": {},
   "outputs": [
    {
     "data": {
      "text/plain": [
       "array([[-1, -1],\n",
       "       [-1, -1]])"
      ]
     },
     "execution_count": 83,
     "metadata": {},
     "output_type": "execute_result"
    }
   ],
   "source": [
    "a-b"
   ]
  },
  {
   "cell_type": "code",
   "execution_count": 84,
   "metadata": {},
   "outputs": [
    {
     "data": {
      "text/plain": [
       "array([[ 0,  2],\n",
       "       [ 6, 12]])"
      ]
     },
     "execution_count": 84,
     "metadata": {},
     "output_type": "execute_result"
    }
   ],
   "source": [
    "a*b"
   ]
  },
  {
   "cell_type": "code",
   "execution_count": 85,
   "metadata": {},
   "outputs": [
    {
     "data": {
      "text/plain": [
       "array([[0.        , 0.5       ],\n",
       "       [0.66666667, 0.75      ]])"
      ]
     },
     "execution_count": 85,
     "metadata": {},
     "output_type": "execute_result"
    }
   ],
   "source": [
    "a/b"
   ]
  },
  {
   "cell_type": "code",
   "execution_count": 86,
   "metadata": {},
   "outputs": [
    {
     "data": {
      "text/plain": [
       "array([[0, 3],\n",
       "       [6, 9]])"
      ]
     },
     "execution_count": 86,
     "metadata": {},
     "output_type": "execute_result"
    }
   ],
   "source": [
    "3*a"
   ]
  },
  {
   "cell_type": "code",
   "execution_count": 87,
   "metadata": {},
   "outputs": [
    {
     "data": {
      "text/plain": [
       "array([[0.        , 0.33333333],\n",
       "       [0.66666667, 1.        ]])"
      ]
     },
     "execution_count": 87,
     "metadata": {},
     "output_type": "execute_result"
    }
   ],
   "source": [
    "a/3"
   ]
  },
  {
   "cell_type": "code",
   "execution_count": 88,
   "metadata": {},
   "outputs": [
    {
     "data": {
      "text/plain": [
       "array([[ 3,  4],\n",
       "       [11, 16]])"
      ]
     },
     "execution_count": 88,
     "metadata": {},
     "output_type": "execute_result"
    }
   ],
   "source": [
    "a.dot(b)"
   ]
  },
  {
   "cell_type": "code",
   "execution_count": 89,
   "metadata": {},
   "outputs": [
    {
     "data": {
      "text/plain": [
       "array([[1, 2],\n",
       "       [3, 4]])"
      ]
     },
     "execution_count": 89,
     "metadata": {},
     "output_type": "execute_result"
    }
   ],
   "source": [
    "b"
   ]
  },
  {
   "cell_type": "code",
   "execution_count": 90,
   "metadata": {},
   "outputs": [
    {
     "data": {
      "text/plain": [
       "array([[ True,  True],\n",
       "       [ True,  True]])"
      ]
     },
     "execution_count": 90,
     "metadata": {},
     "output_type": "execute_result"
    }
   ],
   "source": [
    "b>0"
   ]
  }
 ],
 "metadata": {
  "kernelspec": {
   "display_name": "Python [conda env:anaconda]",
   "language": "python",
   "name": "conda-env-anaconda-py"
  },
  "language_info": {
   "codemirror_mode": {
    "name": "ipython",
    "version": 3
   },
   "file_extension": ".py",
   "mimetype": "text/x-python",
   "name": "python",
   "nbconvert_exporter": "python",
   "pygments_lexer": "ipython3",
   "version": "3.5.3"
  }
 },
 "nbformat": 4,
 "nbformat_minor": 2
}
