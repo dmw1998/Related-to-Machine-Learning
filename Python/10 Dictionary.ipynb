{
 "cells": [
  {
   "cell_type": "markdown",
   "metadata": {},
   "source": [
    "# Dictionaries"
   ]
  },
  {
   "cell_type": "markdown",
   "metadata": {},
   "source": [
    "[Dictionaries by Corey Schafer](https://www.youtube.com/watch?v=daefaLgNkw0&index=5&list=PL-osiE80TeTt2d9bfVyTiXJA-UTHn6WwU)\n",
    "\n",
    "Python: Data Structures - Lists, Tuples, Sets & Dictionaries by Joe James \n",
    "[youtube](https://www.youtube.com/watch?v=R-HLU9Fl5ug&index=9&list=PLj8W7XIvO93qsmdxbaDpIvM1KCyNO1K_c) \n",
    "[github](https://github.com/joeyajames/Python)\n",
    "\n",
    "Python: Hashmap using Lists by Joe James \n",
    "[youtube](https://www.youtube.com/watch?v=9HFbhPscPU0&list=PLj8W7XIvO93qsmdxbaDpIvM1KCyNO1K_c&index=7) \n",
    "[github](https://github.com/joeyajames/Python)"
   ]
  },
  {
   "cell_type": "markdown",
   "metadata": {},
   "source": [
    "<a href=\"#Dict---Constructor\">Dict - Constructor</a>\n",
    "\n",
    "<a href=\"#Basic-Dict-Operations\">Basic Dict Operations</a>\n",
    "\n",
    "<a href=\"#키와-벨류\">키와 벨류</a>\n",
    "\n",
    "<a href=\"#키와-벨류에-접근하는-방법\">키와 벨류에 접근하는 방법</a>\n",
    "\n",
    "<a href=\"#Iteration-over-Dict\">Iteration over Dict</a>\n",
    "\n",
    "<a href=\"#Add-/-Update-Item\">Add / Update Item</a>\n",
    "\n",
    "<a href=\"#Dictionary-Method---get\">Dictionary Method - get</a>\n",
    "\n",
    "<a href=\"#Dictionary-Method---update\">Dictionary Method - update</a>\n",
    "\n",
    "<a href=\"#Dictionary-Method---pop,-del\">Dictionary Method - pop, del</a>\n",
    "\n",
    "<a href=\"#Dictionaries-are-mutable,-but-keys-are-not\">Dictionaries are mutable, but keys are not</a>\n",
    "\n",
    "<a href=\"#sorted\">sorted</a>\n",
    "\n",
    "<a href=\"#Membership-Test\">Membership Test</a>\n",
    "\n",
    "<a href=\"#Example---Count-the-number-of-people-with-given-name\">Example - Count the number of people with given name</a>\n",
    "\n",
    "<a href=\"#Example---Indexing-characters-in-a-word-or-phrase\">Example - Indexing characters in a word or phrase</a>"
   ]
  },
  {
   "cell_type": "markdown",
   "metadata": {},
   "source": [
    "# Dict - Constructor"
   ]
  },
  {
   "cell_type": "markdown",
   "metadata": {},
   "source": [
    "딕션너리는 키와 벨류 페어로 이루어진 아이템을 담을 수 있는 유용한 용기이다.\n",
    "리스트는 인덱싱을 0, 1로 시작하는 정수를 사용하는데,\n",
    "딕션너리는 아이템을 딕션너리에 넣을 때 사용자가 지정하는 키라고 부르는 아이템을 이용 인덱싱을 한다.\n",
    "사용자 지정 인덱싱인 것이다."
   ]
  },
  {
   "cell_type": "code",
   "execution_count": 1,
   "metadata": {
    "collapsed": true
   },
   "outputs": [],
   "source": [
    "if 0: \n",
    "    # empty dict\n",
    "    x = dict()\n",
    "    x['pork'] = 25.3\n",
    "    x['beef'] = 33.8\n",
    "    x['chicken'] = 22.7\n",
    "elif 0: \n",
    "    # empty dict\n",
    "    x = {}\n",
    "    x['pork'] = 25.3\n",
    "    x['beef'] = 33.8\n",
    "    x['chicken'] = 22.7\n",
    "elif 1: \n",
    "    # explicit construction\n",
    "    x = {'pork':25.3, 'beef':33.8, 'chicken':22.7}\n",
    "elif 1: \n",
    "    # explicit construction\n",
    "    x = dict( [('pork',25.3), ('beef',33.8), ('chicken',22.7)] )\n",
    "elif 1: \n",
    "    # explicit construction\n",
    "    x = dict(pork=25.3, beef=33.8, chicken=22.7)"
   ]
  },
  {
   "cell_type": "code",
   "execution_count": 2,
   "metadata": {},
   "outputs": [
    {
     "name": "stdout",
     "output_type": "stream",
     "text": [
      "{'chicken': 22.7, 'beef': 33.8, 'pork': 25.3}\n"
     ]
    }
   ],
   "source": [
    "print(x)"
   ]
  },
  {
   "cell_type": "code",
   "execution_count": 3,
   "metadata": {},
   "outputs": [
    {
     "name": "stdout",
     "output_type": "stream",
     "text": [
      "<class 'dict'>\n"
     ]
    }
   ],
   "source": [
    "print(type(x))"
   ]
  },
  {
   "cell_type": "code",
   "execution_count": 4,
   "metadata": {},
   "outputs": [
    {
     "name": "stdout",
     "output_type": "stream",
     "text": [
      "3\n"
     ]
    }
   ],
   "source": [
    "print(len(x))"
   ]
  },
  {
   "cell_type": "markdown",
   "metadata": {},
   "source": [
    "[<a href=\"#Dictionaries\">Back to top</a>]"
   ]
  },
  {
   "cell_type": "markdown",
   "metadata": {},
   "source": [
    "# Basic Dict Operations"
   ]
  },
  {
   "cell_type": "markdown",
   "metadata": {},
   "source": [
    "<div align=\"center\"><img src=\"img/Screen Shot 2018-08-06 at 12.46.42 AM.png\" width=\"70%\"></div>\n",
    "\n",
    "Python: Data Structures - Lists, Tuples, Sets & Dictionaries by Joe James \n",
    "[youtube](https://www.youtube.com/watch?v=R-HLU9Fl5ug&index=9&list=PLj8W7XIvO93qsmdxbaDpIvM1KCyNO1K_c) \n",
    "[github](https://github.com/joeyajames/Python)"
   ]
  },
  {
   "cell_type": "markdown",
   "metadata": {},
   "source": [
    "[<a href=\"#Dictionaries\">Back to top</a>]"
   ]
  },
  {
   "cell_type": "markdown",
   "metadata": {},
   "source": [
    "# 키와 벨류"
   ]
  },
  {
   "cell_type": "markdown",
   "metadata": {},
   "source": [
    "딕션너리는 키와 벨류로 구성되어 있어요.\n",
    "키를 이용, 벨류를 부르는 것이죠."
   ]
  },
  {
   "cell_type": "code",
   "execution_count": 5,
   "metadata": {},
   "outputs": [
    {
     "name": "stdout",
     "output_type": "stream",
     "text": [
      "25.3\n"
     ]
    }
   ],
   "source": [
    "print(x['pork'])"
   ]
  },
  {
   "cell_type": "markdown",
   "metadata": {},
   "source": [
    "하지만, `'horse'`이라는 키는 없어요.\n",
    "그래서 `x['horse']`을 돌리면 에러가 발생하죠."
   ]
  },
  {
   "cell_type": "code",
   "execution_count": 6,
   "metadata": {},
   "outputs": [
    {
     "name": "stdout",
     "output_type": "stream",
     "text": [
      "'horse'\n"
     ]
    }
   ],
   "source": [
    "try:\n",
    "    x['horse'] \n",
    "except Exception as e:\n",
    "    print(e)"
   ]
  },
  {
   "cell_type": "markdown",
   "metadata": {},
   "source": [
    "[<a href=\"#Dictionaries\">Back to top</a>]"
   ]
  },
  {
   "cell_type": "markdown",
   "metadata": {},
   "source": [
    "# 키와 벨류에 접근하는 방법"
   ]
  },
  {
   "cell_type": "code",
   "execution_count": 7,
   "metadata": {},
   "outputs": [
    {
     "name": "stdout",
     "output_type": "stream",
     "text": [
      "dict_keys(['chicken', 'beef', 'pork'])\n",
      "dict_values([22.7, 33.8, 25.3])\n",
      "dict_items([('chicken', 22.7), ('beef', 33.8), ('pork', 25.3)])\n"
     ]
    }
   ],
   "source": [
    "print(x.keys())\n",
    "print(x.values())\n",
    "print(x.items())"
   ]
  },
  {
   "cell_type": "markdown",
   "metadata": {},
   "source": [
    "[<a href=\"#Dictionaries\">Back to top</a>]"
   ]
  },
  {
   "cell_type": "markdown",
   "metadata": {},
   "source": [
    "# Iteration over Dict"
   ]
  },
  {
   "cell_type": "markdown",
   "metadata": {},
   "source": [
    "순서는 랜덤하다."
   ]
  },
  {
   "cell_type": "code",
   "execution_count": 8,
   "metadata": {},
   "outputs": [
    {
     "name": "stdout",
     "output_type": "stream",
     "text": [
      "chicken\n",
      "beef\n",
      "pork\n"
     ]
    }
   ],
   "source": [
    "for key in x:\n",
    "    print(key)"
   ]
  },
  {
   "cell_type": "code",
   "execution_count": 9,
   "metadata": {},
   "outputs": [
    {
     "name": "stdout",
     "output_type": "stream",
     "text": [
      "chicken 22.7\n",
      "beef 33.8\n",
      "pork 25.3\n"
     ]
    }
   ],
   "source": [
    "for key in x:\n",
    "    print(key, x[key])"
   ]
  },
  {
   "cell_type": "code",
   "execution_count": 10,
   "metadata": {},
   "outputs": [
    {
     "name": "stdout",
     "output_type": "stream",
     "text": [
      "chicken 22.7\n",
      "beef 33.8\n",
      "pork 25.3\n"
     ]
    }
   ],
   "source": [
    "for key, value in x.items():\n",
    "    print(key, value)"
   ]
  },
  {
   "cell_type": "markdown",
   "metadata": {},
   "source": [
    "[<a href=\"#Dictionaries\">Back to top</a>]"
   ]
  },
  {
   "cell_type": "markdown",
   "metadata": {},
   "source": [
    "# Add / Update Item "
   ]
  },
  {
   "cell_type": "markdown",
   "metadata": {},
   "source": [
    "다음의 어싸인먼트를 통하여 새로운 아이템을 추가할 수도 있고,\n",
    "기존의 아이템의 벨류를 업데이트할 수도 있다."
   ]
  },
  {
   "cell_type": "code",
   "execution_count": 11,
   "metadata": {},
   "outputs": [
    {
     "data": {
      "text/plain": [
       "{'beef': 33.8, 'chicken': 22.7, 'horse': 25.5, 'pork': 25.3}"
      ]
     },
     "execution_count": 11,
     "metadata": {},
     "output_type": "execute_result"
    }
   ],
   "source": [
    "x['horse'] = 25.50\n",
    "x"
   ]
  },
  {
   "cell_type": "code",
   "execution_count": 12,
   "metadata": {},
   "outputs": [
    {
     "data": {
      "text/plain": [
       "25.5"
      ]
     },
     "execution_count": 12,
     "metadata": {},
     "output_type": "execute_result"
    }
   ],
   "source": [
    "x.get('horse', 'OMG')"
   ]
  },
  {
   "cell_type": "code",
   "execution_count": 13,
   "metadata": {},
   "outputs": [
    {
     "data": {
      "text/plain": [
       "{'beef': 33.8, 'chicken': 22.7, 'horse': 25.5, 'pork': 11.1}"
      ]
     },
     "execution_count": 13,
     "metadata": {},
     "output_type": "execute_result"
    }
   ],
   "source": [
    "x['pork'] = 11.1\n",
    "x"
   ]
  },
  {
   "cell_type": "markdown",
   "metadata": {},
   "source": [
    "[<a href=\"#Dictionaries\">Back to top</a>]"
   ]
  },
  {
   "cell_type": "markdown",
   "metadata": {},
   "source": [
    "# Dictionary Method - get"
   ]
  },
  {
   "cell_type": "markdown",
   "metadata": {},
   "source": [
    "get method를 쓰면,\n",
    "```'horse'```이라는 키가 없음에도 불구하고\n",
    "```x.get('horse')```을 돌리면 에러가 발생하지 않아요."
   ]
  },
  {
   "cell_type": "code",
   "execution_count": 14,
   "metadata": {},
   "outputs": [
    {
     "data": {
      "text/plain": [
       "25.5"
      ]
     },
     "execution_count": 14,
     "metadata": {},
     "output_type": "execute_result"
    }
   ],
   "source": [
    "x.get('horse')"
   ]
  },
  {
   "cell_type": "code",
   "execution_count": 15,
   "metadata": {},
   "outputs": [
    {
     "data": {
      "text/plain": [
       "33.8"
      ]
     },
     "execution_count": 15,
     "metadata": {},
     "output_type": "execute_result"
    }
   ],
   "source": [
    "x.get('beef')"
   ]
  },
  {
   "cell_type": "code",
   "execution_count": 16,
   "metadata": {},
   "outputs": [
    {
     "data": {
      "text/plain": [
       "25.5"
      ]
     },
     "execution_count": 16,
     "metadata": {},
     "output_type": "execute_result"
    }
   ],
   "source": [
    "x.get('horse')"
   ]
  },
  {
   "cell_type": "code",
   "execution_count": 17,
   "metadata": {},
   "outputs": [
    {
     "data": {
      "text/plain": [
       "25.5"
      ]
     },
     "execution_count": 17,
     "metadata": {},
     "output_type": "execute_result"
    }
   ],
   "source": [
    "x.get('horse', 'Not Avaiable')"
   ]
  },
  {
   "cell_type": "markdown",
   "metadata": {},
   "source": [
    "[<a href=\"#Dictionaries\">Back to top</a>]"
   ]
  },
  {
   "cell_type": "markdown",
   "metadata": {},
   "source": [
    "# Dictionary Method - update"
   ]
  },
  {
   "cell_type": "markdown",
   "metadata": {},
   "source": [
    "update method를 쓰면 여러개의 아이템을 동시에 업데이트 할 수 있어요."
   ]
  },
  {
   "cell_type": "code",
   "execution_count": 18,
   "metadata": {},
   "outputs": [
    {
     "data": {
      "text/plain": [
       "{'beef': 33.8, 'chicken': 22.7, 'horse': 33.3, 'pork': 22.2}"
      ]
     },
     "execution_count": 18,
     "metadata": {},
     "output_type": "execute_result"
    }
   ],
   "source": [
    "x.update({'pork': 22.2, 'horse': 33.3})\n",
    "x"
   ]
  },
  {
   "cell_type": "markdown",
   "metadata": {},
   "source": [
    "[<a href=\"#Dictionaries\">Back to top</a>]"
   ]
  },
  {
   "cell_type": "markdown",
   "metadata": {},
   "source": [
    "# Dictionary Method - pop, del "
   ]
  },
  {
   "cell_type": "code",
   "execution_count": 19,
   "metadata": {},
   "outputs": [
    {
     "data": {
      "text/plain": [
       "{'beef': 33.8, 'chicken': 22.7, 'pork': 22.2}"
      ]
     },
     "execution_count": 19,
     "metadata": {},
     "output_type": "execute_result"
    }
   ],
   "source": [
    "del x['horse']\n",
    "x"
   ]
  },
  {
   "cell_type": "code",
   "execution_count": 20,
   "metadata": {},
   "outputs": [
    {
     "data": {
      "text/plain": [
       "{'chicken': 22.7, 'pork': 22.2}"
      ]
     },
     "execution_count": 20,
     "metadata": {},
     "output_type": "execute_result"
    }
   ],
   "source": [
    "x.pop('beef')\n",
    "x"
   ]
  },
  {
   "cell_type": "code",
   "execution_count": 21,
   "metadata": {},
   "outputs": [
    {
     "name": "stdout",
     "output_type": "stream",
     "text": [
      "{'chicken': 22.7}\n",
      "22.2\n"
     ]
    }
   ],
   "source": [
    "popped_item = x.pop('pork')\n",
    "print(x)\n",
    "print(popped_item)"
   ]
  },
  {
   "cell_type": "markdown",
   "metadata": {},
   "source": [
    "[<a href=\"#Dictionaries\">Back to top</a>]"
   ]
  },
  {
   "cell_type": "markdown",
   "metadata": {},
   "source": [
    "# Dictionaries are mutable, but keys are not"
   ]
  },
  {
   "cell_type": "markdown",
   "metadata": {},
   "source": [
    "- Dictionaries are mutable\n",
    "\n",
    "- Keys are immutable. For example, you cannot use lists as keys"
   ]
  },
  {
   "cell_type": "code",
   "execution_count": 22,
   "metadata": {},
   "outputs": [
    {
     "name": "stdout",
     "output_type": "stream",
     "text": [
      "{'money': 12, 'candy': 5}\n"
     ]
    }
   ],
   "source": [
    "purse = {}\n",
    "purse['money'] = 12\n",
    "purse['candy'] = 3\n",
    "purse['candy'] = purse['candy'] + 2\n",
    "\n",
    "print(purse) "
   ]
  },
  {
   "cell_type": "markdown",
   "metadata": {},
   "source": [
    "Keys are immutable. For example, you cannot use lists as keys."
   ]
  },
  {
   "cell_type": "code",
   "execution_count": 23,
   "metadata": {},
   "outputs": [
    {
     "name": "stdout",
     "output_type": "stream",
     "text": [
      "unhashable type: 'list'\n"
     ]
    }
   ],
   "source": [
    "try:\n",
    "    d = {'name_1': 'Johann Sebastian', 'name_2': 'Bach'}\n",
    "    d[[1 ,2]] = 'hi'\n",
    "except Exception as e:\n",
    "    print(e)"
   ]
  },
  {
   "cell_type": "code",
   "execution_count": 24,
   "metadata": {},
   "outputs": [
    {
     "name": "stdout",
     "output_type": "stream",
     "text": [
      "{'name_1': 'Johann Sebastian', (1, 2): 'hi', 'name_2': 'Bach'}\n"
     ]
    }
   ],
   "source": [
    "d = {'name_1': 'Johann Sebastian', 'name_2': 'Bach'}\n",
    "d[(1 ,2)] = 'hi'\n",
    "\n",
    "print(d) "
   ]
  },
  {
   "cell_type": "markdown",
   "metadata": {},
   "source": [
    "[<a href=\"#Dictionaries\">Back to top</a>]"
   ]
  },
  {
   "cell_type": "markdown",
   "metadata": {},
   "source": [
    "# sorted "
   ]
  },
  {
   "cell_type": "markdown",
   "metadata": {},
   "source": [
    "sorted 함수를 쓰면 키를 이용 소트할 수 있다."
   ]
  },
  {
   "cell_type": "code",
   "execution_count": 25,
   "metadata": {},
   "outputs": [
    {
     "name": "stdout",
     "output_type": "stream",
     "text": [
      "[('a', 22), ('b', 1), ('c', 10), ('d', 10)]\n",
      "a 22\n",
      "b 1\n",
      "c 10\n",
      "d 10\n"
     ]
    }
   ],
   "source": [
    "dict = {'c': 10, 'b': 1, 'a': 22, 'd': 10}\n",
    "print(sorted(dict.items()))\n",
    "\n",
    "for key, value in  sorted(dict.items()):\n",
    "    print(key, value)"
   ]
  },
  {
   "cell_type": "markdown",
   "metadata": {},
   "source": [
    "벨류를 이용 소트할려면, 키와 벨류를 바꿔치기해서 새로운 딕션너리를 만들어\n",
    "이 새로운 딕션너리를 소트하면 된다."
   ]
  },
  {
   "cell_type": "code",
   "execution_count": 26,
   "metadata": {},
   "outputs": [
    {
     "name": "stdout",
     "output_type": "stream",
     "text": [
      "[('a', 22), ('b', 1), ('c', 10), ('d', 10)]\n",
      "22 a\n",
      "10 d\n",
      "10 c\n",
      "1 b\n"
     ]
    }
   ],
   "source": [
    "dict = {'c': 10, 'b': 1, 'a': 22, 'd': 10}\n",
    "print(sorted(dict.items()))\n",
    "\n",
    "temp = []\n",
    "for key, value in  dict.items(): \n",
    "    temp.append( (value, key) ) # switch the order\n",
    "    temp.sort(reverse=True)\n",
    "    \n",
    "for value, key in  temp:\n",
    "    print(value, key)"
   ]
  },
  {
   "cell_type": "markdown",
   "metadata": {},
   "source": [
    "[<a href=\"#Dictionaries\">Back to top</a>]"
   ]
  },
  {
   "cell_type": "markdown",
   "metadata": {},
   "source": [
    "# Membership Test"
   ]
  },
  {
   "cell_type": "code",
   "execution_count": 27,
   "metadata": {
    "collapsed": true
   },
   "outputs": [],
   "source": [
    "cs_courses_list  = ['History',    'Math',    'Physics',    'CompSci', 'Math']\n",
    "cs_courses_tuple = ('History',    'Math',    'Physics',    'CompSci', 'Math')\n",
    "cs_courses_dict  = {'History':10, 'Math':20, 'Physics':30, 'CompSci':40}\n",
    "cs_courses_set   = {'History',    'Math',    'Physics',    'CompSci', 'Math'}"
   ]
  },
  {
   "cell_type": "code",
   "execution_count": 28,
   "metadata": {},
   "outputs": [
    {
     "name": "stdout",
     "output_type": "stream",
     "text": [
      "True\n"
     ]
    }
   ],
   "source": [
    "print('Math' in cs_courses_list)"
   ]
  },
  {
   "cell_type": "code",
   "execution_count": 29,
   "metadata": {},
   "outputs": [
    {
     "name": "stdout",
     "output_type": "stream",
     "text": [
      "True\n"
     ]
    }
   ],
   "source": [
    "print('History' in cs_courses_tuple)"
   ]
  },
  {
   "cell_type": "code",
   "execution_count": 30,
   "metadata": {},
   "outputs": [
    {
     "name": "stdout",
     "output_type": "stream",
     "text": [
      "True\n",
      "False\n"
     ]
    }
   ],
   "source": [
    "print('History' in cs_courses_dict)    # 딕션너리는 키가 있는가 없는가를 확인한다. 밸류는 확인하지 않는다. \n",
    "print(10 in cs_courses_dict)           # 딕션너리는 키가 있는가 없는가를 확인한다. 밸류는 확인하지 않는다. "
   ]
  },
  {
   "cell_type": "code",
   "execution_count": 31,
   "metadata": {},
   "outputs": [
    {
     "name": "stdout",
     "output_type": "stream",
     "text": [
      "False\n"
     ]
    }
   ],
   "source": [
    "print('Economics' in cs_courses_set)"
   ]
  },
  {
   "cell_type": "markdown",
   "metadata": {},
   "source": [
    "[<a href=\"#Dictionaries\">Back to top</a>]"
   ]
  },
  {
   "cell_type": "markdown",
   "metadata": {},
   "source": [
    "# Example - Count the number of people with given name"
   ]
  },
  {
   "cell_type": "code",
   "execution_count": 32,
   "metadata": {},
   "outputs": [
    {
     "name": "stdout",
     "output_type": "stream",
     "text": [
      "{'Chuck': 1, 'Bob': 2, 'Tom': 1, 'John': 3}\n"
     ]
    }
   ],
   "source": [
    "name_counts = {}\n",
    "names = ['John', 'Tom', 'Bob', 'Chuck', 'Bob', 'John','John']\n",
    "for name in names:\n",
    "        name_counts[name] = name_counts.get(name, 0) + 1 # Get the value assiged by key. Give 0 if key does not exist yet\n",
    "print(name_counts) # {'csev': 2, 'zqian': 1, 'cwen': 2}"
   ]
  },
  {
   "cell_type": "markdown",
   "metadata": {},
   "source": [
    "[<a href=\"#Dictionaries\">Back to top</a>]"
   ]
  },
  {
   "cell_type": "markdown",
   "metadata": {},
   "source": [
    "# Example - Indexing characters in a word or phrase"
   ]
  },
  {
   "cell_type": "code",
   "execution_count": 33,
   "metadata": {},
   "outputs": [
    {
     "name": "stdout",
     "output_type": "stream",
     "text": [
      "['S', 'u', 'p', 'e', 'r', ' ', 'B', 'o', 'w', 'l']\n",
      "{'S': 0, 'l': 9, 'B': 6, 'w': 8, 'e': 3, 'p': 2, 'r': 4, 'u': 1, 'o': 7, ' ': 5}\n"
     ]
    }
   ],
   "source": [
    "char_list = list('Super Bowl')\n",
    "char_dic = {w: i for i, w in enumerate(char_list)}\n",
    "\n",
    "print(char_list) # ['S', 'u', 'p', 'e', 'r', ' ', 'B', 'o', 'w', 'l']\n",
    "print(char_dic) # {'S': 0, 'u': 1, 'p': 2, 'e': 3, 'r': 4, ' ': 5, 'B': 6, ...}"
   ]
  },
  {
   "cell_type": "markdown",
   "metadata": {},
   "source": [
    "[<a href=\"#Dictionaries\">Back to top</a>]"
   ]
  }
 ],
 "metadata": {
  "kernelspec": {
   "display_name": "Python [conda env:anaconda]",
   "language": "python",
   "name": "conda-env-anaconda-py"
  },
  "language_info": {
   "codemirror_mode": {
    "name": "ipython",
    "version": 3
   },
   "file_extension": ".py",
   "mimetype": "text/x-python",
   "name": "python",
   "nbconvert_exporter": "python",
   "pygments_lexer": "ipython3",
   "version": "3.5.3"
  }
 },
 "nbformat": 4,
 "nbformat_minor": 2
}
