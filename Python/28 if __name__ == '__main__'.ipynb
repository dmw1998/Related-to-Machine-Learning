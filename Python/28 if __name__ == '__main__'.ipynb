{
 "cells": [
  {
   "cell_type": "markdown",
   "metadata": {},
   "source": [
    "# if `__name__` == `__main__`:"
   ]
  },
  {
   "cell_type": "markdown",
   "metadata": {},
   "source": [
    "[if `__name__` == `__main__`: by Corey Schafer](https://www.youtube.com/watch?v=sugvnHA7ElY&list=PL-osiE80TeTt2d9bfVyTiXJA-UTHn6WwU&index=42)"
   ]
  },
  {
   "cell_type": "markdown",
   "metadata": {},
   "source": [
    "파이썬 코드를 돌릴 때, 우선적으로 몇개의 스페셜 변수가 저장된다.\n",
    "`__name__`이 그 중의 하나이다.\n",
    "코드가 임포트된 것이 아니고 직접 돌아가는 것이면,\n",
    "`__name__`변수는 `__main__`이 된다."
   ]
  },
  {
   "cell_type": "code",
   "execution_count": 1,
   "metadata": {},
   "outputs": [
    {
     "name": "stdout",
     "output_type": "stream",
     "text": [
      "__main__\n"
     ]
    }
   ],
   "source": [
    "print(__name__)"
   ]
  },
  {
   "cell_type": "markdown",
   "metadata": {},
   "source": [
    "first_module.py는 다음 한 줄 짜리 파이썬 파일이다.\n",
    "```\n",
    "print('First module\\'s name: {}'.format(__name__))\n",
    "```\n",
    "이 파일을 임포트하면, 이 프린트 문장이 작동한다.\n",
    "코드가 임포트된 것이면,\n",
    "`__name__`변수는 `__main__`이 아니고 파일명이 된다."
   ]
  },
  {
   "cell_type": "code",
   "execution_count": 2,
   "metadata": {},
   "outputs": [
    {
     "name": "stdout",
     "output_type": "stream",
     "text": [
      "First module's name: first_module\n"
     ]
    }
   ],
   "source": [
    "import first_module"
   ]
  },
  {
   "cell_type": "markdown",
   "metadata": {},
   "source": [
    "`__name__`변수는 주로 아래와 같이 사용된다.\n",
    "이 코드를 돌리면,\n",
    "`__name__`변수가 `__main__`이므로, if문이 실행된다."
   ]
  },
  {
   "cell_type": "code",
   "execution_count": 3,
   "metadata": {
    "collapsed": true
   },
   "outputs": [],
   "source": [
    "def main_op():\n",
    "    pass\n",
    "\n",
    "if __name__ == '__main__':\n",
    "    main_op()"
   ]
  },
  {
   "cell_type": "code",
   "execution_count": 4,
   "metadata": {},
   "outputs": [
    {
     "name": "stdout",
     "output_type": "stream",
     "text": [
      "First module's name: __main__\n"
     ]
    }
   ],
   "source": [
    "def main_op():\n",
    "    print('First module\\'s name: {}'.format(__name__))\n",
    "\n",
    "if __name__ == '__main__':\n",
    "    main_op()"
   ]
  },
  {
   "cell_type": "markdown",
   "metadata": {},
   "source": [
    "리프레쉬하고 아래 코드를 돌리자.\n",
    "첫번째 프린트는 임포트의 결과다.\n",
    "두번째 프린트는 main_op()의 결과다."
   ]
  },
  {
   "cell_type": "code",
   "execution_count": 5,
   "metadata": {},
   "outputs": [
    {
     "name": "stdout",
     "output_type": "stream",
     "text": [
      "First module's name: __main__\n"
     ]
    }
   ],
   "source": [
    "# 리프레쉬하고 아래 코드를 돌리자.\n",
    "import first_module\n",
    "\n",
    "def main_op():\n",
    "    print('First module\\'s name: {}'.format(__name__))\n",
    "\n",
    "if __name__ == '__main__':\n",
    "    main_op()"
   ]
  },
  {
   "cell_type": "markdown",
   "metadata": {},
   "source": [
    "아래 코드를 돌리면 무었이 프린트될까?"
   ]
  },
  {
   "cell_type": "code",
   "execution_count": 6,
   "metadata": {},
   "outputs": [
    {
     "name": "stdout",
     "output_type": "stream",
     "text": [
      "Run Directly\n"
     ]
    }
   ],
   "source": [
    "if __name__ == '__main__':\n",
    "    print('Run Directly')\n",
    "else:\n",
    "    print('Run from Import')"
   ]
  },
  {
   "cell_type": "markdown",
   "metadata": {},
   "source": [
    "second_module.py는 다음 네 줄 짜리 파이썬 파일이다.\n",
    "```\n",
    "if __name__ == '__main__':\n",
    "    print('Run Directly')\n",
    "else:\n",
    "    print('Run from Import')\n",
    "```\n",
    "이 파일을 임포트하면, 이 if 문장이 작동한다. 코드가 임포트된 것이면, `__name__`변수는 `__main__`이 아니고 파일명이 된다.\n",
    "이 파일을 임포트하면 무었이 프린트될까?"
   ]
  },
  {
   "cell_type": "code",
   "execution_count": 7,
   "metadata": {},
   "outputs": [
    {
     "name": "stdout",
     "output_type": "stream",
     "text": [
      "Run from Import\n"
     ]
    }
   ],
   "source": [
    "import second_module"
   ]
  }
 ],
 "metadata": {
  "kernelspec": {
   "display_name": "Python [default]",
   "language": "python",
   "name": "python3"
  },
  "language_info": {
   "codemirror_mode": {
    "name": "ipython",
    "version": 3
   },
   "file_extension": ".py",
   "mimetype": "text/x-python",
   "name": "python",
   "nbconvert_exporter": "python",
   "pygments_lexer": "ipython3",
   "version": "3.5.3"
  }
 },
 "nbformat": 4,
 "nbformat_minor": 2
}
