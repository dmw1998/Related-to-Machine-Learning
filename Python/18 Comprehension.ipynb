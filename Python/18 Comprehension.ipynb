{
 "cells": [
  {
   "cell_type": "markdown",
   "metadata": {
    "collapsed": true
   },
   "source": [
    "# Comprehension"
   ]
  },
  {
   "cell_type": "markdown",
   "metadata": {},
   "source": [
    "Python: List Comprehensions by Joe James \n",
    "[youtube](https://www.youtube.com/watch?v=XSTmAtoUWXo) \n",
    "[github](https://github.com/joeyajames/Python)\n",
    "\n",
    "[Comprehensions - How they work and why you should be using them by Corey Schafer](https://www.youtube.com/watch?v=3dt4OGnU5sM&list=PL-osiE80TeTt2d9bfVyTiXJA-UTHn6WwU&index=19)"
   ]
  },
  {
   "cell_type": "markdown",
   "metadata": {},
   "source": [
    "<a href=\"#List-Comprehension,-List-Constructor-using-Compact-For-Loop\">List Comprehension, List Constructor using Compact For Loop</a>\n",
    "\n",
    "<a href=\"#List-Comprehension-using-if-else-Statement\">List Comprehension using if-else Statement</a>\n",
    "\n",
    "<a href=\"#Nested-List-Comprehension\">Nested List Comprehension</a>\n",
    "\n",
    "<a href=\"#List-Comprehension-is-Fater-and-uses-Less-Memory\">List Comprehension is Fater and uses Less Memory</a>\n",
    "\n",
    "<a href=\"#Tuple-Comprehension\">Tuple Comprehension</a>\n",
    "\n",
    "<a href=\"#Dict-Comprehension\">Dict Comprehension</a>\n",
    "\n",
    "<a href=\"#Set-Comprehension\">Set Comprehension</a>\n",
    "\n",
    "<a href=\"#Generator-Comprehension\">Generator Comprehension</a>"
   ]
  },
  {
   "cell_type": "markdown",
   "metadata": {},
   "source": [
    "# List Comprehension, List Constructor using Compact For Loop"
   ]
  },
  {
   "cell_type": "markdown",
   "metadata": {},
   "source": [
    "리스트 컴프리헨션은 for loop를 이용하여 리스트를 만드는 것과 동일한 작업을 하는 리스트 컨스트럭터이다.\n",
    "하지만 for loop를 이용하는 것에 비하여 네가지 장점이 있다. "
   ]
  },
  {
   "cell_type": "markdown",
   "metadata": {},
   "source": [
    "> 4 Simple Syntax\n",
    "\n",
    "> 3 One Liners\n",
    "\n",
    "> 2 English-like Commands\n",
    "\n",
    "> 1 Fast"
   ]
  },
  {
   "cell_type": "markdown",
   "metadata": {},
   "source": [
    "먼저 0부터 9까지의 정수로 이루어진 리스트를 for loop를 이용 만들어 보자."
   ]
  },
  {
   "cell_type": "code",
   "execution_count": 1,
   "metadata": {},
   "outputs": [
    {
     "name": "stdout",
     "output_type": "stream",
     "text": [
      "[0, 1, 2, 3, 4, 5, 6, 7, 8, 9]\n"
     ]
    }
   ],
   "source": [
    "under_10 = []\n",
    "for i in range(10):\n",
    "    under_10.append(i)\n",
    "print(under_10)"
   ]
  },
  {
   "cell_type": "markdown",
   "metadata": {},
   "source": [
    "같은 작업을 리스트 컴프리핸션을 이용하여 수행하자.\n",
    "리스트 컴프리핸션은 다음과 같은 양식으러 사용한다. "
   ]
  },
  {
   "cell_type": "markdown",
   "metadata": {},
   "source": [
    "> [transform sequence [common filter]]"
   ]
  },
  {
   "cell_type": "code",
   "execution_count": 2,
   "metadata": {},
   "outputs": [
    {
     "name": "stdout",
     "output_type": "stream",
     "text": [
      "[0, 1, 2, 3, 4, 5, 6, 7, 8, 9]\n"
     ]
    }
   ],
   "source": [
    "under_10 = [i for i in range(10)]    # transform - i\n",
    "                                     # sequence  - for i in range(10) \n",
    "print(under_10)"
   ]
  },
  {
   "cell_type": "markdown",
   "metadata": {},
   "source": [
    "0부터 9까지의 정수를 제곱하여 리스트를 만드는데 for loop를 이용하는 방법과 리스트 컴프리헨션을 비교하자."
   ]
  },
  {
   "cell_type": "code",
   "execution_count": 3,
   "metadata": {},
   "outputs": [
    {
     "data": {
      "text/plain": [
       "[0, 1, 4, 9, 16, 25, 36, 49, 64, 81]"
      ]
     },
     "execution_count": 3,
     "metadata": {},
     "output_type": "execute_result"
    }
   ],
   "source": [
    "temp = []\n",
    "for i in under_10:\n",
    "    temp.append(i**2)\n",
    "temp"
   ]
  },
  {
   "cell_type": "code",
   "execution_count": 4,
   "metadata": {},
   "outputs": [
    {
     "data": {
      "text/plain": [
       "[0, 1, 4, 9, 16, 25, 36, 49, 64, 81]"
      ]
     },
     "execution_count": 4,
     "metadata": {},
     "output_type": "execute_result"
    }
   ],
   "source": [
    "temp = [i**2 for i in under_10]    # transform - i**2\n",
    "                                   # sequence  - for i in under_10\n",
    "temp"
   ]
  },
  {
   "cell_type": "markdown",
   "metadata": {},
   "source": [
    "0부터 9까지의 정수중 짝수인 정수를 제곱하여 리스트를 만드는데 for loop를 이용하는 방법과 리스트 컴프리헨션을 비교하자."
   ]
  },
  {
   "cell_type": "code",
   "execution_count": 5,
   "metadata": {},
   "outputs": [
    {
     "name": "stdout",
     "output_type": "stream",
     "text": [
      "[0, 4, 16, 36, 64]\n"
     ]
    }
   ],
   "source": [
    "temp = []\n",
    "for i in under_10:\n",
    "    if i%2 == 0:\n",
    "        temp.append(i**2)\n",
    "print(temp)"
   ]
  },
  {
   "cell_type": "code",
   "execution_count": 6,
   "metadata": {},
   "outputs": [
    {
     "name": "stdout",
     "output_type": "stream",
     "text": [
      "[0, 4, 16, 36, 64]\n"
     ]
    }
   ],
   "source": [
    "temp = [i**2 for i in under_10 if i%2 == 0]    # transform - i**2\n",
    "                                               # sequence  - for i in under_10\n",
    "                                               # filter    - if i%2 == 0 \n",
    "print(temp)"
   ]
  },
  {
   "cell_type": "markdown",
   "metadata": {},
   "source": [
    "(letter, num) pair for each letter in abcd and each number in 0123를 for loop를 이용 구성하여 보자."
   ]
  },
  {
   "cell_type": "code",
   "execution_count": 7,
   "metadata": {},
   "outputs": [
    {
     "data": {
      "text/plain": [
       "[('a', 0),\n",
       " ('a', 1),\n",
       " ('a', 2),\n",
       " ('a', 3),\n",
       " ('b', 0),\n",
       " ('b', 1),\n",
       " ('b', 2),\n",
       " ('b', 3),\n",
       " ('c', 0),\n",
       " ('c', 1),\n",
       " ('c', 2),\n",
       " ('c', 3),\n",
       " ('d', 0),\n",
       " ('d', 1),\n",
       " ('d', 2),\n",
       " ('d', 3)]"
      ]
     },
     "execution_count": 7,
     "metadata": {},
     "output_type": "execute_result"
    }
   ],
   "source": [
    "my_list = []\n",
    "for letter in 'abcd':\n",
    "    for num in range(4):\n",
    "        my_list.append((letter, num))\n",
    "my_list"
   ]
  },
  {
   "cell_type": "markdown",
   "metadata": {},
   "source": [
    "같은 작업을 리스트 컴프리헨션을 쓰면 다음과 같다."
   ]
  },
  {
   "cell_type": "code",
   "execution_count": 8,
   "metadata": {},
   "outputs": [
    {
     "data": {
      "text/plain": [
       "[('a', 0),\n",
       " ('a', 1),\n",
       " ('a', 2),\n",
       " ('a', 3),\n",
       " ('b', 0),\n",
       " ('b', 1),\n",
       " ('b', 2),\n",
       " ('b', 3),\n",
       " ('c', 0),\n",
       " ('c', 1),\n",
       " ('c', 2),\n",
       " ('c', 3),\n",
       " ('d', 0),\n",
       " ('d', 1),\n",
       " ('d', 2),\n",
       " ('d', 3)]"
      ]
     },
     "execution_count": 8,
     "metadata": {},
     "output_type": "execute_result"
    }
   ],
   "source": [
    "my_list = [(letter, num) for letter in 'abcd' for num in range(4)]\n",
    "my_list"
   ]
  },
  {
   "cell_type": "markdown",
   "metadata": {},
   "source": [
    "스트링에 들어있는 숫자들만 필터링하여 리스트를 만들어보자."
   ]
  },
  {
   "cell_type": "code",
   "execution_count": 9,
   "metadata": {},
   "outputs": [
    {
     "name": "stdout",
     "output_type": "stream",
     "text": [
      "['2', '0', '7', '3']\n"
     ]
    }
   ],
   "source": [
    "s = 'I love 2 go t0 the caffe 7 times a w3ek.'\n",
    "nums = [i for i in s if i.isnumeric()]    # transform - i\n",
    "                                          # sequence  - for i in s\n",
    "                                          # filter    - if i.isnumeric() \n",
    "print(nums)"
   ]
  },
  {
   "cell_type": "markdown",
   "metadata": {},
   "source": [
    "리스트에서 특정 아이템이 차지하는 인덱스를 리스트 컴프리헨션을 이용 찿아보자.\n",
    "아이템이 여럿 있을 수 있는데, 이 때에는 처음 나오는 인덱스를 찿자.\n",
    "이 보기에서는 Math를 찿는데 세곳에서 발견된다.\n",
    "처음 발생하는 인덱스를 리포트하자."
   ]
  },
  {
   "cell_type": "code",
   "execution_count": 10,
   "metadata": {},
   "outputs": [
    {
     "name": "stdout",
     "output_type": "stream",
     "text": [
      "index = 0\n"
     ]
    }
   ],
   "source": [
    "Courses = ['Math', 'History', 'Physics', 'Music', 'Math', 'Math']\n",
    "idx = [i for i, v in enumerate(Courses) if v == 'Math']\n",
    "print('index = {}'.format(str(idx[0])))"
   ]
  },
  {
   "cell_type": "markdown",
   "metadata": {},
   "source": [
    "스트링에서 특정 알파벳을 리스트 컴프리헨션을 이용 제거해 보자."
   ]
  },
  {
   "cell_type": "code",
   "execution_count": 11,
   "metadata": {},
   "outputs": [
    {
     "name": "stdout",
     "output_type": "stream",
     "text": [
      "I lov to go to th caff 7 tims a wk.\n"
     ]
    }
   ],
   "source": [
    "s = 'I love to go to the caffe 7 times a week.'\n",
    "s_without_e = [i for i in s if i != 'e']    # transform - i\n",
    "                                            # sequence  - for i in s\n",
    "                                            # filter    - if i != 'e' \n",
    "new_s = ''\n",
    "for i in s_without_e:\n",
    "    new_s += i\n",
    "print(new_s)"
   ]
  },
  {
   "cell_type": "markdown",
   "metadata": {},
   "source": [
    "[<a href=\"#Comprehension\">Back to top</a>]"
   ]
  },
  {
   "cell_type": "markdown",
   "metadata": {},
   "source": [
    "# List Comprehension using if-else Statement "
   ]
  },
  {
   "cell_type": "markdown",
   "metadata": {},
   "source": [
    "리스트 컴프리핸션을 사용할 때 필터는 보통 마지막에 붙는다.\n",
    "하지만 필터가 if-else statement면, 이 필터는 중앙에 위치한다."
   ]
  },
  {
   "cell_type": "markdown",
   "metadata": {},
   "source": [
    "> [transform sequence [common filter]]\n",
    "\n",
    "> [transform [if-else filter] sequence]"
   ]
  },
  {
   "cell_type": "markdown",
   "metadata": {},
   "source": [
    "0부터 9까지의 정수중 짝수인 정수는 제곱하고\n",
    "홀수인 정수는 부호를 바꾸어 리스트를 만드는데 for loop를 이용하는 방법과 리스트 컴프리헨션을 비교하자."
   ]
  },
  {
   "cell_type": "code",
   "execution_count": 12,
   "metadata": {},
   "outputs": [
    {
     "name": "stdout",
     "output_type": "stream",
     "text": [
      "[0, -1, 4, -3, 16, -5, 36, -7, 64, -9]\n"
     ]
    }
   ],
   "source": [
    "temp = []\n",
    "for i in under_10:\n",
    "    if i%2 == 0:\n",
    "        temp.append(i**2)\n",
    "    else:\n",
    "        temp.append(-i)\n",
    "print(temp)"
   ]
  },
  {
   "cell_type": "code",
   "execution_count": 13,
   "metadata": {},
   "outputs": [
    {
     "name": "stdout",
     "output_type": "stream",
     "text": [
      "[0, -1, 4, -3, 16, -5, 36, -7, 64, -9]\n"
     ]
    }
   ],
   "source": [
    "temp = [i**2 if i%2 == 0 else -i for i in under_10]    # transform - i**2, -i\n",
    "                                                       # sequence  - for i in under_10\n",
    "                                                       # filter    - if i%2 == 0, else \n",
    "print(temp)"
   ]
  },
  {
   "cell_type": "markdown",
   "metadata": {},
   "source": [
    "[<a href=\"#Comprehension\">Back to top</a>]"
   ]
  },
  {
   "cell_type": "markdown",
   "metadata": {},
   "source": [
    "# Nested List Comprehension"
   ]
  },
  {
   "cell_type": "code",
   "execution_count": 14,
   "metadata": {},
   "outputs": [
    {
     "name": "stdout",
     "output_type": "stream",
     "text": [
      "[1, 2, 3, 4]\n"
     ]
    }
   ],
   "source": [
    "a = [[1,2], [3,4]]\n",
    "\n",
    "temp = []\n",
    "for i in a:               # first i=[1,2]\n",
    "                          # second i=[3,4] \n",
    "    for j in i:\n",
    "        temp.append(j)\n",
    "print(temp)"
   ]
  },
  {
   "cell_type": "code",
   "execution_count": 15,
   "metadata": {},
   "outputs": [
    {
     "name": "stdout",
     "output_type": "stream",
     "text": [
      "[1, 2, 3, 4]\n"
     ]
    }
   ],
   "source": [
    "a = [[1,2], [3,4]]\n",
    "x = [j for i in a for j in i]    # for i in a            - (above) for i in a:\n",
    "                                 # for i in a for j in i - (above) for i in a:    \n",
    "                                 #                                     for j in i:\n",
    "print(x)"
   ]
  },
  {
   "cell_type": "markdown",
   "metadata": {},
   "source": [
    "[<a href=\"#Comprehension\">Back to top</a>]"
   ]
  },
  {
   "cell_type": "markdown",
   "metadata": {},
   "source": [
    "# List Comprehension is Fater and uses Less Memory"
   ]
  },
  {
   "cell_type": "code",
   "execution_count": 16,
   "metadata": {
    "collapsed": true
   },
   "outputs": [],
   "source": [
    "n = 10"
   ]
  },
  {
   "cell_type": "code",
   "execution_count": 17,
   "metadata": {
    "collapsed": true
   },
   "outputs": [],
   "source": [
    "def first_method(n):\n",
    "    temp = []\n",
    "    for i in range(n):\n",
    "        temp.append(i)\n",
    "    return temp"
   ]
  },
  {
   "cell_type": "code",
   "execution_count": 18,
   "metadata": {},
   "outputs": [
    {
     "data": {
      "text/plain": [
       "[0, 1, 2, 3, 4, 5, 6, 7, 8, 9]"
      ]
     },
     "execution_count": 18,
     "metadata": {},
     "output_type": "execute_result"
    }
   ],
   "source": [
    "first_method(n)"
   ]
  },
  {
   "cell_type": "code",
   "execution_count": 19,
   "metadata": {
    "collapsed": true
   },
   "outputs": [],
   "source": [
    "def second_method(n):\n",
    "    return [i for i in range(n)]"
   ]
  },
  {
   "cell_type": "code",
   "execution_count": 20,
   "metadata": {},
   "outputs": [
    {
     "data": {
      "text/plain": [
       "[0, 1, 2, 3, 4, 5, 6, 7, 8, 9]"
      ]
     },
     "execution_count": 20,
     "metadata": {},
     "output_type": "execute_result"
    }
   ],
   "source": [
    "second_method(n)"
   ]
  },
  {
   "cell_type": "code",
   "execution_count": 21,
   "metadata": {
    "collapsed": true
   },
   "outputs": [],
   "source": [
    "n = 1000000"
   ]
  },
  {
   "cell_type": "code",
   "execution_count": 22,
   "metadata": {},
   "outputs": [
    {
     "name": "stdout",
     "output_type": "stream",
     "text": [
      "10 loops, best of 3: 110 ms per loop\n"
     ]
    }
   ],
   "source": [
    "%timeit first_method(n)"
   ]
  },
  {
   "cell_type": "code",
   "execution_count": 23,
   "metadata": {},
   "outputs": [
    {
     "name": "stdout",
     "output_type": "stream",
     "text": [
      "10 loops, best of 3: 71.2 ms per loop\n"
     ]
    }
   ],
   "source": [
    "%timeit second_method(n)"
   ]
  },
  {
   "cell_type": "code",
   "execution_count": 24,
   "metadata": {
    "collapsed": true
   },
   "outputs": [],
   "source": [
    "%load_ext memory_profiler"
   ]
  },
  {
   "cell_type": "code",
   "execution_count": 25,
   "metadata": {},
   "outputs": [
    {
     "name": "stdout",
     "output_type": "stream",
     "text": [
      "peak memory: 71.23 MiB, increment: 27.02 MiB\n"
     ]
    }
   ],
   "source": [
    "%memit first_method(n)"
   ]
  },
  {
   "cell_type": "code",
   "execution_count": 26,
   "metadata": {},
   "outputs": [
    {
     "name": "stdout",
     "output_type": "stream",
     "text": [
      "peak memory: 68.54 MiB, increment: 23.76 MiB\n"
     ]
    }
   ],
   "source": [
    "%memit second_method(n)"
   ]
  },
  {
   "cell_type": "markdown",
   "metadata": {},
   "source": [
    "[<a href=\"#Comprehension\">Back to top</a>]"
   ]
  },
  {
   "cell_type": "markdown",
   "metadata": {},
   "source": [
    "# Tuple Comprehension"
   ]
  },
  {
   "cell_type": "code",
   "execution_count": 27,
   "metadata": {},
   "outputs": [
    {
     "name": "stdout",
     "output_type": "stream",
     "text": [
      "<generator object <genexpr> at 0x1044dd258>\n"
     ]
    }
   ],
   "source": [
    "under_10 = (i for i in range(10))    # transform - i\n",
    "                                     # sequence  - for i in range(10) \n",
    "print(under_10)"
   ]
  },
  {
   "cell_type": "markdown",
   "metadata": {},
   "source": [
    "[<a href=\"#Comprehension\">Back to top</a>]"
   ]
  },
  {
   "cell_type": "markdown",
   "metadata": {},
   "source": [
    "# Dict Comprehension"
   ]
  },
  {
   "cell_type": "code",
   "execution_count": 28,
   "metadata": {},
   "outputs": [
    {
     "name": "stdout",
     "output_type": "stream",
     "text": [
      "{0: 0, 2: 4, 4: 16}\n"
     ]
    }
   ],
   "source": [
    "numbers = [0, 1, 2, 3, 4]\n",
    "even_numbers_square = {x: x ** 2 for x in numbers if x % 2 == 0}\n",
    "\n",
    "print(even_numbers_square)  # Prints \"{0: 0, 2: 4, 4: 16}\""
   ]
  },
  {
   "cell_type": "code",
   "execution_count": 29,
   "metadata": {
    "collapsed": true
   },
   "outputs": [],
   "source": [
    "names = ['Bruce', 'Clark', 'Peter', 'Logan', 'Wade']\n",
    "heros = ['Batman', 'Superman', 'Spiderman', 'Wolverine', 'Deadpool']"
   ]
  },
  {
   "cell_type": "code",
   "execution_count": 30,
   "metadata": {},
   "outputs": [
    {
     "data": {
      "text/plain": [
       "<zip at 0x1045964c8>"
      ]
     },
     "execution_count": 30,
     "metadata": {},
     "output_type": "execute_result"
    }
   ],
   "source": [
    "zip(names, heros)"
   ]
  },
  {
   "cell_type": "markdown",
   "metadata": {},
   "source": [
    "I want a dict{'name': 'hero'} for each name, hero in zip(names, heros).\n",
    "for loop를 이용하면 다음과 같다."
   ]
  },
  {
   "cell_type": "code",
   "execution_count": 31,
   "metadata": {},
   "outputs": [
    {
     "data": {
      "text/plain": [
       "{'Bruce': 'Batman',\n",
       " 'Clark': 'Superman',\n",
       " 'Logan': 'Wolverine',\n",
       " 'Peter': 'Spiderman',\n",
       " 'Wade': 'Deadpool'}"
      ]
     },
     "execution_count": 31,
     "metadata": {},
     "output_type": "execute_result"
    }
   ],
   "source": [
    "my_dict = {}\n",
    "for name, hero in zip(names, heros):\n",
    "    my_dict[name] = hero\n",
    "my_dict"
   ]
  },
  {
   "cell_type": "markdown",
   "metadata": {},
   "source": [
    "같은 작업을 딕션너리 컴프리헨션을 쓰면 다음과 같다."
   ]
  },
  {
   "cell_type": "code",
   "execution_count": 32,
   "metadata": {},
   "outputs": [
    {
     "data": {
      "text/plain": [
       "{'Bruce': 'Batman',\n",
       " 'Clark': 'Superman',\n",
       " 'Logan': 'Wolverine',\n",
       " 'Peter': 'Spiderman',\n",
       " 'Wade': 'Deadpool'}"
      ]
     },
     "execution_count": 32,
     "metadata": {},
     "output_type": "execute_result"
    }
   ],
   "source": [
    "my_dict = {name: hero for name, hero in zip(names, heros)}\n",
    "my_dict"
   ]
  },
  {
   "cell_type": "markdown",
   "metadata": {},
   "source": [
    "Peter의 히어로 Spiderman은 제외하고, 같은 작업을 딕션너리 컴프리헨션을 쓰면 다음과 같다."
   ]
  },
  {
   "cell_type": "code",
   "execution_count": 33,
   "metadata": {},
   "outputs": [
    {
     "data": {
      "text/plain": [
       "{'Bruce': 'Batman',\n",
       " 'Clark': 'Superman',\n",
       " 'Logan': 'Wolverine',\n",
       " 'Wade': 'Deadpool'}"
      ]
     },
     "execution_count": 33,
     "metadata": {},
     "output_type": "execute_result"
    }
   ],
   "source": [
    "my_dict = {name: hero for name, hero in zip(names, heros) if name != 'Peter'}\n",
    "my_dict"
   ]
  },
  {
   "cell_type": "markdown",
   "metadata": {},
   "source": [
    "[<a href=\"#Comprehension\">Back to top</a>]"
   ]
  },
  {
   "cell_type": "markdown",
   "metadata": {},
   "source": [
    "# Set Comprehension"
   ]
  },
  {
   "cell_type": "code",
   "execution_count": 34,
   "metadata": {},
   "outputs": [
    {
     "name": "stdout",
     "output_type": "stream",
     "text": [
      "{0, 1, 2, 3, 4, 5}\n"
     ]
    }
   ],
   "source": [
    "import numpy as np\n",
    "a = {int(np.sqrt(x)) for x in range(30)}\n",
    "print(a)  "
   ]
  },
  {
   "cell_type": "code",
   "execution_count": 35,
   "metadata": {
    "collapsed": true
   },
   "outputs": [],
   "source": [
    "nums = [1, 1, 2, 1, 3, 4, 3, 4, 5, 5, 6, 7, 8, 7, 9, 9]"
   ]
  },
  {
   "cell_type": "code",
   "execution_count": 36,
   "metadata": {},
   "outputs": [
    {
     "data": {
      "text/plain": [
       "{1, 2, 3, 4, 5, 6, 7, 8, 9}"
      ]
     },
     "execution_count": 36,
     "metadata": {},
     "output_type": "execute_result"
    }
   ],
   "source": [
    "my_set = set()\n",
    "for n in nums:\n",
    "    my_set.add(n)\n",
    "my_set"
   ]
  },
  {
   "cell_type": "code",
   "execution_count": 37,
   "metadata": {},
   "outputs": [
    {
     "data": {
      "text/plain": [
       "{1, 2, 3, 4, 5, 6, 7, 8, 9}"
      ]
     },
     "execution_count": 37,
     "metadata": {},
     "output_type": "execute_result"
    }
   ],
   "source": [
    "my_set = {n for n in nums}\n",
    "my_set"
   ]
  },
  {
   "cell_type": "markdown",
   "metadata": {},
   "source": [
    "[<a href=\"#Comprehension\">Back to top</a>]"
   ]
  },
  {
   "cell_type": "markdown",
   "metadata": {},
   "source": [
    "# Generator Comprehension"
   ]
  },
  {
   "cell_type": "code",
   "execution_count": 38,
   "metadata": {
    "collapsed": true
   },
   "outputs": [],
   "source": [
    "nums = [1, 2, 3, 4, 5, 6, 7, 8, 9, 10]"
   ]
  },
  {
   "cell_type": "markdown",
   "metadata": {},
   "source": [
    "I want to yield n*n for each n in nums.\n",
    "for loop를 이용하면 다음과 같다."
   ]
  },
  {
   "cell_type": "code",
   "execution_count": 39,
   "metadata": {},
   "outputs": [
    {
     "name": "stdout",
     "output_type": "stream",
     "text": [
      "1\n",
      "4\n",
      "9\n",
      "16\n",
      "25\n",
      "36\n",
      "49\n",
      "64\n",
      "81\n",
      "100\n"
     ]
    }
   ],
   "source": [
    "def gen_func(nums):\n",
    "    for n in nums:\n",
    "        yield n*n\n",
    "\n",
    "my_gen = gen_func(nums)\n",
    "\n",
    "for i in my_gen:\n",
    "    print(i)"
   ]
  },
  {
   "cell_type": "markdown",
   "metadata": {},
   "source": [
    "같은 작업을 제너레이터 컴프리헨션을 쓰면 다음과 같다."
   ]
  },
  {
   "cell_type": "code",
   "execution_count": 40,
   "metadata": {},
   "outputs": [
    {
     "name": "stdout",
     "output_type": "stream",
     "text": [
      "1\n",
      "4\n",
      "9\n",
      "16\n",
      "25\n",
      "36\n",
      "49\n",
      "64\n",
      "81\n",
      "100\n"
     ]
    }
   ],
   "source": [
    "my_gen = (n*n for n in nums)\n",
    "for i in my_gen:\n",
    "    print(i)"
   ]
  },
  {
   "cell_type": "markdown",
   "metadata": {},
   "source": [
    "[<a href=\"#Comprehension\">Back to top</a>]"
   ]
  }
 ],
 "metadata": {
  "kernelspec": {
   "display_name": "Python [default]",
   "language": "python",
   "name": "python3"
  },
  "language_info": {
   "codemirror_mode": {
    "name": "ipython",
    "version": 3
   },
   "file_extension": ".py",
   "mimetype": "text/x-python",
   "name": "python",
   "nbconvert_exporter": "python",
   "pygments_lexer": "ipython3",
   "version": "3.5.3"
  }
 },
 "nbformat": 4,
 "nbformat_minor": 2
}
