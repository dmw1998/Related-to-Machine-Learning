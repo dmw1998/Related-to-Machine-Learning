{
 "cells": [
  {
   "cell_type": "markdown",
   "metadata": {},
   "source": [
    "# Lambda, Map, Filter, Reduce Functions"
   ]
  },
  {
   "cell_type": "markdown",
   "metadata": {},
   "source": [
    "Python: Lambda, Map, Filter, Reduce Functions by Joe James \n",
    "[youtube](https://www.youtube.com/watch?v=cKlnR-CB3tk) \n",
    "[github](https://github.com/joeyajames/Python)"
   ]
  },
  {
   "cell_type": "markdown",
   "metadata": {},
   "source": [
    "# lambda"
   ]
  },
  {
   "cell_type": "markdown",
   "metadata": {},
   "source": [
    "> A simple 1-line function\n",
    "\n",
    "> Don't use `def` keyword\n",
    "\n",
    "> Den't use `return` keyword"
   ]
  },
  {
   "cell_type": "markdown",
   "metadata": {},
   "source": [
    "# map"
   ]
  },
  {
   "cell_type": "markdown",
   "metadata": {},
   "source": [
    "<div align=\"center\"><img src=\"img/Screen Shot 2018-08-16 at 12.50.46 AM.png\" width=\"50%\"></div>\n",
    "\n",
    "https://www.nature.com/scitable/knowledge/library/bird-banding-83032042Python: Lambda, Map, Filter, Reduce Functions by Joe James \n",
    "[youtube](https://www.youtube.com/watch?v=cKlnR-CB3tk) \n",
    "[github](https://github.com/joeyajames/Python)"
   ]
  },
  {
   "cell_type": "code",
   "execution_count": null,
   "metadata": {
    "collapsed": true
   },
   "outputs": [],
   "source": []
  },
  {
   "cell_type": "code",
   "execution_count": null,
   "metadata": {
    "collapsed": true
   },
   "outputs": [],
   "source": []
  },
  {
   "cell_type": "markdown",
   "metadata": {},
   "source": [
    "# filter"
   ]
  },
  {
   "cell_type": "markdown",
   "metadata": {},
   "source": [
    "<div align=\"center\"><img src=\"img/Screen Shot 2018-08-16 at 12.52.28 AM.png\" width=\"50%\"></div>\n",
    "\n",
    "https://www.nature.com/scitable/knowledge/library/bird-banding-83032042Python: Lambda, Map, Filter, Reduce Functions by Joe James \n",
    "[youtube](https://www.youtube.com/watch?v=cKlnR-CB3tk) \n",
    "[github](https://github.com/joeyajames/Python)"
   ]
  },
  {
   "cell_type": "code",
   "execution_count": null,
   "metadata": {
    "collapsed": true
   },
   "outputs": [],
   "source": []
  },
  {
   "cell_type": "code",
   "execution_count": null,
   "metadata": {
    "collapsed": true
   },
   "outputs": [],
   "source": []
  },
  {
   "cell_type": "markdown",
   "metadata": {},
   "source": [
    "# reduce"
   ]
  },
  {
   "cell_type": "markdown",
   "metadata": {},
   "source": [
    "<div align=\"center\"><img src=\"img/Screen Shot 2018-08-16 at 12.52.53 AM.png\" width=\"50%\"></div>\n",
    "\n",
    "https://www.nature.com/scitable/knowledge/library/bird-banding-83032042Python: Lambda, Map, Filter, Reduce Functions by Joe James \n",
    "[youtube](https://www.youtube.com/watch?v=cKlnR-CB3tk) \n",
    "[github](https://github.com/joeyajames/Python)"
   ]
  },
  {
   "cell_type": "code",
   "execution_count": null,
   "metadata": {
    "collapsed": true
   },
   "outputs": [],
   "source": []
  },
  {
   "cell_type": "code",
   "execution_count": null,
   "metadata": {
    "collapsed": true
   },
   "outputs": [],
   "source": []
  },
  {
   "cell_type": "code",
   "execution_count": null,
   "metadata": {
    "collapsed": true
   },
   "outputs": [],
   "source": []
  }
 ],
 "metadata": {
  "kernelspec": {
   "display_name": "Python [conda env:anaconda]",
   "language": "python",
   "name": "conda-env-anaconda-py"
  },
  "language_info": {
   "codemirror_mode": {
    "name": "ipython",
    "version": 3
   },
   "file_extension": ".py",
   "mimetype": "text/x-python",
   "name": "python",
   "nbconvert_exporter": "python",
   "pygments_lexer": "ipython3",
   "version": "3.5.3"
  }
 },
 "nbformat": 4,
 "nbformat_minor": 2
}
