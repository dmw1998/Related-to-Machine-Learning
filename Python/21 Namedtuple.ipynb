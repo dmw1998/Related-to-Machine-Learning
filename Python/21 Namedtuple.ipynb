{
 "cells": [
  {
   "cell_type": "markdown",
   "metadata": {},
   "source": [
    "# namedtuple"
   ]
  },
  {
   "cell_type": "markdown",
   "metadata": {},
   "source": [
    "[Namedtuple - When and why should you use namedtuples by Corey Schafer](https://www.youtube.com/watch?v=GfxJYp9_nJA&index=31&list=PL-osiE80TeTt2d9bfVyTiXJA-UTHn6WwU)"
   ]
  },
  {
   "cell_type": "markdown",
   "metadata": {},
   "source": [
    "<a href=\"#투플을-이용한-작업\">투플을 이용한 작업</a>\n",
    "\n",
    "<a href=\"#딕션너리를-이용한-작업\">딕션너리를 이용한 작업</a>\n",
    "\n",
    "<a href=\"#네임드투플을-이용한-작업\">네임드투플을 이용한 작업</a>\n",
    "\n",
    "<a href=\"#네임드투플의-장점-against-투플\">네임드투플의 장점 against 투플</a>\n",
    "\n",
    "<a href=\"#네임드투플의-장점-against-딕션너리\">네임드투플의 장점 against 딕션너리</a>"
   ]
  },
  {
   "cell_type": "markdown",
   "metadata": {},
   "source": [
    "여러 칼라의 rgb 값을 데이타로 저장는 작업을 생각하자.\n",
    "rgb 값을 저장하는데 투플, 딕션너리, 네임드투플 이 세가지 저장방법을 고려하여,\n",
    "네임드투플의 장점을 알아보려 한다."
   ]
  },
  {
   "cell_type": "code",
   "execution_count": 1,
   "metadata": {
    "collapsed": true
   },
   "outputs": [],
   "source": [
    "from collections import namedtuple"
   ]
  },
  {
   "cell_type": "code",
   "execution_count": 2,
   "metadata": {
    "collapsed": true
   },
   "outputs": [],
   "source": [
    "namedtuple?"
   ]
  },
  {
   "cell_type": "markdown",
   "metadata": {},
   "source": [
    "# 투플을 이용한 작업"
   ]
  },
  {
   "cell_type": "markdown",
   "metadata": {},
   "source": [
    "특정 칼라의 rgb 값을 보통의 투플로 표시하면 다음과 같다."
   ]
  },
  {
   "cell_type": "code",
   "execution_count": 3,
   "metadata": {
    "collapsed": true
   },
   "outputs": [],
   "source": [
    "color = (55, 155, 255) "
   ]
  },
  {
   "cell_type": "markdown",
   "metadata": {},
   "source": [
    "빨강색이 얼마나 있는지 알아보자."
   ]
  },
  {
   "cell_type": "code",
   "execution_count": 4,
   "metadata": {},
   "outputs": [
    {
     "data": {
      "text/plain": [
       "55"
      ]
     },
     "execution_count": 4,
     "metadata": {},
     "output_type": "execute_result"
    }
   ],
   "source": [
    "color[0]"
   ]
  },
  {
   "cell_type": "markdown",
   "metadata": {},
   "source": [
    "[<a href=\"#namedtuple\">Back to top</a>]"
   ]
  },
  {
   "cell_type": "markdown",
   "metadata": {
    "collapsed": true
   },
   "source": [
    "# 딕션너리를 이용한 작업"
   ]
  },
  {
   "cell_type": "markdown",
   "metadata": {},
   "source": [
    "위 코드는 잘 작동하지만, 다른 사람이 보거나 한달후에 보면 이 코드가 무었인지 파악하는데 어려움이 있다.\n",
    "코드의 가독성을 높이기위하여 딕션너리를 사용할 수 있다."
   ]
  },
  {
   "cell_type": "code",
   "execution_count": 5,
   "metadata": {
    "collapsed": true
   },
   "outputs": [],
   "source": [
    "color = {'red': 55, 'green': 155, 'blue': 255} "
   ]
  },
  {
   "cell_type": "code",
   "execution_count": 6,
   "metadata": {},
   "outputs": [
    {
     "data": {
      "text/plain": [
       "55"
      ]
     },
     "execution_count": 6,
     "metadata": {},
     "output_type": "execute_result"
    }
   ],
   "source": [
    "color['red']"
   ]
  },
  {
   "cell_type": "markdown",
   "metadata": {},
   "source": [
    "[<a href=\"#namedtuple\">Back to top</a>]"
   ]
  },
  {
   "cell_type": "markdown",
   "metadata": {},
   "source": [
    "# 네임드투플을 이용한 작업"
   ]
  },
  {
   "cell_type": "markdown",
   "metadata": {},
   "source": [
    "네임드 투플은 일종의 작은 클래스를 생성한다.\n",
    "파이썬 2.6부터 네임드 투플을 이용해서 데이터베이스의 레코드처럼,\n",
    "메쏘드를 가지지 않고 일련의 어트리뷰트만으로 구성된 클래스를 간단하게 만들수 있다."
   ]
  },
  {
   "cell_type": "code",
   "execution_count": 7,
   "metadata": {
    "collapsed": true
   },
   "outputs": [],
   "source": [
    "Color = namedtuple('Color', ['red', 'green', 'blue'])"
   ]
  },
  {
   "cell_type": "code",
   "execution_count": 8,
   "metadata": {
    "collapsed": true
   },
   "outputs": [],
   "source": [
    "if 1:\n",
    "    color = Color(55, 155, 255)\n",
    "elif 1:\n",
    "    color = Color(blue=55, green=155, red=255)"
   ]
  },
  {
   "cell_type": "code",
   "execution_count": 9,
   "metadata": {},
   "outputs": [
    {
     "name": "stdout",
     "output_type": "stream",
     "text": [
      "55\n"
     ]
    }
   ],
   "source": [
    "if 1:\n",
    "    print(color[0])\n",
    "elif 1:\n",
    "    print(color.red)"
   ]
  },
  {
   "cell_type": "markdown",
   "metadata": {},
   "source": [
    "[<a href=\"#namedtuple\">Back to top</a>]"
   ]
  },
  {
   "cell_type": "markdown",
   "metadata": {},
   "source": [
    "# 네임드투플의 장점 against 투플"
   ]
  },
  {
   "cell_type": "markdown",
   "metadata": {},
   "source": [
    "투플."
   ]
  },
  {
   "cell_type": "code",
   "execution_count": 10,
   "metadata": {},
   "outputs": [
    {
     "data": {
      "text/plain": [
       "55"
      ]
     },
     "execution_count": 10,
     "metadata": {},
     "output_type": "execute_result"
    }
   ],
   "source": [
    "color = (55, 155, 255) \n",
    "color[0]"
   ]
  },
  {
   "cell_type": "markdown",
   "metadata": {},
   "source": [
    "네임드투플."
   ]
  },
  {
   "cell_type": "code",
   "execution_count": 11,
   "metadata": {},
   "outputs": [
    {
     "data": {
      "text/plain": [
       "55"
      ]
     },
     "execution_count": 11,
     "metadata": {},
     "output_type": "execute_result"
    }
   ],
   "source": [
    "color = Color(55, 155, 255)\n",
    "color[0]"
   ]
  },
  {
   "cell_type": "markdown",
   "metadata": {},
   "source": [
    "네임드투플이 투플에 비하여 가독성이 뛰어나다."
   ]
  },
  {
   "cell_type": "code",
   "execution_count": 12,
   "metadata": {},
   "outputs": [
    {
     "data": {
      "text/plain": [
       "55"
      ]
     },
     "execution_count": 12,
     "metadata": {},
     "output_type": "execute_result"
    }
   ],
   "source": [
    "color.red"
   ]
  },
  {
   "cell_type": "code",
   "execution_count": 13,
   "metadata": {},
   "outputs": [
    {
     "data": {
      "text/plain": [
       "55"
      ]
     },
     "execution_count": 13,
     "metadata": {},
     "output_type": "execute_result"
    }
   ],
   "source": [
    "color = Color(red=55, green=155, blue=255)\n",
    "color.red"
   ]
  },
  {
   "cell_type": "markdown",
   "metadata": {},
   "source": [
    "[<a href=\"#namedtuple\">Back to top</a>]"
   ]
  },
  {
   "cell_type": "markdown",
   "metadata": {},
   "source": [
    "# 네임드투플의 장점 against 딕션너리"
   ]
  },
  {
   "cell_type": "markdown",
   "metadata": {},
   "source": [
    "딕션너리 대신 네임드 투플을 쓰면, 타이핑이 줄어든다.\n",
    "딕션너리를 이용 데이타를 생성하면 다음과 같다."
   ]
  },
  {
   "cell_type": "code",
   "execution_count": 14,
   "metadata": {
    "collapsed": true
   },
   "outputs": [],
   "source": [
    "color_1 = {'red': 51, 'green': 155, 'blue': 255} \n",
    "color_2 = {'red': 52, 'green': 155, 'blue': 255} \n",
    "color_3 = {'red': 53, 'green': 155, 'blue': 255} \n",
    "color_4 = {'red': 54, 'green': 155, 'blue': 255} \n",
    "color_4 = {'red': 55, 'green': 155, 'blue': 255} \n",
    "color_6 = {'red': 56, 'green': 155, 'blue': 255} \n",
    "color_7 = {'red': 57, 'green': 155, 'blue': 255} \n",
    "color_8 = {'red': 58, 'green': 155, 'blue': 255} \n",
    "color_9 = {'red': 59, 'green': 155, 'blue': 255} "
   ]
  },
  {
   "cell_type": "markdown",
   "metadata": {},
   "source": [
    "네임드 투플을 이용 데이타를 생성하면 다음과 같다."
   ]
  },
  {
   "cell_type": "code",
   "execution_count": 15,
   "metadata": {
    "collapsed": true
   },
   "outputs": [],
   "source": [
    "color_1 = Color(51, 155, 255) \n",
    "color_2 = Color(52, 155, 255) \n",
    "color_3 = Color(53, 155, 255) \n",
    "color_4 = Color(54, 155, 255) \n",
    "color_4 = Color(55, 155, 255) \n",
    "color_6 = Color(56, 155, 255) \n",
    "color_7 = Color(57, 155, 255) \n",
    "color_8 = Color(58, 155, 255) \n",
    "color_9 = Color(59, 155, 255) "
   ]
  },
  {
   "cell_type": "markdown",
   "metadata": {},
   "source": [
    "딕션너리를 이용 데이타를 부르면 다음과 같다."
   ]
  },
  {
   "cell_type": "code",
   "execution_count": 16,
   "metadata": {},
   "outputs": [
    {
     "name": "stdout",
     "output_type": "stream",
     "text": [
      "59\n"
     ]
    }
   ],
   "source": [
    "color_1 = {'red': 51, 'green': 155, 'blue': 255} \n",
    "color_2 = {'red': 52, 'green': 155, 'blue': 255} \n",
    "color_3 = {'red': 53, 'green': 155, 'blue': 255} \n",
    "color_4 = {'red': 54, 'green': 155, 'blue': 255} \n",
    "color_4 = {'red': 55, 'green': 155, 'blue': 255} \n",
    "color_6 = {'red': 56, 'green': 155, 'blue': 255} \n",
    "color_7 = {'red': 57, 'green': 155, 'blue': 255} \n",
    "color_8 = {'red': 58, 'green': 155, 'blue': 255} \n",
    "color_9 = {'red': 59, 'green': 155, 'blue': 255} \n",
    "\n",
    "print(color_9['red'])"
   ]
  },
  {
   "cell_type": "markdown",
   "metadata": {},
   "source": [
    "네임드 투플을 이용 데이타를 부르면 다음과 같다."
   ]
  },
  {
   "cell_type": "code",
   "execution_count": 17,
   "metadata": {},
   "outputs": [
    {
     "name": "stdout",
     "output_type": "stream",
     "text": [
      "59\n",
      "59\n"
     ]
    }
   ],
   "source": [
    "color_1 = Color(51, 155, 255) \n",
    "color_2 = Color(52, 155, 255) \n",
    "color_3 = Color(53, 155, 255) \n",
    "color_4 = Color(54, 155, 255) \n",
    "color_4 = Color(55, 155, 255) \n",
    "color_6 = Color(56, 155, 255) \n",
    "color_7 = Color(57, 155, 255) \n",
    "color_8 = Color(58, 155, 255) \n",
    "color_9 = Color(59, 155, 255) \n",
    "\n",
    "print(color_9[0])\n",
    "print(color_9.red)"
   ]
  },
  {
   "cell_type": "markdown",
   "metadata": {},
   "source": [
    "[<a href=\"#namedtuple\">Back to top</a>]"
   ]
  }
 ],
 "metadata": {
  "kernelspec": {
   "display_name": "Python [default]",
   "language": "python",
   "name": "python3"
  },
  "language_info": {
   "codemirror_mode": {
    "name": "ipython",
    "version": 3
   },
   "file_extension": ".py",
   "mimetype": "text/x-python",
   "name": "python",
   "nbconvert_exporter": "python",
   "pygments_lexer": "ipython3",
   "version": "3.5.3"
  }
 },
 "nbformat": 4,
 "nbformat_minor": 2
}
