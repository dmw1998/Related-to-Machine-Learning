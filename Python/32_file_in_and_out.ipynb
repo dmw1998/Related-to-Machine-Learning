{
 "cells": [
  {
   "cell_type": "markdown",
   "metadata": {
    "slideshow": {
     "slide_type": "slide"
    }
   },
   "source": [
    "# file in and out\n",
    " \n",
    "Sungchul Lee  "
   ]
  },
  {
   "cell_type": "markdown",
   "metadata": {
    "slideshow": {
     "slide_type": "subslide"
    }
   },
   "source": [
    "# References\n",
    "\n",
    "- justmarkham\n",
    "[00_python_refresher](https://github.com/justmarkham/DAT4/blob/master/code/00_python_refresher.py)\n",
    "[02_file_io](https://github.com/justmarkham/DAT4/blob/master/code/02_file_io.py)\n",
    "[02_file_io_homework](https://github.com/justmarkham/DAT4/blob/master/code/02_file_io_homework.py)\n",
    "[02_file_io_homework_solution](https://github.com/justmarkham/DAT4/blob/master/code/02_file_io_homework_solution.py)"
   ]
  },
  {
   "cell_type": "markdown",
   "metadata": {
    "slideshow": {
     "slide_type": "subslide"
    }
   },
   "source": [
    "# How to run these slides yourself\n",
    "\n",
    "**Setup python environment**\n",
    "\n",
    "- [Install RISE for an interactive presentation viewer](https://github.com/damianavila/RISE)"
   ]
  },
  {
   "cell_type": "markdown",
   "metadata": {},
   "source": [
    "# After opening a file you should close the file"
   ]
  },
  {
   "cell_type": "code",
   "execution_count": null,
   "metadata": {
    "collapsed": true
   },
   "outputs": [],
   "source": [
    "# Open a file object using the open method.\n",
    "# When you write a file, the python will create the file in the current working directory.\n",
    "# file name should include the file extension.\n",
    "# mode - r (read - default), w (write), a (append), t (text), b (binary)\n",
    "\n",
    "outFile = open('./data/output.txt', 'wt')\n",
    "print(outFile) # <_io.TextIOWrapper name='output.txt' mode='wt' encoding='UTF-8'>\n",
    "\n",
    "# Write to the file using the write method.\n",
    "\n",
    "outFile.write(\"The Kinghts who say Ni!\")\n",
    "outFile.write(\"\\nSome text\\nSome more text\")\n",
    "\n",
    "# Close the file object using the close method.\n",
    "# If not close, you cannot do anything to the file and you are still using a ram.\n",
    "\n",
    "outFile.close()"
   ]
  },
  {
   "cell_type": "code",
   "execution_count": null,
   "metadata": {
    "collapsed": true
   },
   "outputs": [],
   "source": [
    "# Open a file object using the open method.\n",
    "# When you read a file, the file should be in the current working directory.\n",
    "\n",
    "inFile = open('./data/output.txt', 'rt')\n",
    "\n",
    "# Read the file using the read method.\n",
    "# When we run inFile.read(), imaginary cursor is at the end of the file.\n",
    "# So, when we run print(inFile.read()), we get nothing.\n",
    "# The seek method can put the cursor back to the beginning of the file.\n",
    "\n",
    "inFile.read()\n",
    "print(inFile.read())\n",
    "\n",
    "# Close the file object using the close method.\n",
    "\n",
    "inFile.close()"
   ]
  },
  {
   "cell_type": "markdown",
   "metadata": {},
   "source": [
    "# write mode"
   ]
  },
  {
   "cell_type": "code",
   "execution_count": null,
   "metadata": {
    "collapsed": true
   },
   "outputs": [],
   "source": [
    "file = open('./data/filemethods.txt', 'wt')\n",
    "\n",
    "string =\"I am the greatest man that ever lived.\\n\\\n",
    "I was born to give and give and give.\\n\\\n",
    "This is a new line.\\n\\\n",
    "As is this one.\"\n",
    "\n",
    "file.write(string)\n",
    "file.close()"
   ]
  },
  {
   "cell_type": "code",
   "execution_count": null,
   "metadata": {
    "collapsed": true
   },
   "outputs": [],
   "source": [
    "# Copy the file in one shot\n",
    "\n",
    "reader = open('./data/haiku.txt', 'r')\n",
    "data = reader.read()\n",
    "reader.close()\n",
    "writer = open('./data/temp.txt', 'w')  # write all to the destination file\n",
    "writer.write(data)\n",
    "writer.close()"
   ]
  },
  {
   "cell_type": "code",
   "execution_count": null,
   "metadata": {
    "collapsed": true
   },
   "outputs": [],
   "source": [
    "# Copy the file line by line\n",
    "\n",
    "reader = open('./data/haiku.txt', 'r')\n",
    "writer = open('./data/temp.txt', 'w')\n",
    "for line in reader:\n",
    "    writer.write(line)\n",
    "reader.close()\n",
    "writer.close()"
   ]
  },
  {
   "cell_type": "code",
   "execution_count": null,
   "metadata": {
    "collapsed": true
   },
   "outputs": [],
   "source": [
    "# Copy the file block by block\n",
    "\n",
    "BLOCKSIZE = 1024\n",
    "reader = open('./data/haiku.txt', 'r')\n",
    "writer = open('./datatemp.txt', 'w')\n",
    "data = reader.read(BLOCKSIZE)\n",
    "while len(data) > 0:\n",
    "    writer.write(data)\n",
    "    data = reader.read(BLOCKSIZE)\n",
    "reader.close()\n",
    "writer.close()"
   ]
  },
  {
   "cell_type": "code",
   "execution_count": null,
   "metadata": {
    "collapsed": true
   },
   "outputs": [],
   "source": [
    "# read mode"
   ]
  },
  {
   "cell_type": "code",
   "execution_count": null,
   "metadata": {
    "collapsed": true
   },
   "outputs": [],
   "source": [
    "# Read a file as one long string using read method (short version)\n",
    "\n",
    "# Step 1: Put a text file in the file where the python code is running\n",
    "# Step 2: Open the file\n",
    "# open(filename, mode)\n",
    "# mode - r (read - default), w (write), a (append), r+, w+, a+\n",
    "\n",
    "a = open('./data/example.txt', 'r').read()\n",
    "print(a)\n",
    "print(len(a)) # 20\n",
    "\n",
    "for character in a:\n",
    "    print(character)\n",
    "\n",
    "a.close()"
   ]
  },
  {
   "cell_type": "code",
   "execution_count": null,
   "metadata": {
    "collapsed": true
   },
   "outputs": [],
   "source": [
    "#  Read a file as one long string using read method\n",
    "\n",
    "# Step 1: Put a text file in the file where the python code is running\n",
    "# Step 2: Open the file\n",
    "# open(filename, mode)\n",
    "# mode - r (read - default), w (write), a (append), r+, w+, a+\n",
    "\n",
    "a = open('./data/example.txt', 'r')\n",
    "\n",
    "b = a.read()\n",
    "print(b)\n",
    "print(len(b)) # 20\n",
    "\n",
    "for character in b:\n",
    "    print(character)\n",
    "\n",
    "a.close()"
   ]
  },
  {
   "cell_type": "code",
   "execution_count": null,
   "metadata": {
    "collapsed": true
   },
   "outputs": [],
   "source": [
    "# Read one line at a time using readline method\n",
    "\n",
    "reader = open('./data/haiku.txt', 'r')\n",
    "line = reader.readline()  # read a single line\n",
    "total = 0\n",
    "count = 0\n",
    "while line != '':     # Keep looping until no more lines in file\n",
    "    count += 1\n",
    "    total += len(line)\n",
    "    line = reader.readline()\n",
    "reader.close()\n",
    "print('average', float(total) / float(count))"
   ]
  },
  {
   "cell_type": "code",
   "execution_count": null,
   "metadata": {
    "collapsed": true
   },
   "outputs": [],
   "source": [
    "# Read only small portion at a time using read method\n",
    "\n",
    "reader = open('./data/haiku.txt', 'r')\n",
    "data = reader.read(64)   # Read at most 64 bytes Or the empty string if there is no more data\n",
    "while data != '':     # Keep looping as long as the last read returned some data\n",
    "    print(len(data))   # Do someting\n",
    "    data = reader.read(64)   # Try to reload\n",
    "print(len(data))   # Should be 0 (or the loop would still be running) after loop is over\n",
    "reader.close()    # It returns 64,64,64,64,4,0"
   ]
  },
  {
   "cell_type": "code",
   "execution_count": null,
   "metadata": {
    "collapsed": true
   },
   "outputs": [],
   "source": [
    "# Read all lines at once using readlines method\n",
    "\n",
    "# Step 1: Put a text file in the file where the python code is running\n",
    "# Step 2: Open the file\n",
    "# open(filename, mode)\n",
    "# mode - r (read - default), w (write), a (append), r+, w+, a+\n",
    "\n",
    "a = open('./data/example.txt', 'r')\n",
    "\n",
    "b = a.readlines()\n",
    "print(b)\n",
    "b = [line.rstrip('\\n') for line in b]\n",
    "print(b)\n",
    "\n",
    "for line in b:\n",
    "    print(line)\n",
    "\n",
    "a.close()"
   ]
  },
  {
   "cell_type": "code",
   "execution_count": null,
   "metadata": {
    "collapsed": true
   },
   "outputs": [],
   "source": [
    "# append mode"
   ]
  },
  {
   "cell_type": "code",
   "execution_count": null,
   "metadata": {
    "collapsed": true
   },
   "outputs": [],
   "source": [
    "a = open('./data/example.txt', 'a')\n",
    "l = ['Line 4', 'Line 5', 'Line 6']\n",
    "for item in l:\n",
    "    a.write(item + '\\n')\n",
    "a.close()"
   ]
  },
  {
   "cell_type": "code",
   "execution_count": null,
   "metadata": {
    "collapsed": true
   },
   "outputs": [],
   "source": [
    "# Looping over lines in the file."
   ]
  },
  {
   "cell_type": "code",
   "execution_count": null,
   "metadata": {
    "collapsed": true
   },
   "outputs": [],
   "source": [
    "reader = open('./data/haiku.txt', 'r')\n",
    "total = 0\n",
    "count = 0\n",
    "for line in reader:    # Assign lines of text in file to loop variable one by one\n",
    "    count += 1\n",
    "    total += len(line)\n",
    "reader.close()\n",
    "print('average', float(total) / float(count))"
   ]
  },
  {
   "cell_type": "markdown",
   "metadata": {},
   "source": [
    "# Automatic close using with statement"
   ]
  },
  {
   "cell_type": "code",
   "execution_count": null,
   "metadata": {
    "collapsed": true
   },
   "outputs": [],
   "source": [
    "with open('example.txt', 'a+') as sess:\n",
    "    a = sess.readlines() # read line by line starting from the pointer, which is at the end\n",
    "    print(a)              # []\n",
    "    sess.seek(0)         # move pointer to the beginning\n",
    "    b = sess.readlines() # read line by line starting from the pointer, which is at the beginning\n",
    "    print(b)              # ['Line 1\\n', 'Line 2\\n', 'Line 3\\n']\n",
    "    sess.write('Line 7')\n",
    "    sess.seek(0)         # move pointer to the beginning\n",
    "    c = sess.readlines() # read line by line starting from the pointer, which is at the beginning\n",
    "    print(c)"
   ]
  },
  {
   "cell_type": "markdown",
   "metadata": {},
   "source": [
    "# pickle"
   ]
  },
  {
   "cell_type": "code",
   "execution_count": null,
   "metadata": {
    "collapsed": true
   },
   "outputs": [],
   "source": [
    "# Step 1: Put a text file in the file where the python code is running\n",
    "# Step 2: Open the file\n",
    "# open(filename, mode)\n",
    "# mode - r (read - default), w (write), a (append), r+, w+, a+\n",
    "\n",
    "a = open('example.txt', 'r').read()\n",
    "print(a)\n",
    "print(len(a)) # 20\n",
    "\n",
    "for character in a:\n",
    "    print(character)\n",
    "\n",
    "a.close()\n"
   ]
  },
  {
   "cell_type": "markdown",
   "metadata": {},
   "source": [
    "# file method"
   ]
  },
  {
   "cell_type": "code",
   "execution_count": null,
   "metadata": {
    "collapsed": true
   },
   "outputs": [],
   "source": [
    "file = open('./data/filemethods.txt', 'rt')\n",
    "print(file.read())\n",
    "\n",
    "# seek method\n",
    "file.seek(10)\n",
    "print(file.read())\n",
    "file.seek(0)\n",
    "print(file.read())\n",
    "\n",
    "# read method\n",
    "file.seek(10)\n",
    "print(file.read(30))\n",
    "file.seek(0)\n",
    "print(file.read(40))\n",
    "\n",
    "# tell method\n",
    "print(\"Imaginary Cursor Position:\", file.tell())\n",
    "\n",
    "# readline method\n",
    "file.seek(0)\n",
    "print(file.readline())\n",
    "print(file.readline())\n",
    "print(file.readline())\n",
    "print(file.readline())\n",
    "print(file.readline())\n",
    "\n",
    "# readlines method\n",
    "file.seek(0)\n",
    "x = file.readlines()\n",
    "print(x)\n",
    "print(x[3])"
   ]
  },
  {
   "cell_type": "code",
   "execution_count": null,
   "metadata": {
    "collapsed": true
   },
   "outputs": [],
   "source": [
    "# Reading and Writing Files in Python"
   ]
  },
  {
   "cell_type": "code",
   "execution_count": null,
   "metadata": {
    "collapsed": true
   },
   "outputs": [],
   "source": [
    "# https://github.com/justmarkham/DAT4/blob/master/code/02_file_io.py\n",
    "\n",
    "'''\n",
    "CLASS: Reading and Writing Files in Python\n",
    "'''\n",
    "\n",
    "'''\n",
    "Part 1: Reading files\n",
    "Note: 'rU' mode (read universal) converts different line endings into '\\n'\n",
    "'''\n",
    "\n",
    "# read the whole file at once, return a single string\n",
    "f = open('../data/drinks.csv', 'rU')\n",
    "f.read()        # one big string including newlines\n",
    "f.read()        # empty string\n",
    "f.close()\n",
    "\n",
    "# read one line at a time (entire file does not have to fit into memory)\n",
    "f = open('../data/drinks.csv', 'rU')\n",
    "f.readline()    # one string per line (including newlines)\n",
    "f.readline()    # next line\n",
    "f.close()\n",
    "\n",
    "# read the whole file at once, return a list of lines\n",
    "f = open('../data/drinks.csv', 'rU')\n",
    "f.readlines()   # one list, each line is one string\n",
    "f.close()\n",
    "\n",
    "# use list comprehension to duplicate readlines without reading entire file at once\n",
    "f = open('../data/drinks.csv', 'rU')\n",
    "[row for row in f]\n",
    "f.close()\n",
    "\n",
    "# use a context manager to automatically close your file\n",
    "with open('../data/drinks.csv', 'rU') as f:\n",
    "    [row for row in f]\n",
    "\n",
    "# split on commas to create a list of lists\n",
    "with open('../data/drinks.csv', 'rU') as f:\n",
    "    [row.split(',') for row in f]\n",
    "\n",
    "# use the built-in csv module instead\n",
    "import csv\n",
    "with open('../data/drinks.csv', 'rU') as f:\n",
    "    [row for row in csv.reader(f)]\n",
    "\n",
    "# use next to grab the next row\n",
    "with open('../data/drinks.csv', 'rU') as f:\n",
    "    header = csv.reader(f).next()\n",
    "    data = [row for row in csv.reader(f)]\n",
    "\n",
    "\n",
    "'''\n",
    "Part 2: Writing files\n",
    "Note: 'wb' mode (write binary) is usually the recommended option\n",
    "'''\n",
    "\n",
    "# write a string to a file\n",
    "nums = range(5)\n",
    "with open('nums.txt', 'wb') as f:\n",
    "    for num in nums:\n",
    "        f.write(str(num) + '\\n')\n",
    "\n",
    "# convert a list of lists into a CSV file\n",
    "output = [['col1', 'col2', 'col3'], [4, 5, 6]]\n",
    "with open('example.csv', 'wb') as f:\n",
    "    for row in output:\n",
    "        csv.writer(f).writerow(row)\n",
    "\n",
    "# use writerows to do this in one line\n",
    "with open('example.csv', 'wb') as f:\n",
    "    csv.writer(f).writerows(output)"
   ]
  },
  {
   "cell_type": "markdown",
   "metadata": {},
   "source": [
    "# Exercise (from justmarkham)\n",
    "\n",
    "1.\n",
    "Read in drinks.csv\n",
    "Store the header in a list called 'header'\n",
    "Store the data in a list of lists called 'data'\n",
    "Hint: you've already seen this code!\n",
    "\n",
    "2.\n",
    "Isolate the beer_servings column in a list of integers called 'beers'\n",
    "Hint: you can use a list comprehension to do this in one line\n",
    "Expected output:\n",
    "```python\n",
    "    beers == [0, 89, ..., 32, 64]\n",
    "    len(beers) == 193\n",
    "```\n",
    "\n",
    "3.\n",
    "Create separate lists of NA and EU beer servings: 'NA_beers', 'EU_beers'\n",
    "Hint: you can use a list comprehension with a condition\n",
    "Expected output:\n",
    "```python\n",
    "    NA_beers == [102, 122, ..., 197, 249]\n",
    "    len(NA_beers) == 23\n",
    "    EU_beers == [89, 245, ..., 206, 219]\n",
    "    len(EU_beers) == 45\n",
    "```\n",
    "\n",
    "4.\n",
    "Calculate the average NA and EU beer servings to 2 decimals: 'NA_avg', 'EU_avg'\n",
    "Hint: don't forget about data types!\n",
    "Expected output:\n",
    "```python\n",
    "    NA_avg == 145.43\n",
    "    EU_avg == 193.78\n",
    "```\n",
    "\n",
    "5.\n",
    "Write a CSV file called 'avg_beer.csv' with two columns and three rows.\n",
    "The first row is the column headers: 'continent', 'avg_beer'\n",
    "The second and third rows contain the NA and EU values.\n",
    "Hint: think about what data structure will make this easy\n",
    "Expected output (in the actual file):\n",
    "```python\n",
    "    continent,avg_beer\n",
    "    NA,145.43\n",
    "    EU,193.78\n",
    "```\n",
    "\n",
    "6.\n",
    "Learn csv.DictReader() and use it to redo 1, 2, and 3."
   ]
  },
  {
   "cell_type": "code",
   "execution_count": null,
   "metadata": {
    "collapsed": true
   },
   "outputs": [],
   "source": [
    "# https://github.com/justmarkham/DAT4/blob/master/code/02_file_io_homework_solution.py\n",
    "\n",
    "'''\n",
    "HOMEWORK SOLUTION: Reading and Writing Files in Python\n",
    "'''\n",
    "\n",
    "'''\n",
    "PART 1:\n",
    "Read in drinks.csv\n",
    "Store the header in a list called 'header'\n",
    "Store the data in a list of lists called 'data'\n",
    "Hint: you've already seen this code!\n",
    "'''\n",
    "\n",
    "import csv\n",
    "with open('../data/drinks.csv', 'rU') as f:\n",
    "    header = csv.reader(f).next()\n",
    "    data = [row for row in csv.reader(f)]\n",
    "\n",
    "\n",
    "'''\n",
    "PART 2:\n",
    "Isolate the beer_servings column in a list of integers called 'beers'\n",
    "Hint: you can use a list comprehension to do this in one line\n",
    "Expected output:\n",
    "    beers == [0, 89, ..., 32, 64]\n",
    "    len(beers) == 193\n",
    "'''\n",
    "\n",
    "beers = [int(row[1]) for row in data]\n",
    "\n",
    "\n",
    "'''\n",
    "PART 3:\n",
    "Create separate lists of NA and EU beer servings: 'NA_beers', 'EU_beers'\n",
    "Hint: you can use a list comprehension with a condition\n",
    "Expected output:\n",
    "    NA_beers == [102, 122, ..., 197, 249]\n",
    "    len(NA_beers) == 23\n",
    "    EU_beers == [89, 245, ..., 206, 219]\n",
    "    len(EU_beers) == 45\n",
    "'''\n",
    "\n",
    "NA_beers = [int(row[1]) for row in data if row[5]=='NA']\n",
    "EU_beers = [int(row[1]) for row in data if row[5]=='EU']\n",
    "\n",
    "\n",
    "'''\n",
    "PART 4:\n",
    "Calculate the average NA and EU beer servings to 2 decimals: 'NA_avg', 'EU_avg'\n",
    "Hint: don't forget about data types!\n",
    "Expected output:\n",
    "    NA_avg == 145.43\n",
    "    EU_avg == 193.78\n",
    "'''\n",
    "\n",
    "NA_avg = round(sum(NA_beers) / float(len(NA_beers)), 2)\n",
    "EU_avg = round(sum(EU_beers) / float(len(EU_beers)), 2)\n",
    "\n",
    "\n",
    "'''\n",
    "PART 5:\n",
    "Write a CSV file called 'avg_beer.csv' with two columns and three rows.\n",
    "The first row is the column headers: 'continent', 'avg_beer'\n",
    "The second and third rows contain the NA and EU values.\n",
    "Hint: think about what data structure will make this easy\n",
    "Expected output (in the actual file):\n",
    "    continent,avg_beer\n",
    "    NA,145.43\n",
    "    EU,193.78\n",
    "'''\n",
    "\n",
    "output = [['continent', 'avg_beer'], ['NA', NA_avg], ['EU', EU_avg]]\n",
    "with open('avg_beer.csv', 'wb') as f:\n",
    "    csv.writer(f).writerows(output)\n",
    "\n",
    "\n",
    "'''\n",
    "BONUS:\n",
    "Learn csv.DictReader() and use it to redo Parts 1, 2, and 3.\n",
    "'''\n",
    "\n",
    "# Part 1\n",
    "with open('../data/drinks.csv', 'rU') as f:\n",
    "    data = [row for row in csv.DictReader(f)]\n",
    "\n",
    "# Note: storing the header isn't actually useful for parts 2 and 3\n",
    "# Also note: dictionaries are unordered, so don't rely on the ordering\n",
    "header = data[0].keys()\n",
    "\n",
    "# Part 2\n",
    "beers = [int(row['beer_servings']) for row in data]\n",
    "\n",
    "# Part 3\n",
    "NA_beers = [int(row['beer_servings']) for row in data if row['continent']=='NA']\n",
    "EU_beers = [int(row['beer_servings']) for row in data if row['continent']=='EU']"
   ]
  },
  {
   "cell_type": "code",
   "execution_count": null,
   "metadata": {
    "collapsed": true
   },
   "outputs": [],
   "source": []
  },
  {
   "cell_type": "code",
   "execution_count": null,
   "metadata": {
    "collapsed": true
   },
   "outputs": [],
   "source": []
  }
 ],
 "metadata": {
  "celltoolbar": "Slideshow",
  "kernelspec": {
   "display_name": "Python 3",
   "language": "python",
   "name": "python3"
  },
  "language_info": {
   "codemirror_mode": {
    "name": "ipython",
    "version": 3
   },
   "file_extension": ".py",
   "mimetype": "text/x-python",
   "name": "python",
   "nbconvert_exporter": "python",
   "pygments_lexer": "ipython3",
   "version": "3.6.3"
  }
 },
 "nbformat": 4,
 "nbformat_minor": 2
}
