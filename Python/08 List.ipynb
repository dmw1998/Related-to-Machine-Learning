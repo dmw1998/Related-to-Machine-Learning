{
 "cells": [
  {
   "cell_type": "markdown",
   "metadata": {
    "collapsed": true
   },
   "source": [
    "# List"
   ]
  },
  {
   "cell_type": "markdown",
   "metadata": {},
   "source": [
    "[Lists, Tuples, and Sets by Corey Schafer](https://www.youtube.com/watch?v=W8KRzm-HUcc&index=4&list=PL-osiE80TeTt2d9bfVyTiXJA-UTHn6WwU)\n",
    "\n",
    "Python: Data Structures - Lists, Tuples, Sets & Dictionaries by Joe James \n",
    "[youtube](https://www.youtube.com/watch?v=R-HLU9Fl5ug&index=9&list=PLj8W7XIvO93qsmdxbaDpIvM1KCyNO1K_c) \n",
    "[github](https://github.com/joeyajames/Python)"
   ]
  },
  {
   "cell_type": "markdown",
   "metadata": {},
   "source": [
    "<a href=\"#List---Constructor\">List - Constructor</a>\n",
    "\n",
    "<a href=\"#Indexing\">Indexing</a>\n",
    "\n",
    "<a href=\"#Slicing\">Slicing</a>\n",
    "\n",
    "<a href=\"#Lists-are-mutable,-whereas-strings-and-tuples-are-immutable\">Lists are mutable, whereas strings and tuples are immutable</a>\n",
    "\n",
    "<a href=\"#Simple-math-operations-with-list\">Simple math operations with list</a>\n",
    "\n",
    "<a href=\"#List-Methods---append,-insert,-extend\">List Methods - append, insert, extend</a>\n",
    "\n",
    "<a href=\"#List-Methods---remove,-pop,-del\">List Methods - remove, pop, del</a>\n",
    "\n",
    "<a href=\"#List-Methods---reverse\">List Methods - reverse</a>\n",
    "\n",
    "<a href=\"#List-Methods---sort\">List Methods - sort</a>\n",
    "\n",
    "<a href=\"#알리아싱과-copy\">알리아싱과 copy</a>\n",
    "\n",
    "<a href=\"#Membership-Test\">Membership Test</a>"
   ]
  },
  {
   "cell_type": "markdown",
   "metadata": {},
   "source": [
    "# List - Constructor"
   ]
  },
  {
   "cell_type": "markdown",
   "metadata": {},
   "source": [
    "리스트와 투플은 여러가지 다른 종류의 아이템을 담을 수 있는 유용한 용기이다.\n",
    "리스트와 투플은 여러가지 면에서 비슷한데, 가장 큰 차이는\n",
    "리스트는 포함하고 있는 아이템을 고칠 수 있는데 비하여\n",
    "투플은 고칠 수 없다."
   ]
  },
  {
   "cell_type": "code",
   "execution_count": 1,
   "metadata": {
    "collapsed": true
   },
   "outputs": [],
   "source": [
    "if 1: \n",
    "    # add items to empty list\n",
    "    x = list()\n",
    "    x.append('a')\n",
    "    x.append('b')\n",
    "    x.append('c')\n",
    "    x.append('d')\n",
    "    x.append(25)\n",
    "    x.append('dog')\n",
    "    x.append(8.43)\n",
    "elif 1: \n",
    "    # add items to empty list\n",
    "    x = []\n",
    "    x.append('a')\n",
    "    x.append('b')\n",
    "    x.append('c')\n",
    "    x.append('d')\n",
    "    x.append(25)\n",
    "    x.append('dog')\n",
    "    x.append(8.43)\n",
    "elif 1: \n",
    "    # explicit construction\n",
    "    x = ['a', 'b', 'c', 'd', 25, 'dog', 8.43]\n",
    "elif 1: \n",
    "    # tuple to list\n",
    "    temp = ('a', 'b', 'c', 'd', 25, 'dog', 8.43)\n",
    "    x = list(temp)\n",
    "elif 1: \n",
    "    # list comprehension\n",
    "    x = [m for m in range(8)]\n",
    "elif 1: \n",
    "    # list comprehension\n",
    "    x = [m**2 for m in range(8) if m>4]"
   ]
  },
  {
   "cell_type": "code",
   "execution_count": 2,
   "metadata": {},
   "outputs": [
    {
     "name": "stdout",
     "output_type": "stream",
     "text": [
      "['a', 'b', 'c', 'd', 25, 'dog', 8.43]\n"
     ]
    }
   ],
   "source": [
    "print(x)"
   ]
  },
  {
   "cell_type": "code",
   "execution_count": 3,
   "metadata": {},
   "outputs": [
    {
     "name": "stdout",
     "output_type": "stream",
     "text": [
      "<class 'list'>\n"
     ]
    }
   ],
   "source": [
    "print(type(x))"
   ]
  },
  {
   "cell_type": "code",
   "execution_count": 4,
   "metadata": {},
   "outputs": [
    {
     "name": "stdout",
     "output_type": "stream",
     "text": [
      "7\n"
     ]
    }
   ],
   "source": [
    "print(len(x))"
   ]
  },
  {
   "cell_type": "markdown",
   "metadata": {},
   "source": [
    "[<a href=\"#List\">Back to top</a>]"
   ]
  },
  {
   "cell_type": "markdown",
   "metadata": {},
   "source": [
    "# Indexing"
   ]
  },
  {
   "cell_type": "code",
   "execution_count": 5,
   "metadata": {},
   "outputs": [
    {
     "data": {
      "text/plain": [
       "'a'"
      ]
     },
     "execution_count": 5,
     "metadata": {},
     "output_type": "execute_result"
    }
   ],
   "source": [
    "x[0]"
   ]
  },
  {
   "cell_type": "code",
   "execution_count": 6,
   "metadata": {},
   "outputs": [
    {
     "data": {
      "text/plain": [
       "'d'"
      ]
     },
     "execution_count": 6,
     "metadata": {},
     "output_type": "execute_result"
    }
   ],
   "source": [
    "x[3]"
   ]
  },
  {
   "cell_type": "code",
   "execution_count": 7,
   "metadata": {},
   "outputs": [
    {
     "data": {
      "text/plain": [
       "8.43"
      ]
     },
     "execution_count": 7,
     "metadata": {},
     "output_type": "execute_result"
    }
   ],
   "source": [
    "x[-1]"
   ]
  },
  {
   "cell_type": "code",
   "execution_count": 8,
   "metadata": {},
   "outputs": [
    {
     "name": "stdout",
     "output_type": "stream",
     "text": [
      "list index out of range\n"
     ]
    }
   ],
   "source": [
    "try:\n",
    "    x[100]\n",
    "except Exception as e:\n",
    "    print(e)"
   ]
  },
  {
   "cell_type": "markdown",
   "metadata": {},
   "source": [
    "[<a href=\"#List\">Back to top</a>]"
   ]
  },
  {
   "cell_type": "markdown",
   "metadata": {},
   "source": [
    "# Slicing"
   ]
  },
  {
   "cell_type": "code",
   "execution_count": 9,
   "metadata": {},
   "outputs": [
    {
     "data": {
      "text/plain": [
       "['a', 'b']"
      ]
     },
     "execution_count": 9,
     "metadata": {},
     "output_type": "execute_result"
    }
   ],
   "source": [
    "x[0:2]"
   ]
  },
  {
   "cell_type": "code",
   "execution_count": 10,
   "metadata": {},
   "outputs": [
    {
     "data": {
      "text/plain": [
       "['a', 'b']"
      ]
     },
     "execution_count": 10,
     "metadata": {},
     "output_type": "execute_result"
    }
   ],
   "source": [
    "x[:2]"
   ]
  },
  {
   "cell_type": "code",
   "execution_count": 11,
   "metadata": {},
   "outputs": [
    {
     "data": {
      "text/plain": [
       "['c', 'd', 25, 'dog', 8.43]"
      ]
     },
     "execution_count": 11,
     "metadata": {},
     "output_type": "execute_result"
    }
   ],
   "source": [
    "x[2:]"
   ]
  },
  {
   "cell_type": "markdown",
   "metadata": {},
   "source": [
    "[<a href=\"#List\">Back to top</a>]"
   ]
  },
  {
   "cell_type": "markdown",
   "metadata": {},
   "source": [
    "# Lists are mutable, whereas strings and tuples are immutable"
   ]
  },
  {
   "cell_type": "markdown",
   "metadata": {},
   "source": [
    "> list: mutable 멤버교체 가능\n",
    "\n",
    "> tuple: immutable 멤버교체 불가능\n",
    "\n",
    "> string: immutable 멤버교체 불가능"
   ]
  },
  {
   "cell_type": "code",
   "execution_count": 12,
   "metadata": {},
   "outputs": [
    {
     "data": {
      "text/plain": [
       "['Art', 'Math', 'Physics', 'CompSci']"
      ]
     },
     "execution_count": 12,
     "metadata": {},
     "output_type": "execute_result"
    }
   ],
   "source": [
    "list_1 = ['History', 'Math', 'Physics', 'CompSci']\n",
    "list_1[0] = 'Art'\n",
    "list_1"
   ]
  },
  {
   "cell_type": "code",
   "execution_count": 13,
   "metadata": {},
   "outputs": [
    {
     "name": "stdout",
     "output_type": "stream",
     "text": [
      "'tuple' object does not support item assignment\n"
     ]
    }
   ],
   "source": [
    "try:\n",
    "    tuple_1 = ('History', 'Math', 'Physics', 'CompSci')\n",
    "    tuple_1[0] = 'Art' \n",
    "except Exception as e:\n",
    "    print(e)"
   ]
  },
  {
   "cell_type": "code",
   "execution_count": 14,
   "metadata": {},
   "outputs": [
    {
     "name": "stdout",
     "output_type": "stream",
     "text": [
      "'str' object does not support item assignment\n"
     ]
    }
   ],
   "source": [
    "try:\n",
    "    subject = 'History'\n",
    "    subject[0] = 'h'\n",
    "except Exception as e:\n",
    "    print(e)"
   ]
  },
  {
   "cell_type": "markdown",
   "metadata": {},
   "source": [
    "[<a href=\"#List\">Back to top</a>]"
   ]
  },
  {
   "cell_type": "markdown",
   "metadata": {},
   "source": [
    "# Simple math operations with list"
   ]
  },
  {
   "cell_type": "code",
   "execution_count": 15,
   "metadata": {},
   "outputs": [
    {
     "name": "stdout",
     "output_type": "stream",
     "text": [
      "74\n",
      "3\n",
      "154\n",
      "Average :  25.666666666666668\n"
     ]
    }
   ],
   "source": [
    "a = [3, 41, 12, 9, 74, 15]\n",
    "\n",
    "print(max(a))\n",
    "print(min(a))\n",
    "print(sum(a))\n",
    "print('Average : ', sum(a) / len(a))"
   ]
  },
  {
   "cell_type": "markdown",
   "metadata": {},
   "source": [
    "[<a href=\"#Lists\">Back to top</a>]"
   ]
  },
  {
   "cell_type": "markdown",
   "metadata": {},
   "source": [
    "# List Methods - append, insert, extend"
   ]
  },
  {
   "cell_type": "markdown",
   "metadata": {},
   "source": [
    "> append: 새로운 멤버를 리스트 끝에 붙인다.\n",
    "\n",
    "> insert: 새로운 멤버를 원하는 위치에 꼽아 넣는다.\n",
    "\n",
    "> extend: 두개의 리스트를 합해 하나의 리스트를 만든다. +와 같다."
   ]
  },
  {
   "cell_type": "code",
   "execution_count": 16,
   "metadata": {},
   "outputs": [
    {
     "data": {
      "text/plain": [
       "['History', 'Math', 'Physics', 'CompSci', 'Art']"
      ]
     },
     "execution_count": 16,
     "metadata": {},
     "output_type": "execute_result"
    }
   ],
   "source": [
    "Courses = ['History', 'Math', 'Physics', 'CompSci']\n",
    "Courses.append('Art') \n",
    "Courses"
   ]
  },
  {
   "cell_type": "code",
   "execution_count": 17,
   "metadata": {},
   "outputs": [
    {
     "data": {
      "text/plain": [
       "['Art', 'History', 'Math', 'Physics', 'CompSci']"
      ]
     },
     "execution_count": 17,
     "metadata": {},
     "output_type": "execute_result"
    }
   ],
   "source": [
    "Courses = ['History', 'Math', 'Physics', 'CompSci']\n",
    "Courses.insert(0, 'Art') \n",
    "Courses"
   ]
  },
  {
   "cell_type": "markdown",
   "metadata": {},
   "source": [
    "```Courses = ['History', 'Math', 'Physics', 'CompSci']```과\n",
    "```Courses_2 = ['Art', 'Education']```를 합쳐 하나의 리스트를 만들어 보죠.\n",
    "아래 코드는 실패했어요."
   ]
  },
  {
   "cell_type": "code",
   "execution_count": 18,
   "metadata": {},
   "outputs": [
    {
     "data": {
      "text/plain": [
       "[['Art', 'Education'], 'History', 'Math', 'Physics', 'CompSci']"
      ]
     },
     "execution_count": 18,
     "metadata": {},
     "output_type": "execute_result"
    }
   ],
   "source": [
    "Courses = ['History', 'Math', 'Physics', 'CompSci']\n",
    "Courses_2 = ['Art', 'Education']\n",
    "Courses.insert(0, Courses_2)\n",
    "Courses"
   ]
  },
  {
   "cell_type": "markdown",
   "metadata": {},
   "source": [
    "이렀게 해야 합니다."
   ]
  },
  {
   "cell_type": "code",
   "execution_count": 19,
   "metadata": {},
   "outputs": [
    {
     "data": {
      "text/plain": [
       "['History', 'Math', 'Physics', 'CompSci', 'Art', 'Education']"
      ]
     },
     "execution_count": 19,
     "metadata": {},
     "output_type": "execute_result"
    }
   ],
   "source": [
    "Courses = ['History', 'Math', 'Physics', 'CompSci']\n",
    "Courses_2 = ['Art', 'Education']\n",
    "Courses.extend(Courses_2) \n",
    "Courses"
   ]
  },
  {
   "cell_type": "markdown",
   "metadata": {},
   "source": [
    "[<a href=\"#List\">Back to top</a>]"
   ]
  },
  {
   "cell_type": "markdown",
   "metadata": {},
   "source": [
    "# List Methods - remove, pop, del"
   ]
  },
  {
   "cell_type": "markdown",
   "metadata": {},
   "source": [
    "> remove: 제거하고자 하는 첫번째 멤버를 제거한다.\n",
    "\n",
    "> pop: 제거하고자 하는 멤버를 index를 이용 제거하고, 이를 리턴한다. Default: pop() = pop(-1). \n",
    "\n",
    "> del: 메쏘드가 아니고 스페셜 함수다. "
   ]
  },
  {
   "cell_type": "markdown",
   "metadata": {},
   "source": [
    "Courses.remove('Math')을 하면, Courses 리스트에서 Math가 제거된다.  "
   ]
  },
  {
   "cell_type": "code",
   "execution_count": 20,
   "metadata": {},
   "outputs": [
    {
     "data": {
      "text/plain": [
       "['History', 'Physics', 'CompSci']"
      ]
     },
     "execution_count": 20,
     "metadata": {},
     "output_type": "execute_result"
    }
   ],
   "source": [
    "Courses = ['History', 'Math', 'Physics', 'CompSci']\n",
    "Courses.remove('Math')\n",
    "Courses"
   ]
  },
  {
   "cell_type": "markdown",
   "metadata": {},
   "source": [
    "x.remove(3)을 하면, x 리스트에서 첫번째 3이 제거된다."
   ]
  },
  {
   "cell_type": "code",
   "execution_count": 21,
   "metadata": {},
   "outputs": [
    {
     "data": {
      "text/plain": [
       "[5, 8, 6, 3]"
      ]
     },
     "execution_count": 21,
     "metadata": {},
     "output_type": "execute_result"
    }
   ],
   "source": [
    "x = [5,3,8,6,3]\n",
    "x.remove(3)\n",
    "x"
   ]
  },
  {
   "cell_type": "markdown",
   "metadata": {
    "collapsed": true
   },
   "source": [
    "Courses.pop()을 하면 Courses의 마지막 아이템인 CompSci이 inplace로 제거된다.  "
   ]
  },
  {
   "cell_type": "code",
   "execution_count": 22,
   "metadata": {},
   "outputs": [
    {
     "data": {
      "text/plain": [
       "['History', 'Math', 'Physics']"
      ]
     },
     "execution_count": 22,
     "metadata": {},
     "output_type": "execute_result"
    }
   ],
   "source": [
    "Courses = ['History', 'Math', 'Physics', 'CompSci']\n",
    "Courses.pop() \n",
    "Courses"
   ]
  },
  {
   "cell_type": "markdown",
   "metadata": {},
   "source": [
    "Courses.pop()을 하면 Courses의 마지막 아이템인 CompSci이 inplace로 제거되고,\n",
    "제거되는 아이템을 return한다.\n",
    "popped_subject = Courses.pop()를 하면,\n",
    "제거되는 아이템인 CompSci이 popped_subject에 어싸인된다.  "
   ]
  },
  {
   "cell_type": "code",
   "execution_count": 23,
   "metadata": {},
   "outputs": [
    {
     "name": "stdout",
     "output_type": "stream",
     "text": [
      "['History', 'Math', 'Physics']\n",
      "CompSci\n"
     ]
    }
   ],
   "source": [
    "Courses = ['History', 'Math', 'Physics', 'CompSci']\n",
    "popped_subject = Courses.pop() \n",
    "print(Courses) \n",
    "print(popped_subject)  "
   ]
  },
  {
   "cell_type": "markdown",
   "metadata": {
    "collapsed": true
   },
   "source": [
    "Courses.pop()을 하면 Courses의 마지막 아이템이 제거되지만,\n",
    "제거하고자 하는 멤버를 index를 이용 제거할 수 있다. \n",
    "Courses.pop(2)을 하면 Physics가 제거된다.  "
   ]
  },
  {
   "cell_type": "code",
   "execution_count": 24,
   "metadata": {},
   "outputs": [
    {
     "name": "stdout",
     "output_type": "stream",
     "text": [
      "['History', 'Math', 'CompSci']\n",
      "CompSci\n"
     ]
    }
   ],
   "source": [
    "Courses = ['History', 'Math', 'Physics', 'CompSci']\n",
    "popped = Courses.pop(2) \n",
    "print(Courses) \n",
    "print(popped_subject)  "
   ]
  },
  {
   "cell_type": "code",
   "execution_count": 25,
   "metadata": {},
   "outputs": [
    {
     "name": "stdout",
     "output_type": "stream",
     "text": [
      "['History', 'Math', 'CompSci']\n",
      "['History', 'CompSci']\n"
     ]
    }
   ],
   "source": [
    "print(Courses) \n",
    "del Courses[1]\n",
    "print(Courses) "
   ]
  },
  {
   "cell_type": "markdown",
   "metadata": {},
   "source": [
    "[<a href=\"#List\">Back to top</a>]"
   ]
  },
  {
   "cell_type": "markdown",
   "metadata": {},
   "source": [
    "# List Methods - reverse"
   ]
  },
  {
   "cell_type": "code",
   "execution_count": 26,
   "metadata": {},
   "outputs": [
    {
     "data": {
      "text/plain": [
       "['CompSci', 'Physics', 'Math', 'History']"
      ]
     },
     "execution_count": 26,
     "metadata": {},
     "output_type": "execute_result"
    }
   ],
   "source": [
    "Courses = ['History', 'Math', 'Physics', 'CompSci']\n",
    "Courses.reverse()\n",
    "Courses"
   ]
  },
  {
   "cell_type": "markdown",
   "metadata": {},
   "source": [
    "[<a href=\"#List\">Back to top</a>]"
   ]
  },
  {
   "cell_type": "markdown",
   "metadata": {},
   "source": [
    "# List Methods - sort"
   ]
  },
  {
   "cell_type": "markdown",
   "metadata": {},
   "source": [
    "> 'sort' - 리스트 메쏘드\n",
    "\n",
    "> 'sorted' - 시이퀀스 함수"
   ]
  },
  {
   "cell_type": "code",
   "execution_count": 27,
   "metadata": {
    "collapsed": true
   },
   "outputs": [],
   "source": [
    "if 1:\n",
    "    x = ['History', 'Math', 'Physics', 'CompSci']\n",
    "elif 1:\n",
    "    x = [3, 6, 9, 1, 2]"
   ]
  },
  {
   "cell_type": "code",
   "execution_count": 28,
   "metadata": {},
   "outputs": [
    {
     "data": {
      "text/plain": [
       "['CompSci', 'History', 'Math', 'Physics']"
      ]
     },
     "execution_count": 28,
     "metadata": {},
     "output_type": "execute_result"
    }
   ],
   "source": [
    "x.sort()\n",
    "x                    "
   ]
  },
  {
   "cell_type": "code",
   "execution_count": 29,
   "metadata": {},
   "outputs": [
    {
     "data": {
      "text/plain": [
       "['Physics', 'Math', 'History', 'CompSci']"
      ]
     },
     "execution_count": 29,
     "metadata": {},
     "output_type": "execute_result"
    }
   ],
   "source": [
    "x.sort(reverse=True)\n",
    "x"
   ]
  },
  {
   "cell_type": "markdown",
   "metadata": {
    "collapsed": true
   },
   "source": [
    "[<a href=\"#List\">Back to top</a>]"
   ]
  },
  {
   "cell_type": "markdown",
   "metadata": {},
   "source": [
    "# 알리아싱과 copy"
   ]
  },
  {
   "cell_type": "markdown",
   "metadata": {},
   "source": [
    "아래 코드에서 보면, 처음에는 ```list_1```과 ```list_2```가 같은 리스트로 ```['History', 'Math', 'Physics', 'CompSci']```이다.\n",
    "리스트는 멤버교체가 가능하므로, ```list_1[0] = 'Art'```를 통해 ```list_1```의 첫번째 멤버를 교체한다.\n",
    "그런데, 가만히 있는 ```list_2```의 첫번째 멤버도 자동으로 교체된다. \n",
    "무슨 일이 벌어진 것일까?"
   ]
  },
  {
   "cell_type": "code",
   "execution_count": 30,
   "metadata": {},
   "outputs": [
    {
     "data": {
      "text/plain": [
       "['History', 'Math', 'Physics', 'CompSci']"
      ]
     },
     "execution_count": 30,
     "metadata": {},
     "output_type": "execute_result"
    }
   ],
   "source": [
    "list_1 = ['History', 'Math', 'Physics', 'CompSci']\n",
    "list_1"
   ]
  },
  {
   "cell_type": "code",
   "execution_count": 31,
   "metadata": {},
   "outputs": [
    {
     "data": {
      "text/plain": [
       "['History', 'Math', 'Physics', 'CompSci']"
      ]
     },
     "execution_count": 31,
     "metadata": {},
     "output_type": "execute_result"
    }
   ],
   "source": [
    "list_2 = list_1\n",
    "list_2"
   ]
  },
  {
   "cell_type": "code",
   "execution_count": 32,
   "metadata": {
    "collapsed": true
   },
   "outputs": [],
   "source": [
    "list_1[0] = 'Art'"
   ]
  },
  {
   "cell_type": "code",
   "execution_count": 33,
   "metadata": {},
   "outputs": [
    {
     "name": "stdout",
     "output_type": "stream",
     "text": [
      "['Art', 'Math', 'Physics', 'CompSci']\n",
      "['Art', 'Math', 'Physics', 'CompSci']\n"
     ]
    }
   ],
   "source": [
    "print(list_1)\n",
    "print(list_2)"
   ]
  },
  {
   "cell_type": "markdown",
   "metadata": {},
   "source": [
    "```list_1```은 ```list_1 = ['History', 'Math', 'Physics', 'CompSci']```을 통하여 자료들이 저장되는데,\n",
    "```list_2```는 ```list_2 = list_1```을 통하여 자료들이 어디있는가 하는 포인터만을 저장하게 된다.\n",
    "```list_2[0] = 'Art'```를 통해 ```list_2```의 첫번째 멤버를 교체하면,\n",
    "```list_2```의 포인터가 지정하는 위치의 정보는 변화하였음으로,\n",
    "가만히 있는 ```list_1```의 첫번째 멤버도 자동으로 교체된다. "
   ]
  },
  {
   "cell_type": "code",
   "execution_count": 34,
   "metadata": {},
   "outputs": [
    {
     "data": {
      "text/plain": [
       "['History', 'Math', 'Physics', 'CompSci']"
      ]
     },
     "execution_count": 34,
     "metadata": {},
     "output_type": "execute_result"
    }
   ],
   "source": [
    "list_1 = ['History', 'Math', 'Physics', 'CompSci']\n",
    "list_1"
   ]
  },
  {
   "cell_type": "code",
   "execution_count": 35,
   "metadata": {},
   "outputs": [
    {
     "data": {
      "text/plain": [
       "['History', 'Math', 'Physics', 'CompSci']"
      ]
     },
     "execution_count": 35,
     "metadata": {},
     "output_type": "execute_result"
    }
   ],
   "source": [
    "list_2 = list_1\n",
    "list_2"
   ]
  },
  {
   "cell_type": "code",
   "execution_count": 36,
   "metadata": {
    "collapsed": true
   },
   "outputs": [],
   "source": [
    "list_2[0] = 'Art'"
   ]
  },
  {
   "cell_type": "code",
   "execution_count": 37,
   "metadata": {},
   "outputs": [
    {
     "name": "stdout",
     "output_type": "stream",
     "text": [
      "['Art', 'Math', 'Physics', 'CompSci']\n",
      "['Art', 'Math', 'Physics', 'CompSci']\n"
     ]
    }
   ],
   "source": [
    "print(list_1)\n",
    "print(list_2)"
   ]
  },
  {
   "cell_type": "markdown",
   "metadata": {},
   "source": [
    "이런 현상을 알리아싱이라고 하는데, 알리아싱을 없에려면 copy를 해야한다.\n",
    "copy라 함은 포인터를 생성해서 포인팅하는 것이 아니라,\n",
    "각각의 정보를 copy해서 새로운 메모리 위치에 저장하는 것을 의미한다."
   ]
  },
  {
   "cell_type": "code",
   "execution_count": 38,
   "metadata": {},
   "outputs": [
    {
     "data": {
      "text/plain": [
       "['History', 'Math', 'Physics', 'CompSci']"
      ]
     },
     "execution_count": 38,
     "metadata": {},
     "output_type": "execute_result"
    }
   ],
   "source": [
    "list_1 = ['History', 'Math', 'Physics', 'CompSci']\n",
    "list_1"
   ]
  },
  {
   "cell_type": "code",
   "execution_count": 39,
   "metadata": {},
   "outputs": [
    {
     "data": {
      "text/plain": [
       "['History', 'Math', 'Physics', 'CompSci']"
      ]
     },
     "execution_count": 39,
     "metadata": {},
     "output_type": "execute_result"
    }
   ],
   "source": [
    "list_2 = list_1.copy()\n",
    "list_2"
   ]
  },
  {
   "cell_type": "code",
   "execution_count": 40,
   "metadata": {
    "collapsed": true
   },
   "outputs": [],
   "source": [
    "list_1[0] = 'Art'"
   ]
  },
  {
   "cell_type": "code",
   "execution_count": 41,
   "metadata": {},
   "outputs": [
    {
     "name": "stdout",
     "output_type": "stream",
     "text": [
      "['Art', 'Math', 'Physics', 'CompSci']\n",
      "['History', 'Math', 'Physics', 'CompSci']\n"
     ]
    }
   ],
   "source": [
    "print(list_1)\n",
    "print(list_2)"
   ]
  },
  {
   "cell_type": "markdown",
   "metadata": {},
   "source": [
    "[<a href=\"#List\">Back to top</a>]"
   ]
  },
  {
   "cell_type": "markdown",
   "metadata": {},
   "source": [
    "# Membership Test"
   ]
  },
  {
   "cell_type": "code",
   "execution_count": 42,
   "metadata": {
    "collapsed": true
   },
   "outputs": [],
   "source": [
    "cs_courses_list  = ['History',    'Math',    'Physics',    'CompSci', 'Math']\n",
    "cs_courses_tuple = ('History',    'Math',    'Physics',    'CompSci', 'Math')\n",
    "cs_courses_dict  = {'History':10, 'Math':20, 'Physics':30, 'CompSci':40}\n",
    "cs_courses_set   = {'History',    'Math',    'Physics',    'CompSci', 'Math'}"
   ]
  },
  {
   "cell_type": "code",
   "execution_count": 43,
   "metadata": {},
   "outputs": [
    {
     "name": "stdout",
     "output_type": "stream",
     "text": [
      "True\n"
     ]
    }
   ],
   "source": [
    "print('Math' in cs_courses_list)"
   ]
  },
  {
   "cell_type": "code",
   "execution_count": 44,
   "metadata": {},
   "outputs": [
    {
     "name": "stdout",
     "output_type": "stream",
     "text": [
      "True\n"
     ]
    }
   ],
   "source": [
    "print('History' in cs_courses_tuple)"
   ]
  },
  {
   "cell_type": "code",
   "execution_count": 45,
   "metadata": {},
   "outputs": [
    {
     "name": "stdout",
     "output_type": "stream",
     "text": [
      "True\n",
      "False\n"
     ]
    }
   ],
   "source": [
    "print('History' in cs_courses_dict)    # 딕션너리는 키가 있는가 없는가를 확인한다. 밸류는 확인하지 않는다. \n",
    "print(10 in cs_courses_dict)           # 딕션너리는 키가 있는가 없는가를 확인한다. 밸류는 확인하지 않는다. "
   ]
  },
  {
   "cell_type": "code",
   "execution_count": 46,
   "metadata": {},
   "outputs": [
    {
     "name": "stdout",
     "output_type": "stream",
     "text": [
      "False\n"
     ]
    }
   ],
   "source": [
    "print('Economics' in cs_courses_set)"
   ]
  },
  {
   "cell_type": "markdown",
   "metadata": {},
   "source": [
    "[<a href=\"#List\">Back to top</a>]"
   ]
  }
 ],
 "metadata": {
  "kernelspec": {
   "display_name": "Python [default]",
   "language": "python",
   "name": "python3"
  },
  "language_info": {
   "codemirror_mode": {
    "name": "ipython",
    "version": 3
   },
   "file_extension": ".py",
   "mimetype": "text/x-python",
   "name": "python",
   "nbconvert_exporter": "python",
   "pygments_lexer": "ipython3",
   "version": "3.5.3"
  }
 },
 "nbformat": 4,
 "nbformat_minor": 2
}
