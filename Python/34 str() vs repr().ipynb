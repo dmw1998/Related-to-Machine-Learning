{
 "cells": [
  {
   "cell_type": "markdown",
   "metadata": {},
   "source": [
    "# str() vs repr()"
   ]
  },
  {
   "cell_type": "markdown",
   "metadata": {},
   "source": [
    "[str() vs repr() by Corey Schafer](https://www.youtube.com/watch?v=5cvM-crlDvg&index=38&list=PL-osiE80TeTt2d9bfVyTiXJA-UTHn6WwU)"
   ]
  },
  {
   "cell_type": "markdown",
   "metadata": {},
   "source": [
    "<a href=\"#str()-vs-repr()-무었이-다른가요\">str() vs repr() 무었이 다른가요</a>\n",
    "\n",
    "<a href=\"#str()-vs-repr()-다른것-같내요\">str() vs repr() 다른것 같내요</a>\n",
    "\n",
    "<a href=\"#str()-vs-repr()-확실히-다르내요\">str() vs repr() 확실히 다르내요</a>"
   ]
  },
  {
   "cell_type": "markdown",
   "metadata": {},
   "source": [
    "# str() vs repr() 무었이 다른가요"
   ]
  },
  {
   "cell_type": "code",
   "execution_count": 1,
   "metadata": {
    "collapsed": true
   },
   "outputs": [],
   "source": [
    "a = [1, 2, 3, 4]"
   ]
  },
  {
   "cell_type": "code",
   "execution_count": 2,
   "metadata": {},
   "outputs": [
    {
     "name": "stdout",
     "output_type": "stream",
     "text": [
      "[1, 2, 3, 4]\n",
      "[1, 2, 3, 4]\n"
     ]
    }
   ],
   "source": [
    "print(str(a))\n",
    "print(repr(a))"
   ]
  },
  {
   "cell_type": "markdown",
   "metadata": {},
   "source": [
    "[<a href=\"#str()-vs-repr()\">Back to top</a>]"
   ]
  },
  {
   "cell_type": "markdown",
   "metadata": {},
   "source": [
    "# str() vs repr() 다른것 같내요"
   ]
  },
  {
   "cell_type": "code",
   "execution_count": 3,
   "metadata": {
    "collapsed": true
   },
   "outputs": [],
   "source": [
    "a = 'sample string'"
   ]
  },
  {
   "cell_type": "code",
   "execution_count": 4,
   "metadata": {},
   "outputs": [
    {
     "name": "stdout",
     "output_type": "stream",
     "text": [
      "sample string\n",
      "'sample string'\n"
     ]
    }
   ],
   "source": [
    "print(str(a))\n",
    "print(repr(a))"
   ]
  },
  {
   "cell_type": "markdown",
   "metadata": {},
   "source": [
    "[<a href=\"#str()-vs-repr()\">Back to top</a>]"
   ]
  },
  {
   "cell_type": "markdown",
   "metadata": {},
   "source": [
    "# str() vs repr() 확실히 다르내요"
   ]
  },
  {
   "cell_type": "code",
   "execution_count": 5,
   "metadata": {
    "collapsed": true
   },
   "outputs": [],
   "source": [
    "import datetime\n",
    "import pytz"
   ]
  },
  {
   "cell_type": "code",
   "execution_count": 6,
   "metadata": {
    "collapsed": true
   },
   "outputs": [],
   "source": [
    "a = datetime.datetime.utcnow().replace(tzinfo=pytz.UTC)\n",
    "b = str(a)"
   ]
  },
  {
   "cell_type": "markdown",
   "metadata": {},
   "source": [
    "a와 b는 같아보이내요."
   ]
  },
  {
   "cell_type": "code",
   "execution_count": 7,
   "metadata": {},
   "outputs": [
    {
     "name": "stdout",
     "output_type": "stream",
     "text": [
      "2018-07-30 21:34:36.342711+00:00\n",
      "2018-07-30 21:34:36.342711+00:00\n"
     ]
    }
   ],
   "source": [
    "print(a)\n",
    "print(b)"
   ]
  },
  {
   "cell_type": "markdown",
   "metadata": {},
   "source": [
    "a와 b는 정말 같아보이내요."
   ]
  },
  {
   "cell_type": "code",
   "execution_count": 8,
   "metadata": {},
   "outputs": [
    {
     "name": "stdout",
     "output_type": "stream",
     "text": [
      "str(a): 2018-07-30 21:34:36.342711+00:00\n",
      "str(b): 2018-07-30 21:34:36.342711+00:00\n"
     ]
    }
   ],
   "source": [
    "print('str(a): {}'.format(str(a)))\n",
    "print('str(b): {}'.format(str(b)))"
   ]
  },
  {
   "cell_type": "markdown",
   "metadata": {},
   "source": [
    "하지만, a와 b는 다릅니다. "
   ]
  },
  {
   "cell_type": "code",
   "execution_count": 9,
   "metadata": {},
   "outputs": [
    {
     "name": "stdout",
     "output_type": "stream",
     "text": [
      "repr(a): datetime.datetime(2018, 7, 30, 21, 34, 36, 342711, tzinfo=<UTC>)\n",
      "repr(b): '2018-07-30 21:34:36.342711+00:00'\n"
     ]
    }
   ],
   "source": [
    "print('repr(a): {}'.format(repr(a)))\n",
    "print('repr(b): {}'.format(repr(b)))"
   ]
  },
  {
   "cell_type": "markdown",
   "metadata": {},
   "source": [
    "아래와 같이 하면, a와 b는 정확하게 같은 오브젝트가 됩니다. "
   ]
  },
  {
   "cell_type": "code",
   "execution_count": 10,
   "metadata": {
    "collapsed": true
   },
   "outputs": [],
   "source": [
    "a = datetime.datetime.utcnow().replace(tzinfo=pytz.UTC)\n",
    "b = a"
   ]
  },
  {
   "cell_type": "code",
   "execution_count": 11,
   "metadata": {},
   "outputs": [
    {
     "name": "stdout",
     "output_type": "stream",
     "text": [
      "repr(a): datetime.datetime(2018, 7, 30, 21, 34, 36, 371061, tzinfo=<UTC>)\n",
      "repr(b): datetime.datetime(2018, 7, 30, 21, 34, 36, 371061, tzinfo=<UTC>)\n"
     ]
    }
   ],
   "source": [
    "print('repr(a): {}'.format(repr(a)))\n",
    "print('repr(b): {}'.format(repr(b)))"
   ]
  },
  {
   "cell_type": "markdown",
   "metadata": {},
   "source": [
    "[<a href=\"#str()-vs-repr()\">Back to top</a>]"
   ]
  }
 ],
 "metadata": {
  "kernelspec": {
   "display_name": "Python [default]",
   "language": "python",
   "name": "python3"
  },
  "language_info": {
   "codemirror_mode": {
    "name": "ipython",
    "version": 3
   },
   "file_extension": ".py",
   "mimetype": "text/x-python",
   "name": "python",
   "nbconvert_exporter": "python",
   "pygments_lexer": "ipython3",
   "version": "3.5.3"
  }
 },
 "nbformat": 4,
 "nbformat_minor": 2
}
