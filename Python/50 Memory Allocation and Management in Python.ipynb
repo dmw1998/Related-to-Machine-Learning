{
 "cells": [
  {
   "cell_type": "markdown",
   "metadata": {},
   "source": [
    "# Memory Allocation and Management in Python "
   ]
  },
  {
   "cell_type": "markdown",
   "metadata": {},
   "source": [
    "Memory Allocation and Management in Python - simplified tutorial for beginners by \n",
    "simplefunde \n",
    "[youtube](https://www.youtube.com/watch?v=arxWaw-E8QQ) \n",
    "\n",
    "Nina Zakharenko - Memory Management in Python - The Basics - PyCon 2016 \n",
    "[youtube](https://www.youtube.com/watch?v=F6u5rhUQ6dU) "
   ]
  },
  {
   "cell_type": "code",
   "execution_count": null,
   "metadata": {
    "collapsed": true
   },
   "outputs": [],
   "source": []
  },
  {
   "cell_type": "markdown",
   "metadata": {},
   "source": [
    "Everything is object in python."
   ]
  },
  {
   "cell_type": "code",
   "execution_count": 1,
   "metadata": {},
   "outputs": [
    {
     "name": "stdout",
     "output_type": "stream",
     "text": [
      "<class 'int'>\n"
     ]
    }
   ],
   "source": [
    "x = 10\n",
    "print(type(x))"
   ]
  },
  {
   "cell_type": "markdown",
   "metadata": {},
   "source": [
    "<div align=\"center\"><img src=\"img/Screen Shot 2018-08-07 at 10.55.43 AM.png\" width=\"30%\"></div>\n",
    "\n",
    "Memory Allocation and Management in Python - simplified tutorial for beginners by \n",
    "simplefunde \n",
    "[youtube](https://www.youtube.com/watch?v=arxWaw-E8QQ) "
   ]
  },
  {
   "cell_type": "markdown",
   "metadata": {},
   "source": [
    "y = x라고 하였을 때,\n",
    "기존의 x에 저장되는 포인터와 새로운 y에 저장되는 포인터가 같음을 확인하자."
   ]
  },
  {
   "cell_type": "code",
   "execution_count": 2,
   "metadata": {},
   "outputs": [
    {
     "name": "stdout",
     "output_type": "stream",
     "text": [
      "x and y are pointing the same memory location.\n"
     ]
    }
   ],
   "source": [
    "y = x\n",
    "if id(x) == id(y):\n",
    "    print('x and y are pointing the same memory location.')\n",
    "else:\n",
    "    print('x and y are holding different points.')"
   ]
  },
  {
   "cell_type": "markdown",
   "metadata": {},
   "source": [
    "<div align=\"center\"><img src=\"img/Screen Shot 2018-08-07 at 10.58.51 AM.png\" width=\"30%\"></div>\n",
    "\n",
    "Memory Allocation and Management in Python - simplified tutorial for beginners by \n",
    "simplefunde \n",
    "[youtube](https://www.youtube.com/watch?v=arxWaw-E8QQ) "
   ]
  },
  {
   "cell_type": "code",
   "execution_count": 3,
   "metadata": {},
   "outputs": [
    {
     "name": "stdout",
     "output_type": "stream",
     "text": [
      "x and y are holding different points.\n"
     ]
    }
   ],
   "source": [
    "x = x + 1\n",
    "if id(x) == id(y):\n",
    "    print('x and y are pointing the same memory location.')\n",
    "else:\n",
    "    print('x and y are holding different points.')"
   ]
  },
  {
   "cell_type": "markdown",
   "metadata": {},
   "source": [
    "<div align=\"center\"><img src=\"img/Screen Shot 2018-08-07 at 11.04.20 AM.png\" width=\"30%\"></div>\n",
    "\n",
    "Memory Allocation and Management in Python - simplified tutorial for beginners by \n",
    "simplefunde \n",
    "[youtube](https://www.youtube.com/watch?v=arxWaw-E8QQ) "
   ]
  },
  {
   "cell_type": "code",
   "execution_count": 4,
   "metadata": {},
   "outputs": [
    {
     "name": "stdout",
     "output_type": "stream",
     "text": [
      "y and z are pointing the same memory location.\n"
     ]
    }
   ],
   "source": [
    "z = 10\n",
    "if id(y) == id(z):\n",
    "    print('y and z are pointing the same memory location.')\n",
    "else:\n",
    "    print('y and z are holding different points.')"
   ]
  },
  {
   "cell_type": "markdown",
   "metadata": {},
   "source": [
    "<div align=\"center\"><img src=\"img/Screen Shot 2018-08-07 at 11.07.43 AM.png\" width=\"30%\"></div>\n",
    "\n",
    "Memory Allocation and Management in Python - simplified tutorial for beginners by \n",
    "simplefunde \n",
    "[youtube](https://www.youtube.com/watch?v=arxWaw-E8QQ) "
   ]
  },
  {
   "cell_type": "code",
   "execution_count": null,
   "metadata": {
    "collapsed": true
   },
   "outputs": [],
   "source": []
  }
 ],
 "metadata": {
  "kernelspec": {
   "display_name": "Python [conda env:anaconda]",
   "language": "python",
   "name": "conda-env-anaconda-py"
  },
  "language_info": {
   "codemirror_mode": {
    "name": "ipython",
    "version": 3
   },
   "file_extension": ".py",
   "mimetype": "text/x-python",
   "name": "python",
   "nbconvert_exporter": "python",
   "pygments_lexer": "ipython3",
   "version": "3.5.3"
  }
 },
 "nbformat": 4,
 "nbformat_minor": 2
}
