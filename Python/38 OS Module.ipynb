{
 "cells": [
  {
   "cell_type": "markdown",
   "metadata": {},
   "source": [
    "# OS Module"
   ]
  },
  {
   "cell_type": "markdown",
   "metadata": {},
   "source": [
    "[OS Module - Use Underlying Operating System Functionality by Corey Schafer](https://www.youtube.com/watch?v=tJxcKyFMTGo&index=22&list=PL-osiE80TeTt2d9bfVyTiXJA-UTHn6WwU)\n",
    "\n",
    "[This module provides a portable way of using operating system dependent functionality. - Python Documentation](https://docs.python.org/3/library/os.html)"
   ]
  },
  {
   "cell_type": "code",
   "execution_count": 1,
   "metadata": {
    "collapsed": true
   },
   "outputs": [],
   "source": [
    "import os"
   ]
  },
  {
   "cell_type": "markdown",
   "metadata": {},
   "source": [
    "os 모듈의 어트리뷰트와 메쏘드를 dir을 이용 확인해 보죠. "
   ]
  },
  {
   "cell_type": "code",
   "execution_count": 2,
   "metadata": {},
   "outputs": [
    {
     "data": {
      "text/plain": [
       "['CLD_CONTINUED',\n",
       " 'CLD_DUMPED',\n",
       " 'CLD_EXITED',\n",
       " 'CLD_TRAPPED',\n",
       " 'EX_CANTCREAT',\n",
       " 'EX_CONFIG',\n",
       " 'EX_DATAERR',\n",
       " 'EX_IOERR',\n",
       " 'EX_NOHOST',\n",
       " 'EX_NOINPUT',\n",
       " 'EX_NOPERM',\n",
       " 'EX_NOUSER',\n",
       " 'EX_OK',\n",
       " 'EX_OSERR',\n",
       " 'EX_OSFILE',\n",
       " 'EX_PROTOCOL',\n",
       " 'EX_SOFTWARE',\n",
       " 'EX_TEMPFAIL',\n",
       " 'EX_UNAVAILABLE',\n",
       " 'EX_USAGE',\n",
       " 'F_LOCK',\n",
       " 'F_OK',\n",
       " 'F_TEST',\n",
       " 'F_TLOCK',\n",
       " 'F_ULOCK',\n",
       " 'MutableMapping',\n",
       " 'NGROUPS_MAX',\n",
       " 'O_ACCMODE',\n",
       " 'O_APPEND',\n",
       " 'O_ASYNC',\n",
       " 'O_CLOEXEC',\n",
       " 'O_CREAT',\n",
       " 'O_DIRECTORY',\n",
       " 'O_DSYNC',\n",
       " 'O_EXCL',\n",
       " 'O_EXLOCK',\n",
       " 'O_NDELAY',\n",
       " 'O_NOCTTY',\n",
       " 'O_NOFOLLOW',\n",
       " 'O_NONBLOCK',\n",
       " 'O_RDONLY',\n",
       " 'O_RDWR',\n",
       " 'O_SHLOCK',\n",
       " 'O_SYNC',\n",
       " 'O_TRUNC',\n",
       " 'O_WRONLY',\n",
       " 'PRIO_PGRP',\n",
       " 'PRIO_PROCESS',\n",
       " 'PRIO_USER',\n",
       " 'P_ALL',\n",
       " 'P_NOWAIT',\n",
       " 'P_NOWAITO',\n",
       " 'P_PGID',\n",
       " 'P_PID',\n",
       " 'P_WAIT',\n",
       " 'RTLD_GLOBAL',\n",
       " 'RTLD_LAZY',\n",
       " 'RTLD_LOCAL',\n",
       " 'RTLD_NODELETE',\n",
       " 'RTLD_NOLOAD',\n",
       " 'RTLD_NOW',\n",
       " 'R_OK',\n",
       " 'SCHED_FIFO',\n",
       " 'SCHED_OTHER',\n",
       " 'SCHED_RR',\n",
       " 'SEEK_CUR',\n",
       " 'SEEK_END',\n",
       " 'SEEK_SET',\n",
       " 'ST_NOSUID',\n",
       " 'ST_RDONLY',\n",
       " 'TMP_MAX',\n",
       " 'WCONTINUED',\n",
       " 'WCOREDUMP',\n",
       " 'WEXITED',\n",
       " 'WEXITSTATUS',\n",
       " 'WIFCONTINUED',\n",
       " 'WIFEXITED',\n",
       " 'WIFSIGNALED',\n",
       " 'WIFSTOPPED',\n",
       " 'WNOHANG',\n",
       " 'WNOWAIT',\n",
       " 'WSTOPPED',\n",
       " 'WSTOPSIG',\n",
       " 'WTERMSIG',\n",
       " 'WUNTRACED',\n",
       " 'W_OK',\n",
       " 'X_OK',\n",
       " '_DummyDirEntry',\n",
       " '_Environ',\n",
       " '__all__',\n",
       " '__builtins__',\n",
       " '__cached__',\n",
       " '__doc__',\n",
       " '__file__',\n",
       " '__loader__',\n",
       " '__name__',\n",
       " '__package__',\n",
       " '__spec__',\n",
       " '_dummy_scandir',\n",
       " '_execvpe',\n",
       " '_exists',\n",
       " '_exit',\n",
       " '_get_exports_list',\n",
       " '_putenv',\n",
       " '_spawnvef',\n",
       " '_unsetenv',\n",
       " '_wrap_close',\n",
       " 'abort',\n",
       " 'access',\n",
       " 'altsep',\n",
       " 'chdir',\n",
       " 'chflags',\n",
       " 'chmod',\n",
       " 'chown',\n",
       " 'chroot',\n",
       " 'close',\n",
       " 'closerange',\n",
       " 'confstr',\n",
       " 'confstr_names',\n",
       " 'cpu_count',\n",
       " 'ctermid',\n",
       " 'curdir',\n",
       " 'defpath',\n",
       " 'device_encoding',\n",
       " 'devnull',\n",
       " 'dup',\n",
       " 'dup2',\n",
       " 'environ',\n",
       " 'environb',\n",
       " 'errno',\n",
       " 'error',\n",
       " 'execl',\n",
       " 'execle',\n",
       " 'execlp',\n",
       " 'execlpe',\n",
       " 'execv',\n",
       " 'execve',\n",
       " 'execvp',\n",
       " 'execvpe',\n",
       " 'extsep',\n",
       " 'fchdir',\n",
       " 'fchmod',\n",
       " 'fchown',\n",
       " 'fdopen',\n",
       " 'fork',\n",
       " 'forkpty',\n",
       " 'fpathconf',\n",
       " 'fsdecode',\n",
       " 'fsencode',\n",
       " 'fstat',\n",
       " 'fstatvfs',\n",
       " 'fsync',\n",
       " 'ftruncate',\n",
       " 'get_blocking',\n",
       " 'get_exec_path',\n",
       " 'get_inheritable',\n",
       " 'get_terminal_size',\n",
       " 'getcwd',\n",
       " 'getcwdb',\n",
       " 'getegid',\n",
       " 'getenv',\n",
       " 'getenvb',\n",
       " 'geteuid',\n",
       " 'getgid',\n",
       " 'getgrouplist',\n",
       " 'getgroups',\n",
       " 'getloadavg',\n",
       " 'getlogin',\n",
       " 'getpgid',\n",
       " 'getpgrp',\n",
       " 'getpid',\n",
       " 'getppid',\n",
       " 'getpriority',\n",
       " 'getsid',\n",
       " 'getuid',\n",
       " 'initgroups',\n",
       " 'isatty',\n",
       " 'kill',\n",
       " 'killpg',\n",
       " 'lchflags',\n",
       " 'lchmod',\n",
       " 'lchown',\n",
       " 'linesep',\n",
       " 'link',\n",
       " 'listdir',\n",
       " 'lockf',\n",
       " 'lseek',\n",
       " 'lstat',\n",
       " 'major',\n",
       " 'makedev',\n",
       " 'makedirs',\n",
       " 'minor',\n",
       " 'mkdir',\n",
       " 'mkfifo',\n",
       " 'mknod',\n",
       " 'name',\n",
       " 'nice',\n",
       " 'open',\n",
       " 'openpty',\n",
       " 'pardir',\n",
       " 'path',\n",
       " 'pathconf',\n",
       " 'pathconf_names',\n",
       " 'pathsep',\n",
       " 'pipe',\n",
       " 'popen',\n",
       " 'pread',\n",
       " 'putenv',\n",
       " 'pwrite',\n",
       " 'read',\n",
       " 'readlink',\n",
       " 'readv',\n",
       " 'remove',\n",
       " 'removedirs',\n",
       " 'rename',\n",
       " 'renames',\n",
       " 'replace',\n",
       " 'rmdir',\n",
       " 'scandir',\n",
       " 'sched_get_priority_max',\n",
       " 'sched_get_priority_min',\n",
       " 'sched_yield',\n",
       " 'sendfile',\n",
       " 'sep',\n",
       " 'set_blocking',\n",
       " 'set_inheritable',\n",
       " 'setegid',\n",
       " 'seteuid',\n",
       " 'setgid',\n",
       " 'setgroups',\n",
       " 'setpgid',\n",
       " 'setpgrp',\n",
       " 'setpriority',\n",
       " 'setregid',\n",
       " 'setreuid',\n",
       " 'setsid',\n",
       " 'setuid',\n",
       " 'spawnl',\n",
       " 'spawnle',\n",
       " 'spawnlp',\n",
       " 'spawnlpe',\n",
       " 'spawnv',\n",
       " 'spawnve',\n",
       " 'spawnvp',\n",
       " 'spawnvpe',\n",
       " 'st',\n",
       " 'stat',\n",
       " 'stat_float_times',\n",
       " 'stat_result',\n",
       " 'statvfs',\n",
       " 'statvfs_result',\n",
       " 'strerror',\n",
       " 'supports_bytes_environ',\n",
       " 'supports_dir_fd',\n",
       " 'supports_effective_ids',\n",
       " 'supports_fd',\n",
       " 'supports_follow_symlinks',\n",
       " 'symlink',\n",
       " 'sync',\n",
       " 'sys',\n",
       " 'sysconf',\n",
       " 'sysconf_names',\n",
       " 'system',\n",
       " 'tcgetpgrp',\n",
       " 'tcsetpgrp',\n",
       " 'terminal_size',\n",
       " 'times',\n",
       " 'times_result',\n",
       " 'truncate',\n",
       " 'ttyname',\n",
       " 'umask',\n",
       " 'uname',\n",
       " 'uname_result',\n",
       " 'unlink',\n",
       " 'unsetenv',\n",
       " 'urandom',\n",
       " 'utime',\n",
       " 'wait',\n",
       " 'wait3',\n",
       " 'wait4',\n",
       " 'waitpid',\n",
       " 'walk',\n",
       " 'write',\n",
       " 'writev']"
      ]
     },
     "execution_count": 2,
     "metadata": {},
     "output_type": "execute_result"
    }
   ],
   "source": [
    "dir(os)"
   ]
  },
  {
   "cell_type": "markdown",
   "metadata": {},
   "source": [
    "# os.getcwd - get current working directory"
   ]
  },
  {
   "cell_type": "markdown",
   "metadata": {},
   "source": [
    "지금 작업하는 공간의 디렉토리를 프린트 해보죠."
   ]
  },
  {
   "cell_type": "code",
   "execution_count": 3,
   "metadata": {},
   "outputs": [
    {
     "data": {
      "text/plain": [
       "'/Users/sungchul/Dropbox/Jupyter_Notebook/Corey Schafer/Python Tutorial for Beginners'"
      ]
     },
     "execution_count": 3,
     "metadata": {},
     "output_type": "execute_result"
    }
   ],
   "source": [
    "os.getcwd()"
   ]
  },
  {
   "cell_type": "markdown",
   "metadata": {},
   "source": [
    "# os.chdir - change directory"
   ]
  },
  {
   "cell_type": "markdown",
   "metadata": {},
   "source": [
    "다른 폴더로 이동해 볼까요. "
   ]
  },
  {
   "cell_type": "code",
   "execution_count": 17,
   "metadata": {},
   "outputs": [
    {
     "data": {
      "text/plain": [
       "'/Users/sungchul/Dropbox/Jupyter_Notebook/Corey Schafer'"
      ]
     },
     "execution_count": 17,
     "metadata": {},
     "output_type": "execute_result"
    }
   ],
   "source": [
    "os.chdir('/Users/sungchul/Dropbox/Jupyter_Notebook/Corey Schafer')\n",
    "os.getcwd()"
   ]
  },
  {
   "cell_type": "markdown",
   "metadata": {},
   "source": [
    "# os.listdir - list directory"
   ]
  },
  {
   "cell_type": "markdown",
   "metadata": {},
   "source": [
    "이 폴더가 품고있는 파일과 폴더가 무었인지 알아보죠."
   ]
  },
  {
   "cell_type": "code",
   "execution_count": 18,
   "metadata": {},
   "outputs": [
    {
     "data": {
      "text/plain": [
       "['.DS_Store',\n",
       " 'Python OOP',\n",
       " '.ipynb_checkpoints',\n",
       " 'Python Tutorial for Beginners']"
      ]
     },
     "execution_count": 18,
     "metadata": {},
     "output_type": "execute_result"
    }
   ],
   "source": [
    "os.listdir()"
   ]
  },
  {
   "cell_type": "markdown",
   "metadata": {},
   "source": [
    "# os.mkdir vs os.makedirs"
   ]
  },
  {
   "cell_type": "markdown",
   "metadata": {},
   "source": [
    "새로운 폴더를 만들어 봅시다.\n",
    "두가지 방법이 있어요."
   ]
  },
  {
   "cell_type": "markdown",
   "metadata": {},
   "source": [
    "> os.mkdir 깊숙히는 만들지 못해요 \n",
    "\n",
    "> os.makedirs 깊숙히도 만들 수 있어요 "
   ]
  },
  {
   "cell_type": "code",
   "execution_count": 19,
   "metadata": {},
   "outputs": [
    {
     "data": {
      "text/plain": [
       "['.DS_Store',\n",
       " 'Python OOP',\n",
       " '.ipynb_checkpoints',\n",
       " 'OS-Demo-1',\n",
       " 'Python Tutorial for Beginners']"
      ]
     },
     "execution_count": 19,
     "metadata": {},
     "output_type": "execute_result"
    }
   ],
   "source": [
    "os.mkdir('OS-Demo-1')\n",
    "os.listdir()"
   ]
  },
  {
   "cell_type": "markdown",
   "metadata": {},
   "source": [
    "os.makedirs('OS-Demo-2')\n",
    "os.listdir()"
   ]
  },
  {
   "cell_type": "markdown",
   "metadata": {},
   "source": [
    "새로운 폴더를 안쪽 깁숙히 만들어 봅시다.\n",
    "이 경우 os.mkdir는 사용할 수 없구요, os.makedirs가 이 작업을 수행합니다.\n",
    "만드는 과정에 필요한 중간 폴더들이 자동으로 생성됩니다."
   ]
  },
  {
   "cell_type": "markdown",
   "metadata": {},
   "source": [
    "> os.mkdir 깊숙히는 만들지 못해요 \n",
    "\n",
    "> os.makedirs 깊숙히도 만들 수 있어요 "
   ]
  },
  {
   "cell_type": "markdown",
   "metadata": {},
   "source": [
    "os.mkdir 깊숙히는 만들지 못해요."
   ]
  },
  {
   "cell_type": "code",
   "execution_count": 21,
   "metadata": {},
   "outputs": [],
   "source": [
    "# os.mkdir('OS-Demo-3/Sub-Dir-3')\n",
    "\n",
    "# FileNotFoundError: [Errno 2] No such file or directory: 'OS-Demo-3/Sub-Dir-3'"
   ]
  },
  {
   "cell_type": "markdown",
   "metadata": {},
   "source": [
    "os.mkdir로 깊숙히 만들려면, 한땀 한땀 만들어야 해요."
   ]
  },
  {
   "cell_type": "code",
   "execution_count": 24,
   "metadata": {},
   "outputs": [
    {
     "data": {
      "text/plain": [
       "['Sub-Dir-1']"
      ]
     },
     "execution_count": 24,
     "metadata": {},
     "output_type": "execute_result"
    }
   ],
   "source": [
    "# os.mkdir('OS-Demo-1') # FileExistsError: [Errno 17] File exists: 'OS-Demo-1'\n",
    "os.mkdir('OS-Demo-1/Sub-Dir-1') \n",
    "os.listdir('OS-Demo-1')"
   ]
  },
  {
   "cell_type": "code",
   "execution_count": 26,
   "metadata": {},
   "outputs": [
    {
     "data": {
      "text/plain": [
       "['Sub-Dir-2']"
      ]
     },
     "execution_count": 26,
     "metadata": {},
     "output_type": "execute_result"
    }
   ],
   "source": [
    "# os.mkdir('OS-Demo-2') # FileExistsError: [Errno 17] File exists: 'OS-Demo-2'\n",
    "os.mkdir('OS-Demo-2/Sub-Dir-2') \n",
    "os.listdir('OS-Demo-2')"
   ]
  },
  {
   "cell_type": "code",
   "execution_count": 27,
   "metadata": {},
   "outputs": [
    {
     "data": {
      "text/plain": [
       "['Sub-Dir-3']"
      ]
     },
     "execution_count": 27,
     "metadata": {},
     "output_type": "execute_result"
    }
   ],
   "source": [
    "os.mkdir('OS-Demo-3') \n",
    "os.mkdir('OS-Demo-3/Sub-Dir-3') \n",
    "os.listdir('OS-Demo-3')"
   ]
  },
  {
   "cell_type": "markdown",
   "metadata": {},
   "source": [
    "os.makedirs를 이용하면, 한방에 만들 수 있어요."
   ]
  },
  {
   "cell_type": "code",
   "execution_count": 29,
   "metadata": {},
   "outputs": [
    {
     "data": {
      "text/plain": [
       "['Sub-Dir-4']"
      ]
     },
     "execution_count": 29,
     "metadata": {},
     "output_type": "execute_result"
    }
   ],
   "source": [
    "os.makedirs('OS-Demo-4/Sub-Dir-4')\n",
    "os.listdir('OS-Demo-4')"
   ]
  },
  {
   "cell_type": "markdown",
   "metadata": {},
   "source": [
    "# os.rmdir vs os.removedirs"
   ]
  },
  {
   "cell_type": "code",
   "execution_count": 30,
   "metadata": {},
   "outputs": [
    {
     "data": {
      "text/plain": [
       "[]"
      ]
     },
     "execution_count": 30,
     "metadata": {},
     "output_type": "execute_result"
    }
   ],
   "source": [
    "os.rmdir('OS-Demo-3/Sub-Dir-3')\n",
    "os.listdir('OS-Demo-3')"
   ]
  },
  {
   "cell_type": "code",
   "execution_count": 31,
   "metadata": {},
   "outputs": [
    {
     "data": {
      "text/plain": [
       "['.DS_Store',\n",
       " 'OS-Demo-2',\n",
       " 'OS-Demo-3',\n",
       " 'Python OOP',\n",
       " '.ipynb_checkpoints',\n",
       " 'OS-Demo-1',\n",
       " 'Python Tutorial for Beginners']"
      ]
     },
     "execution_count": 31,
     "metadata": {},
     "output_type": "execute_result"
    }
   ],
   "source": [
    "os.removedirs('OS-Demo-4/Sub-Dir-4')\n",
    "os.listdir()"
   ]
  },
  {
   "cell_type": "markdown",
   "metadata": {},
   "source": [
    "# os.rename"
   ]
  },
  {
   "cell_type": "code",
   "execution_count": 32,
   "metadata": {},
   "outputs": [
    {
     "data": {
      "text/plain": [
       "['Lecture-1']"
      ]
     },
     "execution_count": 32,
     "metadata": {},
     "output_type": "execute_result"
    }
   ],
   "source": [
    "os.rename('OS-Demo-1/Sub-Dir-1', 'OS-Demo-1/Lecture-1')\n",
    "os.listdir('OS-Demo-1')"
   ]
  },
  {
   "cell_type": "code",
   "execution_count": 33,
   "metadata": {},
   "outputs": [
    {
     "data": {
      "text/plain": [
       "['.DS_Store',\n",
       " 'OS-Demo-2',\n",
       " 'OS-Demo-3',\n",
       " 'Python OOP',\n",
       " '.ipynb_checkpoints',\n",
       " 'OS-Demo-1',\n",
       " 'Python Tutorial for Beginners']"
      ]
     },
     "execution_count": 33,
     "metadata": {},
     "output_type": "execute_result"
    }
   ],
   "source": [
    "os.listdir()"
   ]
  },
  {
   "cell_type": "markdown",
   "metadata": {},
   "source": [
    "데모를 위해 만든 폴더들을 정리할께요."
   ]
  },
  {
   "cell_type": "code",
   "execution_count": null,
   "metadata": {
    "collapsed": true
   },
   "outputs": [],
   "source": [
    "os.rmdir('OS-Demo-1')\n",
    "os.rmdir('OS-Demo-2')\n",
    "os.rmdir('OS-Demo-3')\n",
    "os.listdir()"
   ]
  },
  {
   "cell_type": "markdown",
   "metadata": {},
   "source": [
    "# os.stat"
   ]
  },
  {
   "cell_type": "code",
   "execution_count": 7,
   "metadata": {
    "collapsed": true
   },
   "outputs": [],
   "source": [
    "os.chdir('/Users/sungchul/Dropbox/Jupyter_Notebook/Corey Schafer/Python Tutorial for Beginners/data')"
   ]
  },
  {
   "cell_type": "code",
   "execution_count": 8,
   "metadata": {},
   "outputs": [
    {
     "data": {
      "text/plain": [
       "os.stat_result(st_mode=33261, st_ino=8593155257, st_dev=16777221, st_nlink=1, st_uid=501, st_gid=20, st_size=27, st_atime=1533065793, st_mtime=1487578483, st_ctime=1533065792)"
      ]
     },
     "execution_count": 8,
     "metadata": {},
     "output_type": "execute_result"
    }
   ],
   "source": [
    "os.stat('demo.txt')"
   ]
  },
  {
   "cell_type": "markdown",
   "metadata": {},
   "source": [
    "demo.txt가 언제 작성됬는지 확인해 보죠."
   ]
  },
  {
   "cell_type": "code",
   "execution_count": 9,
   "metadata": {},
   "outputs": [
    {
     "data": {
      "text/plain": [
       "1487578483.0"
      ]
     },
     "execution_count": 9,
     "metadata": {},
     "output_type": "execute_result"
    }
   ],
   "source": [
    "os.stat('demo.txt').st_mtime"
   ]
  },
  {
   "cell_type": "code",
   "execution_count": null,
   "metadata": {
    "collapsed": true
   },
   "outputs": [],
   "source": [
    "아웃풋이 타임스템프 형식으로 나와서 언제인지 확인하기 어렸죠.\n",
    "datetime모듈의 datetime에 있는 datetime.fromtimestamp 함수를 이용 데이트타임 형식으로 바꾸죠."
   ]
  },
  {
   "cell_type": "code",
   "execution_count": null,
   "metadata": {
    "collapsed": true
   },
   "outputs": [],
   "source": [
    "from datetime import datetime"
   ]
  },
  {
   "cell_type": "code",
   "execution_count": 10,
   "metadata": {},
   "outputs": [
    {
     "data": {
      "text/plain": [
       "datetime.datetime(2017, 2, 20, 2, 14, 43)"
      ]
     },
     "execution_count": 10,
     "metadata": {},
     "output_type": "execute_result"
    }
   ],
   "source": [
    "mod_time = os.stat('demo.txt').st_mtime\n",
    "datetime.fromtimestamp(mod_time)"
   ]
  },
  {
   "cell_type": "code",
   "execution_count": 11,
   "metadata": {},
   "outputs": [
    {
     "name": "stdout",
     "output_type": "stream",
     "text": [
      "2017-02-20 02:14:43\n"
     ]
    }
   ],
   "source": [
    "mod_time = os.stat('demo.txt').st_mtime\n",
    "print(datetime.fromtimestamp(mod_time))"
   ]
  },
  {
   "cell_type": "code",
   "execution_count": 13,
   "metadata": {},
   "outputs": [
    {
     "name": "stdout",
     "output_type": "stream",
     "text": [
      "Current Path: /Users/sungchul/Dropbox/Jupyter_Notebook/Corey Schafer\n",
      "Directories: ['OS-Demo-2', 'OS-Demo-3', 'Python OOP', '.ipynb_checkpoints', 'OS-Demo-1', 'Python Tutorial for Beginners']\n",
      "Files: ['.DS_Store']\n",
      "\n",
      "Current Path: /Users/sungchul/Dropbox/Jupyter_Notebook/Corey Schafer/OS-Demo-2\n",
      "Directories: ['Sub-Dir-2']\n",
      "Files: []\n",
      "\n",
      "Current Path: /Users/sungchul/Dropbox/Jupyter_Notebook/Corey Schafer/OS-Demo-2/Sub-Dir-2\n",
      "Directories: []\n",
      "Files: []\n",
      "\n",
      "Current Path: /Users/sungchul/Dropbox/Jupyter_Notebook/Corey Schafer/OS-Demo-3\n",
      "Directories: []\n",
      "Files: []\n",
      "\n",
      "Current Path: /Users/sungchul/Dropbox/Jupyter_Notebook/Corey Schafer/Python OOP\n",
      "Directories: ['img', '.ipynb_checkpoints']\n",
      "Files: ['2 Class Variables and Instance Variables.ipynb', '6 Property Decorators - Getters, Setters, and Deleters.ipynb', '3 Regular Methods (Instance Methods), Class Methods, and Static Methods.ipynb', '5 Special (Magic:Dunder) Methods.ipynb', '4 Inheritance.ipynb', '1 Classes and Instances.ipynb']\n",
      "\n",
      "Current Path: /Users/sungchul/Dropbox/Jupyter_Notebook/Corey Schafer/Python OOP/img\n",
      "Directories: []\n",
      "Files: ['class and instance.png']\n",
      "\n",
      "Current Path: /Users/sungchul/Dropbox/Jupyter_Notebook/Corey Schafer/Python OOP/.ipynb_checkpoints\n",
      "Directories: []\n",
      "Files: ['6 Property Decorators - Getters, Setters, and Deleters-checkpoint.ipynb', '5 Special (Magic:Dunder) Methods-checkpoint.ipynb', '1 Classes and Instances-checkpoint.ipynb', '3 Regular Methods (Instance Methods), Class Methods, and Static Methods-checkpoint.ipynb', '2 Class Variables and Instance Variables-checkpoint.ipynb', '4 Inheritance-checkpoint.ipynb']\n",
      "\n",
      "Current Path: /Users/sungchul/Dropbox/Jupyter_Notebook/Corey Schafer/.ipynb_checkpoints\n",
      "Directories: []\n",
      "Files: ['Corey Schafer - Python OOP-checkpoint.ipynb', '15_Sorting_Lists_Tuples_and_Objects-checkpoint.ipynb', 'Untitled-checkpoint.ipynb', 'Corey Schafer - Python Tutorial for Beginners-checkpoint.ipynb']\n",
      "\n",
      "Current Path: /Users/sungchul/Dropbox/Jupyter_Notebook/Corey Schafer/OS-Demo-1\n",
      "Directories: ['Lecture-1']\n",
      "Files: []\n",
      "\n",
      "Current Path: /Users/sungchul/Dropbox/Jupyter_Notebook/Corey Schafer/OS-Demo-1/Lecture-1\n",
      "Directories: []\n",
      "Files: []\n",
      "\n",
      "Current Path: /Users/sungchul/Dropbox/Jupyter_Notebook/Corey Schafer/Python Tutorial for Beginners\n",
      "Directories: ['__pycache__', '.ipynb_checkpoints', 'data']\n",
      "Files: ['25 File Objects.ipynb', '31 Closures.ipynb', '03 Strings.ipynb', '.DS_Store', '33 Decorators With Arguments.ipynb', '30 First-Class Functions.ipynb', '04 Integers and Floats.ipynb', '10 Dictionary.ipynb', '42 Web Scraping with BeautifulSoup and Requests.ipynb', '27 Using Try:Except Blocks for Error Handling.ipynb', '07 List.ipynb', '11 Conditionals and Booleans.ipynb', 'first_module.py', '12 Loops and Iterations.ipynb', '24 Calculate Number of Days, Weeks, or Months to Reach Specific Goals.ipynb', '17 Variable Scope.ipynb', '36 Python SQLite Tutorial.ipynb', '45 Ex Machina Easter Egg.ipynb', '22 OS Module.ipynb', '23 Datetime Module.ipynb', '02 Basic_Data_Type.ipynb', '37 Working with JSON Data using the json Module.ipynb', '18 Slicing Lists and Strings.ipynb', '34 Namedtuple.ipynb', 'second_module.py', '06 Basic_Data_Structure.ipynb', '29 Generators.ipynb', '46 Real World Example.ipynb', '15 pip - An in-depth look at the package management system.ipynb', '43 Image Manipulation with Pillow.ipynb', '08 Tuple.ipynb', '01 Setup.ipynb', '21 String Formatting.ipynb', '16 Virtualenv.ipynb', 'Corey Schafer - Python Tutorial for Beginners.ipynb', '28 Duck Typing and Asking Forgiveness, Not Permission.ipynb', '47 Preparing for a Python Interview.ipynb', '35 str() vs repr().ipynb', '44 Custom Sublime Text Build Systems.ipynb', '20 First-Class Functions.ipynb copy', '05 Bools.ipynb', '19 Comprehensions.ipynb', '26 Automate Parsing and Renaming of Multiple Files.ipynb', '38 Logging Basics.ipynb', '13 Functions.ipynb', '14 Import Modules and Exploring The Standard Library.ipynb', \"40 if __name__ == '__main__'.ipynb\", '09 Set.ipynb', '20 Sorting_Lists_Tuples_and_Objects.ipynb', '32 Decorators.ipynb', '39 Logging Advanced.ipynb', '41 Else Clauses on Loops.ipynb']\n",
      "\n",
      "Current Path: /Users/sungchul/Dropbox/Jupyter_Notebook/Corey Schafer/Python Tutorial for Beginners/__pycache__\n",
      "Directories: []\n",
      "Files: ['first_module.cpython-35.pyc', 'second_module.cpython-35.pyc']\n",
      "\n",
      "Current Path: /Users/sungchul/Dropbox/Jupyter_Notebook/Corey Schafer/Python Tutorial for Beginners/.ipynb_checkpoints\n",
      "Directories: []\n",
      "Files: ['29 Logging Basics-checkpoint.ipynb', '28 Generators-checkpoint.ipynb', '18 Datetime Module-checkpoint.ipynb', '1 -checkpoint.ipynb', '09 Import Modules and Exploring The Standard Library-checkpoint.ipynb', '05 Dictionaries-checkpoint.ipynb', '36 Real World Example-checkpoint.ipynb', '22 Duck Typing and Asking Forgiveness, Not Permission-checkpoint.ipynb', '24 Calculate Number of Days, Weeks, or Months to Reach Specific Goals-checkpoint.ipynb', '12 Variable Scope-checkpoint.ipynb', \"36 if __name__ == '__main__'-checkpoint.ipynb\", '06 Conditionals and Booleans-checkpoint.ipynb', '13 Slicing Lists and Strings-checkpoint.ipynb', '3 Integers and Floats-checkpoint.ipynb', '19 Comprehensions-checkpoint.ipynb', '06 Basic_Data_Structure-checkpoint.ipynb', '29 Decorators-checkpoint.ipynb', '14 Comprehensions-checkpoint.ipynb', '04_Lists_Tuples_and_Sets-checkpoint.ipynb', '17 OS Module-checkpoint.ipynb', '22 OS Module-checkpoint.ipynb', '35 Ex Machina Easter Egg-checkpoint.ipynb', '03 Integers and Floats-checkpoint.ipynb', '01 Setup-checkpoint.ipynb', '08 Functions-checkpoint.ipynb', '8 Functions-checkpoint.ipynb', '30 Logging Advanced-checkpoint.ipynb', '09 Set-checkpoint.ipynb', '29 First Class Function-checkpoint.ipynb', '37 Preparing for a Python Interview-checkpoint.ipynb', '7 Loops and Iterations-checkpoint.ipynb', '12 Loops and Iterations-checkpoint.ipynb', '18 Slicing Lists and Strings-checkpoint.ipynb', '08 Tuple-checkpoint.ipynb', '5 Dictionaries-checkpoint.ipynb', '23 Generators-checkpoint.ipynb', '21 Using Try:Except Blocks for Error Handling-checkpoint.ipynb', '19 File Objects-checkpoint.ipynb', '32 str() vs repr()-checkpoint.ipynb', '07 Loops and Iterations-checkpoint.ipynb', '40 Web Scraping with BeautifulSoup and Requests-checkpoint.ipynb', '4_Lists_Tuples_and_Sets-checkpoint.ipynb', '11 Virtualenv-checkpoint.ipynb', '25 Decorators With Arguments-checkpoint.ipynb', '30 Closures-checkpoint.ipynb', '07 List-checkpoint.ipynb', '32 Decorators With Arguments-checkpoint.ipynb', '27 str() vs repr()-checkpoint.ipynb', '34 Custom Sublime Text Build Systems-checkpoint.ipynb', '10 pip - An in-depth look at the package management system-checkpoint.ipynb', '26 Namedtuple-checkpoint.ipynb', '24 Decorators-checkpoint.ipynb', '02 Strings-checkpoint.ipynb', '20 Automate Parsing and Renaming of Multiple Files-checkpoint.ipynb', \"31 if __name__ == '__main__'-checkpoint.ipynb\", '36 Working with JSON Data using the json Module-checkpoint.ipynb', '9 Import Modules and Exploring The Standard Library-checkpoint.ipynb', '20 Sorting_Lists_Tuples_and_Objects-checkpoint.ipynb', '32 Else Clauses on Loops-checkpoint.ipynb', '03 Strings-checkpoint.ipynb', '6 Conditionals and Booleans-checkpoint.ipynb', '16 String Formatting-checkpoint.ipynb', '28 Python SQLite Tutorial-checkpoint.ipynb', 'Corey Schafer - Python Tutorial for Beginners-checkpoint.ipynb', '1 Setup-checkpoint.ipynb', '33 Image Manipulation with Pillow-checkpoint.ipynb', '2 Strings-checkpoint.ipynb', '29 First-Class Functions-checkpoint.ipynb', '31 Namedtuple-checkpoint.ipynb', '37 Else Clauses on Loops-checkpoint.ipynb']\n",
      "\n",
      "Current Path: /Users/sungchul/Dropbox/Jupyter_Notebook/Corey Schafer/Python Tutorial for Beginners/data\n",
      "Directories: []\n",
      "Files: ['demo.txt', 'mbox-short.txt', 'haiku.txt', 'input.txt', 'filemethods.txt', 'example.txt', 'output.txt']\n",
      "\n"
     ]
    }
   ],
   "source": [
    "for dirpath, dirnames, filenames in os.walk('/Users/sungchul/Dropbox/Jupyter_Notebook/Corey Schafer'):\n",
    "    print('Current Path:', dirpath)\n",
    "    print('Directories:', dirnames)\n",
    "    print('Files:', filenames)\n",
    "    print()"
   ]
  },
  {
   "cell_type": "markdown",
   "metadata": {},
   "source": [
    "# os.environ.get - get your home directory"
   ]
  },
  {
   "cell_type": "code",
   "execution_count": 14,
   "metadata": {},
   "outputs": [
    {
     "data": {
      "text/plain": [
       "'/Users/sungchul'"
      ]
     },
     "execution_count": 14,
     "metadata": {},
     "output_type": "execute_result"
    }
   ],
   "source": [
    "os.environ.get('HOME')"
   ]
  },
  {
   "cell_type": "markdown",
   "metadata": {},
   "source": [
    "# os.path.join"
   ]
  },
  {
   "cell_type": "code",
   "execution_count": 15,
   "metadata": {},
   "outputs": [
    {
     "data": {
      "text/plain": [
       "'/Users/sungchul/test.txt'"
      ]
     },
     "execution_count": 15,
     "metadata": {},
     "output_type": "execute_result"
    }
   ],
   "source": [
    "file_path = os.path.join(os.environ.get('HOME'), 'test.txt')\n",
    "file_path"
   ]
  },
  {
   "cell_type": "markdown",
   "metadata": {},
   "source": [
    "# os.path.basename, os.path.dirname, os.path.split, os.path.splitext"
   ]
  },
  {
   "cell_type": "code",
   "execution_count": 16,
   "metadata": {},
   "outputs": [
    {
     "data": {
      "text/plain": [
       "'test.txt'"
      ]
     },
     "execution_count": 16,
     "metadata": {},
     "output_type": "execute_result"
    }
   ],
   "source": [
    "os.path.basename('/Users/sungchul/test.txt')"
   ]
  },
  {
   "cell_type": "code",
   "execution_count": 18,
   "metadata": {},
   "outputs": [
    {
     "data": {
      "text/plain": [
       "'/Users/sungchul'"
      ]
     },
     "execution_count": 18,
     "metadata": {},
     "output_type": "execute_result"
    }
   ],
   "source": [
    "os.path.dirname('/Users/sungchul/test.txt')"
   ]
  },
  {
   "cell_type": "code",
   "execution_count": 17,
   "metadata": {},
   "outputs": [
    {
     "data": {
      "text/plain": [
       "('/Users/sungchul', 'test.txt')"
      ]
     },
     "execution_count": 17,
     "metadata": {},
     "output_type": "execute_result"
    }
   ],
   "source": [
    "os.path.split('/Users/sungchul/test.txt')"
   ]
  },
  {
   "cell_type": "code",
   "execution_count": null,
   "metadata": {
    "collapsed": true
   },
   "outputs": [],
   "source": [
    "os.path.splitext('/Users/sungchul/test.txt')"
   ]
  },
  {
   "cell_type": "markdown",
   "metadata": {},
   "source": [
    "# os.path.exists"
   ]
  },
  {
   "cell_type": "code",
   "execution_count": 19,
   "metadata": {},
   "outputs": [
    {
     "data": {
      "text/plain": [
       "False"
      ]
     },
     "execution_count": 19,
     "metadata": {},
     "output_type": "execute_result"
    }
   ],
   "source": [
    "os.path.exists('/Users/sungchul/test.txt')"
   ]
  },
  {
   "cell_type": "code",
   "execution_count": 25,
   "metadata": {},
   "outputs": [
    {
     "data": {
      "text/plain": [
       "True"
      ]
     },
     "execution_count": 25,
     "metadata": {},
     "output_type": "execute_result"
    }
   ],
   "source": [
    "os.path.exists('/Users/sungchul/Dropbox')"
   ]
  },
  {
   "cell_type": "markdown",
   "metadata": {},
   "source": [
    "# os.path.isdir and os.path.isfile "
   ]
  },
  {
   "cell_type": "code",
   "execution_count": 23,
   "metadata": {},
   "outputs": [
    {
     "data": {
      "text/plain": [
       "True"
      ]
     },
     "execution_count": 23,
     "metadata": {},
     "output_type": "execute_result"
    }
   ],
   "source": [
    "os.path.isdir('/Users/sungchul/Dropbox')"
   ]
  },
  {
   "cell_type": "code",
   "execution_count": 24,
   "metadata": {},
   "outputs": [
    {
     "data": {
      "text/plain": [
       "False"
      ]
     },
     "execution_count": 24,
     "metadata": {},
     "output_type": "execute_result"
    }
   ],
   "source": [
    "os.path.isfile('/Users/sungchul/Dropbox')"
   ]
  },
  {
   "cell_type": "code",
   "execution_count": null,
   "metadata": {
    "collapsed": true
   },
   "outputs": [],
   "source": []
  },
  {
   "cell_type": "code",
   "execution_count": null,
   "metadata": {
    "collapsed": true
   },
   "outputs": [],
   "source": []
  },
  {
   "cell_type": "code",
   "execution_count": null,
   "metadata": {
    "collapsed": true
   },
   "outputs": [],
   "source": []
  },
  {
   "cell_type": "code",
   "execution_count": null,
   "metadata": {
    "collapsed": true
   },
   "outputs": [],
   "source": []
  },
  {
   "cell_type": "code",
   "execution_count": null,
   "metadata": {
    "collapsed": true
   },
   "outputs": [],
   "source": []
  },
  {
   "cell_type": "code",
   "execution_count": null,
   "metadata": {
    "collapsed": true
   },
   "outputs": [],
   "source": []
  }
 ],
 "metadata": {
  "kernelspec": {
   "display_name": "Python [default]",
   "language": "python",
   "name": "python3"
  },
  "language_info": {
   "codemirror_mode": {
    "name": "ipython",
    "version": 3
   },
   "file_extension": ".py",
   "mimetype": "text/x-python",
   "name": "python",
   "nbconvert_exporter": "python",
   "pygments_lexer": "ipython3",
   "version": "3.5.3"
  }
 },
 "nbformat": 4,
 "nbformat_minor": 2
}
