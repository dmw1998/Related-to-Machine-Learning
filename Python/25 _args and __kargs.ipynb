{
 "cells": [
  {
   "cell_type": "markdown",
   "metadata": {
    "collapsed": true
   },
   "source": [
    "[#31 Python Tutorial for Beginners | Keyworded Variable Length Arguments in Python | **kwargs by Telusko Learnings](https://www.youtube.com/watch?v=kB829ciAXo4)"
   ]
  },
  {
   "cell_type": "markdown",
   "metadata": {},
   "source": [
    "# *args"
   ]
  },
  {
   "cell_type": "markdown",
   "metadata": {},
   "source": [
    "개인 신상정보가 들어오면 프린트를 해 봅시다. \n",
    "개인 신상정보에는 이름하고 나머지 정보가 있을텐데,\n",
    "나머지 정보는 `*data`라고 이름을 붙이고 처리합시다. "
   ]
  },
  {
   "cell_type": "code",
   "execution_count": 1,
   "metadata": {
    "collapsed": true
   },
   "outputs": [],
   "source": [
    "def person(name, *data):\n",
    "    print(name)\n",
    "    print(data)"
   ]
  },
  {
   "cell_type": "code",
   "execution_count": 2,
   "metadata": {},
   "outputs": [
    {
     "name": "stdout",
     "output_type": "stream",
     "text": [
      "Sung\n",
      "(20, 'Seoul', '01022223333')\n"
     ]
    }
   ],
   "source": [
    "person('Sung', 20, 'Seoul', '01022223333')"
   ]
  },
  {
   "cell_type": "markdown",
   "metadata": {},
   "source": [
    "나머지부분은 투플로 처리되는군요.\n",
    "나머지부분이 투플로 처리되니까, 이를 풀어서 이터레이트하면서 프린트 해 봅시다."
   ]
  },
  {
   "cell_type": "code",
   "execution_count": 3,
   "metadata": {
    "collapsed": true
   },
   "outputs": [],
   "source": [
    "def person(name, *data):\n",
    "    print(name)\n",
    "    for i in data:\n",
    "        print(i)"
   ]
  },
  {
   "cell_type": "code",
   "execution_count": 4,
   "metadata": {},
   "outputs": [
    {
     "name": "stdout",
     "output_type": "stream",
     "text": [
      "Sung\n",
      "20\n",
      "Seoul\n",
      "01022223333\n"
     ]
    }
   ],
   "source": [
    "person('Sung', 20, 'Seoul', '01022223333')"
   ]
  },
  {
   "cell_type": "markdown",
   "metadata": {},
   "source": [
    "파이썬 코드를 작성할 때, 관례는 `*data`라고 표기하지 않고 `*agrs`라고 합니다. \n",
    "arguments의 약자겠죠."
   ]
  },
  {
   "cell_type": "code",
   "execution_count": 5,
   "metadata": {
    "collapsed": true
   },
   "outputs": [],
   "source": [
    "def person(name, *agrs):\n",
    "    print(name)\n",
    "    for i in agrs:\n",
    "        print(i)"
   ]
  },
  {
   "cell_type": "code",
   "execution_count": 6,
   "metadata": {},
   "outputs": [
    {
     "name": "stdout",
     "output_type": "stream",
     "text": [
      "Sung\n",
      "20\n",
      "Seoul\n",
      "01022223333\n"
     ]
    }
   ],
   "source": [
    "person('Sung', 20, 'Seoul', '01022223333')"
   ]
  },
  {
   "cell_type": "markdown",
   "metadata": {},
   "source": [
    "# **kagrs"
   ]
  },
  {
   "cell_type": "markdown",
   "metadata": {},
   "source": [
    "나머지 데이타가 들어는 왔는데 무었이 무었인지 헷갈립니다. 키를 주어서 했갈리게 하지맙시다."
   ]
  },
  {
   "cell_type": "code",
   "execution_count": 7,
   "metadata": {},
   "outputs": [
    {
     "name": "stdout",
     "output_type": "stream",
     "text": [
      "person() got an unexpected keyword argument 'age'\n"
     ]
    }
   ],
   "source": [
    "try:\n",
    "    person('Sung', age=20, city='Seoul', phone='01022223333')\n",
    "except Exception as e:\n",
    "    print(e)"
   ]
  },
  {
   "cell_type": "markdown",
   "metadata": {},
   "source": [
    "`*agrs`는 벨류만을 받을 준비가 되어있는데, 키와 벨류가 같이 들어오니까 놀라는군요. \n",
    "`*agrs`에 별표를 하나 더 붙여서 `**agrs`로 바꾸어, 키와 벨류가 같이 들어온다고 이야기 해주면 됩니다.\n",
    "파이썬 코드를 작성할 때, 관례는 `**agrs`라고 표기하지 않고 `**kagrs`라고 합니다. \n",
    "keywaord arguments의 약자겠죠."
   ]
  },
  {
   "cell_type": "code",
   "execution_count": 8,
   "metadata": {
    "collapsed": true
   },
   "outputs": [],
   "source": [
    "def person(name, **kagrs):\n",
    "    print(name)\n",
    "    print(kagrs)"
   ]
  },
  {
   "cell_type": "code",
   "execution_count": 9,
   "metadata": {},
   "outputs": [
    {
     "name": "stdout",
     "output_type": "stream",
     "text": [
      "Sung\n",
      "{'phone': '01022223333', 'city': 'Seoul', 'age': 20}\n"
     ]
    }
   ],
   "source": [
    "person('Sung', age=20, city='Seoul', phone='01022223333')"
   ]
  },
  {
   "cell_type": "markdown",
   "metadata": {},
   "source": [
    "나머지부분은 딕션너리로 처리되는군요. 나머지부분이 딕션너리로 처리되니까, 이를 풀어서 이터레이트하면서 키와 벨류가 같이 출력되도록 해보죠."
   ]
  },
  {
   "cell_type": "code",
   "execution_count": 10,
   "metadata": {
    "collapsed": true
   },
   "outputs": [],
   "source": [
    "def person(name, **kagrs):\n",
    "    print(name)\n",
    "    for k, v in kagrs.items():\n",
    "        print(k, v)"
   ]
  },
  {
   "cell_type": "code",
   "execution_count": 11,
   "metadata": {},
   "outputs": [
    {
     "name": "stdout",
     "output_type": "stream",
     "text": [
      "Sung\n",
      "phone 01022223333\n",
      "city Seoul\n",
      "age 20\n"
     ]
    }
   ],
   "source": [
    "person('Sung', age=20, city='Seoul', phone='01022223333')"
   ]
  }
 ],
 "metadata": {
  "kernelspec": {
   "display_name": "Python [default]",
   "language": "python",
   "name": "python3"
  },
  "language_info": {
   "codemirror_mode": {
    "name": "ipython",
    "version": 3
   },
   "file_extension": ".py",
   "mimetype": "text/x-python",
   "name": "python",
   "nbconvert_exporter": "python",
   "pygments_lexer": "ipython3",
   "version": "3.5.3"
  }
 },
 "nbformat": 4,
 "nbformat_minor": 2
}
