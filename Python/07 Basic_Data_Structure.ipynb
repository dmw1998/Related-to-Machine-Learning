{
 "cells": [
  {
   "cell_type": "markdown",
   "metadata": {},
   "source": [
    "# Basic Data Structure"
   ]
  },
  {
   "cell_type": "markdown",
   "metadata": {},
   "source": [
    "Python: Data Structures - Lists, Tuples, Sets & Dictionaries by Joe James \n",
    "[youtube](https://www.youtube.com/watch?v=R-HLU9Fl5ug&index=9&list=PLj8W7XIvO93qsmdxbaDpIvM1KCyNO1K_c) \n",
    "[github](https://github.com/joeyajames/Python)"
   ]
  },
  {
   "cell_type": "markdown",
   "metadata": {},
   "source": [
    "<a href=\"#List,-Tuple,-Set,-Dict\">List, Tuple, Set, Dict</a>\n",
    "\n",
    "<a href=\"#Sequence\">Sequence</a>\n",
    "\n",
    "<a href=\"#Sequence---Index-and-Slice\">Sequence - Index and Slice</a>\n",
    "\n",
    "<a href=\"#Sequence---더하기와-곱하기\">Sequence - 더하기와 곱하기</a>\n",
    "\n",
    "<a href=\"#Sequence---Check-the-Membership\">Sequence - Check the Membership</a>\n",
    "\n",
    "<a href=\"#Sequence---Iteration\">Sequence - Iteration</a>\n",
    "\n",
    "<a href=\"#Sequence---Number-of-Items\">Sequence - Number of Items</a>\n",
    "\n",
    "<a href=\"#Sequence---min\">Sequence - min</a>\n",
    "\n",
    "<a href=\"#Sequence---max\">Sequence - max</a>\n",
    "\n",
    "<a href=\"#Sequence---sum\">Sequence - sum</a>\n",
    "\n",
    "<a href=\"#Sequence---sorted\">Sequence - sorted</a>\n",
    "\n",
    "<a href=\"#Sequence---count-(items)\">Sequence - count (items)</a>\n",
    "\n",
    "<a href=\"#Sequence---index-(items)\">Sequence - index (items)</a>\n",
    "\n",
    "<a href=\"#Sequence---packing-and-unpacking\">Sequence - packing and unpacking</a>"
   ]
  },
  {
   "cell_type": "markdown",
   "metadata": {},
   "source": [
    "# List, Tuple, Set, Dict"
   ]
  },
  {
   "cell_type": "markdown",
   "metadata": {},
   "source": [
    "<div align=\"center\"><img src=\"img/Screen Shot 2018-08-05 at 10.39.07 PM.png\" width=\"70%\"></div>\n",
    "\n",
    "Python: Data Structures - Lists, Tuples, Sets & Dictionaries by Joe James \n",
    "[youtube](https://www.youtube.com/watch?v=R-HLU9Fl5ug&index=9&list=PLj8W7XIvO93qsmdxbaDpIvM1KCyNO1K_c) \n",
    "[github](https://github.com/joeyajames/Python)"
   ]
  },
  {
   "cell_type": "markdown",
   "metadata": {},
   "source": [
    "[<a href=\"#Basic-Data-Structure\">Back to top</a>]"
   ]
  },
  {
   "cell_type": "markdown",
   "metadata": {},
   "source": [
    "# Sequence"
   ]
  },
  {
   "cell_type": "markdown",
   "metadata": {},
   "source": [
    "<div align=\"center\"><img src=\"img/Screen Shot 2018-08-05 at 10.41.11 PM.png\" width=\"70%\"></div>\n",
    "\n",
    "Python: Data Structures - Lists, Tuples, Sets & Dictionaries by Joe James \n",
    "[youtube](https://www.youtube.com/watch?v=R-HLU9Fl5ug&index=9&list=PLj8W7XIvO93qsmdxbaDpIvM1KCyNO1K_c) \n",
    "[github](https://github.com/joeyajames/Python)"
   ]
  },
  {
   "cell_type": "markdown",
   "metadata": {},
   "source": [
    "[<a href=\"#Basic-Data-Structure\">Back to top</a>]"
   ]
  },
  {
   "cell_type": "markdown",
   "metadata": {},
   "source": [
    "# Sequence - Index and Slice"
   ]
  },
  {
   "cell_type": "markdown",
   "metadata": {},
   "source": [
    "인덱스를 이용 시이퀀스에 있는 아이템에 접근할 수 있다."
   ]
  },
  {
   "cell_type": "code",
   "execution_count": 1,
   "metadata": {
    "collapsed": true
   },
   "outputs": [],
   "source": [
    "if 0: # string\n",
    "    x = 'frog'\n",
    "elif 0: # list\n",
    "    x = ['frog', 'pig', 'cow', 'horse']\n",
    "elif 1: # tuple\n",
    "    x = ('frog', 'pig', 'cow', 'horse')"
   ]
  },
  {
   "cell_type": "code",
   "execution_count": 2,
   "metadata": {},
   "outputs": [
    {
     "name": "stdout",
     "output_type": "stream",
     "text": [
      "horse\n"
     ]
    }
   ],
   "source": [
    "print(x[3])"
   ]
  },
  {
   "cell_type": "markdown",
   "metadata": {},
   "source": [
    "슬라이싱을 이용 시이퀀스에 연속해서 있는 아이템에 접근할 수 있다."
   ]
  },
  {
   "cell_type": "markdown",
   "metadata": {},
   "source": [
    "<div align=\"center\"><img src=\"img/Screen Shot 2018-08-05 at 10.51.26 PM.png\" width=\"70%\"></div>\n",
    "\n",
    "Python: Data Structures - Lists, Tuples, Sets & Dictionaries by Joe James \n",
    "[youtube](https://www.youtube.com/watch?v=R-HLU9Fl5ug&index=9&list=PLj8W7XIvO93qsmdxbaDpIvM1KCyNO1K_c) \n",
    "[github](https://github.com/joeyajames/Python)"
   ]
  },
  {
   "cell_type": "markdown",
   "metadata": {},
   "source": [
    "[<a href=\"#Basic-Data-Structure\">Back to top</a>]"
   ]
  },
  {
   "cell_type": "markdown",
   "metadata": {},
   "source": [
    "# Sequence - 더하기와 곱하기"
   ]
  },
  {
   "cell_type": "code",
   "execution_count": 3,
   "metadata": {
    "collapsed": true
   },
   "outputs": [],
   "source": [
    "if 1: # string\n",
    "    x = 'horse' + 'shoe'\n",
    "elif 1: # list\n",
    "    x = ['frog', 'pig'] + ['cow', 'horse']\n",
    "elif 1: # tuple\n",
    "    x = ('frog', 'pig') + ('cow', 'horse')"
   ]
  },
  {
   "cell_type": "code",
   "execution_count": 4,
   "metadata": {},
   "outputs": [
    {
     "name": "stdout",
     "output_type": "stream",
     "text": [
      "horseshoe\n"
     ]
    }
   ],
   "source": [
    "print(x)"
   ]
  },
  {
   "cell_type": "code",
   "execution_count": 5,
   "metadata": {
    "collapsed": true
   },
   "outputs": [],
   "source": [
    "if 1: # string\n",
    "    x = 'frog'\n",
    "elif 1: # list\n",
    "    x = ['frog', 'pig', 'cow', 'horse']\n",
    "elif 1: # tuple\n",
    "    x = ('frog', 'pig', 'cow', 'horse')"
   ]
  },
  {
   "cell_type": "code",
   "execution_count": 6,
   "metadata": {},
   "outputs": [
    {
     "name": "stdout",
     "output_type": "stream",
     "text": [
      "frogfrogfrog\n"
     ]
    }
   ],
   "source": [
    "print(x*3)"
   ]
  },
  {
   "cell_type": "markdown",
   "metadata": {},
   "source": [
    "[<a href=\"#Basic-Data-Structure\">Back to top</a>]"
   ]
  },
  {
   "cell_type": "markdown",
   "metadata": {},
   "source": [
    "# Sequence - Check the Membership"
   ]
  },
  {
   "cell_type": "code",
   "execution_count": 7,
   "metadata": {},
   "outputs": [
    {
     "name": "stdout",
     "output_type": "stream",
     "text": [
      "False\n"
     ]
    }
   ],
   "source": [
    "print('u' in x)"
   ]
  },
  {
   "cell_type": "code",
   "execution_count": 8,
   "metadata": {},
   "outputs": [
    {
     "name": "stdout",
     "output_type": "stream",
     "text": [
      "True\n"
     ]
    }
   ],
   "source": [
    "print('cow' not in x)"
   ]
  },
  {
   "cell_type": "markdown",
   "metadata": {},
   "source": [
    "[<a href=\"#Basic-Data-Structure\">Back to top</a>]"
   ]
  },
  {
   "cell_type": "markdown",
   "metadata": {},
   "source": [
    "# Sequence - Iteration"
   ]
  },
  {
   "cell_type": "code",
   "execution_count": 9,
   "metadata": {},
   "outputs": [
    {
     "name": "stdout",
     "output_type": "stream",
     "text": [
      "f\n",
      "r\n",
      "o\n",
      "g\n"
     ]
    }
   ],
   "source": [
    "for i in x:\n",
    "    print(i)"
   ]
  },
  {
   "cell_type": "code",
   "execution_count": 10,
   "metadata": {},
   "outputs": [
    {
     "name": "stdout",
     "output_type": "stream",
     "text": [
      "fff\n",
      "rrr\n",
      "ooo\n",
      "ggg\n"
     ]
    }
   ],
   "source": [
    "for i in x:\n",
    "    print(i*3)"
   ]
  },
  {
   "cell_type": "code",
   "execution_count": 11,
   "metadata": {},
   "outputs": [
    {
     "name": "stdout",
     "output_type": "stream",
     "text": [
      "0 f\n",
      "1 r\n",
      "2 o\n",
      "3 g\n"
     ]
    }
   ],
   "source": [
    "for index, item in enumerate(x):\n",
    "    print(index, item)"
   ]
  },
  {
   "cell_type": "markdown",
   "metadata": {},
   "source": [
    "[<a href=\"#Basic-Data-Structure\">Back to top</a>]"
   ]
  },
  {
   "cell_type": "markdown",
   "metadata": {},
   "source": [
    "# Sequence - Number of Items"
   ]
  },
  {
   "cell_type": "code",
   "execution_count": 12,
   "metadata": {},
   "outputs": [
    {
     "name": "stdout",
     "output_type": "stream",
     "text": [
      "4\n"
     ]
    }
   ],
   "source": [
    "print(len(x))"
   ]
  },
  {
   "cell_type": "markdown",
   "metadata": {},
   "source": [
    "[<a href=\"#Basic-Data-Structure\">Back to top</a>]"
   ]
  },
  {
   "cell_type": "markdown",
   "metadata": {},
   "source": [
    "# Sequence - min"
   ]
  },
  {
   "cell_type": "markdown",
   "metadata": {},
   "source": [
    "사전적인 순서 혹은 숫자인 경우 작은 숫자부터 정렬하였을 때 가장 먼저 나오는 아이템 "
   ]
  },
  {
   "cell_type": "code",
   "execution_count": 13,
   "metadata": {},
   "outputs": [
    {
     "name": "stdout",
     "output_type": "stream",
     "text": [
      "f\n"
     ]
    }
   ],
   "source": [
    "print(min(x))"
   ]
  },
  {
   "cell_type": "markdown",
   "metadata": {},
   "source": [
    "[<a href=\"#Basic-Data-Structure\">Back to top</a>]"
   ]
  },
  {
   "cell_type": "markdown",
   "metadata": {},
   "source": [
    "# Sequence - max"
   ]
  },
  {
   "cell_type": "markdown",
   "metadata": {},
   "source": [
    "사전적인 순서 혹은 숫자인 경우 작은 숫자부터 정렬하였을 때 가장 나중에 나오는 아이템 "
   ]
  },
  {
   "cell_type": "code",
   "execution_count": 14,
   "metadata": {},
   "outputs": [
    {
     "name": "stdout",
     "output_type": "stream",
     "text": [
      "r\n"
     ]
    }
   ],
   "source": [
    "print(max(x))"
   ]
  },
  {
   "cell_type": "markdown",
   "metadata": {},
   "source": [
    "[<a href=\"#Basic-Data-Structure\">Back to top</a>]"
   ]
  },
  {
   "cell_type": "markdown",
   "metadata": {},
   "source": [
    "# Sequence - sum"
   ]
  },
  {
   "cell_type": "markdown",
   "metadata": {},
   "source": [
    "모든 아이템들이 숫자일 때, 모든 아이템의 합. 숫자가 아닌 아이템이 들어있으면 에러가 발생함. "
   ]
  },
  {
   "cell_type": "code",
   "execution_count": 15,
   "metadata": {},
   "outputs": [
    {
     "name": "stdout",
     "output_type": "stream",
     "text": [
      "unsupported operand type(s) for +: 'int' and 'str'\n"
     ]
    }
   ],
   "source": [
    "try:\n",
    "    print(sum(x))\n",
    "except Exception as e:\n",
    "    print(e)"
   ]
  },
  {
   "cell_type": "markdown",
   "metadata": {},
   "source": [
    "[<a href=\"#Basic-Data-Structure\">Back to top</a>]"
   ]
  },
  {
   "cell_type": "markdown",
   "metadata": {},
   "source": [
    "# Sequence - sorted"
   ]
  },
  {
   "cell_type": "markdown",
   "metadata": {},
   "source": [
    "> 오리지날은 변화없음\n",
    "\n",
    "> sorted된 시이퀀스가 return됨"
   ]
  },
  {
   "cell_type": "code",
   "execution_count": 16,
   "metadata": {},
   "outputs": [
    {
     "name": "stdout",
     "output_type": "stream",
     "text": [
      "['f', 'g', 'o', 'r']\n"
     ]
    }
   ],
   "source": [
    "print(sorted(x))"
   ]
  },
  {
   "cell_type": "markdown",
   "metadata": {},
   "source": [
    "[<a href=\"#Basic-Data-Structure\">Back to top</a>]"
   ]
  },
  {
   "cell_type": "markdown",
   "metadata": {},
   "source": [
    "# Sequence - count (items)"
   ]
  },
  {
   "cell_type": "code",
   "execution_count": 17,
   "metadata": {
    "collapsed": true
   },
   "outputs": [],
   "source": [
    "if 1: # string\n",
    "    x = 'hippo'\n",
    "elif 1: # list\n",
    "    x = ['frog', 'pig', 'cow', 'cow']\n",
    "elif 1: # tuple\n",
    "    x = ('frog', 'pig', 'cow', 'cow')"
   ]
  },
  {
   "cell_type": "code",
   "execution_count": 18,
   "metadata": {},
   "outputs": [
    {
     "name": "stdout",
     "output_type": "stream",
     "text": [
      "2\n"
     ]
    }
   ],
   "source": [
    "print(x.count('p'))"
   ]
  },
  {
   "cell_type": "code",
   "execution_count": 19,
   "metadata": {},
   "outputs": [
    {
     "name": "stdout",
     "output_type": "stream",
     "text": [
      "0\n"
     ]
    }
   ],
   "source": [
    "print(x.count('cow'))"
   ]
  },
  {
   "cell_type": "markdown",
   "metadata": {},
   "source": [
    "[<a href=\"#Basic-Data-Structure\">Back to top</a>]"
   ]
  },
  {
   "cell_type": "markdown",
   "metadata": {},
   "source": [
    "# Sequence - index (items)"
   ]
  },
  {
   "cell_type": "markdown",
   "metadata": {},
   "source": [
    "아이템의 인덱스를 반환한다.\n",
    "만약 아이템이 여러 개있으면 첫번째 아이템의 인덱스를 반환한다.\n",
    "아이템이 없으면 -1을 반환한다."
   ]
  },
  {
   "cell_type": "code",
   "execution_count": 20,
   "metadata": {},
   "outputs": [
    {
     "name": "stdout",
     "output_type": "stream",
     "text": [
      "2\n"
     ]
    }
   ],
   "source": [
    "print(x.index('p'))"
   ]
  },
  {
   "cell_type": "code",
   "execution_count": 21,
   "metadata": {},
   "outputs": [
    {
     "name": "stdout",
     "output_type": "stream",
     "text": [
      "substring not found\n"
     ]
    }
   ],
   "source": [
    "try:\n",
    "    print(x.index('cow'))\n",
    "except Exception as e:\n",
    "    print(e)"
   ]
  },
  {
   "cell_type": "markdown",
   "metadata": {},
   "source": [
    "[<a href=\"#Basic-Data-Structure\">Back to top</a>]"
   ]
  },
  {
   "cell_type": "markdown",
   "metadata": {},
   "source": [
    "# Sequence - packing and unpacking"
   ]
  },
  {
   "cell_type": "markdown",
   "metadata": {},
   "source": [
    "여러 데이타를 묶어서 하나로 만드는 것을 packing이라고 한다.\n",
    "packing을 하면 tuple이 된다. "
   ]
  },
  {
   "cell_type": "code",
   "execution_count": 22,
   "metadata": {},
   "outputs": [
    {
     "name": "stdout",
     "output_type": "stream",
     "text": [
      "(1, 2.5, 'data')\n",
      "<class 'tuple'>\n"
     ]
    }
   ],
   "source": [
    "t = 1, 2.5, 'data'\n",
    "\n",
    "print(t)\n",
    "print(type(t))"
   ]
  },
  {
   "cell_type": "markdown",
   "metadata": {},
   "source": [
    "반대로, 하나의 시이퀀스를 여러 데이타로 풀어서 만드는 것을 unpacking이라고 한다."
   ]
  },
  {
   "cell_type": "code",
   "execution_count": 23,
   "metadata": {
    "collapsed": true
   },
   "outputs": [],
   "source": [
    "if 0: # string\n",
    "    x = 'hippo'\n",
    "elif 1: # list\n",
    "    x = ['frog', 'pig', 'cow', 'cow', 'horse']\n",
    "elif 1: # tuple\n",
    "    x = ('frog', 'pig', 'cow', 'cow', 'horse')"
   ]
  },
  {
   "cell_type": "code",
   "execution_count": 24,
   "metadata": {},
   "outputs": [
    {
     "name": "stdout",
     "output_type": "stream",
     "text": [
      "frog\n",
      "pig\n",
      "cow\n"
     ]
    }
   ],
   "source": [
    "a, b, c, d, e = x\n",
    "print(a)\n",
    "print(b)\n",
    "print(c)"
   ]
  },
  {
   "cell_type": "code",
   "execution_count": 25,
   "metadata": {},
   "outputs": [
    {
     "name": "stdout",
     "output_type": "stream",
     "text": [
      "cow\n",
      "cow\n"
     ]
    }
   ],
   "source": [
    "_, _, c, d, _ = x\n",
    "print(c)\n",
    "print(d)"
   ]
  },
  {
   "cell_type": "markdown",
   "metadata": {},
   "source": [
    "[<a href=\"#Basic-Data-Structure\">Back to top</a>]"
   ]
  }
 ],
 "metadata": {
  "anaconda-cloud": {},
  "kernelspec": {
   "display_name": "Python [default]",
   "language": "python",
   "name": "python3"
  },
  "language_info": {
   "codemirror_mode": {
    "name": "ipython",
    "version": 3
   },
   "file_extension": ".py",
   "mimetype": "text/x-python",
   "name": "python",
   "nbconvert_exporter": "python",
   "pygments_lexer": "ipython3",
   "version": "3.5.3"
  }
 },
 "nbformat": 4,
 "nbformat_minor": 1
}
