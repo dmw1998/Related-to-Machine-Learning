{
 "cells": [
  {
   "cell_type": "markdown",
   "metadata": {},
   "source": [
    "# Tuples"
   ]
  },
  {
   "cell_type": "markdown",
   "metadata": {},
   "source": [
    "[Lists, Tuples, and Sets by Corey Schafer](https://www.youtube.com/watch?v=W8KRzm-HUcc&index=4&list=PL-osiE80TeTt2d9bfVyTiXJA-UTHn6WwU)\n",
    "\n",
    "Python: Data Structures - Lists, Tuples, Sets & Dictionaries by Joe James \n",
    "[youtube](https://www.youtube.com/watch?v=R-HLU9Fl5ug&index=9&list=PLj8W7XIvO93qsmdxbaDpIvM1KCyNO1K_c) \n",
    "[github](https://github.com/joeyajames/Python)"
   ]
  },
  {
   "cell_type": "markdown",
   "metadata": {},
   "source": [
    "<a href=\"#Tuple---Constructor\">Tuple - Constructor</a>\n",
    "\n",
    "<a href=\"#Indexing-and-Slicing\">Indexing and Slicing</a>\n",
    "\n",
    "<a href=\"#Lists-are-mutable,-whereas-strings-and-tuples-are-immutable\">Lists are mutable, whereas strings and tuples are immutable</a>\n",
    "\n",
    "<a href=\"#Operations-on-Tuple\">Operations on Tuple</a>\n",
    "\n",
    "<a href=\"#Membership-Test\">Membership Test</a>"
   ]
  },
  {
   "cell_type": "markdown",
   "metadata": {},
   "source": [
    "# Tuple - Constructor"
   ]
  },
  {
   "cell_type": "markdown",
   "metadata": {},
   "source": [
    "리스트와 투플은 여러가지 다른 종류의 아이템을 담을 수 있는 유용한 용기이다.\n",
    "리스트와 투플은 여러가지 면에서 비슷한데, 가장 큰 차이는\n",
    "리스트는 포함하고 있는 아이템을 고칠 수 있는데 비하여\n",
    "투플은 고칠 수 없다."
   ]
  },
  {
   "cell_type": "code",
   "execution_count": 1,
   "metadata": {
    "collapsed": true
   },
   "outputs": [],
   "source": [
    "if 1: \n",
    "    # empty tuple\n",
    "    x = tuple()\n",
    "elif 1: \n",
    "    # empty tuple\n",
    "    x = ()\n",
    "elif 1: \n",
    "    # explicit construction\n",
    "    x = ('a', 25, 'dog', 8.43)\n",
    "elif 1: \n",
    "    # list to tuple\n",
    "    temp = ['a', 25, 'dog', 8.43]\n",
    "    x = tuple(temp)\n",
    "elif 1: \n",
    "    # tuple comprehension\n",
    "    x = (m for m in range(8))\n",
    "elif 1: \n",
    "    # tuple comprehension\n",
    "    x = (m**2 for m in range(8) if m>4)\n",
    "elif 1: \n",
    "    # packing\n",
    "    x = 1, 2, 3\n",
    "elif 1: \n",
    "    # packing\n",
    "    x = 2,"
   ]
  },
  {
   "cell_type": "code",
   "execution_count": 2,
   "metadata": {},
   "outputs": [
    {
     "name": "stdout",
     "output_type": "stream",
     "text": [
      "()\n"
     ]
    }
   ],
   "source": [
    "print(x)"
   ]
  },
  {
   "cell_type": "code",
   "execution_count": 3,
   "metadata": {},
   "outputs": [
    {
     "name": "stdout",
     "output_type": "stream",
     "text": [
      "<class 'tuple'>\n"
     ]
    }
   ],
   "source": [
    "print(type(x))"
   ]
  },
  {
   "cell_type": "code",
   "execution_count": 4,
   "metadata": {},
   "outputs": [
    {
     "name": "stdout",
     "output_type": "stream",
     "text": [
      "0\n"
     ]
    }
   ],
   "source": [
    "print(len(x))"
   ]
  },
  {
   "cell_type": "markdown",
   "metadata": {},
   "source": [
    "[<a href=\"#Tuples\">Back to top</a>]"
   ]
  },
  {
   "cell_type": "markdown",
   "metadata": {},
   "source": [
    "# Indexing and Slicing"
   ]
  },
  {
   "cell_type": "code",
   "execution_count": 5,
   "metadata": {
    "collapsed": true
   },
   "outputs": [],
   "source": [
    "t1 = (1, 2, 3)\n",
    "t2 = 1, 2, 3  # 괄호를 생략해도 무방하다\n",
    "t3 = (1, )    # 한 개의 요소 만을 갖는 터플은 t2 = (1, )처럼 한 개의 요소와 그 뒤에 콤마(‘,’)를 넣어야 한다.\n",
    "t4 = 1,       \n",
    "t5 = ('a', 'b', ('ab', 'cd'))"
   ]
  },
  {
   "cell_type": "code",
   "execution_count": 6,
   "metadata": {},
   "outputs": [
    {
     "name": "stdout",
     "output_type": "stream",
     "text": [
      "3\n",
      "3\n",
      "1\n",
      "1\n",
      "('ab', 'cd')\n",
      "('b', ('ab', 'cd'))\n"
     ]
    }
   ],
   "source": [
    "print(t1[2])\n",
    "print(t2[2]) \n",
    "print(t3[0]) \n",
    "print(t4[0])\n",
    "print(t5[2])\n",
    "print(t5[1:])  "
   ]
  },
  {
   "cell_type": "markdown",
   "metadata": {},
   "source": [
    "[<a href=\"#Tuples\">Back to top</a>]"
   ]
  },
  {
   "cell_type": "markdown",
   "metadata": {},
   "source": [
    "# Lists are mutable, whereas strings and tuples are immutable"
   ]
  },
  {
   "cell_type": "markdown",
   "metadata": {},
   "source": [
    "> list: mutable 멤버교체 가능\n",
    "\n",
    "> tuple: immutable 멤버교체 불가능\n",
    "\n",
    "> string: immutable 멤버교체 불가능"
   ]
  },
  {
   "cell_type": "markdown",
   "metadata": {},
   "source": [
    "터플은 고칠 수없다. 하지만 터플에 들어있는 아이템이 mutable하다면 아이템은 고칠 수있다."
   ]
  },
  {
   "cell_type": "code",
   "execution_count": 7,
   "metadata": {},
   "outputs": [
    {
     "name": "stdout",
     "output_type": "stream",
     "text": [
      "'tuple' object doesn't support item deletion\n"
     ]
    }
   ],
   "source": [
    "try:\n",
    "    x = (1, 2, 3)\n",
    "    del(x[1])\n",
    "except Exception as e:\n",
    "    print(e)"
   ]
  },
  {
   "cell_type": "code",
   "execution_count": 8,
   "metadata": {},
   "outputs": [
    {
     "name": "stdout",
     "output_type": "stream",
     "text": [
      "'tuple' object does not support item assignment\n"
     ]
    }
   ],
   "source": [
    "try:\n",
    "    x = (1, 2, 3)\n",
    "    x[1] = 8\n",
    "except Exception as e:\n",
    "    print(e)"
   ]
  },
  {
   "cell_type": "code",
   "execution_count": 9,
   "metadata": {},
   "outputs": [
    {
     "name": "stdout",
     "output_type": "stream",
     "text": [
      "([1], 3)\n"
     ]
    }
   ],
   "source": [
    "x = ([1,2], 3)\n",
    "del(x[0][1])\n",
    "print(x)"
   ]
  },
  {
   "cell_type": "markdown",
   "metadata": {},
   "source": [
    "[<a href=\"#Tuples\">Back to top</a>]"
   ]
  },
  {
   "cell_type": "markdown",
   "metadata": {},
   "source": [
    "# Operations on Tuple"
   ]
  },
  {
   "cell_type": "markdown",
   "metadata": {},
   "source": [
    "<div align=\"center\"><img src=\"img/Screen Shot 2018-08-06 at 12.13.21 AM.png\" width=\"70%\"></div>\n",
    "\n",
    "Python: Data Structures - Lists, Tuples, Sets & Dictionaries by Joe James \n",
    "[youtube](https://www.youtube.com/watch?v=R-HLU9Fl5ug&index=9&list=PLj8W7XIvO93qsmdxbaDpIvM1KCyNO1K_c) \n",
    "[github](https://github.com/joeyajames/Python)"
   ]
  },
  {
   "cell_type": "markdown",
   "metadata": {},
   "source": [
    "[<a href=\"#Tuples\">Back to top</a>]"
   ]
  },
  {
   "cell_type": "markdown",
   "metadata": {},
   "source": [
    "# Membership Test"
   ]
  },
  {
   "cell_type": "code",
   "execution_count": 10,
   "metadata": {
    "collapsed": true
   },
   "outputs": [],
   "source": [
    "cs_courses_list  = ['History',    'Math',    'Physics',    'CompSci', 'Math']\n",
    "cs_courses_tuple = ('History',    'Math',    'Physics',    'CompSci', 'Math')\n",
    "cs_courses_dict  = {'History':10, 'Math':20, 'Physics':30, 'CompSci':40}\n",
    "cs_courses_set   = {'History',    'Math',    'Physics',    'CompSci', 'Math'}"
   ]
  },
  {
   "cell_type": "code",
   "execution_count": 11,
   "metadata": {},
   "outputs": [
    {
     "name": "stdout",
     "output_type": "stream",
     "text": [
      "True\n"
     ]
    }
   ],
   "source": [
    "print('Math' in cs_courses_list)"
   ]
  },
  {
   "cell_type": "code",
   "execution_count": 12,
   "metadata": {},
   "outputs": [
    {
     "name": "stdout",
     "output_type": "stream",
     "text": [
      "True\n"
     ]
    }
   ],
   "source": [
    "print('History' in cs_courses_tuple)"
   ]
  },
  {
   "cell_type": "code",
   "execution_count": 13,
   "metadata": {},
   "outputs": [
    {
     "name": "stdout",
     "output_type": "stream",
     "text": [
      "True\n",
      "False\n"
     ]
    }
   ],
   "source": [
    "print('History' in cs_courses_dict)    # 딕션너리는 키가 있는가 없는가를 확인한다. 밸류는 확인하지 않는다. \n",
    "print(10 in cs_courses_dict)           # 딕션너리는 키가 있는가 없는가를 확인한다. 밸류는 확인하지 않는다. "
   ]
  },
  {
   "cell_type": "code",
   "execution_count": 14,
   "metadata": {},
   "outputs": [
    {
     "name": "stdout",
     "output_type": "stream",
     "text": [
      "False\n"
     ]
    }
   ],
   "source": [
    "print('Economics' in cs_courses_set)"
   ]
  },
  {
   "cell_type": "markdown",
   "metadata": {},
   "source": [
    "[<a href=\"#Tuples\">Back to top</a>]"
   ]
  }
 ],
 "metadata": {
  "kernelspec": {
   "display_name": "Python [default]",
   "language": "python",
   "name": "python3"
  },
  "language_info": {
   "codemirror_mode": {
    "name": "ipython",
    "version": 3
   },
   "file_extension": ".py",
   "mimetype": "text/x-python",
   "name": "python",
   "nbconvert_exporter": "python",
   "pygments_lexer": "ipython3",
   "version": "3.5.3"
  }
 },
 "nbformat": 4,
 "nbformat_minor": 2
}
