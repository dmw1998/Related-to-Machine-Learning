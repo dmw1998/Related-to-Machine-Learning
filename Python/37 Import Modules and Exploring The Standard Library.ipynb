{
 "cells": [
  {
   "cell_type": "markdown",
   "metadata": {},
   "source": [
    "# Import Modules and Exploring The Standard Library "
   ]
  },
  {
   "cell_type": "markdown",
   "metadata": {},
   "source": [
    "[Import Modules and Exploring The Standard Library by Corey Schafer](https://www.youtube.com/watch?v=CqvZ3vGoGs0&list=PL-osiE80TeTt2d9bfVyTiXJA-UTHn6WwU&index=9)"
   ]
  },
  {
   "cell_type": "markdown",
   "metadata": {},
   "source": [
    "# 내가 만든 모듈을 임포트하는 방법"
   ]
  },
  {
   "cell_type": "markdown",
   "metadata": {},
   "source": [
    "지금 작업하는 폴더에 my_module.py가 있다.\n",
    "my_module.py에는 다음과 같은 코드가 들어있다.\n",
    "이 파일에는 find_index라는 함수가 있는데,\n",
    "이 함수는 to_search에 리스트를 집어넣고 target에 찿고자하는 오브젝트를 넣으면,\n",
    "리스트의 멤버를 차례차례 target과 비교하여 target과 같은 리스트 멤버를 찿으면 이 멤버의 인덱스를 리턴하고,\n",
    "만약 리스트에 target과 같은 멤버가 없다면 없다는 표시를 하기 위하여 -1을 리턴한다."
   ]
  },
  {
   "cell_type": "markdown",
   "metadata": {
    "collapsed": true
   },
   "source": [
    "```\n",
    "print('Imported my_module...')\n",
    "\n",
    "test = 'Test String'\n",
    "\n",
    "\n",
    "def find_index(to_search, target):\n",
    "    '''Find the index of a value in a sequence'''\n",
    "    for i, value in enumerate(to_search):\n",
    "        if value == target:\n",
    "            return i\n",
    "\n",
    "    return -1\n",
    "```"
   ]
  },
  {
   "cell_type": "markdown",
   "metadata": {},
   "source": [
    "이 함수를 지금 작업하는 공간에 불러들여 이 함수를 쓰고 싶다면,\n",
    "먼저 이 py 파일을 불러들여야 한다.\n",
    "불러들이는 방법은 다음과 같다."
   ]
  },
  {
   "cell_type": "code",
   "execution_count": 1,
   "metadata": {},
   "outputs": [
    {
     "name": "stdout",
     "output_type": "stream",
     "text": [
      "Imported my_module...\n"
     ]
    }
   ],
   "source": [
    "import my_module"
   ]
  },
  {
   "cell_type": "markdown",
   "metadata": {},
   "source": [
    "my_module을 임포트하면, 이 파일의 첫번째 줄에 있는 print('Imported my_module...')에 의하여 Imported my_module...이 프린트되었다.\n",
    "임포트가 성공한 것이다.\n",
    "세번째 줄 test = 'Test String'에 의하여 test 변수가 만들어 졌을텐데 확인해 보죠."
   ]
  },
  {
   "cell_type": "code",
   "execution_count": 2,
   "metadata": {},
   "outputs": [
    {
     "name": "stdout",
     "output_type": "stream",
     "text": [
      "name 'test' is not defined\n"
     ]
    }
   ],
   "source": [
    "try:\n",
    "    test\n",
    "except Exception as e:\n",
    "    print(e)"
   ]
  },
  {
   "cell_type": "markdown",
   "metadata": {},
   "source": [
    "에러가 발생하네요.\n",
    "test는 my_module.py에서 정의된 것이지 지금작업공간에서 정의된 것이 아니죠. \n",
    "my_module.py에서 정의된 test는, 지금 작업공간에서는 다음과 같이 불러야 합니다."
   ]
  },
  {
   "cell_type": "code",
   "execution_count": 3,
   "metadata": {},
   "outputs": [
    {
     "data": {
      "text/plain": [
       "'Test String'"
      ]
     },
     "execution_count": 3,
     "metadata": {},
     "output_type": "execute_result"
    }
   ],
   "source": [
    "my_module.test"
   ]
  },
  {
   "cell_type": "markdown",
   "metadata": {},
   "source": [
    "my_module.py에서 정의된 find_index라는 함수를 이용해 보죠.\n",
    "find_index라는 함수는 my_module.py에서 정의되었지 지금 작업공간에서 정의되지 않았음을 기억하세요."
   ]
  },
  {
   "cell_type": "code",
   "execution_count": 4,
   "metadata": {},
   "outputs": [
    {
     "data": {
      "text/plain": [
       "3"
      ]
     },
     "execution_count": 4,
     "metadata": {},
     "output_type": "execute_result"
    }
   ],
   "source": [
    "target = 't'\n",
    "index_for_t = my_module.find_index(my_module.test, target) \n",
    "index_for_t"
   ]
  },
  {
   "cell_type": "markdown",
   "metadata": {},
   "source": [
    "아! 함수를 정의할 때 처음 t를 발견하면 그 인덱스를 리턴하고 함수를 종료하도록 만들었군요.\n",
    "두번째 t는 무시가 되는군요."
   ]
  },
  {
   "cell_type": "code",
   "execution_count": 5,
   "metadata": {},
   "outputs": [
    {
     "data": {
      "text/plain": [
       "-1"
      ]
     },
     "execution_count": 5,
     "metadata": {},
     "output_type": "execute_result"
    }
   ],
   "source": [
    "target = 'tr'\n",
    "index_for_tr = my_module.find_index(my_module.test, target) \n",
    "index_for_tr"
   ]
  },
  {
   "cell_type": "markdown",
   "metadata": {},
   "source": [
    "아! 함수를 정의할 때 스트링의 경우 문자가 하나씩 들어가서 target과 비교하도록 만들었군요.\n",
    "tr은 찿지못하고 -1을 리턴하는군요. "
   ]
  },
  {
   "cell_type": "markdown",
   "metadata": {},
   "source": [
    "다른 보기에서는 어떻게 작동할까요."
   ]
  },
  {
   "cell_type": "code",
   "execution_count": 6,
   "metadata": {},
   "outputs": [
    {
     "name": "stdout",
     "output_type": "stream",
     "text": [
      "1\n"
     ]
    }
   ],
   "source": [
    "courses = ['History', 'Math', 'Physics', 'CompSci']\n",
    "index = my_module.find_index(courses, 'Math')\n",
    "print(index)"
   ]
  },
  {
   "cell_type": "markdown",
   "metadata": {},
   "source": [
    "# 내가 만든 모듈에 애칭을 주어 임포트하는 방법"
   ]
  },
  {
   "cell_type": "markdown",
   "metadata": {},
   "source": [
    "임포트한 변수나 함수를 사용하려면 변수나 함수앞에 그 출신성분을 밝히고 점을 찍어여 합니다.\n",
    "그런데 임포트한 py 파일이름이 my_module처럼 길면, 이것을 파이핑하는 것이 여간 귀찬은 것이 아니죠. \n",
    "이러한 번거러음을 줄이는 방법이 있습니다.\n",
    "파일이름에 애칭을 주는 것이죠."
   ]
  },
  {
   "cell_type": "code",
   "execution_count": 7,
   "metadata": {
    "collapsed": true
   },
   "outputs": [],
   "source": [
    "import my_module as mm"
   ]
  },
  {
   "cell_type": "code",
   "execution_count": 8,
   "metadata": {},
   "outputs": [
    {
     "name": "stdout",
     "output_type": "stream",
     "text": [
      "1\n"
     ]
    }
   ],
   "source": [
    "courses = ['History', 'Math', 'Physics', 'CompSci']\n",
    "index = mm.find_index(courses, 'Math')\n",
    "print(index)"
   ]
  },
  {
   "cell_type": "markdown",
   "metadata": {},
   "source": [
    "# 필요한 것만 임포트하는 방법 - not recommended"
   ]
  },
  {
   "cell_type": "markdown",
   "metadata": {},
   "source": [
    "함수만 임포트하는 방법이 있습니다.\n",
    "이 경우 함수의 출신성분을 않 밝혀도 됩니다."
   ]
  },
  {
   "cell_type": "code",
   "execution_count": 9,
   "metadata": {
    "collapsed": true
   },
   "outputs": [],
   "source": [
    "from my_module import find_index"
   ]
  },
  {
   "cell_type": "code",
   "execution_count": 10,
   "metadata": {},
   "outputs": [
    {
     "name": "stdout",
     "output_type": "stream",
     "text": [
      "1\n"
     ]
    }
   ],
   "source": [
    "courses = ['History', 'Math', 'Physics', 'CompSci']\n",
    "index = find_index(courses, 'Math')\n",
    "print(index)"
   ]
  },
  {
   "cell_type": "markdown",
   "metadata": {
    "collapsed": true
   },
   "source": [
    "변수도 임포트 할 수 있어요."
   ]
  },
  {
   "cell_type": "code",
   "execution_count": 11,
   "metadata": {},
   "outputs": [
    {
     "name": "stdout",
     "output_type": "stream",
     "text": [
      "Test String\n"
     ]
    }
   ],
   "source": [
    "from my_module import test\n",
    "print(test)"
   ]
  },
  {
   "cell_type": "markdown",
   "metadata": {},
   "source": [
    "이 둘을 함꺼번에 임포트 할 수 있어요."
   ]
  },
  {
   "cell_type": "code",
   "execution_count": 12,
   "metadata": {},
   "outputs": [
    {
     "name": "stdout",
     "output_type": "stream",
     "text": [
      "1\n",
      "Test String\n"
     ]
    }
   ],
   "source": [
    "from my_module import find_index, test\n",
    "courses = ['History', 'Math', 'Physics', 'CompSci']\n",
    "index = find_index(courses, 'Math')\n",
    "print(index)\n",
    "print(test)"
   ]
  },
  {
   "cell_type": "markdown",
   "metadata": {},
   "source": [
    "하지만, 이 방법은 비추!\n",
    "프로젝트가 작으면 문제가 없지만,\n",
    "프로젝트가 커지면 어떤 함수가 어느 모듈에서 왔는지 파악하는데 어려움이 있어요."
   ]
  },
  {
   "cell_type": "markdown",
   "metadata": {},
   "source": [
    "# 필요한 것만 애칭을 주어 임포트하는 방법 - not recommended"
   ]
  },
  {
   "cell_type": "markdown",
   "metadata": {},
   "source": [
    "필요한 것만 임포트하는데 함수에 애칭을 줄 수 있어요.\n",
    "이 경우 함수의 출신성분을 않 밝혀도 됩니다."
   ]
  },
  {
   "cell_type": "code",
   "execution_count": 13,
   "metadata": {},
   "outputs": [
    {
     "name": "stdout",
     "output_type": "stream",
     "text": [
      "1\n",
      "Test String\n"
     ]
    }
   ],
   "source": [
    "from my_module import find_index as fi, test\n",
    "courses = ['History', 'Math', 'Physics', 'CompSci']\n",
    "index = fi(courses, 'Math')\n",
    "print(index)\n",
    "print(test)"
   ]
  },
  {
   "cell_type": "markdown",
   "metadata": {},
   "source": [
    "하지만, 이 방법은 비추!\n",
    "프로젝트가 작으면 문제가 없지만,\n",
    "프로젝트가 커지면 어떤 함수가 어느 모듈에서 왔는지 파악하는데 어려움이 있어요."
   ]
  },
  {
   "cell_type": "markdown",
   "metadata": {},
   "source": [
    "# 모든 것을 간단하게 임포트하는 방법 - not recommended"
   ]
  },
  {
   "cell_type": "markdown",
   "metadata": {
    "collapsed": true
   },
   "source": [
    "모든 것을 간단하게 임포트할 수 있어요. \n",
    "이 경우 함수의 출신성분을 않 밝혀도 됩니다."
   ]
  },
  {
   "cell_type": "code",
   "execution_count": 14,
   "metadata": {},
   "outputs": [
    {
     "name": "stdout",
     "output_type": "stream",
     "text": [
      "1\n",
      "Test String\n"
     ]
    }
   ],
   "source": [
    "from my_module import *\n",
    "courses = ['History', 'Math', 'Physics', 'CompSci']\n",
    "index = fi(courses, 'Math')\n",
    "print(index)\n",
    "print(test)"
   ]
  },
  {
   "cell_type": "code",
   "execution_count": 15,
   "metadata": {},
   "outputs": [
    {
     "name": "stdout",
     "output_type": "stream",
     "text": [
      "['', '/Users/sungchul/anaconda/lib/python35.zip', '/Users/sungchul/anaconda/lib/python3.5', '/Users/sungchul/anaconda/lib/python3.5/plat-darwin', '/Users/sungchul/anaconda/lib/python3.5/lib-dynload', '/Users/sungchul/anaconda/lib/python3.5/site-packages', '/Users/sungchul/anaconda/lib/python3.5/site-packages/Sphinx-1.5.6-py3.5.egg', '/Users/sungchul/anaconda/lib/python3.5/site-packages/aeosa', '/Users/sungchul/anaconda/lib/python3.5/site-packages/IPython/extensions', '/Users/sungchul/.ipython']\n"
     ]
    }
   ],
   "source": [
    "# when we import a module how does it know where to find this module - Syst module\n",
    "from my_module import find_index, test\n",
    "import sys\n",
    "\n",
    "courses = ['History', 'Math', 'Physics', 'CompSci']\n",
    "index = find_index(courses, 'Math')\n",
    "\n",
    "print(sys.path) # list of directories on my machine\n",
    "# What directories are added to this sys.path?\n",
    "# first, directory containing the script that we're running\n",
    "# next, directories listed in th python path environment variable\n",
    "# then, adds the standard library directories\n",
    "# lastly, it adds the site packages director directory."
   ]
  },
  {
   "cell_type": "code",
   "execution_count": 16,
   "metadata": {},
   "outputs": [
    {
     "name": "stdout",
     "output_type": "stream",
     "text": [
      "==================================================\n",
      "['', '/Users/sungchul/anaconda/lib/python35.zip', '/Users/sungchul/anaconda/lib/python3.5', '/Users/sungchul/anaconda/lib/python3.5/plat-darwin', '/Users/sungchul/anaconda/lib/python3.5/lib-dynload', '/Users/sungchul/anaconda/lib/python3.5/site-packages', '/Users/sungchul/anaconda/lib/python3.5/site-packages/Sphinx-1.5.6-py3.5.egg', '/Users/sungchul/anaconda/lib/python3.5/site-packages/aeosa', '/Users/sungchul/anaconda/lib/python3.5/site-packages/IPython/extensions', '/Users/sungchul/.ipython', 'Users/']\n",
      "==================================================\n",
      "CompSci\n",
      "1.5707963267948966\n",
      "1.0\n",
      "2018-08-14\n",
      "False\n",
      "True\n"
     ]
    }
   ],
   "source": [
    "\n",
    "\n",
    "\n",
    "\n",
    "\n",
    "\n",
    "\n",
    "\n",
    "\n",
    "print('='*50)\n",
    "\n",
    "# import sys\n",
    "sys.path.append('Users/')\n",
    "from my_module import find_index, test\n",
    "\n",
    "courses = ['History', 'Math', 'Physics', 'CompSci']\n",
    "index = find_index(courses, 'Math')\n",
    "\n",
    "print(sys.path)\n",
    "# Python path environment variable now changing. so different on Mac and Window\n",
    "\n",
    "# Mac\n",
    "# Built into the terminal called 'nano'\n",
    "# \"$ nano ~/.bach_profile\"\n",
    "# then, scroll down to the end of the file and set my Python path\n",
    "# \"export PYTHONPATH=\"Users/songmiseon/PycharmProjects/MiseonProject/Corey Schafer - Python Tutorial for Beginners\" (no space in between the equals)\n",
    "# to save that we can hit 'ctrl X and then Y' to save and then enter to keep the same file name\n",
    "# now restart our terminal\n",
    "# next, run \"$ python\" and \"import my_module\" -> \"import sys\" -> \"sys.path\" then we can see that our current directory\n",
    "\n",
    "# How to set this environment variable on Windows\n",
    "# click on our start button and then right click on computer and go to porperties.\n",
    "# we want to go 'Advanced system settings' and can click on environment variables\n",
    "# now create a new environment variable so we'll click new and name this \"PYTHONPATH\"\n",
    "# location \"C:\\Users\\Mydesktop\\My_modules\" so hit OK\n",
    "# Now open up our command prompt by going to start run CMD\n",
    "# typing \"python\" -> \"import my_module\" -> \"import sys\" -> \"sys.path\" ->\"exit()\"\n",
    "print('='*50)\n",
    "\n",
    "# standard library is incredibly useful because if you performing a common task then most likely someone has already written\n",
    "# the functionality.\n",
    "\n",
    "# To grab a random value from a list of values - random module\n",
    "import random\n",
    "courses = ['History', 'Math', 'Physics', 'CompSci']\n",
    "random_course = random.choice(courses)\n",
    "print(random_course)\n",
    "\n",
    "# perform some common mathematical operation\n",
    "import math\n",
    "courses = ['History', 'Math', 'Physics', 'CompSci']\n",
    "rads = math.radians(90)\n",
    "print(rads)\n",
    "print(math.sin(rads))\n",
    "\n",
    "# another useful module from the standard library - eight time module\n",
    "import datetime\n",
    "import calendar\n",
    "courses = ['History', 'Math', 'Physics', 'CompSci']\n",
    "today = datetime.date.today()\n",
    "print(today)\n",
    "print(calendar.isleap(2017))\n",
    "print(calendar.isleap(2020))"
   ]
  }
 ],
 "metadata": {
  "kernelspec": {
   "display_name": "Python [default]",
   "language": "python",
   "name": "python3"
  },
  "language_info": {
   "codemirror_mode": {
    "name": "ipython",
    "version": 3
   },
   "file_extension": ".py",
   "mimetype": "text/x-python",
   "name": "python",
   "nbconvert_exporter": "python",
   "pygments_lexer": "ipython3",
   "version": "3.5.3"
  }
 },
 "nbformat": 4,
 "nbformat_minor": 2
}
