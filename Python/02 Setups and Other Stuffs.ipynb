{
 "cells": [
  {
   "cell_type": "markdown",
   "metadata": {},
   "source": [
    "# Why 파이썬"
   ]
  },
  {
   "cell_type": "markdown",
   "metadata": {},
   "source": [
    "> 5 Dynamically Typed\n",
    "\n",
    "> 4 Simple Syntax\n",
    "\n",
    "> 3 One Liners\n",
    "\n",
    "> 2 English-like Commands\n",
    "\n",
    "> 1 Intuitive Data Structures"
   ]
  },
  {
   "cell_type": "markdown",
   "metadata": {},
   "source": [
    "Top 5 Reasons to Learn Python by Joe James \n",
    "[youtube](https://www.youtube.com/watch?v=5CZvkggt7C4) \n",
    "[github](https://github.com/joeyajames/Python)\n",
    "\n",
    "[Why Should You Learn Python? by codebasics](https://www.youtube.com/watch?v=eykoKxsYtow)"
   ]
  },
  {
   "cell_type": "markdown",
   "metadata": {},
   "source": [
    "# 파이썬 설치하기"
   ]
  },
  {
   "cell_type": "markdown",
   "metadata": {},
   "source": [
    "[Python Tutorial for Beginners 1: Install and Setup for Mac and Windows by Corey Schafer](https://www.youtube.com/watch?v=YYXdXT2l-Gg&list=PL-osiE80TeTt2d9bfVyTiXJA-UTHn6WwU) \n",
    "\n",
    "[Python Tutorial: Anaconda - Installation and Using Conda by Corey Schafer](https://www.youtube.com/watch?v=YJC6ldI3hWk&list=PL-osiE80TeTt2d9bfVyTiXJA-UTHn6WwU&index=15) \n",
    "\n",
    "[What is Anaconda? Install Anaconda On Windows. by codebasics](https://www.youtube.com/watch?v=Vt6loGK9Adc)"
   ]
  },
  {
   "cell_type": "markdown",
   "metadata": {},
   "source": [
    "# 모듈 설치하기"
   ]
  },
  {
   "cell_type": "markdown",
   "metadata": {},
   "source": [
    "[Python Tutorial: pip - An in-depth look at the package management system by Corey Schafer](https://www.youtube.com/watch?v=U2ZN104hIcc&index=13&list=PL-osiE80TeTt2d9bfVyTiXJA-UTHn6WwU)"
   ]
  },
  {
   "cell_type": "markdown",
   "metadata": {},
   "source": [
    "# 에디터 이용방법"
   ]
  },
  {
   "cell_type": "markdown",
   "metadata": {},
   "source": [
    "[Jupyter Notebook Tutorial: Introduction, Setup, and Walkthrough by Corey Schafer](https://www.youtube.com/watch?v=HW29067qVWk&list=PL-osiE80TeTt2d9bfVyTiXJA-UTHn6WwU&index=16)\n",
    "\n",
    "[What is Jupyter Notebook? by codebasics](https://www.youtube.com/watch?v=q_BzsPxwLOE)\n",
    "\n",
    "[Jupyter Notebook Tutorial / Ipython Notebook Tutorial by codebasics](https://www.youtube.com/watch?v=EEEZX_0FMEc)\n",
    "\n",
    "[Python Tutorial - 6. Install PyCharm on Windows by codebasics](https://www.youtube.com/watch?v=Ejrq3yB2DIQ)\n",
    "\n",
    "[Setting up a Python Development Environment in Sublime Text by Corey Schafer](https://www.youtube.com/watch?v=xFciV6Ew5r4&list=PL-osiE80TeTt2d9bfVyTiXJA-UTHn6WwU&index=10)\n",
    "[github](https://github.com/CoreyMSchafer/dotfiles/tree/master/init)\n",
    "\n",
    "[Custom Sublime Text Build Systems by Corey Schafer](https://www.youtube.com/watch?v=xqcTfplzr7c&index=46&list=PL-osiE80TeTt2d9bfVyTiXJA-UTHn6WwU)\n",
    "\n",
    "[Setting up a Python Development Environment in Atom by Corey Schafer](https://www.youtube.com/watch?v=DjEuROpsvp4&index=11&list=PL-osiE80TeTt2d9bfVyTiXJA-UTHn6WwU) \n",
    "\n",
    "[Setting up a Python Development Environment in Eclipse by Corey Schafer](https://www.youtube.com/watch?v=NDFbXIiqT4o&index=12&list=PL-osiE80TeTt2d9bfVyTiXJA-UTHn6WwU) "
   ]
  },
  {
   "cell_type": "markdown",
   "metadata": {},
   "source": [
    "# 패스 관리방법"
   ]
  },
  {
   "cell_type": "markdown",
   "metadata": {},
   "source": [
    "[How to Set the Path and Switch Between Different Versions/Executables (Mac & Linux) by Corey Schafer](https://www.youtube.com/watch?v=PUIE7CPANfo&index=75&list=PL-osiE80TeTt2d9bfVyTiXJA-UTHn6WwU)\n",
    "\n",
    "[How to Set the Path and Switch Between Different Versions/Executables (Windows) by Corey Schafer](https://www.youtube.com/watch?v=OdIHeg4jj2c&list=PL-osiE80TeTt2d9bfVyTiXJA-UTHn6WwU&index=74)"
   ]
  },
  {
   "cell_type": "markdown",
   "metadata": {},
   "source": [
    "# 패스워드 관리방법"
   ]
  },
  {
   "cell_type": "markdown",
   "metadata": {},
   "source": [
    "[Hiding Passwords and Secret Keys in Environment Variables (Mac & Linux) by Corey Schafer](https://www.youtube.com/watch?v=5iWhQWVXosU&list=PL-osiE80TeTt2d9bfVyTiXJA-UTHn6WwU&index=51)\n",
    "\n",
    "[Hiding Passwords and Secret Keys in Environment Variables (Windows) by Corey Schafer](https://www.youtube.com/watch?v=IolxqkL7cD8&index=52&list=PL-osiE80TeTt2d9bfVyTiXJA-UTHn6WwU)"
   ]
  },
  {
   "cell_type": "markdown",
   "metadata": {},
   "source": [
    "# 프로젝트 관리방법"
   ]
  },
  {
   "cell_type": "markdown",
   "metadata": {},
   "source": [
    "[Python Tutorial: How I Manage Multiple Projects, Virtual Environments, and Environment Variables by Corey Schafer](https://www.youtube.com/watch?v=cY2NXB_Tqq0&list=PL-osiE80TeTt2d9bfVyTiXJA-UTHn6WwU&index=16)\n",
    "\n",
    "[Python Tutorial: virtualenv and why you should use virtual environments by Corey Schafer](https://www.youtube.com/watch?v=N5vscPTWKOk&index=14&list=PL-osiE80TeTt2d9bfVyTiXJA-UTHn6WwU)"
   ]
  },
  {
   "cell_type": "markdown",
   "metadata": {},
   "source": [
    "# 파이썬 코드를 파이썬스럽게 만드는 방법"
   ]
  },
  {
   "cell_type": "markdown",
   "metadata": {},
   "source": [
    "[Duck Typing and Asking Forgiveness, Not Permission (EAFP) by Corey Schafer by Corey Schafer](https://www.youtube.com/watch?v=x3v9zMX1s4s&index=27&list=PL-osiE80TeTt2d9bfVyTiXJA-UTHn6WwU)"
   ]
  },
  {
   "cell_type": "markdown",
   "metadata": {
    "collapsed": true
   },
   "source": [
    "# 코드를 체계적으로 테스팅하는 방법"
   ]
  },
  {
   "cell_type": "markdown",
   "metadata": {},
   "source": [
    "[Python Tutorial: Unit Testing Your Code with the unittest Module by Corey Schafer by Corey Schafer](https://www.youtube.com/watch?v=6tNS--WetLI&index=54&list=PL-osiE80TeTt2d9bfVyTiXJA-UTHn6WwU)\n",
    "\n",
    "[Python unit testing - pytest introduction by codebasics](https://www.youtube.com/watch?v=l32bsaIDoWk)\n",
    "\n",
    "[Python unit testing - skip/selectively run tests in pytest by codebasics](https://www.youtube.com/watch?v=nv9zw454bEk)\n",
    "\n",
    "[Python unit testing - pytest fixtures by codebasics](https://www.youtube.com/watch?v=IVrGz8w0H8c)\n",
    "\n",
    "[Python unit testing - pytest parameters by codebasics](https://www.youtube.com/watch?v=2EGgtlf7BN0)"
   ]
  },
  {
   "cell_type": "markdown",
   "metadata": {},
   "source": [
    "# 디버깅"
   ]
  },
  {
   "cell_type": "markdown",
   "metadata": {},
   "source": [
    "[PyCharm Tutorial - Debug python code using PyCharm by codebasics](https://www.youtube.com/watch?v=BBPoInSOiOY)\n",
    "\n",
    "[Debugging Tips - What is bug and debugging? by codebasics](https://www.youtube.com/watch?v=kRL6hjWOKWI)\n",
    "\n",
    "[Debugging Tips - Conditional Breakpoint by codebasics](https://www.youtube.com/watch?v=Tjkz4Kt21wI)\n",
    "\n",
    "[Debugging Tips - Watches and Call Stack by codebasics](https://www.youtube.com/watch?v=vdYYTIN96H0)"
   ]
  }
 ],
 "metadata": {
  "kernelspec": {
   "display_name": "Python [default]",
   "language": "python",
   "name": "python3"
  },
  "language_info": {
   "codemirror_mode": {
    "name": "ipython",
    "version": 3
   },
   "file_extension": ".py",
   "mimetype": "text/x-python",
   "name": "python",
   "nbconvert_exporter": "python",
   "pygments_lexer": "ipython3",
   "version": "3.5.3"
  }
 },
 "nbformat": 4,
 "nbformat_minor": 2
}
